{
 "cells": [
  {
   "cell_type": "code",
   "execution_count": null,
   "id": "82cde82a-043f-4960-823a-fe2d795d77ea",
   "metadata": {},
   "outputs": [],
   "source": []
  },
  {
   "cell_type": "code",
   "execution_count": null,
   "id": "22a0dfcd-a0ba-44a1-8719-75a5e48b33fc",
   "metadata": {},
   "outputs": [],
   "source": [
    "df_plot = stack(df_res, 1:4)\n",
    "\n",
    "violin(df_plot[:,:variable], df_plot[:,:value])\n",
    "dotplot!(df_plot[:,:variable], df_plot[:,:value], ms = .2, lengend = false)"
   ]
  },
  {
   "cell_type": "code",
   "execution_count": null,
   "id": "64cfd15f-fa21-4e53-b885-477638f369ec",
   "metadata": {},
   "outputs": [],
   "source": [
    "df_plot = stack(DataFrame(\n",
    "    expected = df_res[:, 1] - df_res[:, 2],\n",
    "    glm = df_res[:, 1] - df_res[:, 3],\n",
    "    ols = df_res[:, 1] - df_res[:, 4]\n",
    "), 1:3)\n",
    "\n",
    "violin(df_plot[:,:variable], df_plot[:,:value])\n",
    "dotplot!(df_plot[:,:variable], df_plot[:,:value], ms = .2, lengend = false)"
   ]
  },
  {
   "cell_type": "code",
   "execution_count": null,
   "id": "a2e274ae-ba8b-44e3-8d2b-c93d114c94ec",
   "metadata": {},
   "outputs": [],
   "source": [
    "df_plot = stack(DataFrame(\n",
    "    glm = df_res[:, 2] - df_res[:, 3],\n",
    "    ols = df_res[:, 2] - df_res[:, 4]\n",
    "), 1:2)\n",
    "\n",
    "violin(df_plot[:,:variable], df_plot[:,:value])\n",
    "dotplot!(df_plot[:,:variable], df_plot[:,:value], ms = .2, lengend = false)"
   ]
  }
 ],
 "metadata": {
  "kernelspec": {
   "display_name": "Julia 1.10.2",
   "language": "julia",
   "name": "julia-1.10"
  },
  "language_info": {
   "file_extension": ".jl",
   "mimetype": "application/julia",
   "name": "julia",
   "version": "1.10.2"
  }
 },
 "nbformat": 4,
 "nbformat_minor": 5
}

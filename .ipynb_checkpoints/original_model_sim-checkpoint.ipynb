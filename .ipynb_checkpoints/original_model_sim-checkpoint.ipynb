{
 "cells": [
  {
   "cell_type": "markdown",
   "id": "0eb17a0f-d12c-4aa2-bd02-19e29b9e13a3",
   "metadata": {
    "editable": true,
    "slideshow": {
     "slide_type": ""
    },
    "tags": []
   },
   "source": [
    "Installing necessary packages:\n",
    "```Julia\n",
    "using Pkg\n",
    "\n",
    "Pkg.add([\"Random\", \"Distributions\", \"DataFrames\", \"GLM\", \"Statistics\", \"ProgressMeter\", \"Plots\"])\n",
    "```"
   ]
  },
  {
   "cell_type": "code",
   "execution_count": 1,
   "id": "93207f9e-9cab-4fb8-a8e7-a1656a1113ed",
   "metadata": {},
   "outputs": [],
   "source": [
    "using Random, Distributions, DataFrames, GLM, Statistics, ProgressMeter, CSV"
   ]
  },
  {
   "cell_type": "code",
   "execution_count": 2,
   "id": "957313b3-524d-4d09-8fc1-e10abeeb88a3",
   "metadata": {},
   "outputs": [
    {
     "name": "stderr",
     "output_type": "stream",
     "text": [
      "\u001b[32mSimulation progress ... 100%|████████████████████████████| Time: 0:00:00\u001b[39m\n"
     ]
    }
   ],
   "source": [
    "α = 1.18\n",
    "β = .4\n",
    "Q = 20 # Liczba państw\n",
    "nsims = 10000\n",
    "\n",
    "N_distr = Poisson(2000)\n",
    "M_distr = (N, α) -> Poisson.(N .^ α)\n",
    "p_distr = Uniform(.1,.75)\n",
    "\n",
    "res = Vector{Any}(missing, nsims)\n",
    "\n",
    "prog = Progress(10*Threads.nthreads(), \"Simulation progress ...\")\n",
    "\n",
    "Threads.@threads for i in 1:(10*Threads.nthreads())\n",
    "    Threads.threadid()\n",
    "    next!(prog)\n",
    "end # end for"
   ]
  },
  {
   "cell_type": "code",
   "execution_count": 3,
   "id": "963fc2e6-2e15-422b-a5ae-be3858f7cb5f",
   "metadata": {},
   "outputs": [
    {
     "name": "stderr",
     "output_type": "stream",
     "text": [
      "\u001b[32mSimulation progress ... 100%|████████████████████████████| Time: 0:00:04\u001b[39m\n"
     ]
    }
   ],
   "source": [
    "prog = Progress(nsims, \"Simulation progress ...\")\n",
    "\n",
    "Threads.@threads for k in 1:nsims\n",
    "    N = reduce(vcat, rand.(Binomial.(rand(N_distr, Q), .1), 1))\n",
    "    M = reduce(vcat, rand.(M_distr(N, α), 1))\n",
    "    p = rand(p_distr, Q)\n",
    "    \n",
    "    m = reduce(vcat, rand.(Poisson.(M .* p), 1))\n",
    "    n = reduce(vcat, rand.(Binomial.(N, p), 1))\n",
    "\n",
    "    df1 = DataFrame(\n",
    "        y = m,\n",
    "        x1 = log.(N),\n",
    "        x2 = log.(n ./ N)\n",
    "    )\n",
    "\n",
    "    mm = glm(@formula(y ~ x1 + x2 + 0), df1, Poisson(), LogLink())\n",
    "    α̂₁, β̂₁ = coef(mm)\n",
    "\n",
    "    ols = lm(@formula(log(y) ~ x1 + x2 + 0), df1)\n",
    "    α̂₂, β̂₂ = coef(ols)\n",
    "\n",
    "    res[k] = [sum(M) sum(N .^ α) sum(N .^ α̂₁) sum(N .^ α̂₂)]\n",
    "    #push!(res, [sum(M) sum(N .^ α) sum(N .^ α̂₁) sum(N .^ α̂₂)])\n",
    "    next!(prog)\n",
    "end # end for"
   ]
  },
  {
   "cell_type": "code",
   "execution_count": 4,
   "id": "8a3e11af-eb10-46bb-b881-bd742d8973c5",
   "metadata": {
    "scrolled": true
   },
   "outputs": [
    {
     "data": {
      "text/html": [
       "<div><div style = \"float: left;\"><span>4×7 DataFrame</span></div><div style = \"clear: both;\"></div></div><div class = \"data-frame\" style = \"overflow-x: scroll;\"><table class = \"data-frame\" style = \"margin-bottom: 6px;\"><thead><tr class = \"header\"><th class = \"rowNumber\" style = \"font-weight: bold; text-align: right;\">Row</th><th style = \"text-align: left;\">variable</th><th style = \"text-align: left;\">mean</th><th style = \"text-align: left;\">min</th><th style = \"text-align: left;\">median</th><th style = \"text-align: left;\">max</th><th style = \"text-align: left;\">nmissing</th><th style = \"text-align: left;\">eltype</th></tr><tr class = \"subheader headerLastRow\"><th class = \"rowNumber\" style = \"font-weight: bold; text-align: right;\"></th><th title = \"Symbol\" style = \"text-align: left;\">Symbol</th><th title = \"Float64\" style = \"text-align: left;\">Float64</th><th title = \"Float64\" style = \"text-align: left;\">Float64</th><th title = \"Float64\" style = \"text-align: left;\">Float64</th><th title = \"Float64\" style = \"text-align: left;\">Float64</th><th title = \"Int64\" style = \"text-align: left;\">Int64</th><th title = \"DataType\" style = \"text-align: left;\">DataType</th></tr></thead><tbody><tr><td class = \"rowNumber\" style = \"font-weight: bold; text-align: right;\">1</td><td style = \"text-align: left;\">actual</td><td style = \"text-align: right;\">10387.0</td><td style = \"text-align: right;\">9497.0</td><td style = \"text-align: right;\">10384.0</td><td style = \"text-align: right;\">11217.0</td><td style = \"text-align: right;\">0</td><td style = \"text-align: left;\">Float64</td></tr><tr><td class = \"rowNumber\" style = \"font-weight: bold; text-align: right;\">2</td><td style = \"text-align: left;\">expected</td><td style = \"text-align: right;\">10387.3</td><td style = \"text-align: right;\">9551.26</td><td style = \"text-align: right;\">10386.7</td><td style = \"text-align: right;\">11088.7</td><td style = \"text-align: right;\">0</td><td style = \"text-align: left;\">Float64</td></tr><tr><td class = \"rowNumber\" style = \"font-weight: bold; text-align: right;\">3</td><td style = \"text-align: left;\">glm_est</td><td style = \"text-align: right;\">10123.5</td><td style = \"text-align: right;\">7945.36</td><td style = \"text-align: right;\">10108.0</td><td style = \"text-align: right;\">12671.5</td><td style = \"text-align: right;\">0</td><td style = \"text-align: left;\">Float64</td></tr><tr><td class = \"rowNumber\" style = \"font-weight: bold; text-align: right;\">4</td><td style = \"text-align: left;\">ols_est</td><td style = \"text-align: right;\">10040.0</td><td style = \"text-align: right;\">7687.02</td><td style = \"text-align: right;\">10019.4</td><td style = \"text-align: right;\">13291.9</td><td style = \"text-align: right;\">0</td><td style = \"text-align: left;\">Float64</td></tr></tbody></table></div>"
      ],
      "text/latex": [
       "\\begin{tabular}{r|ccccccc}\n",
       "\t& variable & mean & min & median & max & nmissing & eltype\\\\\n",
       "\t\\hline\n",
       "\t& Symbol & Float64 & Float64 & Float64 & Float64 & Int64 & DataType\\\\\n",
       "\t\\hline\n",
       "\t1 & actual & 10387.0 & 9497.0 & 10384.0 & 11217.0 & 0 & Float64 \\\\\n",
       "\t2 & expected & 10387.3 & 9551.26 & 10386.7 & 11088.7 & 0 & Float64 \\\\\n",
       "\t3 & glm\\_est & 10123.5 & 7945.36 & 10108.0 & 12671.5 & 0 & Float64 \\\\\n",
       "\t4 & ols\\_est & 10040.0 & 7687.02 & 10019.4 & 13291.9 & 0 & Float64 \\\\\n",
       "\\end{tabular}\n"
      ],
      "text/plain": [
       "\u001b[1m4×7 DataFrame\u001b[0m\n",
       "\u001b[1m Row \u001b[0m│\u001b[1m variable \u001b[0m\u001b[1m mean    \u001b[0m\u001b[1m min     \u001b[0m\u001b[1m median  \u001b[0m\u001b[1m max     \u001b[0m\u001b[1m nmissing \u001b[0m\u001b[1m eltype   \u001b[0m\n",
       "     │\u001b[90m Symbol   \u001b[0m\u001b[90m Float64 \u001b[0m\u001b[90m Float64 \u001b[0m\u001b[90m Float64 \u001b[0m\u001b[90m Float64 \u001b[0m\u001b[90m Int64    \u001b[0m\u001b[90m DataType \u001b[0m\n",
       "─────┼──────────────────────────────────────────────────────────────────\n",
       "   1 │ actual    10387.0  9497.0   10384.0  11217.0         0  Float64\n",
       "   2 │ expected  10387.3  9551.26  10386.7  11088.7         0  Float64\n",
       "   3 │ glm_est   10123.5  7945.36  10108.0  12671.5         0  Float64\n",
       "   4 │ ols_est   10040.0  7687.02  10019.4  13291.9         0  Float64"
      ]
     },
     "execution_count": 4,
     "metadata": {},
     "output_type": "execute_result"
    }
   ],
   "source": [
    "df_res = DataFrame(reduce(vcat, [res[i] for i in 1:length(res) if isassigned(res, i)]), [\"actual\", \"expected\", \"glm_est\", \"ols_est\"])\n",
    "\n",
    "describe(df_res)"
   ]
  },
  {
   "cell_type": "code",
   "execution_count": 5,
   "id": "29c32fd2-6ebb-46f6-b3c9-abd6fcaf1a86",
   "metadata": {},
   "outputs": [
    {
     "data": {
      "text/html": [
       "<div><div style = \"float: left;\"><span>3×4 DataFrame</span></div><div style = \"clear: both;\"></div></div><div class = \"data-frame\" style = \"overflow-x: scroll;\"><table class = \"data-frame\" style = \"margin-bottom: 6px;\"><thead><tr class = \"header\"><th class = \"rowNumber\" style = \"font-weight: bold; text-align: right;\">Row</th><th style = \"text-align: left;\">rel_bias</th><th style = \"text-align: left;\">rel_mse</th><th style = \"text-align: left;\">rel_mae</th><th style = \"text-align: left;\">est</th></tr><tr class = \"subheader headerLastRow\"><th class = \"rowNumber\" style = \"font-weight: bold; text-align: right;\"></th><th title = \"Float64\" style = \"text-align: left;\">Float64</th><th title = \"Float64\" style = \"text-align: left;\">Float64</th><th title = \"Float64\" style = \"text-align: left;\">Float64</th><th title = \"String\" style = \"text-align: left;\">String</th></tr></thead><tbody><tr><td class = \"rowNumber\" style = \"font-weight: bold; text-align: right;\">1</td><td style = \"text-align: right;\">-0.000124884</td><td style = \"text-align: right;\">0.981482</td><td style = \"text-align: right;\">0.00777724</td><td style = \"text-align: left;\">Expected value</td></tr><tr><td class = \"rowNumber\" style = \"font-weight: bold; text-align: right;\">2</td><td style = \"text-align: right;\">0.0253661</td><td style = \"text-align: right;\">33.5443</td><td style = \"text-align: right;\">0.045743</td><td style = \"text-align: left;\">glm</td></tr><tr><td class = \"rowNumber\" style = \"font-weight: bold; text-align: right;\">3</td><td style = \"text-align: right;\">0.0334128</td><td style = \"text-align: right;\">49.6033</td><td style = \"text-align: right;\">0.0557511</td><td style = \"text-align: left;\">ols</td></tr></tbody></table></div>"
      ],
      "text/latex": [
       "\\begin{tabular}{r|cccc}\n",
       "\t& rel\\_bias & rel\\_mse & rel\\_mae & est\\\\\n",
       "\t\\hline\n",
       "\t& Float64 & Float64 & Float64 & String\\\\\n",
       "\t\\hline\n",
       "\t1 & -0.000124884 & 0.981482 & 0.00777724 & Expected value \\\\\n",
       "\t2 & 0.0253661 & 33.5443 & 0.045743 & glm \\\\\n",
       "\t3 & 0.0334128 & 49.6033 & 0.0557511 & ols \\\\\n",
       "\\end{tabular}\n"
      ],
      "text/plain": [
       "\u001b[1m3×4 DataFrame\u001b[0m\n",
       "\u001b[1m Row \u001b[0m│\u001b[1m rel_bias     \u001b[0m\u001b[1m rel_mse   \u001b[0m\u001b[1m rel_mae    \u001b[0m\u001b[1m est            \u001b[0m\n",
       "     │\u001b[90m Float64      \u001b[0m\u001b[90m Float64   \u001b[0m\u001b[90m Float64    \u001b[0m\u001b[90m String         \u001b[0m\n",
       "─────┼─────────────────────────────────────────────────────\n",
       "   1 │ -0.000124884   0.981482  0.00777724  Expected value\n",
       "   2 │  0.0253661    33.5443    0.045743    glm\n",
       "   3 │  0.0334128    49.6033    0.0557511   ols"
      ]
     },
     "execution_count": 5,
     "metadata": {},
     "output_type": "execute_result"
    }
   ],
   "source": [
    "DataFrame(\n",
    "    rel_bias = [mean((df_res[:, 1] .- df_res[:, 2]) ./ df_res[:, 1]), mean((df_res[:, 1] .- df_res[:, 3]) ./ df_res[:, 1]), mean((df_res[:, 1] .- df_res[:, 4]) ./ df_res[:, 1])],\n",
    "    rel_mse  = [mean(((df_res[:, 1] .- df_res[:, 2]) .^ 2) ./ df_res[:, 1]), mean(((df_res[:, 1] .- df_res[:, 3]) .^ 2) ./ df_res[:, 1]), mean(((df_res[:, 1] .- df_res[:, 4]) .^ 2) ./ df_res[:, 1])],\n",
    "    rel_mae  = [mean(abs.(df_res[:, 1] .- df_res[:, 2]) ./ df_res[:, 1]), mean(abs.(df_res[:, 1] .- df_res[:, 3]) ./ df_res[:, 1]), mean(abs.(df_res[:, 1] .- df_res[:, 4]) ./ df_res[:, 1])],\n",
    "    est      = [\"Expected value\",\"glm\",\"ols\"]\n",
    ")"
   ]
  },
  {
   "cell_type": "code",
   "execution_count": 6,
   "id": "faa1d2fe-39d0-4afc-bf67-40ac55094c7d",
   "metadata": {},
   "outputs": [
    {
     "data": {
      "text/html": [
       "<div><div style = \"float: left;\"><span>2×4 DataFrame</span></div><div style = \"clear: both;\"></div></div><div class = \"data-frame\" style = \"overflow-x: scroll;\"><table class = \"data-frame\" style = \"margin-bottom: 6px;\"><thead><tr class = \"header\"><th class = \"rowNumber\" style = \"font-weight: bold; text-align: right;\">Row</th><th style = \"text-align: left;\">rel_bias</th><th style = \"text-align: left;\">rel_mse</th><th style = \"text-align: left;\">rel_mae</th><th style = \"text-align: left;\">est</th></tr><tr class = \"subheader headerLastRow\"><th class = \"rowNumber\" style = \"font-weight: bold; text-align: right;\"></th><th title = \"Float64\" style = \"text-align: left;\">Float64</th><th title = \"Float64\" style = \"text-align: left;\">Float64</th><th title = \"Float64\" style = \"text-align: left;\">Float64</th><th title = \"String\" style = \"text-align: left;\">String</th></tr></thead><tbody><tr><td class = \"rowNumber\" style = \"font-weight: bold; text-align: right;\">1</td><td style = \"text-align: right;\">0.0253979</td><td style = \"text-align: right;\">34.4431</td><td style = \"text-align: right;\">0.0464084</td><td style = \"text-align: left;\">glm</td></tr><tr><td class = \"rowNumber\" style = \"font-weight: bold; text-align: right;\">2</td><td style = \"text-align: right;\">0.0334429</td><td style = \"text-align: right;\">50.5185</td><td style = \"text-align: right;\">0.0563489</td><td style = \"text-align: left;\">ols</td></tr></tbody></table></div>"
      ],
      "text/latex": [
       "\\begin{tabular}{r|cccc}\n",
       "\t& rel\\_bias & rel\\_mse & rel\\_mae & est\\\\\n",
       "\t\\hline\n",
       "\t& Float64 & Float64 & Float64 & String\\\\\n",
       "\t\\hline\n",
       "\t1 & 0.0253979 & 34.4431 & 0.0464084 & glm \\\\\n",
       "\t2 & 0.0334429 & 50.5185 & 0.0563489 & ols \\\\\n",
       "\\end{tabular}\n"
      ],
      "text/plain": [
       "\u001b[1m2×4 DataFrame\u001b[0m\n",
       "\u001b[1m Row \u001b[0m│\u001b[1m rel_bias  \u001b[0m\u001b[1m rel_mse \u001b[0m\u001b[1m rel_mae   \u001b[0m\u001b[1m est    \u001b[0m\n",
       "     │\u001b[90m Float64   \u001b[0m\u001b[90m Float64 \u001b[0m\u001b[90m Float64   \u001b[0m\u001b[90m String \u001b[0m\n",
       "─────┼───────────────────────────────────────\n",
       "   1 │ 0.0253979  34.4431  0.0464084  glm\n",
       "   2 │ 0.0334429  50.5185  0.0563489  ols"
      ]
     },
     "execution_count": 6,
     "metadata": {},
     "output_type": "execute_result"
    }
   ],
   "source": [
    "DataFrame(\n",
    "    rel_bias = [mean((df_res[:, 2] .- df_res[:, 3]) ./ df_res[:, 2]), mean((df_res[:, 2] .- df_res[:, 4]) ./ df_res[:, 2])],\n",
    "    rel_mse  = [mean(((df_res[:, 2] .- df_res[:, 3]) .^ 2) ./ df_res[:, 2]), mean(((df_res[:, 2] .- df_res[:, 4]) .^ 2) ./ df_res[:, 2])],\n",
    "    rel_mae  = [mean(abs.(df_res[:, 2] .- df_res[:, 3]) ./ df_res[:, 2]), mean(abs.(df_res[:, 2] .- df_res[:, 4]) ./ df_res[:, 2])],\n",
    "    est      = [\"glm\",\"ols\"]\n",
    ")"
   ]
  },
  {
   "cell_type": "code",
   "execution_count": 7,
   "id": "635091b2-efc6-48b9-ba3d-83a0220c0eb6",
   "metadata": {},
   "outputs": [],
   "source": [
    "CSV.write(pwd() * \"/data_raw/init_res.csv\", df_res);"
   ]
  },
  {
   "cell_type": "markdown",
   "id": "57614283-ff59-42e0-9cfa-f202038c40ff",
   "metadata": {},
   "source": [
    "### Higher population"
   ]
  },
  {
   "cell_type": "code",
   "execution_count": 24,
   "id": "1d7bbd83-df7c-44a9-b08b-aace1353d77f",
   "metadata": {},
   "outputs": [
    {
     "name": "stderr",
     "output_type": "stream",
     "text": [
      "\u001b[32mSimulation progress ... 100%|████████████████████████████| Time: 0:00:00\u001b[39m\n"
     ]
    },
    {
     "data": {
      "text/html": [
       "<div><div style = \"float: left;\"><span>4×7 DataFrame</span></div><div style = \"clear: both;\"></div></div><div class = \"data-frame\" style = \"overflow-x: scroll;\"><table class = \"data-frame\" style = \"margin-bottom: 6px;\"><thead><tr class = \"header\"><th class = \"rowNumber\" style = \"font-weight: bold; text-align: right;\">Row</th><th style = \"text-align: left;\">variable</th><th style = \"text-align: left;\">mean</th><th style = \"text-align: left;\">min</th><th style = \"text-align: left;\">median</th><th style = \"text-align: left;\">max</th><th style = \"text-align: left;\">nmissing</th><th style = \"text-align: left;\">eltype</th></tr><tr class = \"subheader headerLastRow\"><th class = \"rowNumber\" style = \"font-weight: bold; text-align: right;\"></th><th title = \"Symbol\" style = \"text-align: left;\">Symbol</th><th title = \"Float64\" style = \"text-align: left;\">Float64</th><th title = \"Float64\" style = \"text-align: left;\">Float64</th><th title = \"Float64\" style = \"text-align: left;\">Float64</th><th title = \"Float64\" style = \"text-align: left;\">Float64</th><th title = \"Int64\" style = \"text-align: left;\">Int64</th><th title = \"DataType\" style = \"text-align: left;\">DataType</th></tr></thead><tbody><tr><td class = \"rowNumber\" style = \"font-weight: bold; text-align: right;\">1</td><td style = \"text-align: left;\">actual</td><td style = \"text-align: right;\">88736.7</td><td style = \"text-align: right;\">85713.0</td><td style = \"text-align: right;\">88732.0</td><td style = \"text-align: right;\">91555.0</td><td style = \"text-align: right;\">0</td><td style = \"text-align: left;\">Float64</td></tr><tr><td class = \"rowNumber\" style = \"font-weight: bold; text-align: right;\">2</td><td style = \"text-align: left;\">expected</td><td style = \"text-align: right;\">88732.9</td><td style = \"text-align: right;\">85565.2</td><td style = \"text-align: right;\">88728.8</td><td style = \"text-align: right;\">91598.5</td><td style = \"text-align: right;\">0</td><td style = \"text-align: left;\">Float64</td></tr><tr><td class = \"rowNumber\" style = \"font-weight: bold; text-align: right;\">3</td><td style = \"text-align: left;\">glm_est</td><td style = \"text-align: right;\">88611.7</td><td style = \"text-align: right;\">76629.4</td><td style = \"text-align: right;\">88608.6</td><td style = \"text-align: right;\">1.02316e5</td><td style = \"text-align: right;\">0</td><td style = \"text-align: left;\">Float64</td></tr><tr><td class = \"rowNumber\" style = \"font-weight: bold; text-align: right;\">4</td><td style = \"text-align: left;\">ols_est</td><td style = \"text-align: right;\">88593.8</td><td style = \"text-align: right;\">75254.9</td><td style = \"text-align: right;\">88553.8</td><td style = \"text-align: right;\">1.02756e5</td><td style = \"text-align: right;\">0</td><td style = \"text-align: left;\">Float64</td></tr></tbody></table></div>"
      ],
      "text/latex": [
       "\\begin{tabular}{r|ccccccc}\n",
       "\t& variable & mean & min & median & max & nmissing & eltype\\\\\n",
       "\t\\hline\n",
       "\t& Symbol & Float64 & Float64 & Float64 & Float64 & Int64 & DataType\\\\\n",
       "\t\\hline\n",
       "\t1 & actual & 88736.7 & 85713.0 & 88732.0 & 91555.0 & 0 & Float64 \\\\\n",
       "\t2 & expected & 88732.9 & 85565.2 & 88728.8 & 91598.5 & 0 & Float64 \\\\\n",
       "\t3 & glm\\_est & 88611.7 & 76629.4 & 88608.6 & 1.02316e5 & 0 & Float64 \\\\\n",
       "\t4 & ols\\_est & 88593.8 & 75254.9 & 88553.8 & 1.02756e5 & 0 & Float64 \\\\\n",
       "\\end{tabular}\n"
      ],
      "text/plain": [
       "\u001b[1m4×7 DataFrame\u001b[0m\n",
       "\u001b[1m Row \u001b[0m│\u001b[1m variable \u001b[0m\u001b[1m mean    \u001b[0m\u001b[1m min     \u001b[0m\u001b[1m median  \u001b[0m\u001b[1m max           \u001b[0m\u001b[1m nmissing \u001b[0m\u001b[1m eltype   \u001b[0m\n",
       "     │\u001b[90m Symbol   \u001b[0m\u001b[90m Float64 \u001b[0m\u001b[90m Float64 \u001b[0m\u001b[90m Float64 \u001b[0m\u001b[90m Float64       \u001b[0m\u001b[90m Int64    \u001b[0m\u001b[90m DataType \u001b[0m\n",
       "─────┼────────────────────────────────────────────────────────────────────────\n",
       "   1 │ actual    88736.7  85713.0  88732.0  91555.0               0  Float64\n",
       "   2 │ expected  88732.9  85565.2  88728.8  91598.5               0  Float64\n",
       "   3 │ glm_est   88611.7  76629.4  88608.6      1.02316e5         0  Float64\n",
       "   4 │ ols_est   88593.8  75254.9  88553.8      1.02756e5         0  Float64"
      ]
     },
     "execution_count": 24,
     "metadata": {},
     "output_type": "execute_result"
    }
   ],
   "source": [
    "α = 1.18\n",
    "β = .4\n",
    "Q = 7 # Liczba państw\n",
    "nsims = 10000\n",
    "\n",
    "N_distr = Poisson(30000)\n",
    "M_distr = (N, α) -> Poisson.(N .^ α)\n",
    "p_distr = Uniform(.1,.75)\n",
    "\n",
    "res = Vector{Any}(missing, nsims)\n",
    "\n",
    "prog = Progress(nsims, \"Simulation progress ...\")\n",
    "\n",
    "Threads.@threads for k in 1:nsims\n",
    "    N = reduce(vcat, rand.(Binomial.(rand(N_distr, Q), .1), 1))\n",
    "    M = reduce(vcat, rand.(M_distr(N, α), 1))\n",
    "    p = rand(p_distr, Q)\n",
    "    \n",
    "    m = reduce(vcat, rand.(Poisson.(M .* p), 1))\n",
    "    n = reduce(vcat, rand.(Binomial.(N, p), 1))\n",
    "\n",
    "    df1 = DataFrame(\n",
    "        y = m,\n",
    "        x1 = log.(N),\n",
    "        x2 = log.(n ./ N)\n",
    "    )\n",
    "\n",
    "    mm = glm(@formula(y ~ x1 + x2 + 0), df1, Poisson(), LogLink())\n",
    "    α̂₁, β̂₁ = coef(mm)\n",
    "\n",
    "    ols = lm(@formula(log(y) ~ x1 + x2 + 0), df1)\n",
    "    α̂₂, β̂₂ = coef(ols)\n",
    "\n",
    "    res[k] = [sum(M) sum(N .^ α) sum(N .^ α̂₁) sum(N .^ α̂₂)]\n",
    "    #push!(res, [sum(M) sum(N .^ α) sum(N .^ α̂₁) sum(N .^ α̂₂)])\n",
    "    next!(prog)\n",
    "end # end for\n",
    "\n",
    "df_res = DataFrame(reduce(vcat, [res[i] for i in 1:length(res) if isassigned(res, i)]), [\"actual\", \"expected\", \"glm_est\", \"ols_est\"])\n",
    "\n",
    "describe(df_res)"
   ]
  },
  {
   "cell_type": "code",
   "execution_count": 25,
   "id": "148c0319-5821-47b5-be04-dd055d0f2575",
   "metadata": {},
   "outputs": [
    {
     "data": {
      "text/html": [
       "<div><div style = \"float: left;\"><span>3×4 DataFrame</span></div><div style = \"clear: both;\"></div></div><div class = \"data-frame\" style = \"overflow-x: scroll;\"><table class = \"data-frame\" style = \"margin-bottom: 6px;\"><thead><tr class = \"header\"><th class = \"rowNumber\" style = \"font-weight: bold; text-align: right;\">Row</th><th style = \"text-align: left;\">rel_bias</th><th style = \"text-align: left;\">rel_mse</th><th style = \"text-align: left;\">rel_mae</th><th style = \"text-align: left;\">est</th></tr><tr class = \"subheader headerLastRow\"><th class = \"rowNumber\" style = \"font-weight: bold; text-align: right;\"></th><th title = \"Float64\" style = \"text-align: left;\">Float64</th><th title = \"Float64\" style = \"text-align: left;\">Float64</th><th title = \"Float64\" style = \"text-align: left;\">Float64</th><th title = \"String\" style = \"text-align: left;\">String</th></tr></thead><tbody><tr><td class = \"rowNumber\" style = \"font-weight: bold; text-align: right;\">1</td><td style = \"text-align: right;\">3.2084e-5</td><td style = \"text-align: right;\">0.98714</td><td style = \"text-align: right;\">0.00265928</td><td style = \"text-align: left;\">Expected value</td></tr><tr><td class = \"rowNumber\" style = \"font-weight: bold; text-align: right;\">2</td><td style = \"text-align: right;\">0.00140877</td><td style = \"text-align: right;\">50.8977</td><td style = \"text-align: right;\">0.0182044</td><td style = \"text-align: left;\">glm</td></tr><tr><td class = \"rowNumber\" style = \"font-weight: bold; text-align: right;\">3</td><td style = \"text-align: right;\">0.00161109</td><td style = \"text-align: right;\">63.6772</td><td style = \"text-align: right;\">0.0205302</td><td style = \"text-align: left;\">ols</td></tr></tbody></table></div>"
      ],
      "text/latex": [
       "\\begin{tabular}{r|cccc}\n",
       "\t& rel\\_bias & rel\\_mse & rel\\_mae & est\\\\\n",
       "\t\\hline\n",
       "\t& Float64 & Float64 & Float64 & String\\\\\n",
       "\t\\hline\n",
       "\t1 & 3.2084e-5 & 0.98714 & 0.00265928 & Expected value \\\\\n",
       "\t2 & 0.00140877 & 50.8977 & 0.0182044 & glm \\\\\n",
       "\t3 & 0.00161109 & 63.6772 & 0.0205302 & ols \\\\\n",
       "\\end{tabular}\n"
      ],
      "text/plain": [
       "\u001b[1m3×4 DataFrame\u001b[0m\n",
       "\u001b[1m Row \u001b[0m│\u001b[1m rel_bias   \u001b[0m\u001b[1m rel_mse  \u001b[0m\u001b[1m rel_mae    \u001b[0m\u001b[1m est            \u001b[0m\n",
       "     │\u001b[90m Float64    \u001b[0m\u001b[90m Float64  \u001b[0m\u001b[90m Float64    \u001b[0m\u001b[90m String         \u001b[0m\n",
       "─────┼──────────────────────────────────────────────────\n",
       "   1 │ 3.2084e-5    0.98714  0.00265928  Expected value\n",
       "   2 │ 0.00140877  50.8977   0.0182044   glm\n",
       "   3 │ 0.00161109  63.6772   0.0205302   ols"
      ]
     },
     "execution_count": 25,
     "metadata": {},
     "output_type": "execute_result"
    }
   ],
   "source": [
    "DataFrame(\n",
    "    rel_bias = [mean((df_res[:, 1] .- df_res[:, 2]) ./ df_res[:, 1]), mean((df_res[:, 1] .- df_res[:, 3]) ./ df_res[:, 1]), mean((df_res[:, 1] .- df_res[:, 4]) ./ df_res[:, 1])],\n",
    "    rel_mse  = [mean(((df_res[:, 1] .- df_res[:, 2]) .^ 2) ./ df_res[:, 1]), mean(((df_res[:, 1] .- df_res[:, 3]) .^ 2) ./ df_res[:, 1]), mean(((df_res[:, 1] .- df_res[:, 4]) .^ 2) ./ df_res[:, 1])],\n",
    "    rel_mae  = [mean(abs.(df_res[:, 1] .- df_res[:, 2]) ./ df_res[:, 1]), mean(abs.(df_res[:, 1] .- df_res[:, 3]) ./ df_res[:, 1]), mean(abs.(df_res[:, 1] .- df_res[:, 4]) ./ df_res[:, 1])],\n",
    "    est      = [\"Expected value\",\"glm\",\"ols\"]\n",
    ")"
   ]
  },
  {
   "cell_type": "code",
   "execution_count": 26,
   "id": "411f49b8-599e-42b0-b06c-e9ce703fa695",
   "metadata": {},
   "outputs": [
    {
     "data": {
      "text/html": [
       "<div><div style = \"float: left;\"><span>2×4 DataFrame</span></div><div style = \"clear: both;\"></div></div><div class = \"data-frame\" style = \"overflow-x: scroll;\"><table class = \"data-frame\" style = \"margin-bottom: 6px;\"><thead><tr class = \"header\"><th class = \"rowNumber\" style = \"font-weight: bold; text-align: right;\">Row</th><th style = \"text-align: left;\">rel_bias</th><th style = \"text-align: left;\">rel_mse</th><th style = \"text-align: left;\">rel_mae</th><th style = \"text-align: left;\">est</th></tr><tr class = \"subheader headerLastRow\"><th class = \"rowNumber\" style = \"font-weight: bold; text-align: right;\"></th><th title = \"Float64\" style = \"text-align: left;\">Float64</th><th title = \"Float64\" style = \"text-align: left;\">Float64</th><th title = \"Float64\" style = \"text-align: left;\">Float64</th><th title = \"String\" style = \"text-align: left;\">String</th></tr></thead><tbody><tr><td class = \"rowNumber\" style = \"font-weight: bold; text-align: right;\">1</td><td style = \"text-align: right;\">0.00136558</td><td style = \"text-align: right;\">51.8865</td><td style = \"text-align: right;\">0.0184015</td><td style = \"text-align: left;\">glm</td></tr><tr><td class = \"rowNumber\" style = \"font-weight: bold; text-align: right;\">2</td><td style = \"text-align: right;\">0.00156737</td><td style = \"text-align: right;\">64.7593</td><td style = \"text-align: right;\">0.0206959</td><td style = \"text-align: left;\">ols</td></tr></tbody></table></div>"
      ],
      "text/latex": [
       "\\begin{tabular}{r|cccc}\n",
       "\t& rel\\_bias & rel\\_mse & rel\\_mae & est\\\\\n",
       "\t\\hline\n",
       "\t& Float64 & Float64 & Float64 & String\\\\\n",
       "\t\\hline\n",
       "\t1 & 0.00136558 & 51.8865 & 0.0184015 & glm \\\\\n",
       "\t2 & 0.00156737 & 64.7593 & 0.0206959 & ols \\\\\n",
       "\\end{tabular}\n"
      ],
      "text/plain": [
       "\u001b[1m2×4 DataFrame\u001b[0m\n",
       "\u001b[1m Row \u001b[0m│\u001b[1m rel_bias   \u001b[0m\u001b[1m rel_mse \u001b[0m\u001b[1m rel_mae   \u001b[0m\u001b[1m est    \u001b[0m\n",
       "     │\u001b[90m Float64    \u001b[0m\u001b[90m Float64 \u001b[0m\u001b[90m Float64   \u001b[0m\u001b[90m String \u001b[0m\n",
       "─────┼────────────────────────────────────────\n",
       "   1 │ 0.00136558  51.8865  0.0184015  glm\n",
       "   2 │ 0.00156737  64.7593  0.0206959  ols"
      ]
     },
     "execution_count": 26,
     "metadata": {},
     "output_type": "execute_result"
    }
   ],
   "source": [
    "DataFrame(\n",
    "    rel_bias = [mean((df_res[:, 2] .- df_res[:, 3]) ./ df_res[:, 2]), mean((df_res[:, 2] .- df_res[:, 4]) ./ df_res[:, 2])],\n",
    "    rel_mse  = [mean(((df_res[:, 2] .- df_res[:, 3]) .^ 2) ./ df_res[:, 2]), mean(((df_res[:, 2] .- df_res[:, 4]) .^ 2) ./ df_res[:, 2])],\n",
    "    rel_mae  = [mean(abs.(df_res[:, 2] .- df_res[:, 3]) ./ df_res[:, 2]), mean(abs.(df_res[:, 2] .- df_res[:, 4]) ./ df_res[:, 2])],\n",
    "    est      = [\"glm\",\"ols\"]\n",
    ")"
   ]
  },
  {
   "cell_type": "code",
   "execution_count": 27,
   "id": "2112b305-5a55-4e03-98e9-ec3cf3e56518",
   "metadata": {},
   "outputs": [],
   "source": [
    "CSV.write(pwd() * \"/data_raw/init_res_1.csv\", df_res);"
   ]
  },
  {
   "cell_type": "code",
   "execution_count": null,
   "id": "83ce53f1-5514-49af-a75e-71a87209befc",
   "metadata": {},
   "outputs": [],
   "source": []
  }
 ],
 "metadata": {
  "kernelspec": {
   "display_name": "Julia 1.10.2",
   "language": "julia",
   "name": "julia-1.10"
  },
  "language_info": {
   "file_extension": ".jl",
   "mimetype": "application/julia",
   "name": "julia",
   "version": "1.10.2"
  }
 },
 "nbformat": 4,
 "nbformat_minor": 5
}

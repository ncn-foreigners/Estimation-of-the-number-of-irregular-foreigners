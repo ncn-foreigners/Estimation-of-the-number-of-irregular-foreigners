{
 "cells": [
  {
   "cell_type": "markdown",
   "id": "0eb17a0f-d12c-4aa2-bd02-19e29b9e13a3",
   "metadata": {
    "editable": true,
    "slideshow": {
     "slide_type": ""
    },
    "tags": []
   },
   "source": [
    "Installing necessary packages:\n",
    "```Julia\n",
    "using Pkg\n",
    "\n",
    "Pkg.add([\"Random\", \"Distributions\", \"DataFrames\", \"GLM\", \"Statistics\", \"ProgressMeter\", \"Plots\"])\n",
    "Pkg.add(url = \"https://github.com/ncn-foreigners/UnobservedCountEstimation.jl\")\n",
    "```"
   ]
  },
  {
   "cell_type": "code",
   "execution_count": 1,
   "id": "93207f9e-9cab-4fb8-a8e7-a1656a1113ed",
   "metadata": {},
   "outputs": [],
   "source": [
    "using Random, Distributions, DataFrames, GLM, Statistics, ProgressMeter, CSV, UnobservedCountEstimation"
   ]
  },
  {
   "cell_type": "code",
   "execution_count": 12,
   "id": "957313b3-524d-4d09-8fc1-e10abeeb88a3",
   "metadata": {},
   "outputs": [],
   "source": [
    "α = 1.18\n",
    "β = .4\n",
    "Q = 20 # Liczba państw\n",
    "nsims = 10000\n",
    "\n",
    "N_distr = Poisson(2000)\n",
    "M_distr = (N, α) -> Poisson.(N .^ α)\n",
    "p_distr = Uniform(.1,.75)\n",
    "\n",
    "res = Vector{Any}(missing, nsims)\n",
    "\n",
    "prog = Progress(10*Threads.nthreads(), \"Simulation progress ...\")\n",
    "\n",
    "Threads.@threads for i in 1:(10*Threads.nthreads())\n",
    "    Threads.threadid()\n",
    "    next!(prog)\n",
    "end # end for"
   ]
  },
  {
   "cell_type": "code",
   "execution_count": 13,
   "id": "963fc2e6-2e15-422b-a5ae-be3858f7cb5f",
   "metadata": {},
   "outputs": [
    {
     "name": "stderr",
     "output_type": "stream",
     "text": [
      "\u001b[32mSimulation progress ... 100%|████████████████████████████| Time: 0:00:04\u001b[39m\n"
     ]
    }
   ],
   "source": [
    "prog = Progress(nsims, \"Simulation progress ...\")\n",
    "\n",
    "Threads.@threads for k in 1:nsims\n",
    "    N = reduce(vcat, rand.(Binomial.(rand(N_distr, Q), .1), 1))\n",
    "    M = reduce(vcat, rand.(M_distr(N, α), 1))\n",
    "    p = rand(p_distr, Q)\n",
    "    \n",
    "    m = reduce(vcat, rand.(Poisson.(M .* p), 1))\n",
    "    n = reduce(vcat, rand.(Binomial.(N, p), 1))\n",
    "\n",
    "    df1 = DataFrame(\n",
    "        y = m,\n",
    "        x1 = log.(N),\n",
    "        x2 = log.(n ./ N)\n",
    "    )\n",
    "\n",
    "    mm = glm(@formula(y ~ x1 + x2 + 0), df1, Poisson(), LogLink())\n",
    "    α̂₁, β̂₁ = coef(mm)\n",
    "\n",
    "    ols = lm(@formula(log(y) ~ x1 + x2 + 0), df1)\n",
    "    α̂₂, β̂₂ = coef(ols)\n",
    "\n",
    "    mle_1 = zhang_model(m, N, n; start = \"glm\")[1][4]\n",
    "    mle_2 = zhang_model(m, N, n; start = \"lm\")[1][4]\n",
    "\n",
    "    res[k] = [sum(M) sum(N .^ α) sum(N .^ α̂₁) sum(N .^ α̂₂) mle_1 mle_2]\n",
    "    #push!(res, [sum(M) sum(N .^ α) sum(N .^ α̂₁) sum(N .^ α̂₂)])\n",
    "    next!(prog)\n",
    "end # end for"
   ]
  },
  {
   "cell_type": "code",
   "execution_count": 14,
   "id": "8a3e11af-eb10-46bb-b881-bd742d8973c5",
   "metadata": {
    "scrolled": true
   },
   "outputs": [
    {
     "data": {
      "text/html": [
       "<div><div style = \"float: left;\"><span>6×7 DataFrame</span></div><div style = \"clear: both;\"></div></div><div class = \"data-frame\" style = \"overflow-x: scroll;\"><table class = \"data-frame\" style = \"margin-bottom: 6px;\"><thead><tr class = \"header\"><th class = \"rowNumber\" style = \"font-weight: bold; text-align: right;\">Row</th><th style = \"text-align: left;\">variable</th><th style = \"text-align: left;\">mean</th><th style = \"text-align: left;\">min</th><th style = \"text-align: left;\">median</th><th style = \"text-align: left;\">max</th><th style = \"text-align: left;\">nmissing</th><th style = \"text-align: left;\">eltype</th></tr><tr class = \"subheader headerLastRow\"><th class = \"rowNumber\" style = \"font-weight: bold; text-align: right;\"></th><th title = \"Symbol\" style = \"text-align: left;\">Symbol</th><th title = \"Float64\" style = \"text-align: left;\">Float64</th><th title = \"Float64\" style = \"text-align: left;\">Float64</th><th title = \"Float64\" style = \"text-align: left;\">Float64</th><th title = \"Float64\" style = \"text-align: left;\">Float64</th><th title = \"Int64\" style = \"text-align: left;\">Int64</th><th title = \"DataType\" style = \"text-align: left;\">DataType</th></tr></thead><tbody><tr><td class = \"rowNumber\" style = \"font-weight: bold; text-align: right;\">1</td><td style = \"text-align: left;\">actual</td><td style = \"text-align: right;\">10388.3</td><td style = \"text-align: right;\">9564.0</td><td style = \"text-align: right;\">10383.0</td><td style = \"text-align: right;\">11284.0</td><td style = \"text-align: right;\">0</td><td style = \"text-align: left;\">Float64</td></tr><tr><td class = \"rowNumber\" style = \"font-weight: bold; text-align: right;\">2</td><td style = \"text-align: left;\">expected</td><td style = \"text-align: right;\">10387.6</td><td style = \"text-align: right;\">9630.59</td><td style = \"text-align: right;\">10383.5</td><td style = \"text-align: right;\">11284.4</td><td style = \"text-align: right;\">0</td><td style = \"text-align: left;\">Float64</td></tr><tr><td class = \"rowNumber\" style = \"font-weight: bold; text-align: right;\">3</td><td style = \"text-align: left;\">glm_est</td><td style = \"text-align: right;\">10124.5</td><td style = \"text-align: right;\">7769.26</td><td style = \"text-align: right;\">10108.9</td><td style = \"text-align: right;\">12619.6</td><td style = \"text-align: right;\">0</td><td style = \"text-align: left;\">Float64</td></tr><tr><td class = \"rowNumber\" style = \"font-weight: bold; text-align: right;\">4</td><td style = \"text-align: left;\">ols_est</td><td style = \"text-align: right;\">10043.8</td><td style = \"text-align: right;\">7344.74</td><td style = \"text-align: right;\">10027.7</td><td style = \"text-align: right;\">12962.6</td><td style = \"text-align: right;\">0</td><td style = \"text-align: left;\">Float64</td></tr><tr><td class = \"rowNumber\" style = \"font-weight: bold; text-align: right;\">5</td><td style = \"text-align: left;\">mle_glm_start</td><td style = \"text-align: right;\">10212.9</td><td style = \"text-align: right;\">7.81636e-7</td><td style = \"text-align: right;\">10075.2</td><td style = \"text-align: right;\">1.08472e6</td><td style = \"text-align: right;\">0</td><td style = \"text-align: left;\">Float64</td></tr><tr><td class = \"rowNumber\" style = \"font-weight: bold; text-align: right;\">6</td><td style = \"text-align: left;\">mle_lm_start</td><td style = \"text-align: right;\">10114.2</td><td style = \"text-align: right;\">129.876</td><td style = \"text-align: right;\">10074.2</td><td style = \"text-align: right;\">2.81008e5</td><td style = \"text-align: right;\">0</td><td style = \"text-align: left;\">Float64</td></tr></tbody></table></div>"
      ],
      "text/latex": [
       "\\begin{tabular}{r|ccccccc}\n",
       "\t& variable & mean & min & median & max & nmissing & eltype\\\\\n",
       "\t\\hline\n",
       "\t& Symbol & Float64 & Float64 & Float64 & Float64 & Int64 & DataType\\\\\n",
       "\t\\hline\n",
       "\t1 & actual & 10388.3 & 9564.0 & 10383.0 & 11284.0 & 0 & Float64 \\\\\n",
       "\t2 & expected & 10387.6 & 9630.59 & 10383.5 & 11284.4 & 0 & Float64 \\\\\n",
       "\t3 & glm\\_est & 10124.5 & 7769.26 & 10108.9 & 12619.6 & 0 & Float64 \\\\\n",
       "\t4 & ols\\_est & 10043.8 & 7344.74 & 10027.7 & 12962.6 & 0 & Float64 \\\\\n",
       "\t5 & mle\\_glm\\_start & 10212.9 & 7.81636e-7 & 10075.2 & 1.08472e6 & 0 & Float64 \\\\\n",
       "\t6 & mle\\_lm\\_start & 10114.2 & 129.876 & 10074.2 & 2.81008e5 & 0 & Float64 \\\\\n",
       "\\end{tabular}\n"
      ],
      "text/plain": [
       "\u001b[1m6×7 DataFrame\u001b[0m\n",
       "\u001b[1m Row \u001b[0m│\u001b[1m variable      \u001b[0m\u001b[1m mean    \u001b[0m\u001b[1m min           \u001b[0m\u001b[1m median  \u001b[0m\u001b[1m max           \u001b[0m\u001b[1m nmissing\u001b[0m ⋯\n",
       "     │\u001b[90m Symbol        \u001b[0m\u001b[90m Float64 \u001b[0m\u001b[90m Float64       \u001b[0m\u001b[90m Float64 \u001b[0m\u001b[90m Float64       \u001b[0m\u001b[90m Int64   \u001b[0m ⋯\n",
       "─────┼──────────────────────────────────────────────────────────────────────────\n",
       "   1 │ actual         10388.3  9564.0         10383.0  11284.0               0 ⋯\n",
       "   2 │ expected       10387.6  9630.59        10383.5  11284.4               0\n",
       "   3 │ glm_est        10124.5  7769.26        10108.9  12619.6               0\n",
       "   4 │ ols_est        10043.8  7344.74        10027.7  12962.6               0\n",
       "   5 │ mle_glm_start  10212.9     7.81636e-7  10075.2      1.08472e6         0 ⋯\n",
       "   6 │ mle_lm_start   10114.2   129.876       10074.2      2.81008e5         0\n",
       "\u001b[36m                                                                1 column omitted\u001b[0m"
      ]
     },
     "execution_count": 14,
     "metadata": {},
     "output_type": "execute_result"
    }
   ],
   "source": [
    "df_res = DataFrame(reduce(vcat, [res[i] for i in 1:length(res) if isassigned(res, i)]), [\"actual\", \"expected\", \"glm_est\", \"ols_est\", \"mle_glm_start\", \"mle_lm_start\"])\n",
    "\n",
    "describe(df_res)"
   ]
  },
  {
   "cell_type": "code",
   "execution_count": 18,
   "id": "29c32fd2-6ebb-46f6-b3c9-abd6fcaf1a86",
   "metadata": {},
   "outputs": [
    {
     "data": {
      "text/html": [
       "<div><div style = \"float: left;\"><span>5×4 DataFrame</span></div><div style = \"clear: both;\"></div></div><div class = \"data-frame\" style = \"overflow-x: scroll;\"><table class = \"data-frame\" style = \"margin-bottom: 6px;\"><thead><tr class = \"header\"><th class = \"rowNumber\" style = \"font-weight: bold; text-align: right;\">Row</th><th style = \"text-align: left;\">rel_bias</th><th style = \"text-align: left;\">rel_mse</th><th style = \"text-align: left;\">rel_mae</th><th style = \"text-align: left;\">est</th></tr><tr class = \"subheader headerLastRow\"><th class = \"rowNumber\" style = \"font-weight: bold; text-align: right;\"></th><th title = \"Float64\" style = \"text-align: left;\">Float64</th><th title = \"Float64\" style = \"text-align: left;\">Float64</th><th title = \"Float64\" style = \"text-align: left;\">Float64</th><th title = \"String\" style = \"text-align: left;\">String</th></tr></thead><tbody><tr><td class = \"rowNumber\" style = \"font-weight: bold; text-align: right;\">1</td><td style = \"text-align: right;\">-3.88775e-5</td><td style = \"text-align: right;\">1.01787</td><td style = \"text-align: right;\">0.00791474</td><td style = \"text-align: left;\">Expected value</td></tr><tr><td class = \"rowNumber\" style = \"font-weight: bold; text-align: right;\">2</td><td style = \"text-align: right;\">0.0253778</td><td style = \"text-align: right;\">33.2048</td><td style = \"text-align: right;\">0.0455993</td><td style = \"text-align: left;\">glm</td></tr><tr><td class = \"rowNumber\" style = \"font-weight: bold; text-align: right;\">3</td><td style = \"text-align: right;\">0.0331568</td><td style = \"text-align: right;\">49.1403</td><td style = \"text-align: right;\">0.0554955</td><td style = \"text-align: left;\">ols</td></tr><tr><td class = \"rowNumber\" style = \"font-weight: bold; text-align: right;\">4</td><td style = \"text-align: right;\">0.0169276</td><td style = \"text-align: right;\">11197.9</td><td style = \"text-align: right;\">0.0614371</td><td style = \"text-align: left;\">mle_glm_start</td></tr><tr><td class = \"rowNumber\" style = \"font-weight: bold; text-align: right;\">5</td><td style = \"text-align: right;\">0.0263298</td><td style = \"text-align: right;\">761.149</td><td style = \"text-align: right;\">0.0524953</td><td style = \"text-align: left;\">mle_lm_start</td></tr></tbody></table></div>"
      ],
      "text/latex": [
       "\\begin{tabular}{r|cccc}\n",
       "\t& rel\\_bias & rel\\_mse & rel\\_mae & est\\\\\n",
       "\t\\hline\n",
       "\t& Float64 & Float64 & Float64 & String\\\\\n",
       "\t\\hline\n",
       "\t1 & -3.88775e-5 & 1.01787 & 0.00791474 & Expected value \\\\\n",
       "\t2 & 0.0253778 & 33.2048 & 0.0455993 & glm \\\\\n",
       "\t3 & 0.0331568 & 49.1403 & 0.0554955 & ols \\\\\n",
       "\t4 & 0.0169276 & 11197.9 & 0.0614371 & mle\\_glm\\_start \\\\\n",
       "\t5 & 0.0263298 & 761.149 & 0.0524953 & mle\\_lm\\_start \\\\\n",
       "\\end{tabular}\n"
      ],
      "text/plain": [
       "\u001b[1m5×4 DataFrame\u001b[0m\n",
       "\u001b[1m Row \u001b[0m│\u001b[1m rel_bias    \u001b[0m\u001b[1m rel_mse     \u001b[0m\u001b[1m rel_mae    \u001b[0m\u001b[1m est            \u001b[0m\n",
       "     │\u001b[90m Float64     \u001b[0m\u001b[90m Float64     \u001b[0m\u001b[90m Float64    \u001b[0m\u001b[90m String         \u001b[0m\n",
       "─────┼──────────────────────────────────────────────────────\n",
       "   1 │ -3.88775e-5      1.01787  0.00791474  Expected value\n",
       "   2 │  0.0253778      33.2048   0.0455993   glm\n",
       "   3 │  0.0331568      49.1403   0.0554955   ols\n",
       "   4 │  0.0169276   11197.9      0.0614371   mle_glm_start\n",
       "   5 │  0.0263298     761.149    0.0524953   mle_lm_start"
      ]
     },
     "execution_count": 18,
     "metadata": {},
     "output_type": "execute_result"
    }
   ],
   "source": [
    "DataFrame(\n",
    "    rel_bias = [mean((df_res[:, 1] .- df_res[:, k]) ./ df_res[:, 1])        for k in 2:6],\n",
    "    rel_mse  = [mean(((df_res[:, 1] .- df_res[:, k]) .^ 2) ./ df_res[:, 1]) for k in 2:6],\n",
    "    rel_mae  = [mean(abs.(df_res[:, 1] .- df_res[:, k]) ./ df_res[:, 1])    for k in 2:6],\n",
    "    est      = [\"Expected value\", \"glm\", \"ols\", \"mle_glm_start\", \"mle_lm_start\"]\n",
    ")"
   ]
  },
  {
   "cell_type": "code",
   "execution_count": 19,
   "id": "faa1d2fe-39d0-4afc-bf67-40ac55094c7d",
   "metadata": {},
   "outputs": [
    {
     "data": {
      "text/html": [
       "<div><div style = \"float: left;\"><span>4×4 DataFrame</span></div><div style = \"clear: both;\"></div></div><div class = \"data-frame\" style = \"overflow-x: scroll;\"><table class = \"data-frame\" style = \"margin-bottom: 6px;\"><thead><tr class = \"header\"><th class = \"rowNumber\" style = \"font-weight: bold; text-align: right;\">Row</th><th style = \"text-align: left;\">rel_bias</th><th style = \"text-align: left;\">rel_mse</th><th style = \"text-align: left;\">rel_mae</th><th style = \"text-align: left;\">est</th></tr><tr class = \"subheader headerLastRow\"><th class = \"rowNumber\" style = \"font-weight: bold; text-align: right;\"></th><th title = \"Float64\" style = \"text-align: left;\">Float64</th><th title = \"Float64\" style = \"text-align: left;\">Float64</th><th title = \"Float64\" style = \"text-align: left;\">Float64</th><th title = \"String\" style = \"text-align: left;\">String</th></tr></thead><tbody><tr><td class = \"rowNumber\" style = \"font-weight: bold; text-align: right;\">1</td><td style = \"text-align: right;\">0.0253226</td><td style = \"text-align: right;\">34.097</td><td style = \"text-align: right;\">0.0462806</td><td style = \"text-align: left;\">glm</td></tr><tr><td class = \"rowNumber\" style = \"font-weight: bold; text-align: right;\">2</td><td style = \"text-align: right;\">0.0330993</td><td style = \"text-align: right;\">50.0688</td><td style = \"text-align: right;\">0.0560264</td><td style = \"text-align: left;\">ols</td></tr><tr><td class = \"rowNumber\" style = \"font-weight: bold; text-align: right;\">3</td><td style = \"text-align: right;\">0.0166834</td><td style = \"text-align: right;\">11405.2</td><td style = \"text-align: right;\">0.0622333</td><td style = \"text-align: left;\">mle_glm_start</td></tr><tr><td class = \"rowNumber\" style = \"font-weight: bold; text-align: right;\">4</td><td style = \"text-align: right;\">0.0262998</td><td style = \"text-align: right;\">755.17</td><td style = \"text-align: right;\">0.0530745</td><td style = \"text-align: left;\">mle_lm_start</td></tr></tbody></table></div>"
      ],
      "text/latex": [
       "\\begin{tabular}{r|cccc}\n",
       "\t& rel\\_bias & rel\\_mse & rel\\_mae & est\\\\\n",
       "\t\\hline\n",
       "\t& Float64 & Float64 & Float64 & String\\\\\n",
       "\t\\hline\n",
       "\t1 & 0.0253226 & 34.097 & 0.0462806 & glm \\\\\n",
       "\t2 & 0.0330993 & 50.0688 & 0.0560264 & ols \\\\\n",
       "\t3 & 0.0166834 & 11405.2 & 0.0622333 & mle\\_glm\\_start \\\\\n",
       "\t4 & 0.0262998 & 755.17 & 0.0530745 & mle\\_lm\\_start \\\\\n",
       "\\end{tabular}\n"
      ],
      "text/plain": [
       "\u001b[1m4×4 DataFrame\u001b[0m\n",
       "\u001b[1m Row \u001b[0m│\u001b[1m rel_bias  \u001b[0m\u001b[1m rel_mse    \u001b[0m\u001b[1m rel_mae   \u001b[0m\u001b[1m est           \u001b[0m\n",
       "     │\u001b[90m Float64   \u001b[0m\u001b[90m Float64    \u001b[0m\u001b[90m Float64   \u001b[0m\u001b[90m String        \u001b[0m\n",
       "─────┼─────────────────────────────────────────────────\n",
       "   1 │ 0.0253226     34.097   0.0462806  glm\n",
       "   2 │ 0.0330993     50.0688  0.0560264  ols\n",
       "   3 │ 0.0166834  11405.2     0.0622333  mle_glm_start\n",
       "   4 │ 0.0262998    755.17    0.0530745  mle_lm_start"
      ]
     },
     "execution_count": 19,
     "metadata": {},
     "output_type": "execute_result"
    }
   ],
   "source": [
    "DataFrame(\n",
    "    rel_bias = [mean((df_res[:, 2] .- df_res[:, k]) ./ df_res[:, 2])        for k in 3:6],\n",
    "    rel_mse  = [mean(((df_res[:, 2] .- df_res[:, k]) .^ 2) ./ df_res[:, 2]) for k in 3:6],\n",
    "    rel_mae  = [mean(abs.(df_res[:, 2] .- df_res[:, k]) ./ df_res[:, 2])    for k in 3:6],\n",
    "    est      = [\"glm\", \"ols\", \"mle_glm_start\", \"mle_lm_start\"]\n",
    ")"
   ]
  },
  {
   "cell_type": "code",
   "execution_count": 20,
   "id": "635091b2-efc6-48b9-ba3d-83a0220c0eb6",
   "metadata": {},
   "outputs": [],
   "source": [
    "CSV.write(pwd() * \"/data_raw/init_res.csv\", df_res);"
   ]
  },
  {
   "cell_type": "markdown",
   "id": "57614283-ff59-42e0-9cfa-f202038c40ff",
   "metadata": {},
   "source": [
    "### Higher population"
   ]
  },
  {
   "cell_type": "code",
   "execution_count": 42,
   "id": "1d7bbd83-df7c-44a9-b08b-aace1353d77f",
   "metadata": {
    "scrolled": true
   },
   "outputs": [
    {
     "name": "stderr",
     "output_type": "stream",
     "text": [
      "\u001b[32mSimulation progress ... 100%|████████████████████████████| Time: 0:00:03\u001b[39m\n"
     ]
    },
    {
     "data": {
      "text/html": [
       "<div><div style = \"float: left;\"><span>6×7 DataFrame</span></div><div style = \"clear: both;\"></div></div><div class = \"data-frame\" style = \"overflow-x: scroll;\"><table class = \"data-frame\" style = \"margin-bottom: 6px;\"><thead><tr class = \"header\"><th class = \"rowNumber\" style = \"font-weight: bold; text-align: right;\">Row</th><th style = \"text-align: left;\">variable</th><th style = \"text-align: left;\">mean</th><th style = \"text-align: left;\">min</th><th style = \"text-align: left;\">median</th><th style = \"text-align: left;\">max</th><th style = \"text-align: left;\">nmissing</th><th style = \"text-align: left;\">eltype</th></tr><tr class = \"subheader headerLastRow\"><th class = \"rowNumber\" style = \"font-weight: bold; text-align: right;\"></th><th title = \"Symbol\" style = \"text-align: left;\">Symbol</th><th title = \"Float64\" style = \"text-align: left;\">Float64</th><th title = \"Float64\" style = \"text-align: left;\">Float64</th><th title = \"Float64\" style = \"text-align: left;\">Float64</th><th title = \"Float64\" style = \"text-align: left;\">Float64</th><th title = \"Int64\" style = \"text-align: left;\">Int64</th><th title = \"DataType\" style = \"text-align: left;\">DataType</th></tr></thead><tbody><tr><td class = \"rowNumber\" style = \"font-weight: bold; text-align: right;\">1</td><td style = \"text-align: left;\">actual</td><td style = \"text-align: right;\">4.48113e8</td><td style = \"text-align: right;\">4.32083e8</td><td style = \"text-align: right;\">4.48102e8</td><td style = \"text-align: right;\">4.62372e8</td><td style = \"text-align: right;\">0</td><td style = \"text-align: left;\">Float64</td></tr><tr><td class = \"rowNumber\" style = \"font-weight: bold; text-align: right;\">2</td><td style = \"text-align: left;\">expected</td><td style = \"text-align: right;\">4.48113e8</td><td style = \"text-align: right;\">4.32107e8</td><td style = \"text-align: right;\">4.48102e8</td><td style = \"text-align: right;\">4.62396e8</td><td style = \"text-align: right;\">0</td><td style = \"text-align: left;\">Float64</td></tr><tr><td class = \"rowNumber\" style = \"font-weight: bold; text-align: right;\">3</td><td style = \"text-align: left;\">glm_est</td><td style = \"text-align: right;\">4.43353e8</td><td style = \"text-align: right;\">2.63153e8</td><td style = \"text-align: right;\">4.41171e8</td><td style = \"text-align: right;\">7.80502e8</td><td style = \"text-align: right;\">0</td><td style = \"text-align: left;\">Float64</td></tr><tr><td class = \"rowNumber\" style = \"font-weight: bold; text-align: right;\">4</td><td style = \"text-align: left;\">ols_est</td><td style = \"text-align: right;\">4.43427e8</td><td style = \"text-align: right;\">2.64904e8</td><td style = \"text-align: right;\">4.41216e8</td><td style = \"text-align: right;\">7.88874e8</td><td style = \"text-align: right;\">0</td><td style = \"text-align: left;\">Float64</td></tr><tr><td class = \"rowNumber\" style = \"font-weight: bold; text-align: right;\">5</td><td style = \"text-align: left;\">mle_glm_start</td><td style = \"text-align: right;\">8.97721e11</td><td style = \"text-align: right;\">1427.69</td><td style = \"text-align: right;\">4.4122e8</td><td style = \"text-align: right;\">8.90029e15</td><td style = \"text-align: right;\">0</td><td style = \"text-align: left;\">Float64</td></tr><tr><td class = \"rowNumber\" style = \"font-weight: bold; text-align: right;\">6</td><td style = \"text-align: left;\">mle_lm_start</td><td style = \"text-align: right;\">4.43402e8</td><td style = \"text-align: right;\">2.64473e8</td><td style = \"text-align: right;\">4.41199e8</td><td style = \"text-align: right;\">7.89216e8</td><td style = \"text-align: right;\">0</td><td style = \"text-align: left;\">Float64</td></tr></tbody></table></div>"
      ],
      "text/latex": [
       "\\begin{tabular}{r|ccccccc}\n",
       "\t& variable & mean & min & median & max & nmissing & eltype\\\\\n",
       "\t\\hline\n",
       "\t& Symbol & Float64 & Float64 & Float64 & Float64 & Int64 & DataType\\\\\n",
       "\t\\hline\n",
       "\t1 & actual & 4.48113e8 & 4.32083e8 & 4.48102e8 & 4.62372e8 & 0 & Float64 \\\\\n",
       "\t2 & expected & 4.48113e8 & 4.32107e8 & 4.48102e8 & 4.62396e8 & 0 & Float64 \\\\\n",
       "\t3 & glm\\_est & 4.43353e8 & 2.63153e8 & 4.41171e8 & 7.80502e8 & 0 & Float64 \\\\\n",
       "\t4 & ols\\_est & 4.43427e8 & 2.64904e8 & 4.41216e8 & 7.88874e8 & 0 & Float64 \\\\\n",
       "\t5 & mle\\_glm\\_start & 8.97721e11 & 1427.69 & 4.4122e8 & 8.90029e15 & 0 & Float64 \\\\\n",
       "\t6 & mle\\_lm\\_start & 4.43402e8 & 2.64473e8 & 4.41199e8 & 7.89216e8 & 0 & Float64 \\\\\n",
       "\\end{tabular}\n"
      ],
      "text/plain": [
       "\u001b[1m6×7 DataFrame\u001b[0m\n",
       "\u001b[1m Row \u001b[0m│\u001b[1m variable      \u001b[0m\u001b[1m mean       \u001b[0m\u001b[1m min          \u001b[0m\u001b[1m median    \u001b[0m\u001b[1m max        \u001b[0m\u001b[1m nmissin\u001b[0m ⋯\n",
       "     │\u001b[90m Symbol        \u001b[0m\u001b[90m Float64    \u001b[0m\u001b[90m Float64      \u001b[0m\u001b[90m Float64   \u001b[0m\u001b[90m Float64    \u001b[0m\u001b[90m Int64  \u001b[0m ⋯\n",
       "─────┼──────────────────────────────────────────────────────────────────────────\n",
       "   1 │ actual         4.48113e8      4.32083e8  4.48102e8  4.62372e8           ⋯\n",
       "   2 │ expected       4.48113e8      4.32107e8  4.48102e8  4.62396e8\n",
       "   3 │ glm_est        4.43353e8      2.63153e8  4.41171e8  7.80502e8\n",
       "   4 │ ols_est        4.43427e8      2.64904e8  4.41216e8  7.88874e8\n",
       "   5 │ mle_glm_start  8.97721e11  1427.69       4.4122e8   8.90029e15          ⋯\n",
       "   6 │ mle_lm_start   4.43402e8      2.64473e8  4.41199e8  7.89216e8\n",
       "\u001b[36m                                                               2 columns omitted\u001b[0m"
      ]
     },
     "execution_count": 42,
     "metadata": {},
     "output_type": "execute_result"
    }
   ],
   "source": [
    "α = 2\n",
    "β = 2\n",
    "Q = 7 # Liczba państw\n",
    "nsims = 10000\n",
    "\n",
    "N_distr = Poisson(80000)\n",
    "M_distr = (N, α) -> Poisson.(N .^ α)\n",
    "p_distr = Uniform(.1,.25)\n",
    "\n",
    "res = Vector{Any}(missing, nsims)\n",
    "\n",
    "prog = Progress(nsims, \"Simulation progress ...\")\n",
    "\n",
    "Threads.@threads for k in 1:nsims\n",
    "    N = reduce(vcat, rand.(Binomial.(rand(N_distr, Q), .1), 1))\n",
    "    M = reduce(vcat, rand.(M_distr(N, α), 1))\n",
    "    p = rand(p_distr, Q)\n",
    "    \n",
    "    m = reduce(vcat, rand.(Poisson.(M .* p), 1))\n",
    "    n = reduce(vcat, rand.(Binomial.(N, p), 1))\n",
    "\n",
    "    df1 = DataFrame(\n",
    "        y = m,\n",
    "        x1 = log.(N),\n",
    "        x2 = log.(n ./ N)\n",
    "    )\n",
    "\n",
    "    mm = glm(@formula(y ~ x1 + x2 + 0), df1, Poisson(), LogLink())\n",
    "    α̂₁, β̂₁ = coef(mm)\n",
    "\n",
    "    ols = lm(@formula(log(y) ~ x1 + x2 + 0), df1)\n",
    "    α̂₂, β̂₂ = coef(ols)\n",
    "    \n",
    "    mle_1 = zhang_model(m, N, n; start = \"glm\")[1][4]\n",
    "    mle_2 = zhang_model(m, N, n; start = \"lm\")[1][4]\n",
    "\n",
    "    res[k] = [sum(M) sum(N .^ α) sum(N .^ α̂₁) sum(N .^ α̂₂) mle_1 mle_2]\n",
    "    #push!(res, [sum(M) sum(N .^ α) sum(N .^ α̂₁) sum(N .^ α̂₂)])\n",
    "    next!(prog)\n",
    "end # end for\n",
    "\n",
    "df_res = DataFrame(reduce(vcat, [res[i] for i in 1:length(res) if isassigned(res, i)]), [\"actual\", \"expected\", \"glm_est\", \"ols_est\", \"mle_glm_start\", \"mle_lm_start\"])\n",
    "\n",
    "describe(df_res)"
   ]
  },
  {
   "cell_type": "code",
   "execution_count": 43,
   "id": "148c0319-5821-47b5-be04-dd055d0f2575",
   "metadata": {},
   "outputs": [
    {
     "data": {
      "text/html": [
       "<div><div style = \"float: left;\"><span>5×4 DataFrame</span></div><div style = \"clear: both;\"></div></div><div class = \"data-frame\" style = \"overflow-x: scroll;\"><table class = \"data-frame\" style = \"margin-bottom: 6px;\"><thead><tr class = \"header\"><th class = \"rowNumber\" style = \"font-weight: bold; text-align: right;\">Row</th><th style = \"text-align: left;\">rel_bias</th><th style = \"text-align: left;\">rel_mse</th><th style = \"text-align: left;\">rel_mae</th><th style = \"text-align: left;\">est</th></tr><tr class = \"subheader headerLastRow\"><th class = \"rowNumber\" style = \"font-weight: bold; text-align: right;\"></th><th title = \"Float64\" style = \"text-align: left;\">Float64</th><th title = \"Float64\" style = \"text-align: left;\">Float64</th><th title = \"Float64\" style = \"text-align: left;\">Float64</th><th title = \"String\" style = \"text-align: left;\">String</th></tr></thead><tbody><tr><td class = \"rowNumber\" style = \"font-weight: bold; text-align: right;\">1</td><td style = \"text-align: right;\">4.56932e-7</td><td style = \"text-align: right;\">0.994899</td><td style = \"text-align: right;\">3.75767e-5</td><td style = \"text-align: left;\">Expected value</td></tr><tr><td class = \"rowNumber\" style = \"font-weight: bold; text-align: right;\">2</td><td style = \"text-align: right;\">0.0106187</td><td style = \"text-align: right;\">2.78895e6</td><td style = \"text-align: right;\">3.75767e-5</td><td style = \"text-align: left;\">glm</td></tr><tr><td class = \"rowNumber\" style = \"font-weight: bold; text-align: right;\">3</td><td style = \"text-align: right;\">0.0104561</td><td style = \"text-align: right;\">2.9231e6</td><td style = \"text-align: right;\">3.75767e-5</td><td style = \"text-align: left;\">ols</td></tr><tr><td class = \"rowNumber\" style = \"font-weight: bold; text-align: right;\">4</td><td style = \"text-align: right;\">-1989.58</td><td style = \"text-align: right;\">1.75624e19</td><td style = \"text-align: right;\">3.75767e-5</td><td style = \"text-align: left;\">mle_glm_start</td></tr><tr><td class = \"rowNumber\" style = \"font-weight: bold; text-align: right;\">5</td><td style = \"text-align: right;\">0.0105128</td><td style = \"text-align: right;\">2.92851e6</td><td style = \"text-align: right;\">3.75767e-5</td><td style = \"text-align: left;\">mle_lm_start</td></tr></tbody></table></div>"
      ],
      "text/latex": [
       "\\begin{tabular}{r|cccc}\n",
       "\t& rel\\_bias & rel\\_mse & rel\\_mae & est\\\\\n",
       "\t\\hline\n",
       "\t& Float64 & Float64 & Float64 & String\\\\\n",
       "\t\\hline\n",
       "\t1 & 4.56932e-7 & 0.994899 & 3.75767e-5 & Expected value \\\\\n",
       "\t2 & 0.0106187 & 2.78895e6 & 3.75767e-5 & glm \\\\\n",
       "\t3 & 0.0104561 & 2.9231e6 & 3.75767e-5 & ols \\\\\n",
       "\t4 & -1989.58 & 1.75624e19 & 3.75767e-5 & mle\\_glm\\_start \\\\\n",
       "\t5 & 0.0105128 & 2.92851e6 & 3.75767e-5 & mle\\_lm\\_start \\\\\n",
       "\\end{tabular}\n"
      ],
      "text/plain": [
       "\u001b[1m5×4 DataFrame\u001b[0m\n",
       "\u001b[1m Row \u001b[0m│\u001b[1m rel_bias       \u001b[0m\u001b[1m rel_mse    \u001b[0m\u001b[1m rel_mae    \u001b[0m\u001b[1m est            \u001b[0m\n",
       "     │\u001b[90m Float64        \u001b[0m\u001b[90m Float64    \u001b[0m\u001b[90m Float64    \u001b[0m\u001b[90m String         \u001b[0m\n",
       "─────┼────────────────────────────────────────────────────────\n",
       "   1 │     4.56932e-7  0.994899    3.75767e-5  Expected value\n",
       "   2 │     0.0106187   2.78895e6   3.75767e-5  glm\n",
       "   3 │     0.0104561   2.9231e6    3.75767e-5  ols\n",
       "   4 │ -1989.58        1.75624e19  3.75767e-5  mle_glm_start\n",
       "   5 │     0.0105128   2.92851e6   3.75767e-5  mle_lm_start"
      ]
     },
     "execution_count": 43,
     "metadata": {},
     "output_type": "execute_result"
    }
   ],
   "source": [
    "DataFrame(\n",
    "    rel_bias = [mean((df_res[:, 1] .- df_res[:, k]) ./ df_res[:, 1])        for k in 2:6],\n",
    "    rel_mse  = [mean(((df_res[:, 1] .- df_res[:, k]) .^ 2) ./ df_res[:, 1]) for k in 2:6],\n",
    "    rel_mae  = [mean(abs.(df_res[:, 1] .- df_res[:, 2]) ./ df_res[:, 1])    for k in 2:6],\n",
    "    est      = [\"Expected value\", \"glm\", \"ols\", \"mle_glm_start\", \"mle_lm_start\"]\n",
    ")"
   ]
  },
  {
   "cell_type": "code",
   "execution_count": 44,
   "id": "411f49b8-599e-42b0-b06c-e9ce703fa695",
   "metadata": {},
   "outputs": [
    {
     "data": {
      "text/html": [
       "<div><div style = \"float: left;\"><span>4×4 DataFrame</span></div><div style = \"clear: both;\"></div></div><div class = \"data-frame\" style = \"overflow-x: scroll;\"><table class = \"data-frame\" style = \"margin-bottom: 6px;\"><thead><tr class = \"header\"><th class = \"rowNumber\" style = \"font-weight: bold; text-align: right;\">Row</th><th style = \"text-align: left;\">rel_bias</th><th style = \"text-align: left;\">rel_mse</th><th style = \"text-align: left;\">rel_mae</th><th style = \"text-align: left;\">est</th></tr><tr class = \"subheader headerLastRow\"><th class = \"rowNumber\" style = \"font-weight: bold; text-align: right;\"></th><th title = \"Float64\" style = \"text-align: left;\">Float64</th><th title = \"Float64\" style = \"text-align: left;\">Float64</th><th title = \"Float64\" style = \"text-align: left;\">Float64</th><th title = \"String\" style = \"text-align: left;\">String</th></tr></thead><tbody><tr><td class = \"rowNumber\" style = \"font-weight: bold; text-align: right;\">1</td><td style = \"text-align: right;\">0.0106182</td><td style = \"text-align: right;\">2.78901e6</td><td style = \"text-align: right;\">0.0606381</td><td style = \"text-align: left;\">glm</td></tr><tr><td class = \"rowNumber\" style = \"font-weight: bold; text-align: right;\">2</td><td style = \"text-align: right;\">0.0104556</td><td style = \"text-align: right;\">2.92314e6</td><td style = \"text-align: right;\">0.062121</td><td style = \"text-align: left;\">ols</td></tr><tr><td class = \"rowNumber\" style = \"font-weight: bold; text-align: right;\">3</td><td style = \"text-align: right;\">-1989.51</td><td style = \"text-align: right;\">1.75617e19</td><td style = \"text-align: right;\">1989.58</td><td style = \"text-align: left;\">mle_glm_start</td></tr><tr><td class = \"rowNumber\" style = \"font-weight: bold; text-align: right;\">4</td><td style = \"text-align: right;\">0.0105123</td><td style = \"text-align: right;\">2.92855e6</td><td style = \"text-align: right;\">0.0621786</td><td style = \"text-align: left;\">mle_lm_start</td></tr></tbody></table></div>"
      ],
      "text/latex": [
       "\\begin{tabular}{r|cccc}\n",
       "\t& rel\\_bias & rel\\_mse & rel\\_mae & est\\\\\n",
       "\t\\hline\n",
       "\t& Float64 & Float64 & Float64 & String\\\\\n",
       "\t\\hline\n",
       "\t1 & 0.0106182 & 2.78901e6 & 0.0606381 & glm \\\\\n",
       "\t2 & 0.0104556 & 2.92314e6 & 0.062121 & ols \\\\\n",
       "\t3 & -1989.51 & 1.75617e19 & 1989.58 & mle\\_glm\\_start \\\\\n",
       "\t4 & 0.0105123 & 2.92855e6 & 0.0621786 & mle\\_lm\\_start \\\\\n",
       "\\end{tabular}\n"
      ],
      "text/plain": [
       "\u001b[1m4×4 DataFrame\u001b[0m\n",
       "\u001b[1m Row \u001b[0m│\u001b[1m rel_bias      \u001b[0m\u001b[1m rel_mse    \u001b[0m\u001b[1m rel_mae      \u001b[0m\u001b[1m est           \u001b[0m\n",
       "     │\u001b[90m Float64       \u001b[0m\u001b[90m Float64    \u001b[0m\u001b[90m Float64      \u001b[0m\u001b[90m String        \u001b[0m\n",
       "─────┼────────────────────────────────────────────────────────\n",
       "   1 │     0.0106182  2.78901e6      0.0606381  glm\n",
       "   2 │     0.0104556  2.92314e6      0.062121   ols\n",
       "   3 │ -1989.51       1.75617e19  1989.58       mle_glm_start\n",
       "   4 │     0.0105123  2.92855e6      0.0621786  mle_lm_start"
      ]
     },
     "execution_count": 44,
     "metadata": {},
     "output_type": "execute_result"
    }
   ],
   "source": [
    "DataFrame(\n",
    "    rel_bias = [mean((df_res[:, 2] .- df_res[:, k]) ./ df_res[:, 2])        for k in 3:6],\n",
    "    rel_mse  = [mean(((df_res[:, 2] .- df_res[:, k]) .^ 2) ./ df_res[:, 2]) for k in 3:6],\n",
    "    rel_mae  = [mean(abs.(df_res[:, 2] .- df_res[:, k]) ./ df_res[:, 2])    for k in 3:6],\n",
    "    est      = [\"glm\", \"ols\", \"mle_glm_start\", \"mle_lm_start\"]\n",
    ")"
   ]
  },
  {
   "cell_type": "code",
   "execution_count": 45,
   "id": "2112b305-5a55-4e03-98e9-ec3cf3e56518",
   "metadata": {},
   "outputs": [],
   "source": [
    "CSV.write(pwd() * \"/data_raw/init_res_1.csv\", df_res);"
   ]
  }
 ],
 "metadata": {
  "kernelspec": {
   "display_name": "Julia 1.10.2",
   "language": "julia",
   "name": "julia-1.10"
  },
  "language_info": {
   "file_extension": ".jl",
   "mimetype": "application/julia",
   "name": "julia",
   "version": "1.10.2"
  }
 },
 "nbformat": 4,
 "nbformat_minor": 5
}

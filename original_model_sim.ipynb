{
 "cells": [
  {
   "cell_type": "markdown",
   "id": "0eb17a0f-d12c-4aa2-bd02-19e29b9e13a3",
   "metadata": {
    "editable": true,
    "slideshow": {
     "slide_type": ""
    },
    "tags": []
   },
   "source": [
    "Installing necessary packages:\n",
    "```Julia\n",
    "using Pkg\n",
    "\n",
    "Pkg.add([\"Random\", \"Distributions\", \"DataFrames\", \"GLM\", \"Statistics\", \"ProgressMeter\", \"Plots\", \"Turing])\n",
    "Pkg.add(url = \"https://github.com/ncn-foreigners/UnobservedCountEstimation.jl\")\n",
    "```"
   ]
  },
  {
   "cell_type": "code",
   "execution_count": 1,
   "id": "eec5ba31",
   "metadata": {},
   "outputs": [],
   "source": [
    "using Turing\n",
    "using Copulas"
   ]
  },
  {
   "cell_type": "code",
   "execution_count": 2,
   "id": "06270c0e",
   "metadata": {},
   "outputs": [],
   "source": [
    "using Random, Distributions, DataFrames, GLM, Statistics, ProgressMeter, CSV, StatsBase, StatsPlots"
   ]
  },
  {
   "cell_type": "code",
   "execution_count": 3,
   "id": "957313b3-524d-4d09-8fc1-e10abeeb88a3",
   "metadata": {},
   "outputs": [
    {
     "name": "stdout",
     "output_type": "stream",
     "text": [
      "1 4 2 3 1 "
     ]
    },
    {
     "name": "stderr",
     "output_type": "stream",
     "text": [
      "\u001b[32mSimulation progress ...   5%|█▍                          |  ETA: 0:00:13\u001b[39m\u001b[32mSimulation progress ...   5%|█▍                          |  ETA: 0:00:12\u001b[39m"
     ]
    },
    {
     "name": "stdout",
     "output_type": "stream",
     "text": [
      "3 2 4 3 1 2 2 3 4 2 3 4 2 3 2 "
     ]
    }
   ],
   "source": [
    "α, β = rand(MvNormal([1.1, 2.4], .3 * [1 -.5; -.5 1]))\n",
    "Q = 20\n",
    "\n",
    "N_distr = Poisson(6000)\n",
    "M_distr = (N, α) -> Poisson.(N .^ α)\n",
    "u_distr = (n, N) -> Beta(n, N - n)\n",
    "#u_distr = (M, μ) -> Gamma(ϕ, 1 / ϕ)\n",
    "\n",
    "prog = Progress(10*Threads.nthreads(), \"Simulation progress ...\")\n",
    "\n",
    "Threads.@threads for i in 1:(5*Threads.nthreads())\n",
    "    print(string(Threads.threadid()) * \" \")\n",
    "    next!(prog)\n",
    "end # end for"
   ]
  },
  {
   "cell_type": "code",
   "execution_count": 5,
   "id": "ff18c0af-1813-4b95-94ae-1e128d3ed691",
   "metadata": {},
   "outputs": [
    {
     "data": {
      "text/plain": [
       "(0.6918218110435266, 2.7033478193913116)"
      ]
     },
     "execution_count": 5,
     "metadata": {},
     "output_type": "execute_result"
    }
   ],
   "source": [
    "α, β"
   ]
  },
  {
   "cell_type": "markdown",
   "id": "45eb98e3",
   "metadata": {},
   "source": [
    "Testing `Trung.jl`"
   ]
  },
  {
   "cell_type": "code",
   "execution_count": 6,
   "id": "8d7e3f61",
   "metadata": {},
   "outputs": [
    {
     "data": {
      "text/plain": [
       "20×5 Matrix{Float64}:\n",
       " 215.0  404.0  252.0  6132.0  0.518651\n",
       " 194.0  368.0  226.0  5939.0  0.514821\n",
       " 213.0  403.0  226.0  5986.0  0.514588\n",
       " 227.0  422.0  245.0  5939.0  0.518432\n",
       " 233.0  426.0  241.0  5954.0  0.517541\n",
       " 198.0  431.0  251.0  5923.0  0.519783\n",
       " 199.0  394.0  243.0  5892.0  0.518318\n",
       " 201.0  398.0  255.0  5959.0  0.520396\n",
       " 209.0  381.0  241.0  6031.0  0.517094\n",
       " 197.0  400.0  250.0  5994.0  0.519108\n",
       " 217.0  427.0  204.0  5909.0  0.511353\n",
       " 207.0  423.0  254.0  6050.0  0.519576\n",
       " 220.0  415.0  253.0  5888.0  0.520454\n",
       " 218.0  430.0  235.0  5860.0  0.516919\n",
       " 208.0  413.0  248.0  6002.0  0.518648\n",
       " 254.0  434.0  262.0  5959.0  0.521944\n",
       " 187.0  387.0  250.0  5895.0  0.519758\n",
       " 209.0  398.0  227.0  6075.0  0.514331\n",
       " 245.0  437.0  258.0  6073.0  0.520264\n",
       " 213.0  413.0  208.0  5844.0  0.512233"
      ]
     },
     "execution_count": 6,
     "metadata": {},
     "output_type": "execute_result"
    }
   ],
   "source": [
    "N = rand.(N_distr, Q)\n",
    "M = reduce(vcat, rand.(M_distr(N, α), 1))\n",
    "n = reduce(vcat, rand.(Binomial.(N, .04), 1))\n",
    "\n",
    "p = (N .^ α) .* ((n ./ N) .^ β)\n",
    "p = 1 ./ (1 .+ exp.(-p))\n",
    "\n",
    "u = 1.0\n",
    "m = reduce(vcat, rand.(Binomial.(M, p * u), 1))\n",
    "\n",
    "[m M n N p]"
   ]
  },
  {
   "cell_type": "code",
   "execution_count": 8,
   "id": "f672e4ab",
   "metadata": {},
   "outputs": [
    {
     "name": "stderr",
     "output_type": "stream",
     "text": [
      "\u001b[33m\u001b[1m┌ \u001b[22m\u001b[39m\u001b[33m\u001b[1mWarning: \u001b[22m\u001b[39mOnly a single thread available: MCMC chains are not sampled in parallel\n",
      "\u001b[33m\u001b[1m└ \u001b[22m\u001b[39m\u001b[90m@ AbstractMCMC ~/.julia/packages/AbstractMCMC/YrmkI/src/sample.jl:310\u001b[39m\n",
      "\u001b[32mSampling (1 threads): 100%|█████████████████████████████| Time: 0:14:32\u001b[39m\n"
     ]
    },
    {
     "data": {
      "text/plain": [
       "Chains MCMC chain (5000×24×4 Array{Float64, 3}):\n",
       "\n",
       "Iterations        = 1:1:5000\n",
       "Number of chains  = 4\n",
       "Samples per chain = 5000\n",
       "Wall duration     = 1169.15 seconds\n",
       "Compute duration  = 1168.38 seconds\n",
       "parameters        = γ[1], γ[2], M[1], M[2], M[3], M[4], M[5], M[6], M[7], M[8], M[9], M[10], M[11], M[12], M[13], M[14], M[15], M[16], M[17], M[18], M[19], M[20]\n",
       "internals         = lp, logevidence\n",
       "\n",
       "Summary Statistics\n",
       " \u001b[1m parameters \u001b[0m \u001b[1m     mean \u001b[0m \u001b[1m      std \u001b[0m \u001b[1m    mcse \u001b[0m \u001b[1m ess_bulk \u001b[0m \u001b[1m ess_tail \u001b[0m \u001b[1m    rhat \u001b[0m \u001b[1m\u001b[0m ⋯\n",
       " \u001b[90m     Symbol \u001b[0m \u001b[90m  Float64 \u001b[0m \u001b[90m  Float64 \u001b[0m \u001b[90m Float64 \u001b[0m \u001b[90m  Float64 \u001b[0m \u001b[90m  Float64 \u001b[0m \u001b[90m Float64 \u001b[0m \u001b[90m\u001b[0m ⋯\n",
       "\n",
       "        γ[1]     0.6893     0.0112    0.0013    50.0709    45.3309    1.5643   ⋯\n",
       "        γ[2]     2.5943     0.3719    0.0553    45.6772        NaN    1.6337   ⋯\n",
       "        M[1]   403.4493   213.1060    3.8170    55.2711    46.7482    1.5694   ⋯\n",
       "        M[2]   402.6982   206.6097    5.7675    46.9759    43.1925    1.6978   ⋯\n",
       "        M[3]   395.4508   208.6618    4.7968    50.4729    45.3309    1.8560   ⋯\n",
       "        M[4]   414.9382   205.9029    5.3301    46.2276    44.0176    1.9628   ⋯\n",
       "        M[5]   417.1381   205.3605    5.6233    46.4297    43.6796    1.8619   ⋯\n",
       "        M[6]   396.4484   203.9087    4.8068    49.5876    45.3309    2.0201   ⋯\n",
       "        M[7]   392.0056   203.5225    6.1153    48.0891    45.0306    1.9272   ⋯\n",
       "        M[8]   408.3838   208.7104    5.0506    48.7290    46.7482    1.4912   ⋯\n",
       "        M[9]   408.2646   208.4869    4.4734    47.4313    45.3309    1.5620   ⋯\n",
       "       M[10]   399.0568   208.5708    4.6497    51.9015    46.7343    1.4666   ⋯\n",
       "       M[11]   410.5270   205.1820    5.2655    52.4479    44.0176    1.9249   ⋯\n",
       "       M[12]   394.4228   210.2533    5.1192    48.1698    47.1982    1.4757   ⋯\n",
       "       M[13]   399.1308   206.1325    4.4647    53.8690    43.7530    1.9941   ⋯\n",
       "       M[14]   401.7436   203.8245    4.5155    52.4548    45.5660    1.9184   ⋯\n",
       "       M[15]   395.9955   207.5360    4.4456    55.2539    45.3309    1.9638   ⋯\n",
       "       M[16]   416.3509   206.0525    3.7007    51.9564    47.4225    1.5874   ⋯\n",
       "       M[17]   389.1558   201.5066    3.7887    51.3519    45.5660    1.6505   ⋯\n",
       "       M[18]   406.4019   210.0132    4.7309    51.4045    45.3309    1.5147   ⋯\n",
       "       M[19]   415.7970   207.0423    3.9632    51.6493    45.3309    1.5745   ⋯\n",
       "       M[20]   404.0382   200.1384    3.7072    50.8571    45.3309    1.5390   ⋯\n",
       "\u001b[36m                                                                1 column omitted\u001b[0m\n",
       "\n",
       "Quantiles\n",
       " \u001b[1m parameters \u001b[0m \u001b[1m     2.5% \u001b[0m \u001b[1m    25.0% \u001b[0m \u001b[1m    50.0% \u001b[0m \u001b[1m    75.0% \u001b[0m \u001b[1m    97.5% \u001b[0m\n",
       " \u001b[90m     Symbol \u001b[0m \u001b[90m  Float64 \u001b[0m \u001b[90m  Float64 \u001b[0m \u001b[90m  Float64 \u001b[0m \u001b[90m  Float64 \u001b[0m \u001b[90m  Float64 \u001b[0m\n",
       "\n",
       "        γ[1]     0.6687     0.6843     0.6920     0.6961     0.6974\n",
       "        γ[2]     2.0040     2.3797     2.4999     2.8168     3.1655\n",
       "        M[1]   329.0000   379.0000   404.0000   422.0000   428.0000\n",
       "        M[2]   317.0000   378.0000   398.0000   427.0000   444.0000\n",
       "        M[3]   341.0000   367.0000   392.0000   410.0000   446.0000\n",
       "        M[4]   354.0000   392.0000   426.0000   446.0000   458.0000\n",
       "        M[5]   338.0000   376.0000   427.0000   447.0000   453.0000\n",
       "        M[6]   340.0000   365.0000   393.0000   426.0000   448.0000\n",
       "        M[7]   313.0000   378.0000   390.0000   424.0000   455.0000\n",
       "        M[8]   354.0000   370.0000   424.0000   426.0000   449.0000\n",
       "        M[9]   336.0000   387.0000   422.0000   424.0000   444.0000\n",
       "       M[10]   326.0000   374.0000   407.0000   412.0000   447.0000\n",
       "       M[11]   342.0000   377.0000   417.0000   436.0000   456.0000\n",
       "       M[12]   341.0000   376.0000   387.0000   427.0000   433.0000\n",
       "       M[13]   333.0000   381.0000   396.0000   413.0000   455.0000\n",
       "       M[14]   321.0000   376.0000   407.0000   423.0000   431.0000\n",
       "       M[15]   307.0000   382.0000   395.0000   413.0000   434.0000\n",
       "       M[16]   344.0000   393.0000   416.0000   428.0000   444.0000\n",
       "       M[17]   313.0000   372.0000   385.0000   412.0000   420.0000\n",
       "       M[18]   332.0000   388.0000   404.0000   433.0000   444.0000\n",
       "       M[19]   339.0000   400.0000   403.0000   435.0000   448.0000\n",
       "       M[20]   328.0000   389.0000   406.0000   423.0000   428.0000\n"
      ]
     },
     "execution_count": 8,
     "metadata": {},
     "output_type": "execute_result"
    }
   ],
   "source": [
    "@model function binomial_model(m, n, N)\n",
    "    γ ~ MvNormal([1.6, 2.4], .3 * [1 .5; .5 1])\n",
    "    ξ = N .^ γ[1]\n",
    "    μ = ξ .* ((n ./ N) .^ γ[2])\n",
    "    μ = 1 ./ (1 .+ exp.(-μ))\n",
    "    M = Vector(undef, length(m))\n",
    "    \n",
    "    for i in eachindex(M)\n",
    "        M[i] ~ Poisson(ξ[i])\n",
    "    end\n",
    "\n",
    "    for i in eachindex(m)\n",
    "        m[i] ~ Binomial(M[i], μ[i])\n",
    "    end\n",
    "    return m\n",
    "end\n",
    "\n",
    "chains_1 = sample(binomial_model(m, n, N), PG(100), MCMCThreads(), 500, 4)"
   ]
  },
  {
   "cell_type": "code",
   "execution_count": 9,
   "id": "b789dd87",
   "metadata": {},
   "outputs": [
    {
     "data": {
      "text/plain": [
       "5-element Vector{Any}:\n",
       " 0.6918218110435266\n",
       " 2.7033478193913116\n",
       "  [417.2014184137074 408.0723669419337 … 414.42019415340815 403.54528487135354]\n",
       "  [404, 368, 403, 422, 426, 431, 394, 398, 381, 400, 427, 423, 415, 430, 413, 434, 387, 398, 437, 413]\n",
       "  [403.44935, 402.69825, 395.45075, 414.93815, 417.1381, 396.44845, 392.00555, 408.38385, 408.2646, 399.05675, 410.527, 394.4228, 399.1308, 401.7436, 395.9955, 416.3509, 389.15575, 406.40195, 415.797, 404.0382]"
      ]
     },
     "execution_count": 9,
     "metadata": {},
     "output_type": "execute_result"
    }
   ],
   "source": [
    "[α, β, (N .^ α)', M, describe(chains_1[1:end,:,:])[1][3:end, :mean]]"
   ]
  },
  {
   "cell_type": "code",
   "execution_count": 18,
   "id": "158c3592",
   "metadata": {},
   "outputs": [
    {
     "name": "stderr",
     "output_type": "stream",
     "text": [
      "\u001b[36m\u001b[1m[ \u001b[22m\u001b[39m\u001b[36m\u001b[1mInfo: \u001b[22m\u001b[39m[Turing]: progress logging is disabled globally\n",
      "\u001b[36m\u001b[1m[ \u001b[22m\u001b[39m\u001b[36m\u001b[1mInfo: \u001b[22m\u001b[39m[AdvancedVI]: global PROGRESS is set as false\n"
     ]
    },
    {
     "data": {
      "text/plain": [
       "false"
      ]
     },
     "execution_count": 18,
     "metadata": {},
     "output_type": "execute_result"
    }
   ],
   "source": [
    "@model function binomial_model(m, n, N, μ, Σ)\n",
    "    γ ~ MvNormal(μ, Σ)\n",
    "    ξ = N .^ γ[1]\n",
    "    μ = ξ .* ((n ./ N) .^ γ[2])\n",
    "    μ = 1 ./ (1 .+ exp.(-μ))\n",
    "    M = Vector(undef, length(m))\n",
    "    \n",
    "    for i in eachindex(M)\n",
    "        M[i] ~ Poisson(ξ[i])\n",
    "    end\n",
    "\n",
    "    for i in eachindex(m)\n",
    "        m[i] ~ Binomial(M[i], μ[i])\n",
    "    end\n",
    "    return m\n",
    "end\n",
    "setprogress!(false)"
   ]
  },
  {
   "cell_type": "code",
   "execution_count": 36,
   "id": "963fc2e6-2e15-422b-a5ae-be3858f7cb5f",
   "metadata": {},
   "outputs": [
    {
     "name": "stderr",
     "output_type": "stream",
     "text": [
      "\u001b[32mSimulation progress ... 100%|████████████████████████████| Time: 5:42:53\u001b[39m\n"
     ]
    },
    {
     "ename": "LoadError",
     "evalue": "ArgumentError: 'Vector{Float64}' iterates 'Float64' values, which doesn't satisfy the Tables.jl `AbstractRow` interface",
     "output_type": "error",
     "traceback": [
      "ArgumentError: 'Vector{Float64}' iterates 'Float64' values, which doesn't satisfy the Tables.jl `AbstractRow` interface",
      "",
      "Stacktrace:",
      "  [1] invalidtable(::Vector{Float64}, ::Float64)",
      "    @ Tables ~/.julia/packages/Tables/NSGZI/src/tofromdatavalues.jl:41",
      "  [2] iterate",
      "    @ ~/.julia/packages/Tables/NSGZI/src/tofromdatavalues.jl:47 [inlined]",
      "  [3] buildcolumns",
      "    @ ~/.julia/packages/Tables/NSGZI/src/fallbacks.jl:209 [inlined]",
      "  [4] _columns",
      "    @ ~/.julia/packages/Tables/NSGZI/src/fallbacks.jl:274 [inlined]",
      "  [5] columns",
      "    @ ~/.julia/packages/Tables/NSGZI/src/fallbacks.jl:258 [inlined]",
      "  [6] DataFrame(x::Vector{Float64}; copycols::Bool)",
      "    @ DataFrames ~/.julia/packages/DataFrames/58MUJ/src/other/tables.jl:57",
      "  [7] DataFrame",
      "    @ ~/.julia/packages/DataFrames/58MUJ/src/other/tables.jl:48 [inlined]",
      "  [8] DataFrame(columns::Vector{Float64}, cnames::Vector{Symbol}; makeunique::Bool, copycols::Bool)",
      "    @ DataFrames ~/.julia/packages/DataFrames/58MUJ/src/dataframe/dataframe.jl:339",
      "  [9] DataFrame",
      "    @ ~/.julia/packages/DataFrames/58MUJ/src/dataframe/dataframe.jl:336 [inlined]",
      " [10] DataFrame(columns::Vector{Float64}, cnames::Vector{String})",
      "    @ DataFrames ~/.julia/packages/DataFrames/58MUJ/src/dataframe/dataframe.jl:353",
      " [11] top-level scope",
      "    @ In[36]:54"
     ]
    }
   ],
   "source": [
    "prog = Progress(nsims, \"Simulation progress ...\")\n",
    "res = Vector{Any}(missing, nsims)\n",
    "μ = [1.5, 3.4]\n",
    "Σ = .2 * [1 -.6; -.6 1]\n",
    "nsims = 100\n",
    "\n",
    "Threads.@threads for k in 1:nsims\n",
    "    α, β = rand(MvNormal(μ, Σ))\n",
    "\n",
    "    N = rand.(N_distr, Q)\n",
    "    M = reduce(vcat, rand.(M_distr(N, α), 1))\n",
    "    n = reduce(vcat, rand.(Binomial.(N, .2), 1))\n",
    "\n",
    "    p = (N .^ α) .* ((n ./ N) .^ β)\n",
    "    p = 1 ./ (1 .+ exp.(-p))\n",
    "\n",
    "    #u = reduce(vcat, rand.(u_distr.(n, N), 1))\n",
    "    u = 1.0\n",
    "    m = reduce(vcat, rand.(Binomial.(M, p * u), 1))\n",
    "\n",
    "    df1 = DataFrame(\n",
    "        y = m,\n",
    "        x1 = log.(N),\n",
    "        x2 = log.(n ./ N)\n",
    "    )\n",
    "\n",
    "    mm = glm(@formula(y ~ x1 + x2 + 0), df1, Poisson(), LogLink())\n",
    "    α̂₁, β̂₁ = coef(mm)\n",
    "\n",
    "    ols = lm(@formula(log(y) ~ x1 + x2 + 0), df1)\n",
    "    α̂₂, β̂₂ = coef(ols)\n",
    "\n",
    "    est = sample(binomial_model(m, n, N, μ, Σ), PG(100), 500)\n",
    "    α̂₃, β̂₃ = describe(est)[1][1:2, :mean]\n",
    "    M̂ = describe(est)[1][3:end, :mean]\n",
    "\n",
    "    μ̂_prior = [α̂₁, β̂₁]\n",
    "    Σ̂_prior = vcov(mm)\n",
    "\n",
    "    est_2 = sample(binomial_model(m, n, N, μ̂_prior, Σ̂_prior), PG(100), 500)\n",
    "    α̂₄, β̂₄ = describe(est_2)[1][1:2, :mean]\n",
    "    M̂_2 = describe(est_2)[1][3:end, :mean]\n",
    "\n",
    "    res[k] = [\n",
    "        sum(M); sum(N .^ α); sum(N .^ α̂₁); sum(N .^ α̂₂); sum(N .^ α̂₃);\n",
    "        sum([mean(N[x] .^ est[:, 1, :]) for x in 1:Q]); sum(M̂); \n",
    "        sum(N .^ α̂₄); sum([mean(N[x] .^ est_2[:, 1, :]) for x in 1:Q]);\n",
    "        sum(M̂_2)\n",
    "    ]\n",
    "    #push!(res, [sum(M) sum(N .^ α) sum(N .^ α̂₁) sum(N .^ α̂₂)])\n",
    "    next!(prog)\n",
    "end # end for\n",
    "\n",
    "df_res = DataFrame(mapreduce(permutedims, vcat, res), \n",
    "    [\"actual\", \"expected\", \"glm_est\", \"ols_est\", \"expected_est\" , \"expected_est_better\", \n",
    "        \"actual_est\", \"expected_est_bad_prior\" , \"expected_est_better_bad_prior\", \"actual_est_bad_prior\"])\n",
    "\n",
    "describe(df_res)"
   ]
  },
  {
   "cell_type": "code",
   "execution_count": 47,
   "id": "258c6e0d-b603-40fa-bdee-e023f95e26eb",
   "metadata": {},
   "outputs": [
    {
     "data": {
      "text/html": [
       "<div><div style = \"float: left;\"><span>10×7 DataFrame</span></div><div style = \"clear: both;\"></div></div><div class = \"data-frame\" style = \"overflow-x: scroll;\"><table class = \"data-frame\" style = \"margin-bottom: 6px;\"><thead><tr class = \"header\"><th class = \"rowNumber\" style = \"font-weight: bold; text-align: right;\">Row</th><th style = \"text-align: left;\">variable</th><th style = \"text-align: left;\">mean</th><th style = \"text-align: left;\">min</th><th style = \"text-align: left;\">median</th><th style = \"text-align: left;\">max</th><th style = \"text-align: left;\">nmissing</th><th style = \"text-align: left;\">eltype</th></tr><tr class = \"subheader headerLastRow\"><th class = \"rowNumber\" style = \"font-weight: bold; text-align: right;\"></th><th title = \"Symbol\" style = \"text-align: left;\">Symbol</th><th title = \"Float64\" style = \"text-align: left;\">Float64</th><th title = \"Float64\" style = \"text-align: left;\">Float64</th><th title = \"Float64\" style = \"text-align: left;\">Float64</th><th title = \"Float64\" style = \"text-align: left;\">Float64</th><th title = \"Int64\" style = \"text-align: left;\">Int64</th><th title = \"DataType\" style = \"text-align: left;\">DataType</th></tr></thead><tbody><tr><td class = \"rowNumber\" style = \"font-weight: bold; text-align: right;\">1</td><td style = \"text-align: left;\">actual</td><td style = \"text-align: right;\">1.57611e7</td><td style = \"text-align: right;\">618.0</td><td style = \"text-align: right;\">354958.0</td><td style = \"text-align: right;\">9.37526e8</td><td style = \"text-align: right;\">0</td><td style = \"text-align: left;\">Float64</td></tr><tr><td class = \"rowNumber\" style = \"font-weight: bold; text-align: right;\">2</td><td style = \"text-align: left;\">expected</td><td style = \"text-align: right;\">1.57604e7</td><td style = \"text-align: right;\">582.652</td><td style = \"text-align: right;\">3.55792e5</td><td style = \"text-align: right;\">9.37469e8</td><td style = \"text-align: right;\">0</td><td style = \"text-align: left;\">Float64</td></tr><tr><td class = \"rowNumber\" style = \"font-weight: bold; text-align: right;\">3</td><td style = \"text-align: left;\">glm_est</td><td style = \"text-align: right;\">1.57724e7</td><td style = \"text-align: right;\">640.196</td><td style = \"text-align: right;\">3.52512e5</td><td style = \"text-align: right;\">9.37852e8</td><td style = \"text-align: right;\">0</td><td style = \"text-align: left;\">Float64</td></tr><tr><td class = \"rowNumber\" style = \"font-weight: bold; text-align: right;\">4</td><td style = \"text-align: left;\">ols_est</td><td style = \"text-align: right;\">1.57718e7</td><td style = \"text-align: right;\">601.937</td><td style = \"text-align: right;\">3.5178e5</td><td style = \"text-align: right;\">9.37896e8</td><td style = \"text-align: right;\">0</td><td style = \"text-align: left;\">Float64</td></tr><tr><td class = \"rowNumber\" style = \"font-weight: bold; text-align: right;\">5</td><td style = \"text-align: left;\">expected_est</td><td style = \"text-align: right;\">2.72258e5</td><td style = \"text-align: right;\">646.569</td><td style = \"text-align: right;\">2.89695e5</td><td style = \"text-align: right;\">9.24024e5</td><td style = \"text-align: right;\">0</td><td style = \"text-align: left;\">Float64</td></tr><tr><td class = \"rowNumber\" style = \"font-weight: bold; text-align: right;\">6</td><td style = \"text-align: left;\">expected_est_better</td><td style = \"text-align: right;\">1.19835e7</td><td style = \"text-align: right;\">647.684</td><td style = \"text-align: right;\">4.08845e5</td><td style = \"text-align: right;\">1.61499e8</td><td style = \"text-align: right;\">0</td><td style = \"text-align: left;\">Float64</td></tr><tr><td class = \"rowNumber\" style = \"font-weight: bold; text-align: right;\">7</td><td style = \"text-align: left;\">actual_est</td><td style = \"text-align: right;\">1.19835e7</td><td style = \"text-align: right;\">645.354</td><td style = \"text-align: right;\">4.08984e5</td><td style = \"text-align: right;\">1.615e8</td><td style = \"text-align: right;\">0</td><td style = \"text-align: left;\">Float64</td></tr><tr><td class = \"rowNumber\" style = \"font-weight: bold; text-align: right;\">8</td><td style = \"text-align: left;\">expected_est_bad_prior</td><td style = \"text-align: right;\">1.57714e7</td><td style = \"text-align: right;\">500.085</td><td style = \"text-align: right;\">3.54172e5</td><td style = \"text-align: right;\">9.37835e8</td><td style = \"text-align: right;\">0</td><td style = \"text-align: left;\">Float64</td></tr><tr><td class = \"rowNumber\" style = \"font-weight: bold; text-align: right;\">9</td><td style = \"text-align: left;\">expected_est_better_bad_prior</td><td style = \"text-align: right;\">1.57716e7</td><td style = \"text-align: right;\">500.913</td><td style = \"text-align: right;\">3.54184e5</td><td style = \"text-align: right;\">9.37835e8</td><td style = \"text-align: right;\">0</td><td style = \"text-align: left;\">Float64</td></tr><tr><td class = \"rowNumber\" style = \"font-weight: bold; text-align: right;\">10</td><td style = \"text-align: left;\">actual_est_bad_prior</td><td style = \"text-align: right;\">1.57717e7</td><td style = \"text-align: right;\">507.43</td><td style = \"text-align: right;\">3.54153e5</td><td style = \"text-align: right;\">9.37833e8</td><td style = \"text-align: right;\">0</td><td style = \"text-align: left;\">Float64</td></tr></tbody></table></div>"
      ],
      "text/latex": [
       "\\begin{tabular}{r|ccccccc}\n",
       "\t& variable & mean & min & median & max & nmissing & \\\\\n",
       "\t\\hline\n",
       "\t& Symbol & Float64 & Float64 & Float64 & Float64 & Int64 & \\\\\n",
       "\t\\hline\n",
       "\t1 & actual & 1.57611e7 & 618.0 & 354958.0 & 9.37526e8 & 0 & $\\dots$ \\\\\n",
       "\t2 & expected & 1.57604e7 & 582.652 & 3.55792e5 & 9.37469e8 & 0 & $\\dots$ \\\\\n",
       "\t3 & glm\\_est & 1.57724e7 & 640.196 & 3.52512e5 & 9.37852e8 & 0 & $\\dots$ \\\\\n",
       "\t4 & ols\\_est & 1.57718e7 & 601.937 & 3.5178e5 & 9.37896e8 & 0 & $\\dots$ \\\\\n",
       "\t5 & expected\\_est & 2.72258e5 & 646.569 & 2.89695e5 & 9.24024e5 & 0 & $\\dots$ \\\\\n",
       "\t6 & expected\\_est\\_better & 1.19835e7 & 647.684 & 4.08845e5 & 1.61499e8 & 0 & $\\dots$ \\\\\n",
       "\t7 & actual\\_est & 1.19835e7 & 645.354 & 4.08984e5 & 1.615e8 & 0 & $\\dots$ \\\\\n",
       "\t8 & expected\\_est\\_bad\\_prior & 1.57714e7 & 500.085 & 3.54172e5 & 9.37835e8 & 0 & $\\dots$ \\\\\n",
       "\t9 & expected\\_est\\_better\\_bad\\_prior & 1.57716e7 & 500.913 & 3.54184e5 & 9.37835e8 & 0 & $\\dots$ \\\\\n",
       "\t10 & actual\\_est\\_bad\\_prior & 1.57717e7 & 507.43 & 3.54153e5 & 9.37833e8 & 0 & $\\dots$ \\\\\n",
       "\\end{tabular}\n"
      ],
      "text/plain": [
       "\u001b[1m10×7 DataFrame\u001b[0m\n",
       "\u001b[1m Row \u001b[0m│\u001b[1m variable                      \u001b[0m\u001b[1m mean      \u001b[0m\u001b[1m min     \u001b[0m\u001b[1m median         \u001b[0m\u001b[1m max \u001b[0m ⋯\n",
       "     │\u001b[90m Symbol                        \u001b[0m\u001b[90m Float64   \u001b[0m\u001b[90m Float64 \u001b[0m\u001b[90m Float64        \u001b[0m\u001b[90m Floa\u001b[0m ⋯\n",
       "─────┼──────────────────────────────────────────────────────────────────────────\n",
       "   1 │ actual                         1.57611e7  618.0    354958.0        9.37 ⋯\n",
       "   2 │ expected                       1.57604e7  582.652       3.55792e5  9.37\n",
       "   3 │ glm_est                        1.57724e7  640.196       3.52512e5  9.37\n",
       "   4 │ ols_est                        1.57718e7  601.937       3.5178e5   9.37\n",
       "   5 │ expected_est                   2.72258e5  646.569       2.89695e5  9.24 ⋯\n",
       "   6 │ expected_est_better            1.19835e7  647.684       4.08845e5  1.61\n",
       "   7 │ actual_est                     1.19835e7  645.354       4.08984e5  1.61\n",
       "   8 │ expected_est_bad_prior         1.57714e7  500.085       3.54172e5  9.37\n",
       "   9 │ expected_est_better_bad_prior  1.57716e7  500.913       3.54184e5  9.37 ⋯\n",
       "  10 │ actual_est_bad_prior           1.57717e7  507.43        3.54153e5  9.37\n",
       "\u001b[36m                                                               3 columns omitted\u001b[0m"
      ]
     },
     "execution_count": 47,
     "metadata": {},
     "output_type": "execute_result"
    }
   ],
   "source": [
    "df_res = DataFrame(mapreduce(permutedims, vcat, res), \n",
    "    [\"actual\", \"expected\", \"glm_est\", \"ols_est\", \"expected_est\" , \"expected_est_better\", \n",
    "        \"actual_est\", \"expected_est_bad_prior\" , \"expected_est_better_bad_prior\", \"actual_est_bad_prior\"])\n",
    "\n",
    "describe(df_res)"
   ]
  },
  {
   "cell_type": "code",
   "execution_count": 51,
   "id": "29c32fd2-6ebb-46f6-b3c9-abd6fcaf1a86",
   "metadata": {},
   "outputs": [
    {
     "data": {
      "text/html": [
       "<div><div style = \"float: left;\"><span>9×4 DataFrame</span></div><div style = \"clear: both;\"></div></div><div class = \"data-frame\" style = \"overflow-x: scroll;\"><table class = \"data-frame\" style = \"margin-bottom: 6px;\"><thead><tr class = \"header\"><th class = \"rowNumber\" style = \"font-weight: bold; text-align: right;\">Row</th><th style = \"text-align: left;\">rel_bias</th><th style = \"text-align: left;\">rel_mse</th><th style = \"text-align: left;\">rel_mae</th><th style = \"text-align: left;\">est</th></tr><tr class = \"subheader headerLastRow\"><th class = \"rowNumber\" style = \"font-weight: bold; text-align: right;\"></th><th title = \"Float64\" style = \"text-align: left;\">Float64</th><th title = \"Float64\" style = \"text-align: left;\">Float64</th><th title = \"Float64\" style = \"text-align: left;\">Float64</th><th title = \"String\" style = \"text-align: left;\">String</th></tr></thead><tbody><tr><td class = \"rowNumber\" style = \"font-weight: bold; text-align: right;\">1</td><td style = \"text-align: right;\">0.000116574</td><td style = \"text-align: right;\">1.20939</td><td style = \"text-align: right;\">0.00437977</td><td style = \"text-align: left;\">Expected value</td></tr><tr><td class = \"rowNumber\" style = \"font-weight: bold; text-align: right;\">2</td><td style = \"text-align: right;\">-0.21841</td><td style = \"text-align: right;\">9256.35</td><td style = \"text-align: right;\">0.257574</td><td style = \"text-align: left;\">glm</td></tr><tr><td class = \"rowNumber\" style = \"font-weight: bold; text-align: right;\">3</td><td style = \"text-align: right;\">-0.215511</td><td style = \"text-align: right;\">9065.91</td><td style = \"text-align: right;\">0.26007</td><td style = \"text-align: left;\">ols</td></tr><tr><td class = \"rowNumber\" style = \"font-weight: bold; text-align: right;\">4</td><td style = \"text-align: right;\">0.281669</td><td style = \"text-align: right;\">1.53741e7</td><td style = \"text-align: right;\">0.377951</td><td style = \"text-align: left;\">expected_est</td></tr><tr><td class = \"rowNumber\" style = \"font-weight: bold; text-align: right;\">5</td><td style = \"text-align: right;\">-3.6523</td><td style = \"text-align: right;\">1.50211e8</td><td style = \"text-align: right;\">3.75249</td><td style = \"text-align: left;\">expected_est_better</td></tr><tr><td class = \"rowNumber\" style = \"font-weight: bold; text-align: right;\">6</td><td style = \"text-align: right;\">-3.65256</td><td style = \"text-align: right;\">1.50211e8</td><td style = \"text-align: right;\">3.75227</td><td style = \"text-align: left;\">actual_est</td></tr><tr><td class = \"rowNumber\" style = \"font-weight: bold; text-align: right;\">7</td><td style = \"text-align: right;\">-0.168579</td><td style = \"text-align: right;\">8950.56</td><td style = \"text-align: right;\">0.226103</td><td style = \"text-align: left;\">expected_est_bad_prior</td></tr><tr><td class = \"rowNumber\" style = \"font-weight: bold; text-align: right;\">8</td><td style = \"text-align: right;\">-0.175592</td><td style = \"text-align: right;\">9447.54</td><td style = \"text-align: right;\">0.232423</td><td style = \"text-align: left;\">expected_est_better_bad_prior</td></tr><tr><td class = \"rowNumber\" style = \"font-weight: bold; text-align: right;\">9</td><td style = \"text-align: right;\">-0.175543</td><td style = \"text-align: right;\">9449.05</td><td style = \"text-align: right;\">0.232135</td><td style = \"text-align: left;\">actual_est_bad_prior</td></tr></tbody></table></div>"
      ],
      "text/latex": [
       "\\begin{tabular}{r|cccc}\n",
       "\t& rel\\_bias & rel\\_mse & rel\\_mae & est\\\\\n",
       "\t\\hline\n",
       "\t& Float64 & Float64 & Float64 & String\\\\\n",
       "\t\\hline\n",
       "\t1 & 0.000116574 & 1.20939 & 0.00437977 & Expected value \\\\\n",
       "\t2 & -0.21841 & 9256.35 & 0.257574 & glm \\\\\n",
       "\t3 & -0.215511 & 9065.91 & 0.26007 & ols \\\\\n",
       "\t4 & 0.281669 & 1.53741e7 & 0.377951 & expected\\_est \\\\\n",
       "\t5 & -3.6523 & 1.50211e8 & 3.75249 & expected\\_est\\_better \\\\\n",
       "\t6 & -3.65256 & 1.50211e8 & 3.75227 & actual\\_est \\\\\n",
       "\t7 & -0.168579 & 8950.56 & 0.226103 & expected\\_est\\_bad\\_prior \\\\\n",
       "\t8 & -0.175592 & 9447.54 & 0.232423 & expected\\_est\\_better\\_bad\\_prior \\\\\n",
       "\t9 & -0.175543 & 9449.05 & 0.232135 & actual\\_est\\_bad\\_prior \\\\\n",
       "\\end{tabular}\n"
      ],
      "text/plain": [
       "\u001b[1m9×4 DataFrame\u001b[0m\n",
       "\u001b[1m Row \u001b[0m│\u001b[1m rel_bias     \u001b[0m\u001b[1m rel_mse      \u001b[0m\u001b[1m rel_mae    \u001b[0m\u001b[1m est                           \u001b[0m\n",
       "     │\u001b[90m Float64      \u001b[0m\u001b[90m Float64      \u001b[0m\u001b[90m Float64    \u001b[0m\u001b[90m String                        \u001b[0m\n",
       "─────┼───────────────────────────────────────────────────────────────────────\n",
       "   1 │  0.000116574     1.20939    0.00437977  Expected value\n",
       "   2 │ -0.21841      9256.35       0.257574    glm\n",
       "   3 │ -0.215511     9065.91       0.26007     ols\n",
       "   4 │  0.281669        1.53741e7  0.377951    expected_est\n",
       "   5 │ -3.6523          1.50211e8  3.75249     expected_est_better\n",
       "   6 │ -3.65256         1.50211e8  3.75227     actual_est\n",
       "   7 │ -0.168579     8950.56       0.226103    expected_est_bad_prior\n",
       "   8 │ -0.175592     9447.54       0.232423    expected_est_better_bad_prior\n",
       "   9 │ -0.175543     9449.05       0.232135    actual_est_bad_prior"
      ]
     },
     "execution_count": 51,
     "metadata": {},
     "output_type": "execute_result"
    }
   ],
   "source": [
    "DataFrame(\n",
    "    rel_bias = [mean((df_res[:, 1] .- df_res[:, k]) ./ df_res[:, 1])        for k in 2:10],\n",
    "    rel_mse  = [mean(((df_res[:, 1] .- df_res[:, k]) .^ 2) ./ df_res[:, 1]) for k in 2:10],\n",
    "    rel_mae  = [mean(abs.(df_res[:, 1] .- df_res[:, k]) ./ df_res[:, 1])    for k in 2:10],\n",
    "    est      = [\"Expected value\", \"glm\", \"ols\", \"expected_est\", \"expected_est_better\", \"actual_est\", \n",
    "        \"expected_est_bad_prior\", \"expected_est_better_bad_prior\", \"actual_est_bad_prior\"]\n",
    ")"
   ]
  },
  {
   "cell_type": "code",
   "execution_count": 52,
   "id": "53f7d738",
   "metadata": {},
   "outputs": [
    {
     "data": {
      "text/html": [
       "<div><div style = \"float: left;\"><span>9×7 DataFrame</span></div><div style = \"clear: both;\"></div></div><div class = \"data-frame\" style = \"overflow-x: scroll;\"><table class = \"data-frame\" style = \"margin-bottom: 6px;\"><thead><tr class = \"header\"><th class = \"rowNumber\" style = \"font-weight: bold; text-align: right;\">Row</th><th style = \"text-align: left;\">bias</th><th style = \"text-align: left;\">mse</th><th style = \"text-align: left;\">rmse</th><th style = \"text-align: left;\">var</th><th style = \"text-align: left;\">sd</th><th style = \"text-align: left;\">mae</th><th style = \"text-align: left;\">est</th></tr><tr class = \"subheader headerLastRow\"><th class = \"rowNumber\" style = \"font-weight: bold; text-align: right;\"></th><th title = \"Float64\" style = \"text-align: left;\">Float64</th><th title = \"Float64\" style = \"text-align: left;\">Float64</th><th title = \"Float64\" style = \"text-align: left;\">Float64</th><th title = \"Float64\" style = \"text-align: left;\">Float64</th><th title = \"Float64\" style = \"text-align: left;\">Float64</th><th title = \"Float64\" style = \"text-align: left;\">Float64</th><th title = \"String\" style = \"text-align: left;\">String</th></tr></thead><tbody><tr><td class = \"rowNumber\" style = \"font-weight: bold; text-align: right;\">1</td><td style = \"text-align: right;\">0.689031</td><td style = \"text-align: right;\">37519.9</td><td style = \"text-align: right;\">193.701</td><td style = \"text-align: right;\">9.05793e9</td><td style = \"text-align: right;\">95173.1</td><td style = \"text-align: right;\">1.63098</td><td style = \"text-align: left;\">Expected value</td></tr><tr><td class = \"rowNumber\" style = \"font-weight: bold; text-align: right;\">2</td><td style = \"text-align: right;\">-11.3189</td><td style = \"text-align: right;\">5.55979e6</td><td style = \"text-align: right;\">2357.92</td><td style = \"text-align: right;\">9.06598e9</td><td style = \"text-align: right;\">95215.4</td><td style = \"text-align: right;\">32.4284</td><td style = \"text-align: left;\">glm</td></tr><tr><td class = \"rowNumber\" style = \"font-weight: bold; text-align: right;\">3</td><td style = \"text-align: right;\">-10.6342</td><td style = \"text-align: right;\">5.68851e6</td><td style = \"text-align: right;\">2385.06</td><td style = \"text-align: right;\">9.06663e9</td><td style = \"text-align: right;\">95218.9</td><td style = \"text-align: right;\">32.8607</td><td style = \"text-align: left;\">ols</td></tr><tr><td class = \"rowNumber\" style = \"font-weight: bold; text-align: right;\">4</td><td style = \"text-align: right;\">15488.9</td><td style = \"text-align: right;\">9.20643e12</td><td style = \"text-align: right;\">3.03421e6</td><td style = \"text-align: right;\">44438.0</td><td style = \"text-align: right;\">210.803</td><td style = \"text-align: right;\">15502.9</td><td style = \"text-align: left;\">expected_est</td></tr><tr><td class = \"rowNumber\" style = \"font-weight: bold; text-align: right;\">5</td><td style = \"text-align: right;\">3777.58</td><td style = \"text-align: right;\">9.01605e12</td><td style = \"text-align: right;\">3.00267e6</td><td style = \"text-align: right;\">5.25868e8</td><td style = \"text-align: right;\">22931.8</td><td style = \"text-align: right;\">20322.4</td><td style = \"text-align: left;\">expected_est_better</td></tr><tr><td class = \"rowNumber\" style = \"font-weight: bold; text-align: right;\">6</td><td style = \"text-align: right;\">3777.57</td><td style = \"text-align: right;\">9.01606e12</td><td style = \"text-align: right;\">3.00267e6</td><td style = \"text-align: right;\">5.25871e8</td><td style = \"text-align: right;\">22931.9</td><td style = \"text-align: right;\">20322.5</td><td style = \"text-align: left;\">actual_est</td></tr><tr><td class = \"rowNumber\" style = \"font-weight: bold; text-align: right;\">7</td><td style = \"text-align: right;\">-10.2836</td><td style = \"text-align: right;\">4.19614e6</td><td style = \"text-align: right;\">2048.45</td><td style = \"text-align: right;\">9.06521e9</td><td style = \"text-align: right;\">95211.4</td><td style = \"text-align: right;\">22.2577</td><td style = \"text-align: left;\">expected_est_bad_prior</td></tr><tr><td class = \"rowNumber\" style = \"font-weight: bold; text-align: right;\">8</td><td style = \"text-align: right;\">-10.4429</td><td style = \"text-align: right;\">4.20785e6</td><td style = \"text-align: right;\">2051.3</td><td style = \"text-align: right;\">9.06521e9</td><td style = \"text-align: right;\">95211.4</td><td style = \"text-align: right;\">22.3761</td><td style = \"text-align: left;\">expected_est_better_bad_prior</td></tr><tr><td class = \"rowNumber\" style = \"font-weight: bold; text-align: right;\">9</td><td style = \"text-align: right;\">-10.5914</td><td style = \"text-align: right;\">4.20476e6</td><td style = \"text-align: right;\">2050.55</td><td style = \"text-align: right;\">9.06516e9</td><td style = \"text-align: right;\">95211.2</td><td style = \"text-align: right;\">22.2999</td><td style = \"text-align: left;\">actual_est_bad_prior</td></tr></tbody></table></div>"
      ],
      "text/latex": [
       "\\begin{tabular}{r|ccccccc}\n",
       "\t& bias & mse & rmse & var & sd & mae & est\\\\\n",
       "\t\\hline\n",
       "\t& Float64 & Float64 & Float64 & Float64 & Float64 & Float64 & String\\\\\n",
       "\t\\hline\n",
       "\t1 & 0.689031 & 37519.9 & 193.701 & 9.05793e9 & 95173.1 & 1.63098 & Expected value \\\\\n",
       "\t2 & -11.3189 & 5.55979e6 & 2357.92 & 9.06598e9 & 95215.4 & 32.4284 & glm \\\\\n",
       "\t3 & -10.6342 & 5.68851e6 & 2385.06 & 9.06663e9 & 95218.9 & 32.8607 & ols \\\\\n",
       "\t4 & 15488.9 & 9.20643e12 & 3.03421e6 & 44438.0 & 210.803 & 15502.9 & expected\\_est \\\\\n",
       "\t5 & 3777.58 & 9.01605e12 & 3.00267e6 & 5.25868e8 & 22931.8 & 20322.4 & expected\\_est\\_better \\\\\n",
       "\t6 & 3777.57 & 9.01606e12 & 3.00267e6 & 5.25871e8 & 22931.9 & 20322.5 & actual\\_est \\\\\n",
       "\t7 & -10.2836 & 4.19614e6 & 2048.45 & 9.06521e9 & 95211.4 & 22.2577 & expected\\_est\\_bad\\_prior \\\\\n",
       "\t8 & -10.4429 & 4.20785e6 & 2051.3 & 9.06521e9 & 95211.4 & 22.3761 & expected\\_est\\_better\\_bad\\_prior \\\\\n",
       "\t9 & -10.5914 & 4.20476e6 & 2050.55 & 9.06516e9 & 95211.2 & 22.2999 & actual\\_est\\_bad\\_prior \\\\\n",
       "\\end{tabular}\n"
      ],
      "text/plain": [
       "\u001b[1m9×7 DataFrame\u001b[0m\n",
       "\u001b[1m Row \u001b[0m│\u001b[1m bias         \u001b[0m\u001b[1m mse            \u001b[0m\u001b[1m rmse         \u001b[0m\u001b[1m var           \u001b[0m\u001b[1m sd        \u001b[0m\u001b[1m m\u001b[0m ⋯\n",
       "     │\u001b[90m Float64      \u001b[0m\u001b[90m Float64        \u001b[0m\u001b[90m Float64      \u001b[0m\u001b[90m Float64       \u001b[0m\u001b[90m Float64   \u001b[0m\u001b[90m F\u001b[0m ⋯\n",
       "─────┼──────────────────────────────────────────────────────────────────────────\n",
       "   1 │     0.689031  37519.9          193.701          9.05793e9  95173.1      ⋯\n",
       "   2 │   -11.3189        5.55979e6   2357.92           9.06598e9  95215.4\n",
       "   3 │   -10.6342        5.68851e6   2385.06           9.06663e9  95218.9\n",
       "   4 │ 15488.9           9.20643e12     3.03421e6  44438.0          210.803  1\n",
       "   5 │  3777.58          9.01605e12     3.00267e6      5.25868e8  22931.8    2 ⋯\n",
       "   6 │  3777.57          9.01606e12     3.00267e6      5.25871e8  22931.9    2\n",
       "   7 │   -10.2836        4.19614e6   2048.45           9.06521e9  95211.4\n",
       "   8 │   -10.4429        4.20785e6   2051.3            9.06521e9  95211.4\n",
       "   9 │   -10.5914        4.20476e6   2050.55           9.06516e9  95211.2      ⋯\n",
       "\u001b[36m                                                               2 columns omitted\u001b[0m"
      ]
     },
     "execution_count": 52,
     "metadata": {},
     "output_type": "execute_result"
    }
   ],
   "source": [
    "DataFrame(\n",
    "    bias  = [mean((df_res[:, 1] .- df_res[:, k]) ./ 1000)        for k in 2:10],\n",
    "    mse   = [mean(((df_res[:, 1] .- df_res[:, k]) .^ 2) ./ 1000) for k in 2:10],\n",
    "    rmse  = [sqrt(mean(((df_res[:, 1] .- df_res[:, k]) .^ 2) ./ 1000)) for k in 2:10],\n",
    "    var   = [var(df_res[:, k] / 1000) for k in 2:10],\n",
    "    sd    = [std(df_res[:, k] / 1000) for k in 2:10],\n",
    "    mae   = [mean(abs.(df_res[:, 1] .- df_res[:, k]) ./ 1000)    for k in 2:10],\n",
    "    est   = [\"Expected value\", \"glm\", \"ols\", \"expected_est\", \"expected_est_better\", \"actual_est\", \n",
    "        \"expected_est_bad_prior\", \"expected_est_better_bad_prior\", \"actual_est_bad_prior\"]\n",
    ")"
   ]
  },
  {
   "cell_type": "code",
   "execution_count": 50,
   "id": "635091b2-efc6-48b9-ba3d-83a0220c0eb6",
   "metadata": {},
   "outputs": [],
   "source": [
    "CSV.write(pwd() * \"/data_raw/init_res.csv\", df_res);"
   ]
  },
  {
   "cell_type": "markdown",
   "id": "57614283-ff59-42e0-9cfa-f202038c40ff",
   "metadata": {},
   "source": [
    "### Uknown prior"
   ]
  },
  {
   "cell_type": "code",
   "execution_count": 53,
   "id": "1d7bbd83-df7c-44a9-b08b-aace1353d77f",
   "metadata": {
    "scrolled": true
   },
   "outputs": [
    {
     "name": "stderr",
     "output_type": "stream",
     "text": [
      "\u001b[32mSimulation progress ... 100%|████████████████████████████| Time: 4:51:54\u001b[39m\n"
     ]
    },
    {
     "data": {
      "text/html": [
       "<div><div style = \"float: left;\"><span>10×7 DataFrame</span></div><div style = \"clear: both;\"></div></div><div class = \"data-frame\" style = \"overflow-x: scroll;\"><table class = \"data-frame\" style = \"margin-bottom: 6px;\"><thead><tr class = \"header\"><th class = \"rowNumber\" style = \"font-weight: bold; text-align: right;\">Row</th><th style = \"text-align: left;\">variable</th><th style = \"text-align: left;\">mean</th><th style = \"text-align: left;\">min</th><th style = \"text-align: left;\">median</th><th style = \"text-align: left;\">max</th><th style = \"text-align: left;\">nmissing</th><th style = \"text-align: left;\">eltype</th></tr><tr class = \"subheader headerLastRow\"><th class = \"rowNumber\" style = \"font-weight: bold; text-align: right;\"></th><th title = \"Symbol\" style = \"text-align: left;\">Symbol</th><th title = \"Float64\" style = \"text-align: left;\">Float64</th><th title = \"Float64\" style = \"text-align: left;\">Float64</th><th title = \"Float64\" style = \"text-align: left;\">Float64</th><th title = \"Float64\" style = \"text-align: left;\">Float64</th><th title = \"Int64\" style = \"text-align: left;\">Int64</th><th title = \"DataType\" style = \"text-align: left;\">DataType</th></tr></thead><tbody><tr><td class = \"rowNumber\" style = \"font-weight: bold; text-align: right;\">1</td><td style = \"text-align: left;\">actual</td><td style = \"text-align: right;\">2.15606e7</td><td style = \"text-align: right;\">371.0</td><td style = \"text-align: right;\">528770.0</td><td style = \"text-align: right;\">1.06463e9</td><td style = \"text-align: right;\">0</td><td style = \"text-align: left;\">Float64</td></tr><tr><td class = \"rowNumber\" style = \"font-weight: bold; text-align: right;\">2</td><td style = \"text-align: left;\">expected</td><td style = \"text-align: right;\">2.15609e7</td><td style = \"text-align: right;\">355.536</td><td style = \"text-align: right;\">5.27528e5</td><td style = \"text-align: right;\">1.06465e9</td><td style = \"text-align: right;\">0</td><td style = \"text-align: left;\">Float64</td></tr><tr><td class = \"rowNumber\" style = \"font-weight: bold; text-align: right;\">3</td><td style = \"text-align: left;\">glm_est</td><td style = \"text-align: right;\">2.15765e7</td><td style = \"text-align: right;\">97.6248</td><td style = \"text-align: right;\">5.09981e5</td><td style = \"text-align: right;\">1.06657e9</td><td style = \"text-align: right;\">0</td><td style = \"text-align: left;\">Float64</td></tr><tr><td class = \"rowNumber\" style = \"font-weight: bold; text-align: right;\">4</td><td style = \"text-align: left;\">ols_est</td><td style = \"text-align: right;\">2.15759e7</td><td style = \"text-align: right;\">94.0068</td><td style = \"text-align: right;\">5.09053e5</td><td style = \"text-align: right;\">1.06654e9</td><td style = \"text-align: right;\">0</td><td style = \"text-align: left;\">Float64</td></tr><tr><td class = \"rowNumber\" style = \"font-weight: bold; text-align: right;\">5</td><td style = \"text-align: left;\">expected_est</td><td style = \"text-align: right;\">2.54975e5</td><td style = \"text-align: right;\">374.828</td><td style = \"text-align: right;\">3.26216e5</td><td style = \"text-align: right;\">512301.0</td><td style = \"text-align: right;\">0</td><td style = \"text-align: left;\">Float64</td></tr><tr><td class = \"rowNumber\" style = \"font-weight: bold; text-align: right;\">6</td><td style = \"text-align: left;\">expected_est_better</td><td style = \"text-align: right;\">3.93233e7</td><td style = \"text-align: right;\">375.473</td><td style = \"text-align: right;\">2.45891e7</td><td style = \"text-align: right;\">3.45985e8</td><td style = \"text-align: right;\">0</td><td style = \"text-align: left;\">Float64</td></tr><tr><td class = \"rowNumber\" style = \"font-weight: bold; text-align: right;\">7</td><td style = \"text-align: left;\">actual_est</td><td style = \"text-align: right;\">3.93233e7</td><td style = \"text-align: right;\">383.914</td><td style = \"text-align: right;\">2.4589e7</td><td style = \"text-align: right;\">3.45986e8</td><td style = \"text-align: right;\">0</td><td style = \"text-align: left;\">Float64</td></tr><tr><td class = \"rowNumber\" style = \"font-weight: bold; text-align: right;\">8</td><td style = \"text-align: left;\">expected_est_bad_prior</td><td style = \"text-align: right;\">2.15778e7</td><td style = \"text-align: right;\">202.92</td><td style = \"text-align: right;\">5.21789e5</td><td style = \"text-align: right;\">1.06665e9</td><td style = \"text-align: right;\">0</td><td style = \"text-align: left;\">Float64</td></tr><tr><td class = \"rowNumber\" style = \"font-weight: bold; text-align: right;\">9</td><td style = \"text-align: left;\">expected_est_better_bad_prior</td><td style = \"text-align: right;\">2.15786e7</td><td style = \"text-align: right;\">216.602</td><td style = \"text-align: right;\">5.222e5</td><td style = \"text-align: right;\">1.06665e9</td><td style = \"text-align: right;\">0</td><td style = \"text-align: left;\">Float64</td></tr><tr><td class = \"rowNumber\" style = \"font-weight: bold; text-align: right;\">10</td><td style = \"text-align: left;\">actual_est_bad_prior</td><td style = \"text-align: right;\">2.15787e7</td><td style = \"text-align: right;\">208.096</td><td style = \"text-align: right;\">5.22187e5</td><td style = \"text-align: right;\">1.06665e9</td><td style = \"text-align: right;\">0</td><td style = \"text-align: left;\">Float64</td></tr></tbody></table></div>"
      ],
      "text/latex": [
       "\\begin{tabular}{r|ccccccc}\n",
       "\t& variable & mean & min & median & max & nmissing & \\\\\n",
       "\t\\hline\n",
       "\t& Symbol & Float64 & Float64 & Float64 & Float64 & Int64 & \\\\\n",
       "\t\\hline\n",
       "\t1 & actual & 2.15606e7 & 371.0 & 528770.0 & 1.06463e9 & 0 & $\\dots$ \\\\\n",
       "\t2 & expected & 2.15609e7 & 355.536 & 5.27528e5 & 1.06465e9 & 0 & $\\dots$ \\\\\n",
       "\t3 & glm\\_est & 2.15765e7 & 97.6248 & 5.09981e5 & 1.06657e9 & 0 & $\\dots$ \\\\\n",
       "\t4 & ols\\_est & 2.15759e7 & 94.0068 & 5.09053e5 & 1.06654e9 & 0 & $\\dots$ \\\\\n",
       "\t5 & expected\\_est & 2.54975e5 & 374.828 & 3.26216e5 & 512301.0 & 0 & $\\dots$ \\\\\n",
       "\t6 & expected\\_est\\_better & 3.93233e7 & 375.473 & 2.45891e7 & 3.45985e8 & 0 & $\\dots$ \\\\\n",
       "\t7 & actual\\_est & 3.93233e7 & 383.914 & 2.4589e7 & 3.45986e8 & 0 & $\\dots$ \\\\\n",
       "\t8 & expected\\_est\\_bad\\_prior & 2.15778e7 & 202.92 & 5.21789e5 & 1.06665e9 & 0 & $\\dots$ \\\\\n",
       "\t9 & expected\\_est\\_better\\_bad\\_prior & 2.15786e7 & 216.602 & 5.222e5 & 1.06665e9 & 0 & $\\dots$ \\\\\n",
       "\t10 & actual\\_est\\_bad\\_prior & 2.15787e7 & 208.096 & 5.22187e5 & 1.06665e9 & 0 & $\\dots$ \\\\\n",
       "\\end{tabular}\n"
      ],
      "text/plain": [
       "\u001b[1m10×7 DataFrame\u001b[0m\n",
       "\u001b[1m Row \u001b[0m│\u001b[1m variable                      \u001b[0m\u001b[1m mean      \u001b[0m\u001b[1m min      \u001b[0m\u001b[1m median         \u001b[0m\u001b[1m max\u001b[0m ⋯\n",
       "     │\u001b[90m Symbol                        \u001b[0m\u001b[90m Float64   \u001b[0m\u001b[90m Float64  \u001b[0m\u001b[90m Float64        \u001b[0m\u001b[90m Flo\u001b[0m ⋯\n",
       "─────┼──────────────────────────────────────────────────────────────────────────\n",
       "   1 │ actual                         2.15606e7  371.0     528770.0            ⋯\n",
       "   2 │ expected                       2.15609e7  355.536        5.27528e5\n",
       "   3 │ glm_est                        2.15765e7   97.6248       5.09981e5\n",
       "   4 │ ols_est                        2.15759e7   94.0068       5.09053e5\n",
       "   5 │ expected_est                   2.54975e5  374.828        3.26216e5  512 ⋯\n",
       "   6 │ expected_est_better            3.93233e7  375.473        2.45891e7\n",
       "   7 │ actual_est                     3.93233e7  383.914        2.4589e7\n",
       "   8 │ expected_est_bad_prior         2.15778e7  202.92         5.21789e5\n",
       "   9 │ expected_est_better_bad_prior  2.15786e7  216.602        5.222e5        ⋯\n",
       "  10 │ actual_est_bad_prior           2.15787e7  208.096        5.22187e5\n",
       "\u001b[36m                                                               3 columns omitted\u001b[0m"
      ]
     },
     "execution_count": 53,
     "metadata": {},
     "output_type": "execute_result"
    }
   ],
   "source": [
    "Q = 7 # Liczba państw\n",
    "\n",
    "N_distr = Poisson(1500)\n",
    "\n",
    "res = Vector{Any}(missing, nsims)\n",
    "μ = [1.5, 3.4]\n",
    "Σ = .2 * [1 -.6; -.6 1]\n",
    "nsims = 100\n",
    "\n",
    "prog = Progress(nsims, \"Simulation progress ...\")\n",
    "\n",
    "Threads.@threads for k in 1:nsims\n",
    "    α, β = rand(MvNormal(μ, Σ))\n",
    "\n",
    "    N = rand.(N_distr, Q)\n",
    "    M = reduce(vcat, rand.(M_distr(N, α), 1))\n",
    "    n = reduce(vcat, rand.(Binomial.(N, .2), 1))\n",
    "\n",
    "    p = (N .^ α) .* ((n ./ N) .^ β)\n",
    "    p = 1 ./ (1 .+ exp.(-p))\n",
    "    #u = reduce(vcat, rand.(u_distr.(n, N), 1))\n",
    "    u = 1.0\n",
    "    m = reduce(vcat, rand.(Binomial.(M, p * u), 1))\n",
    "    \n",
    "    df1 = DataFrame(\n",
    "        y = m,\n",
    "        x1 = log.(N),\n",
    "        x2 = log.(n ./ N)\n",
    "    )\n",
    "    \n",
    "    # TODO:: estimate Σ via one of those\n",
    "    mm = glm(@formula(y ~ x1 + x2 + 0), df1, Poisson(), LogLink())\n",
    "    α̂₁, β̂₁ = coef(mm)\n",
    "\n",
    "    ols = lm(@formula(log(y) ~ x1 + x2 + 0), df1)\n",
    "    α̂₂, β̂₂ = coef(ols)\n",
    "\n",
    "    est = sample(binomial_model(m, n, N, μ, Σ), PG(100), 500)\n",
    "    α̂₃, β̂₃ = describe(est)[1][1:2, :mean]\n",
    "    M̂ = describe(est)[1][3:end, :mean]\n",
    "\n",
    "    μ̂_prior = [α̂₁, β̂₁]\n",
    "    Σ̂_prior = vcov(mm)\n",
    "\n",
    "    est_2 = sample(binomial_model(m, n, N, μ̂_prior, Σ̂_prior), PG(100), 500)\n",
    "    α̂₄, β̂₄ = describe(est_2)[1][1:2, :mean]\n",
    "    M̂_2 = describe(est_2)[1][3:end, :mean]\n",
    "\n",
    "    res[k] = [\n",
    "        sum(M); sum(N .^ α); sum(N .^ α̂₁); sum(N .^ α̂₂); sum(N .^ α̂₃);\n",
    "        sum([mean(N[x] .^ est[:, 1, :]) for x in 1:Q]); sum(M̂); \n",
    "        sum(N .^ α̂₄); sum([mean(N[x] .^ est_2[:, 1, :]) for x in 1:Q]);\n",
    "        sum(M̂_2)\n",
    "    ]\n",
    "\n",
    "    #push!(res, [sum(M) sum(N .^ α) sum(N .^ α̂₁) sum(N .^ α̂₂)])\n",
    "    next!(prog)\n",
    "end # end for\n",
    "\n",
    "df_res = DataFrame(mapreduce(permutedims, vcat, res), \n",
    "    [\"actual\", \"expected\", \"glm_est\", \"ols_est\", \"expected_est\" , \"expected_est_better\", \n",
    "        \"actual_est\", \"expected_est_bad_prior\" , \"expected_est_better_bad_prior\", \"actual_est_bad_prior\"])\n",
    "\n",
    "describe(df_res)"
   ]
  },
  {
   "cell_type": "code",
   "execution_count": 54,
   "id": "148c0319-5821-47b5-be04-dd055d0f2575",
   "metadata": {},
   "outputs": [
    {
     "data": {
      "text/html": [
       "<div><div style = \"float: left;\"><span>9×4 DataFrame</span></div><div style = \"clear: both;\"></div></div><div class = \"data-frame\" style = \"overflow-x: scroll;\"><table class = \"data-frame\" style = \"margin-bottom: 6px;\"><thead><tr class = \"header\"><th class = \"rowNumber\" style = \"font-weight: bold; text-align: right;\">Row</th><th style = \"text-align: left;\">rel_bias</th><th style = \"text-align: left;\">rel_mse</th><th style = \"text-align: left;\">rel_mae</th><th style = \"text-align: left;\">est</th></tr><tr class = \"subheader headerLastRow\"><th class = \"rowNumber\" style = \"font-weight: bold; text-align: right;\"></th><th title = \"Float64\" style = \"text-align: left;\">Float64</th><th title = \"Float64\" style = \"text-align: left;\">Float64</th><th title = \"Float64\" style = \"text-align: left;\">Float64</th><th title = \"String\" style = \"text-align: left;\">String</th></tr></thead><tbody><tr><td class = \"rowNumber\" style = \"font-weight: bold; text-align: right;\">1</td><td style = \"text-align: right;\">0.00162797</td><td style = \"text-align: right;\">1.06888</td><td style = \"text-align: right;\">0.00396007</td><td style = \"text-align: left;\">Expected value</td></tr><tr><td class = \"rowNumber\" style = \"font-weight: bold; text-align: right;\">2</td><td style = \"text-align: right;\">-0.268251</td><td style = \"text-align: right;\">6638.04</td><td style = \"text-align: right;\">0.337673</td><td style = \"text-align: left;\">glm</td></tr><tr><td class = \"rowNumber\" style = \"font-weight: bold; text-align: right;\">3</td><td style = \"text-align: right;\">-0.257848</td><td style = \"text-align: right;\">6271.36</td><td style = \"text-align: right;\">0.327008</td><td style = \"text-align: left;\">ols</td></tr><tr><td class = \"rowNumber\" style = \"font-weight: bold; text-align: right;\">4</td><td style = \"text-align: right;\">0.376868</td><td style = \"text-align: right;\">2.11475e7</td><td style = \"text-align: right;\">0.4379</td><td style = \"text-align: left;\">expected_est</td></tr><tr><td class = \"rowNumber\" style = \"font-weight: bold; text-align: right;\">5</td><td style = \"text-align: right;\">-18.6108</td><td style = \"text-align: right;\">1.30055e9</td><td style = \"text-align: right;\">18.6637</td><td style = \"text-align: left;\">expected_est_better</td></tr><tr><td class = \"rowNumber\" style = \"font-weight: bold; text-align: right;\">6</td><td style = \"text-align: right;\">-18.6118</td><td style = \"text-align: right;\">1.30056e9</td><td style = \"text-align: right;\">18.6642</td><td style = \"text-align: left;\">actual_est</td></tr><tr><td class = \"rowNumber\" style = \"font-weight: bold; text-align: right;\">7</td><td style = \"text-align: right;\">-0.0393317</td><td style = \"text-align: right;\">2399.75</td><td style = \"text-align: right;\">0.131305</td><td style = \"text-align: left;\">expected_est_bad_prior</td></tr><tr><td class = \"rowNumber\" style = \"font-weight: bold; text-align: right;\">8</td><td style = \"text-align: right;\">-0.095784</td><td style = \"text-align: right;\">4538.62</td><td style = \"text-align: right;\">0.1828</td><td style = \"text-align: left;\">expected_est_better_bad_prior</td></tr><tr><td class = \"rowNumber\" style = \"font-weight: bold; text-align: right;\">9</td><td style = \"text-align: right;\">-0.0953988</td><td style = \"text-align: right;\">4533.34</td><td style = \"text-align: right;\">0.183023</td><td style = \"text-align: left;\">actual_est_bad_prior</td></tr></tbody></table></div>"
      ],
      "text/latex": [
       "\\begin{tabular}{r|cccc}\n",
       "\t& rel\\_bias & rel\\_mse & rel\\_mae & est\\\\\n",
       "\t\\hline\n",
       "\t& Float64 & Float64 & Float64 & String\\\\\n",
       "\t\\hline\n",
       "\t1 & 0.00162797 & 1.06888 & 0.00396007 & Expected value \\\\\n",
       "\t2 & -0.268251 & 6638.04 & 0.337673 & glm \\\\\n",
       "\t3 & -0.257848 & 6271.36 & 0.327008 & ols \\\\\n",
       "\t4 & 0.376868 & 2.11475e7 & 0.4379 & expected\\_est \\\\\n",
       "\t5 & -18.6108 & 1.30055e9 & 18.6637 & expected\\_est\\_better \\\\\n",
       "\t6 & -18.6118 & 1.30056e9 & 18.6642 & actual\\_est \\\\\n",
       "\t7 & -0.0393317 & 2399.75 & 0.131305 & expected\\_est\\_bad\\_prior \\\\\n",
       "\t8 & -0.095784 & 4538.62 & 0.1828 & expected\\_est\\_better\\_bad\\_prior \\\\\n",
       "\t9 & -0.0953988 & 4533.34 & 0.183023 & actual\\_est\\_bad\\_prior \\\\\n",
       "\\end{tabular}\n"
      ],
      "text/plain": [
       "\u001b[1m9×4 DataFrame\u001b[0m\n",
       "\u001b[1m Row \u001b[0m│\u001b[1m rel_bias     \u001b[0m\u001b[1m rel_mse      \u001b[0m\u001b[1m rel_mae     \u001b[0m\u001b[1m est                           \u001b[0m\n",
       "     │\u001b[90m Float64      \u001b[0m\u001b[90m Float64      \u001b[0m\u001b[90m Float64     \u001b[0m\u001b[90m String                        \u001b[0m\n",
       "─────┼────────────────────────────────────────────────────────────────────────\n",
       "   1 │   0.00162797     1.06888     0.00396007  Expected value\n",
       "   2 │  -0.268251    6638.04        0.337673    glm\n",
       "   3 │  -0.257848    6271.36        0.327008    ols\n",
       "   4 │   0.376868       2.11475e7   0.4379      expected_est\n",
       "   5 │ -18.6108         1.30055e9  18.6637      expected_est_better\n",
       "   6 │ -18.6118         1.30056e9  18.6642      actual_est\n",
       "   7 │  -0.0393317   2399.75        0.131305    expected_est_bad_prior\n",
       "   8 │  -0.095784    4538.62        0.1828      expected_est_better_bad_prior\n",
       "   9 │  -0.0953988   4533.34        0.183023    actual_est_bad_prior"
      ]
     },
     "execution_count": 54,
     "metadata": {},
     "output_type": "execute_result"
    }
   ],
   "source": [
    "DataFrame(\n",
    "    rel_bias = [mean((df_res[:, 1] .- df_res[:, k]) ./ df_res[:, 1])        for k in 2:10],\n",
    "    rel_mse  = [mean(((df_res[:, 1] .- df_res[:, k]) .^ 2) ./ df_res[:, 1]) for k in 2:10],\n",
    "    rel_mae  = [mean(abs.(df_res[:, 1] .- df_res[:, k]) ./ df_res[:, 1])    for k in 2:10],\n",
    "    est      = [\"Expected value\", \"glm\", \"ols\", \"expected_est\", \"expected_est_better\", \"actual_est\", \n",
    "        \"expected_est_bad_prior\", \"expected_est_better_bad_prior\", \"actual_est_bad_prior\"]\n",
    ")"
   ]
  },
  {
   "cell_type": "code",
   "execution_count": 55,
   "id": "411f49b8-599e-42b0-b06c-e9ce703fa695",
   "metadata": {},
   "outputs": [
    {
     "data": {
      "text/html": [
       "<div><div style = \"float: left;\"><span>9×7 DataFrame</span></div><div style = \"clear: both;\"></div></div><div class = \"data-frame\" style = \"overflow-x: scroll;\"><table class = \"data-frame\" style = \"margin-bottom: 6px;\"><thead><tr class = \"header\"><th class = \"rowNumber\" style = \"font-weight: bold; text-align: right;\">Row</th><th style = \"text-align: left;\">bias</th><th style = \"text-align: left;\">mse</th><th style = \"text-align: left;\">rmse</th><th style = \"text-align: left;\">var</th><th style = \"text-align: left;\">sd</th><th style = \"text-align: left;\">mae</th><th style = \"text-align: left;\">est</th></tr><tr class = \"subheader headerLastRow\"><th class = \"rowNumber\" style = \"font-weight: bold; text-align: right;\"></th><th title = \"Float64\" style = \"text-align: left;\">Float64</th><th title = \"Float64\" style = \"text-align: left;\">Float64</th><th title = \"Float64\" style = \"text-align: left;\">Float64</th><th title = \"Float64\" style = \"text-align: left;\">Float64</th><th title = \"Float64\" style = \"text-align: left;\">Float64</th><th title = \"Float64\" style = \"text-align: left;\">Float64</th><th title = \"String\" style = \"text-align: left;\">String</th></tr></thead><tbody><tr><td class = \"rowNumber\" style = \"font-weight: bold; text-align: right;\">1</td><td style = \"text-align: right;\">-0.269928</td><td style = \"text-align: right;\">19961.3</td><td style = \"text-align: right;\">141.285</td><td style = \"text-align: right;\">1.26127e10</td><td style = \"text-align: right;\">1.12306e5</td><td style = \"text-align: right;\">1.69467</td><td style = \"text-align: left;\">Expected value</td></tr><tr><td class = \"rowNumber\" style = \"font-weight: bold; text-align: right;\">2</td><td style = \"text-align: right;\">-15.8847</td><td style = \"text-align: right;\">5.35358e7</td><td style = \"text-align: right;\">7316.82</td><td style = \"text-align: right;\">1.26532e10</td><td style = \"text-align: right;\">1.12486e5</td><td style = \"text-align: right;\">71.8523</td><td style = \"text-align: left;\">glm</td></tr><tr><td class = \"rowNumber\" style = \"font-weight: bold; text-align: right;\">3</td><td style = \"text-align: right;\">-15.2771</td><td style = \"text-align: right;\">5.20521e7</td><td style = \"text-align: right;\">7214.71</td><td style = \"text-align: right;\">1.26525e10</td><td style = \"text-align: right;\">1.12483e5</td><td style = \"text-align: right;\">71.4522</td><td style = \"text-align: left;\">ols</td></tr><tr><td class = \"rowNumber\" style = \"font-weight: bold; text-align: right;\">4</td><td style = \"text-align: right;\">21305.7</td><td style = \"text-align: right;\">1.29334e13</td><td style = \"text-align: right;\">3.5963e6</td><td style = \"text-align: right;\">31108.9</td><td style = \"text-align: right;\">176.377</td><td style = \"text-align: right;\">21313.9</td><td style = \"text-align: left;\">expected_est</td></tr><tr><td class = \"rowNumber\" style = \"font-weight: bold; text-align: right;\">5</td><td style = \"text-align: right;\">-17762.7</td><td style = \"text-align: right;\">1.05269e13</td><td style = \"text-align: right;\">3.24452e6</td><td style = \"text-align: right;\">3.65892e9</td><td style = \"text-align: right;\">60489.0</td><td style = \"text-align: right;\">40440.0</td><td style = \"text-align: left;\">expected_est_better</td></tr><tr><td class = \"rowNumber\" style = \"font-weight: bold; text-align: right;\">6</td><td style = \"text-align: right;\">-17762.7</td><td style = \"text-align: right;\">1.05269e13</td><td style = \"text-align: right;\">3.24452e6</td><td style = \"text-align: right;\">3.65892e9</td><td style = \"text-align: right;\">60489.0</td><td style = \"text-align: right;\">40440.0</td><td style = \"text-align: left;\">actual_est</td></tr><tr><td class = \"rowNumber\" style = \"font-weight: bold; text-align: right;\">7</td><td style = \"text-align: right;\">-17.202</td><td style = \"text-align: right;\">5.65178e7</td><td style = \"text-align: right;\">7517.84</td><td style = \"text-align: right;\">1.26551e10</td><td style = \"text-align: right;\">1.12495e5</td><td style = \"text-align: right;\">63.4928</td><td style = \"text-align: left;\">expected_est_bad_prior</td></tr><tr><td class = \"rowNumber\" style = \"font-weight: bold; text-align: right;\">8</td><td style = \"text-align: right;\">-17.9886</td><td style = \"text-align: right;\">5.65988e7</td><td style = \"text-align: right;\">7523.22</td><td style = \"text-align: right;\">1.26551e10</td><td style = \"text-align: right;\">1.12495e5</td><td style = \"text-align: right;\">63.8227</td><td style = \"text-align: left;\">expected_est_better_bad_prior</td></tr><tr><td class = \"rowNumber\" style = \"font-weight: bold; text-align: right;\">9</td><td style = \"text-align: right;\">-18.0934</td><td style = \"text-align: right;\">5.65669e7</td><td style = \"text-align: right;\">7521.1</td><td style = \"text-align: right;\">1.26551e10</td><td style = \"text-align: right;\">1.12495e5</td><td style = \"text-align: right;\">63.8077</td><td style = \"text-align: left;\">actual_est_bad_prior</td></tr></tbody></table></div>"
      ],
      "text/latex": [
       "\\begin{tabular}{r|ccccccc}\n",
       "\t& bias & mse & rmse & var & sd & mae & est\\\\\n",
       "\t\\hline\n",
       "\t& Float64 & Float64 & Float64 & Float64 & Float64 & Float64 & String\\\\\n",
       "\t\\hline\n",
       "\t1 & -0.269928 & 19961.3 & 141.285 & 1.26127e10 & 1.12306e5 & 1.69467 & Expected value \\\\\n",
       "\t2 & -15.8847 & 5.35358e7 & 7316.82 & 1.26532e10 & 1.12486e5 & 71.8523 & glm \\\\\n",
       "\t3 & -15.2771 & 5.20521e7 & 7214.71 & 1.26525e10 & 1.12483e5 & 71.4522 & ols \\\\\n",
       "\t4 & 21305.7 & 1.29334e13 & 3.5963e6 & 31108.9 & 176.377 & 21313.9 & expected\\_est \\\\\n",
       "\t5 & -17762.7 & 1.05269e13 & 3.24452e6 & 3.65892e9 & 60489.0 & 40440.0 & expected\\_est\\_better \\\\\n",
       "\t6 & -17762.7 & 1.05269e13 & 3.24452e6 & 3.65892e9 & 60489.0 & 40440.0 & actual\\_est \\\\\n",
       "\t7 & -17.202 & 5.65178e7 & 7517.84 & 1.26551e10 & 1.12495e5 & 63.4928 & expected\\_est\\_bad\\_prior \\\\\n",
       "\t8 & -17.9886 & 5.65988e7 & 7523.22 & 1.26551e10 & 1.12495e5 & 63.8227 & expected\\_est\\_better\\_bad\\_prior \\\\\n",
       "\t9 & -18.0934 & 5.65669e7 & 7521.1 & 1.26551e10 & 1.12495e5 & 63.8077 & actual\\_est\\_bad\\_prior \\\\\n",
       "\\end{tabular}\n"
      ],
      "text/plain": [
       "\u001b[1m9×7 DataFrame\u001b[0m\n",
       "\u001b[1m Row \u001b[0m│\u001b[1m bias          \u001b[0m\u001b[1m mse            \u001b[0m\u001b[1m rmse         \u001b[0m\u001b[1m var            \u001b[0m\u001b[1m sd        \u001b[0m ⋯\n",
       "     │\u001b[90m Float64       \u001b[0m\u001b[90m Float64        \u001b[0m\u001b[90m Float64      \u001b[0m\u001b[90m Float64        \u001b[0m\u001b[90m Float64   \u001b[0m ⋯\n",
       "─────┼──────────────────────────────────────────────────────────────────────────\n",
       "   1 │     -0.269928  19961.3          141.285          1.26127e10      1.1230 ⋯\n",
       "   2 │    -15.8847        5.35358e7   7316.82           1.26532e10      1.1248\n",
       "   3 │    -15.2771        5.20521e7   7214.71           1.26525e10      1.1248\n",
       "   4 │  21305.7           1.29334e13     3.5963e6   31108.9           176.377\n",
       "   5 │ -17762.7           1.05269e13     3.24452e6      3.65892e9   60489.0    ⋯\n",
       "   6 │ -17762.7           1.05269e13     3.24452e6      3.65892e9   60489.0\n",
       "   7 │    -17.202         5.65178e7   7517.84           1.26551e10      1.1249\n",
       "   8 │    -17.9886        5.65988e7   7523.22           1.26551e10      1.1249\n",
       "   9 │    -18.0934        5.65669e7   7521.1            1.26551e10      1.1249 ⋯\n",
       "\u001b[36m                                                               3 columns omitted\u001b[0m"
      ]
     },
     "execution_count": 55,
     "metadata": {},
     "output_type": "execute_result"
    }
   ],
   "source": [
    "DataFrame(\n",
    "    bias  = [mean((df_res[:, 1] .- df_res[:, k]) ./ 1000)        for k in 2:10],\n",
    "    mse   = [mean(((df_res[:, 1] .- df_res[:, k]) .^ 2) ./ 1000) for k in 2:10],\n",
    "    rmse  = [sqrt(mean(((df_res[:, 1] .- df_res[:, k]) .^ 2) ./ 1000)) for k in 2:10],\n",
    "    var   = [var(df_res[:, k] / 1000) for k in 2:10],\n",
    "    sd    = [std(df_res[:, k] / 1000) for k in 2:10],\n",
    "    mae   = [mean(abs.(df_res[:, 1] .- df_res[:, k]) ./ 1000)    for k in 2:10],\n",
    "    est   = [\"Expected value\", \"glm\", \"ols\", \"expected_est\", \"expected_est_better\", \"actual_est\", \n",
    "        \"expected_est_bad_prior\", \"expected_est_better_bad_prior\", \"actual_est_bad_prior\"]\n",
    ")"
   ]
  },
  {
   "cell_type": "code",
   "execution_count": 56,
   "id": "2112b305-5a55-4e03-98e9-ec3cf3e56518",
   "metadata": {},
   "outputs": [],
   "source": [
    "CSV.write(pwd() * \"/data_raw/init_res_1.csv\", df_res);"
   ]
  },
  {
   "cell_type": "markdown",
   "id": "c49698bd",
   "metadata": {},
   "source": [
    "## Multivariate lognormal prior"
   ]
  },
  {
   "cell_type": "code",
   "execution_count": 222,
   "id": "d5444c05",
   "metadata": {},
   "outputs": [
    {
     "data": {
      "text/plain": [
       "binomial_model_log_nor (generic function with 6 methods)"
      ]
     },
     "execution_count": 222,
     "metadata": {},
     "output_type": "execute_result"
    }
   ],
   "source": [
    "@model function binomial_model_log_nor(m, n, μ, Σ)\n",
    "    γ ~ MvLogNormal(μ, Σ)\n",
    "    ξ = N .^ γ[1]\n",
    "    μ = ξ .* ((n ./ N) .^ γ[2])\n",
    "    μ = 1 ./ (1 .+ 1 ./ μ)\n",
    "    M = Vector(undef, length(m))\n",
    "    \n",
    "    for i in eachindex(M)\n",
    "        M[i] ~ Poisson(ξ[i])\n",
    "    end\n",
    "\n",
    "    for i in eachindex(m)\n",
    "        m[i] ~ Binomial(M[i], μ[i])\n",
    "    end\n",
    "    return m\n",
    "end"
   ]
  },
  {
   "cell_type": "code",
   "execution_count": 216,
   "id": "3778c4eb",
   "metadata": {},
   "outputs": [
    {
     "data": {
      "text/plain": [
       "20×5 Matrix{Float64}:\n",
       "  66.0   67.0   50.0  221.0  0.968399\n",
       "  34.0   34.0   30.0  117.0  0.95238\n",
       " 101.0  104.0   99.0  500.0  0.981713\n",
       "  54.0   54.0   45.0  188.0  0.965293\n",
       " 163.0  166.0  139.0  730.0  0.985988\n",
       " 140.0  142.0  147.0  704.0  0.986203\n",
       " 191.0  194.0  148.0  899.0  0.987185\n",
       "  47.0   48.0   30.0  181.0  0.95785\n",
       " 128.0  131.0  134.0  672.0  0.985403\n",
       "  36.0   38.0   33.0  140.0  0.956609\n",
       "  43.0   44.0   30.0  149.0  0.955489\n",
       " 112.0  114.0   77.0  432.0  0.978584\n",
       "  21.0   25.0   14.0   74.0  0.924333\n",
       "  68.0   70.0   64.0  281.0  0.973635\n",
       " 102.0  105.0   75.0  410.0  0.977996\n",
       " 124.0  125.0  107.0  561.0  0.982933\n",
       " 129.0  129.0  166.0  755.0  0.987222\n",
       " 140.0  141.0  134.0  640.0  0.985196\n",
       "  99.0  102.0   52.0  407.0  0.973908\n",
       "  29.0   36.0   21.0  153.0  0.948157"
      ]
     },
     "execution_count": 216,
     "metadata": {},
     "output_type": "execute_result"
    }
   ],
   "source": [
    "μ = [log(sqrt(2)), 1]\n",
    "Σ = .6 * [1 .4; .4 1]\n",
    "\n",
    "α, β = rand(MvLogNormal(μ, Σ))\n",
    "Q = 20\n",
    "\n",
    "N_distr = Poisson.(rand(DiscreteUniform(35, 1000), Q))\n",
    "M_distr = (N, α) -> Poisson.(N .^ α)\n",
    "u_distr = (n, N) -> Beta(n, N - n)\n",
    "#u_distr = (M, μ) -> Gamma(ϕ, 1 / ϕ)\n",
    "\n",
    "N = reduce(vcat, rand.(N_distr, 1))\n",
    "M = reduce(vcat, rand.(M_distr(N, α), 1))\n",
    "n = reduce(vcat, rand.(Binomial.(N, .2), 1))\n",
    "\n",
    "p = (N .^ α) .* ((n ./ N) .^ β)\n",
    "#p = 1 ./ (1 .+ exp.(-p))\n",
    "p = 1 ./ (1 .+ 1 ./ p)\n",
    "\n",
    "m = reduce(vcat, rand.(Binomial.(M, p * u), 1))\n",
    "\n",
    "[m M n N p]"
   ]
  },
  {
   "cell_type": "code",
   "execution_count": 217,
   "id": "9a2092af",
   "metadata": {},
   "outputs": [
    {
     "data": {
      "text/plain": [
       "(0.7636366973909048, 0.47087941647000187)"
      ]
     },
     "execution_count": 217,
     "metadata": {},
     "output_type": "execute_result"
    }
   ],
   "source": [
    "α,β"
   ]
  },
  {
   "cell_type": "code",
   "execution_count": 221,
   "id": "b26bff10",
   "metadata": {},
   "outputs": [
    {
     "name": "stderr",
     "output_type": "stream",
     "text": [
      "\u001b[33m\u001b[1m┌ \u001b[22m\u001b[39m\u001b[33m\u001b[1mWarning: \u001b[22m\u001b[39mfailed to find valid initial parameters in 10 tries; consider providing explicit initial parameters using the `initial_params` keyword\n",
      "\u001b[33m\u001b[1m└ \u001b[22m\u001b[39m\u001b[90m@ Turing.Inference ~/.julia/packages/Turing/lkUBK/src/mcmc/hmc.jl:171\u001b[39m\n"
     ]
    },
    {
     "ename": "LoadError",
     "evalue": "InexactError: trunc(Int64, 4.519128232039881e19)",
     "output_type": "error",
     "traceback": [
      "InexactError: trunc(Int64, 4.519128232039881e19)",
      "",
      "Stacktrace:",
      "  [1] trunc",
      "    @ ./float.jl:905 [inlined]",
      "  [2] floor",
      "    @ ./float.jl:383 [inlined]",
      "  [3] PoissonADSampler",
      "    @ ~/.julia/packages/Distributions/UaWBm/src/samplers/poisson.jl:54 [inlined]",
      "  [4] PoissonADSampler",
      "    @ ~/.julia/packages/Distributions/UaWBm/src/samplers/poisson.jl:49 [inlined]",
      "  [5] sampler",
      "    @ ~/.julia/packages/Distributions/UaWBm/src/univariate/discrete/poisson.jl:144 [inlined]",
      "  [6] rand(rng::TaskLocalRNG, d::Poisson{Float64})",
      "    @ Distributions ~/.julia/packages/Distributions/UaWBm/src/univariate/discrete/poisson.jl:148",
      "  [7] init",
      "    @ ~/.julia/packages/DynamicPPL/rXg4T/src/sampler.jl:26 [inlined]",
      "  [8] assume(rng::TaskLocalRNG, sampler::DynamicPPL.SampleFromUniform, dist::Poisson{Float64}, vn::AbstractPPL.VarName{:M, Setfield.IndexLens{Tuple{Int64}}}, vi::DynamicPPL.TypedVarInfo{@NamedTuple{γ::DynamicPPL.Metadata{Dict{AbstractPPL.VarName{:γ, Setfield.IdentityLens}, Int64}, Vector{MvLogNormal{Float64, PDMats.PDMat{Float64, Matrix{Float64}}, Vector{Float64}}}, Vector{AbstractPPL.VarName{:γ, Setfield.IdentityLens}}, Vector{Float64}, Vector{Set{DynamicPPL.Selector}}}, M::DynamicPPL.Metadata{Dict{AbstractPPL.VarName{:M, Setfield.IndexLens{Tuple{Int64}}}, Int64}, Vector{Poisson{Float64}}, Vector{AbstractPPL.VarName{:M, Setfield.IndexLens{Tuple{Int64}}}}, Vector{Int64}, Vector{Set{DynamicPPL.Selector}}}}, Float64})",
      "    @ DynamicPPL ~/.julia/packages/DynamicPPL/rXg4T/src/context_implementations.jl:234",
      "  [9] tilde_assume",
      "    @ ~/.julia/packages/DynamicPPL/rXg4T/src/context_implementations.jl:70 [inlined]",
      " [10] tilde_assume",
      "    @ ~/.julia/packages/DynamicPPL/rXg4T/src/context_implementations.jl:67 [inlined]",
      " [11] tilde_assume",
      "    @ ~/.julia/packages/DynamicPPL/rXg4T/src/context_implementations.jl:52 [inlined]",
      " [12] tilde_assume!!",
      "    @ ~/.julia/packages/DynamicPPL/rXg4T/src/context_implementations.jl:138 [inlined]",
      " [13] binomial_model_log_nor(__model__::DynamicPPL.Model{typeof(binomial_model_log_nor), (:m, :n, :N, :μ, :Σ), (), (), Tuple{Vector{Float64}, Vector{Int64}, Vector{Int64}, Vector{Float64}, Matrix{Float64}}, Tuple{}, DynamicPPL.DefaultContext}, __varinfo__::DynamicPPL.TypedVarInfo{@NamedTuple{γ::DynamicPPL.Metadata{Dict{AbstractPPL.VarName{:γ, Setfield.IdentityLens}, Int64}, Vector{MvLogNormal{Float64, PDMats.PDMat{Float64, Matrix{Float64}}, Vector{Float64}}}, Vector{AbstractPPL.VarName{:γ, Setfield.IdentityLens}}, Vector{Float64}, Vector{Set{DynamicPPL.Selector}}}, M::DynamicPPL.Metadata{Dict{AbstractPPL.VarName{:M, Setfield.IndexLens{Tuple{Int64}}}, Int64}, Vector{Poisson{Float64}}, Vector{AbstractPPL.VarName{:M, Setfield.IndexLens{Tuple{Int64}}}}, Vector{Int64}, Vector{Set{DynamicPPL.Selector}}}}, Float64}, __context__::DynamicPPL.SamplingContext{DynamicPPL.SampleFromUniform, DynamicPPL.DefaultContext, TaskLocalRNG}, m::Vector{Float64}, n::Vector{Int64}, N::Vector{Int64}, μ::Vector{Float64}, Σ::Matrix{Float64})",
      "    @ Main ./In[26]:8",
      " [14] _evaluate!!",
      "    @ ~/.julia/packages/DynamicPPL/rXg4T/src/model.jl:963 [inlined]",
      " [15] evaluate_threadunsafe!!",
      "    @ ~/.julia/packages/DynamicPPL/rXg4T/src/model.jl:936 [inlined]",
      " [16] evaluate!!",
      "    @ ~/.julia/packages/DynamicPPL/rXg4T/src/model.jl:889 [inlined]",
      " [17] evaluate!!",
      "    @ ~/.julia/packages/DynamicPPL/rXg4T/src/model.jl:900 [inlined]",
      " [18] evaluate!!(model::DynamicPPL.Model{typeof(binomial_model_log_nor), (:m, :n, :N, :μ, :Σ), (), (), Tuple{Vector{Float64}, Vector{Int64}, Vector{Int64}, Vector{Float64}, Matrix{Float64}}, Tuple{}, DynamicPPL.DefaultContext}, rng::TaskLocalRNG, varinfo::DynamicPPL.TypedVarInfo{@NamedTuple{γ::DynamicPPL.Metadata{Dict{AbstractPPL.VarName{:γ, Setfield.IdentityLens}, Int64}, Vector{MvLogNormal{Float64, PDMats.PDMat{Float64, Matrix{Float64}}, Vector{Float64}}}, Vector{AbstractPPL.VarName{:γ, Setfield.IdentityLens}}, Vector{Float64}, Vector{Set{DynamicPPL.Selector}}}, M::DynamicPPL.Metadata{Dict{AbstractPPL.VarName{:M, Setfield.IndexLens{Tuple{Int64}}}, Int64}, Vector{Poisson{Float64}}, Vector{AbstractPPL.VarName{:M, Setfield.IndexLens{Tuple{Int64}}}}, Vector{Int64}, Vector{Set{DynamicPPL.Selector}}}}, Float64}, sampler::DynamicPPL.SampleFromUniform)",
      "    @ DynamicPPL ~/.julia/packages/DynamicPPL/rXg4T/src/model.jl:900",
      " [19] initialstep(rng::TaskLocalRNG, model::DynamicPPL.Model{typeof(binomial_model_log_nor), (:m, :n, :N, :μ, :Σ), (), (), Tuple{Vector{Float64}, Vector{Int64}, Vector{Int64}, Vector{Float64}, Matrix{Float64}}, Tuple{}, DynamicPPL.DefaultContext}, spl::DynamicPPL.Sampler{HMCDA{AutoForwardDiff{0, Nothing}, (:γ,), AdvancedHMC.UnitEuclideanMetric}}, vi_original::DynamicPPL.TypedVarInfo{@NamedTuple{γ::DynamicPPL.Metadata{Dict{AbstractPPL.VarName{:γ, Setfield.IdentityLens}, Int64}, Vector{MvLogNormal{Float64, PDMats.PDMat{Float64, Matrix{Float64}}, Vector{Float64}}}, Vector{AbstractPPL.VarName{:γ, Setfield.IdentityLens}}, Vector{Float64}, Vector{Set{DynamicPPL.Selector}}}, M::DynamicPPL.Metadata{Dict{AbstractPPL.VarName{:M, Setfield.IndexLens{Tuple{Int64}}}, Int64}, Vector{Poisson{Float64}}, Vector{AbstractPPL.VarName{:M, Setfield.IndexLens{Tuple{Int64}}}}, Vector{Int64}, Vector{Set{DynamicPPL.Selector}}}}, Float64}; initial_params::Nothing, nadapts::Int64, kwargs::@Kwargs{})",
      "    @ Turing.Inference ~/.julia/packages/Turing/lkUBK/src/mcmc/hmc.jl:175",
      " [20] (::Turing.Inference.var\"#79#81\"{@Kwargs{initial_params::Nothing}, TaskLocalRNG, DynamicPPL.Model{typeof(binomial_model_log_nor), (:m, :n, :N, :μ, :Σ), (), (), Tuple{Vector{Float64}, Vector{Int64}, Vector{Int64}, Vector{Float64}, Matrix{Float64}}, Tuple{}, DynamicPPL.DefaultContext}})(local_spl::DynamicPPL.Sampler{HMCDA{AutoForwardDiff{0, Nothing}, (:γ,), AdvancedHMC.UnitEuclideanMetric}})",
      "    @ Turing.Inference ~/.julia/packages/Turing/lkUBK/src/mcmc/gibbs.jl:209",
      " [21] map",
      "    @ ./tuple.jl:292 [inlined]",
      " [22] initialstep(rng::TaskLocalRNG, model::DynamicPPL.Model{typeof(binomial_model_log_nor), (:m, :n, :N, :μ, :Σ), (), (), Tuple{Vector{Float64}, Vector{Int64}, Vector{Int64}, Vector{Float64}, Matrix{Float64}}, Tuple{}, DynamicPPL.DefaultContext}, spl::DynamicPPL.Sampler{Gibbs{(:M, :γ), 2, Tuple{PG{(:M,), AdvancedPS.ResampleWithESSThreshold{typeof(AdvancedPS.resample_systematic), Float64}}, HMCDA{AutoForwardDiff{0, Nothing}, (:γ,), AdvancedHMC.UnitEuclideanMetric}}, Tuple{Int64, Int64}}}, vi::DynamicPPL.TypedVarInfo{@NamedTuple{γ::DynamicPPL.Metadata{Dict{AbstractPPL.VarName{:γ, Setfield.IdentityLens}, Int64}, Vector{MvLogNormal{Float64, PDMats.PDMat{Float64, Matrix{Float64}}, Vector{Float64}}}, Vector{AbstractPPL.VarName{:γ, Setfield.IdentityLens}}, Vector{Float64}, Vector{Set{DynamicPPL.Selector}}}, M::DynamicPPL.Metadata{Dict{AbstractPPL.VarName{:M, Setfield.IndexLens{Tuple{Int64}}}, Int64}, Vector{Poisson{Float64}}, Vector{AbstractPPL.VarName{:M, Setfield.IndexLens{Tuple{Int64}}}}, Vector{Int64}, Vector{Set{DynamicPPL.Selector}}}}, Float64}; kwargs::@Kwargs{initial_params::Nothing})",
      "    @ Turing.Inference ~/.julia/packages/Turing/lkUBK/src/mcmc/gibbs.jl:202",
      " [23] step(rng::TaskLocalRNG, model::DynamicPPL.Model{typeof(binomial_model_log_nor), (:m, :n, :N, :μ, :Σ), (), (), Tuple{Vector{Float64}, Vector{Int64}, Vector{Int64}, Vector{Float64}, Matrix{Float64}}, Tuple{}, DynamicPPL.DefaultContext}, spl::DynamicPPL.Sampler{Gibbs{(:M, :γ), 2, Tuple{PG{(:M,), AdvancedPS.ResampleWithESSThreshold{typeof(AdvancedPS.resample_systematic), Float64}}, HMCDA{AutoForwardDiff{0, Nothing}, (:γ,), AdvancedHMC.UnitEuclideanMetric}}, Tuple{Int64, Int64}}}; initial_params::Nothing, kwargs::@Kwargs{})",
      "    @ DynamicPPL ~/.julia/packages/DynamicPPL/rXg4T/src/sampler.jl:116",
      " [24] step",
      "    @ ~/.julia/packages/DynamicPPL/rXg4T/src/sampler.jl:99 [inlined]",
      " [25] macro expansion",
      "    @ ~/.julia/packages/AbstractMCMC/YrmkI/src/sample.jl:130 [inlined]",
      " [26] macro expansion",
      "    @ ~/.julia/packages/ProgressLogging/6KXlp/src/ProgressLogging.jl:328 [inlined]",
      " [27] (::AbstractMCMC.var\"#22#23\"{Bool, String, Nothing, Int64, Int64, Nothing, @Kwargs{}, TaskLocalRNG, DynamicPPL.Model{typeof(binomial_model_log_nor), (:m, :n, :N, :μ, :Σ), (), (), Tuple{Vector{Float64}, Vector{Int64}, Vector{Int64}, Vector{Float64}, Matrix{Float64}}, Tuple{}, DynamicPPL.DefaultContext}, DynamicPPL.Sampler{Gibbs{(:M, :γ), 2, Tuple{PG{(:M,), AdvancedPS.ResampleWithESSThreshold{typeof(AdvancedPS.resample_systematic), Float64}}, HMCDA{AutoForwardDiff{0, Nothing}, (:γ,), AdvancedHMC.UnitEuclideanMetric}}, Tuple{Int64, Int64}}}, Int64, Int64})()",
      "    @ AbstractMCMC ~/.julia/packages/AbstractMCMC/YrmkI/src/logging.jl:12",
      " [28] with_logstate(f::Function, logstate::Any)",
      "    @ Base.CoreLogging ./logging.jl:515",
      " [29] with_logger",
      "    @ ./logging.jl:627 [inlined]",
      " [30] with_progresslogger(f::Function, _module::Module, logger::Logging.ConsoleLogger)",
      "    @ AbstractMCMC ~/.julia/packages/AbstractMCMC/YrmkI/src/logging.jl:36",
      " [31] macro expansion",
      "    @ ~/.julia/packages/AbstractMCMC/YrmkI/src/logging.jl:11 [inlined]",
      " [32] mcmcsample(rng::TaskLocalRNG, model::DynamicPPL.Model{typeof(binomial_model_log_nor), (:m, :n, :N, :μ, :Σ), (), (), Tuple{Vector{Float64}, Vector{Int64}, Vector{Int64}, Vector{Float64}, Matrix{Float64}}, Tuple{}, DynamicPPL.DefaultContext}, sampler::DynamicPPL.Sampler{Gibbs{(:M, :γ), 2, Tuple{PG{(:M,), AdvancedPS.ResampleWithESSThreshold{typeof(AdvancedPS.resample_systematic), Float64}}, HMCDA{AutoForwardDiff{0, Nothing}, (:γ,), AdvancedHMC.UnitEuclideanMetric}}, Tuple{Int64, Int64}}}, N::Int64; progress::Bool, progressname::String, callback::Nothing, discard_initial::Int64, thinning::Int64, chain_type::Type, initial_state::Nothing, kwargs::@Kwargs{})",
      "    @ AbstractMCMC ~/.julia/packages/AbstractMCMC/YrmkI/src/sample.jl:120",
      " [33] sample(rng::TaskLocalRNG, model::DynamicPPL.Model{typeof(binomial_model_log_nor), (:m, :n, :N, :μ, :Σ), (), (), Tuple{Vector{Float64}, Vector{Int64}, Vector{Int64}, Vector{Float64}, Matrix{Float64}}, Tuple{}, DynamicPPL.DefaultContext}, sampler::DynamicPPL.Sampler{Gibbs{(:M, :γ), 2, Tuple{PG{(:M,), AdvancedPS.ResampleWithESSThreshold{typeof(AdvancedPS.resample_systematic), Float64}}, HMCDA{AutoForwardDiff{0, Nothing}, (:γ,), AdvancedHMC.UnitEuclideanMetric}}, Tuple{Int64, Int64}}}, N::Int64; chain_type::Type, resume_from::Nothing, initial_state::Nothing, kwargs::@Kwargs{})",
      "    @ DynamicPPL ~/.julia/packages/DynamicPPL/rXg4T/src/sampler.jl:93",
      " [34] sample",
      "    @ ~/.julia/packages/DynamicPPL/rXg4T/src/sampler.jl:83 [inlined]",
      " [35] #sample#3",
      "    @ ~/.julia/packages/Turing/lkUBK/src/mcmc/Inference.jl:219 [inlined]",
      " [36] sample",
      "    @ ~/.julia/packages/Turing/lkUBK/src/mcmc/Inference.jl:212 [inlined]",
      " [37] #sample#2",
      "    @ ~/.julia/packages/Turing/lkUBK/src/mcmc/Inference.jl:209 [inlined]",
      " [38] sample(model::DynamicPPL.Model{typeof(binomial_model_log_nor), (:m, :n, :N, :μ, :Σ), (), (), Tuple{Vector{Float64}, Vector{Int64}, Vector{Int64}, Vector{Float64}, Matrix{Float64}}, Tuple{}, DynamicPPL.DefaultContext}, alg::Gibbs{(:M, :γ), 2, Tuple{PG{(:M,), AdvancedPS.ResampleWithESSThreshold{typeof(AdvancedPS.resample_systematic), Float64}}, HMCDA{AutoForwardDiff{0, Nothing}, (:γ,), AdvancedHMC.UnitEuclideanMetric}}, Tuple{Int64, Int64}}, N::Int64)",
      "    @ Turing.Inference ~/.julia/packages/Turing/lkUBK/src/mcmc/Inference.jl:203",
      " [39] top-level scope",
      "    @ In[221]:1"
     ]
    }
   ],
   "source": [
    "test_1 = sample(\n",
    "    binomial_model_log_nor(m / 100, n, N, μ, Σ), \n",
    "    #Gibbs(PG(100, :M), HMC(0.00001, 1000, :γ)), \n",
    "    Gibbs(PG(100, :M), HMCDA(10000, 0.65, .03, :γ)), \n",
    "    500#, initial_parametrs = reduce(vcat, [m / 100, μ])\n",
    ")"
   ]
  },
  {
   "cell_type": "code",
   "execution_count": 210,
   "id": "9087e1eb",
   "metadata": {},
   "outputs": [
    {
     "data": {
      "text/plain": [
       "1×22 adjoint(::Vector{Float64}) with eltype Float64:\n",
       " 2.0926  1.15072  1.4722  1.4722  …  1.46195  1.47954  1.46031  1.46195"
      ]
     },
     "execution_count": 210,
     "metadata": {},
     "output_type": "execute_result"
    }
   ],
   "source": [
    "describe(test_1)[1][:,:rhat]'"
   ]
  },
  {
   "cell_type": "code",
   "execution_count": 211,
   "id": "9ff0d2f3",
   "metadata": {},
   "outputs": [
    {
     "data": {
      "text/plain": [
       "1×22 adjoint(::Vector{Float64}) with eltype Float64:\n",
       " 2.13157  12.9811  34143.3  9.34337e5  …  6.86742e5  1.12716e6  2.26363e6"
      ]
     },
     "execution_count": 211,
     "metadata": {},
     "output_type": "execute_result"
    }
   ],
   "source": [
    "describe(test_1)[1][:,:mean]'"
   ]
  },
  {
   "cell_type": "code",
   "execution_count": 212,
   "id": "289e9b60",
   "metadata": {},
   "outputs": [
    {
     "data": {
      "text/plain": [
       "5-element Vector{Any}:\n",
       " 1.280485598459593\n",
       " 1.366157108903552\n",
       "  [534.3941686884311 3865.0677069815115 … 4324.249529199947 6570.45731308071]\n",
       "  [548, 3830, 1121, 502, 6101, 4851, 5495, 756, 2892, 2842, 6491, 1613, 2603, 5883, 708, 1650, 4169, 3189, 4292, 6598]\n",
       "  [34143.318, 934336.572, 120300.652, 32087.72, 2.011325766e6, 1.335538354e6, 1.681644638e6, 57521.202, 554500.49, 564409.96, 2.180373526e6, 223670.294, 493871.536, 1.912310998e6, 56201.544, 223143.556, 1.0660661e6, 686741.54, 1.127163536e6, 2.263628594e6]"
      ]
     },
     "execution_count": 212,
     "metadata": {},
     "output_type": "execute_result"
    }
   ],
   "source": [
    "[α, β, (N .^ α)', M, describe(test_1[1:end,:,:])[1][3:end, :mean]]"
   ]
  },
  {
   "cell_type": "code",
   "execution_count": 23,
   "id": "b31af56e",
   "metadata": {},
   "outputs": [
    {
     "name": "stderr",
     "output_type": "stream",
     "text": [
      "\u001b[33m\u001b[1m┌ \u001b[22m\u001b[39m\u001b[33m\u001b[1mWarning: \u001b[22m\u001b[39mOnly a single thread available: MCMC chains are not sampled in parallel\n",
      "\u001b[33m\u001b[1m└ \u001b[22m\u001b[39m\u001b[90m@ AbstractMCMC ~/.julia/packages/AbstractMCMC/YrmkI/src/sample.jl:310\u001b[39m\n"
     ]
    },
    {
     "name": "stdout",
     "output_type": "stream",
     "text": [
      "counter=137\n",
      "tf=TapedFunction:\n",
      "* .func => binomial_model\n",
      "* .ir   =>\n",
      "------------------\n",
      "CodeInfo(\n",
      "1 ──        (m@_42 = m@_5)::Vector{Int64}\n",
      "│           (μ@_43 = μ@_8)::Vector{Float64}\n",
      "│           (__varinfo__@_41 = __varinfo__@_3)::DynamicPPL.TypedVarInfo{@NamedTuple{γ::DynamicPPL.Metadata{Dict{AbstractPPL.VarName{:γ, Setfield.IdentityLens}, Int64}, Vector{MvLogNormal{Float64, PDMats.PDMat{Float64, Matrix{Float64}}, Vector{Float64}}}, Vector{AbstractPPL.VarName{:γ, Setfield.IdentityLens}}, Vector{Float64}, Vector{Set{DynamicPPL.Selector}}}, M::DynamicPPL.Metadata{Dict{AbstractPPL.VarName{:M, Setfield.IndexLens{Tuple{Int64}}}, Int64}, Vector{Poisson{Float64}}, Vector{AbstractPPL.VarName{:M, Setfield.IndexLens{Tuple{Int64}}}}, Vector{Int64}, Vector{Set{DynamicPPL.Selector}}}}, Float64}\n",
      "│           Core.NewvarNode(:(@_10))::Any\n",
      "│           Core.NewvarNode(:(@_11))::Any\n",
      "│           Core.NewvarNode(:(@_12))::Any\n",
      "│           Core.NewvarNode(:(@_13))::Any\n",
      "│           Core.NewvarNode(:(retval#279))::Any\n",
      "│           Core.NewvarNode(:(M))::Any\n",
      "│           Core.NewvarNode(:(ξ))::Any\n",
      "│           Core.NewvarNode(:(value#264))::Any\n",
      "│           Core.NewvarNode(:(γ))::Any\n",
      "│           Core.NewvarNode(:(value#266))::Any\n",
      "│           Core.NewvarNode(:(isassumption#263))::Any\n",
      "│           (dist#265 = Main.MvLogNormal(μ@_43::Vector{Float64}, Σ))::MvLogNormal{Float64, PDMats.PDMat{Float64, Matrix{Float64}}, Vector{Float64}}\n",
      "│    %16  = Core.apply_type(AbstractPPL.VarName, :γ)::Core.Const(AbstractPPL.VarName{:γ})\n",
      "│    %17  = (%16)()::Core.Const(γ)\n",
      "│           (vn#262 = (DynamicPPL.resolve_varnames)(%17, dist#265))::Core.Const(γ)\n",
      "│    %19  = (DynamicPPL.contextual_isassumption)(__context__, vn#262)::Core.Const(true)\n",
      "└───        goto #8 if not %19\n",
      "2 ── %21  = (DynamicPPL.inargnames)(vn#262, __model__)::Core.Const(false)\n",
      "│    %22  = !%21::Core.Const(true)\n",
      "└───        goto #4 if not %22\n",
      "3 ──        goto #5\n",
      "4 ──        Core.Const(:((DynamicPPL.inmissings)(vn#262, __model__)))::Union{}\n",
      "└───        Core.Const(:(goto %29 if not %25))::Union{}\n",
      "5 ┄─        (@_45 = true)::Core.Const(true)\n",
      "└───        goto #7\n",
      "6 ──        Core.Const(:(@_45 = γ === Main.missing))::Union{}\n",
      "7 ┄─        (@_44 = @_45::Core.Const(true))::Core.Const(true)\n",
      "└───        goto #9\n",
      "8 ──        Core.Const(:(@_44 = false))::Union{}\n",
      "9 ┄─        (isassumption#263 = @_44::Core.Const(true))::Core.Const(true)\n",
      "│    %34  = (DynamicPPL.contextual_isfixed)(__context__, vn#262)::Core.Const(false)\n",
      "└───        goto #11 if not %34\n",
      "10 ─        Core.Const(:(γ = (DynamicPPL.getfixed_nested)(__context__, vn#262)))::Union{}\n",
      "└───        Core.Const(:(goto %66))::Union{}\n",
      "11 ┄        goto #13 if not isassumption#263::Core.Const(true)\n",
      "12 ─ %39  = Core.tuple(__context__)::Tuple{DynamicPPL.SamplingContext{DynamicPPL.Sampler{PG{(), AdvancedPS.ResampleWithESSThreshold{typeof(AdvancedPS.resample_systematic), Float64}}}, DynamicPPL.DefaultContext, AdvancedPS.TracedRNG{UInt64, 1, Random123.Philox2x{UInt64, 10}}}}\n",
      "│    %40  = (DynamicPPL.check_tilde_rhs)(dist#265)::MvLogNormal{Float64, PDMats.PDMat{Float64, Matrix{Float64}}, Vector{Float64}}\n",
      "│    %41  = (DynamicPPL.unwrap_right_vn)(%40, vn#262)::Tuple{MvLogNormal{Float64, PDMats.PDMat{Float64, Matrix{Float64}}, Vector{Float64}}, AbstractPPL.VarName{:γ, Setfield.IdentityLens}}\n",
      "│    %42  = Core.tuple(__varinfo__@_41::DynamicPPL.TypedVarInfo{@NamedTuple{γ::DynamicPPL.Metadata{Dict{AbstractPPL.VarName{:γ, Setfield.IdentityLens}, Int64}, Vector{MvLogNormal{Float64, PDMats.PDMat{Float64, Matrix{Float64}}, Vector{Float64}}}, Vector{AbstractPPL.VarName{:γ, Setfield.IdentityLens}}, Vector{Float64}, Vector{Set{DynamicPPL.Selector}}}, M::DynamicPPL.Metadata{Dict{AbstractPPL.VarName{:M, Setfield.IndexLens{Tuple{Int64}}}, Int64}, Vector{Poisson{Float64}}, Vector{AbstractPPL.VarName{:M, Setfield.IndexLens{Tuple{Int64}}}}, Vector{Int64}, Vector{Set{DynamicPPL.Selector}}}}, Float64})::Tuple{DynamicPPL.TypedVarInfo{@NamedTuple{γ::DynamicPPL.Metadata{Dict{AbstractPPL.VarName{:γ, Setfield.IdentityLens}, Int64}, Vector{MvLogNormal{Float64, PDMats.PDMat{Float64, Matrix{Float64}}, Vector{Float64}}}, Vector{AbstractPPL.VarName{:γ, Setfield.IdentityLens}}, Vector{Float64}, Vector{Set{DynamicPPL.Selector}}}, M::DynamicPPL.Metadata{Dict{AbstractPPL.VarName{:M, Setfield.IndexLens{Tuple{Int64}}}, Int64}, Vector{Poisson{Float64}}, Vector{AbstractPPL.VarName{:M, Setfield.IndexLens{Tuple{Int64}}}}, Vector{Int64}, Vector{Set{DynamicPPL.Selector}}}}, Float64}}\n",
      "│    %43  = Core._apply_iterate(Base.iterate, DynamicPPL.tilde_assume!!, %39, %41, %42)::Tuple{Any, Any}\n",
      "│    %44  = Base.indexed_iterate(%43, 1)::Core.PartialStruct(Tuple{Any, Int64}, Any[Any, Core.Const(2)])\n",
      "│           (value#266 = Core.getfield(%44, 1))::Any\n",
      "│           (@_13 = Core.getfield(%44, 2))::Core.Const(2)\n",
      "│    %47  = Base.indexed_iterate(%43, 2, @_13::Core.Const(2))::Core.PartialStruct(Tuple{Any, Int64}, Any[Any, Core.Const(3)])\n",
      "│           (__varinfo__@_41 = Core.getfield(%47, 1))::Any\n",
      "│           (γ = value#266)::Any\n",
      "│           value#266::Any\n",
      "└───        goto #14\n",
      "13 ─        Core.Const(:((DynamicPPL.inargnames)(vn#262, __model__)))::Union{}\n",
      "│           Core.Const(:(!%52))::Union{}\n",
      "│           Core.Const(:(goto %56 if not %53))::Union{}\n",
      "│           Core.Const(:(γ = (DynamicPPL.getconditioned_nested)(__context__, vn#262)))::Union{}\n",
      "│           Core.Const(:((DynamicPPL.check_tilde_rhs)(dist#265)))::Union{}\n",
      "│           Core.Const(:(γ))::Union{}\n",
      "│           Core.Const(:(vn#262))::Union{}\n",
      "│           Core.Const(:((DynamicPPL.tilde_observe!!)(__context__, %56, %57, %58, __varinfo__@_41)))::Union{}\n",
      "│           Core.Const(:(Base.indexed_iterate(%59, 1)))::Union{}\n",
      "│           Core.Const(:(value#264 = Core.getfield(%60, 1)))::Union{}\n",
      "│           Core.Const(:(@_12 = Core.getfield(%60, 2)))::Union{}\n",
      "│           Core.Const(:(Base.indexed_iterate(%59, 2, @_12)))::Union{}\n",
      "│           Core.Const(:(__varinfo__@_41 = Core.getfield(%63, 1)))::Union{}\n",
      "└───        Core.Const(:(value#264))::Union{}\n",
      "14 ┄ %66  = Main.:^::Core.Const(^)\n",
      "│    %67  = Base.getindex(γ, 1)::Any\n",
      "│    %68  = Base.broadcasted(%66, N, %67)::Any\n",
      "│           (ξ = Base.materialize(%68))::Any\n",
      "│    %70  = Main.:*::Core.Const(*)\n",
      "│    %71  = ξ::Any\n",
      "│    %72  = Main.:^::Core.Const(^)\n",
      "│    %73  = Base.broadcasted(Main.:/, n, N)::Base.Broadcast.Broadcasted{Base.Broadcast.DefaultArrayStyle{1}, Nothing, typeof(/), Tuple{Vector{Int64}, Vector{Int64}}}\n",
      "│    %74  = Base.getindex(γ, 2)::Any\n",
      "│    %75  = Base.broadcasted(%72, %73, %74)::Any\n",
      "│    %76  = Base.broadcasted(%70, %71, %75)::Any\n",
      "│           (μ@_43 = Base.materialize(%76))::Any\n",
      "│    %78  = Main.:/::Core.Const(/)\n",
      "│    %79  = Main.:+::Core.Const(+)\n",
      "│    %80  = Main.exp::Core.Const(exp)\n",
      "│    %81  = -μ@_43::Any\n",
      "│    %82  = Base.broadcasted(%80, %81)::Any\n",
      "│    %83  = Base.broadcasted(%79, 1, %82)::Any\n",
      "│    %84  = Base.broadcasted(%78, 1, %83)::Any\n",
      "│           (μ@_43 = Base.materialize(%84))::Any\n",
      "│    %86  = Main.undef::Core.Const(UndefInitializer())\n",
      "│    %87  = Main.length(m@_42::Vector{Int64})::Int64\n",
      "│           (M = Main.Vector(%86, %87))::Vector{Any}\n",
      "│    %89  = Main.eachindex(M)::Base.OneTo{Int64}\n",
      "│           (@_11 = Base.iterate(%89))::Union{Nothing, Tuple{Int64, Int64}}\n",
      "│    %91  = (@_11 === nothing)::Bool\n",
      "│    %92  = Base.not_int(%91)::Bool\n",
      "└───        goto #30 if not %92\n",
      "15 ┄        Core.NewvarNode(:(@_23))::Any\n",
      "│           Core.NewvarNode(:(@_24))::Any\n",
      "│           Core.NewvarNode(:(value#269))::Any\n",
      "│           Core.NewvarNode(:(lens#272))::Any\n",
      "│           Core.NewvarNode(:(value#271))::Any\n",
      "│           Core.NewvarNode(:(isassumption#268))::Any\n",
      "│    %100 = @_11::Tuple{Int64, Int64}\n",
      "│           (i@_25 = Core.getfield(%100, 1))::Int64\n",
      "│    %102 = Core.getfield(%100, 2)::Int64\n",
      "│    %103 = Base.getindex(ξ, i@_25)::Any\n",
      "│           (dist#270 = Main.Poisson(%103))::Poisson\n",
      "│    %105 = Core.apply_type(AbstractPPL.VarName, :M)::Core.Const(AbstractPPL.VarName{:M})\n",
      "│    %106 = Core.tuple(i@_25)::Tuple{Int64}\n",
      "│    %107 = (Setfield.IndexLens)(%106)::Setfield.IndexLens{Tuple{Int64}}\n",
      "│    %108 = (Setfield.compose)(%107)::Setfield.IndexLens{Tuple{Int64}}\n",
      "│    %109 = (%105)(%108)::AbstractPPL.VarName{:M, Setfield.IndexLens{Tuple{Int64}}}\n",
      "│           (vn#267 = (DynamicPPL.resolve_varnames)(%109, dist#270))::AbstractPPL.VarName{:M, Setfield.IndexLens{Tuple{Int64}}}\n",
      "│    %111 = (DynamicPPL.contextual_isassumption)(__context__, vn#267)::Core.Const(true)\n",
      "└───        goto #22 if not %111\n",
      "16 ─ %113 = (DynamicPPL.inargnames)(vn#267, __model__)::Core.Const(false)\n",
      "│    %114 = !%113::Core.Const(true)\n",
      "└───        goto #18 if not %114\n",
      "17 ─        goto #19\n",
      "18 ─        Core.Const(:((DynamicPPL.inmissings)(vn#267, __model__)))::Union{}\n",
      "└───        Core.Const(:(goto %121 if not %117))::Union{}\n",
      "19 ┄        (@_47 = true)::Core.Const(true)\n",
      "└───        goto #21\n",
      "20 ─        Core.Const(:((Base.maybeview)(M, i@_25)))::Union{}\n",
      "└───        Core.Const(:(@_47 = %121 === Main.missing))::Union{}\n",
      "21 ┄        (@_46 = @_47::Core.Const(true))::Core.Const(true)\n",
      "└───        goto #23\n",
      "22 ─        Core.Const(:(@_46 = false))::Union{}\n",
      "23 ┄        (isassumption#268 = @_46::Core.Const(true))::Core.Const(true)\n",
      "│    %127 = (DynamicPPL.contextual_isfixed)(__context__, vn#267)::Core.Const(false)\n",
      "└───        goto #25 if not %127\n",
      "24 ─        Core.Const(:((DynamicPPL.getfixed_nested)(__context__, vn#267)))::Union{}\n",
      "│           Core.Const(:(Base.setindex!(M, %129, i@_25)))::Union{}\n",
      "└───        Core.Const(:(goto %165))::Union{}\n",
      "25 ┄        goto #27 if not isassumption#268::Core.Const(true)\n",
      "26 ─ %133 = Core.tuple(__context__)::Tuple{DynamicPPL.SamplingContext{DynamicPPL.Sampler{PG{(), AdvancedPS.ResampleWithESSThreshold{typeof(AdvancedPS.resample_systematic), Float64}}}, DynamicPPL.DefaultContext, AdvancedPS.TracedRNG{UInt64, 1, Random123.Philox2x{UInt64, 10}}}}\n",
      "│    %134 = (DynamicPPL.check_tilde_rhs)(dist#270)::Poisson\n",
      "│    %135 = (DynamicPPL.unwrap_right_vn)(%134, vn#267)::Tuple{Poisson, AbstractPPL.VarName{:M, Setfield.IndexLens{Tuple{Int64}}}}\n",
      "│    %136 = Core.tuple(__varinfo__@_41)::Tuple{Any}\n",
      "│    %137 = Core._apply_iterate(Base.iterate, DynamicPPL.tilde_assume!!, %133, %135, %136)::Tuple{Any, Any}\n",
      "│    %138 = Base.indexed_iterate(%137, 1)::Core.PartialStruct(Tuple{Any, Int64}, Any[Any, Core.Const(2)])\n",
      "│           (value#271 = Core.getfield(%138, 1))::Any\n",
      "│           (@_24 = Core.getfield(%138, 2))::Core.Const(2)\n",
      "│    %141 = Base.indexed_iterate(%137, 2, @_24::Core.Const(2))::Core.PartialStruct(Tuple{Any, Int64}, Any[Any, Core.Const(3)])\n",
      "│           (__varinfo__@_41 = Core.getfield(%141, 1))::Any\n",
      "│    %143 = Core.tuple(i@_25)::Tuple{Int64}\n",
      "│    %144 = (Setfield.IndexLens)(%143)::Setfield.IndexLens{Tuple{Int64}}\n",
      "│    %145 = (Setfield.compose)(%144)::Setfield.IndexLens{Tuple{Int64}}\n",
      "│           (lens#272 = (BangBang.SetfieldImpl.prefermutation)(%145))::BangBang.SetfieldImpl.Lens!!{Setfield.IndexLens{Tuple{Int64}}}\n",
      "│           (M = (Setfield.set)(M, lens#272, value#271))::Vector{Any}\n",
      "│           value#271::Any\n",
      "└───        goto #28\n",
      "27 ─        Core.Const(:((DynamicPPL.inargnames)(vn#267, __model__)))::Union{}\n",
      "│           Core.Const(:(!%150))::Union{}\n",
      "│           Core.Const(:(goto %155 if not %151))::Union{}\n",
      "│           Core.Const(:((DynamicPPL.getconditioned_nested)(__context__, vn#267)))::Union{}\n",
      "│           Core.Const(:(Base.setindex!(M, %153, i@_25)))::Union{}\n",
      "│           Core.Const(:((DynamicPPL.check_tilde_rhs)(dist#270)))::Union{}\n",
      "│           Core.Const(:((Base.maybeview)(M, i@_25)))::Union{}\n",
      "│           Core.Const(:(vn#267))::Union{}\n",
      "│           Core.Const(:((DynamicPPL.tilde_observe!!)(__context__, %155, %156, %157, __varinfo__@_41)))::Union{}\n",
      "│           Core.Const(:(Base.indexed_iterate(%158, 1)))::Union{}\n",
      "│           Core.Const(:(value#269 = Core.getfield(%159, 1)))::Union{}\n",
      "│           Core.Const(:(@_23 = Core.getfield(%159, 2)))::Union{}\n",
      "│           Core.Const(:(Base.indexed_iterate(%158, 2, @_23)))::Union{}\n",
      "│           Core.Const(:(__varinfo__@_41 = Core.getfield(%162, 1)))::Union{}\n",
      "└───        Core.Const(:(value#269))::Union{}\n",
      "28 ┄        (@_11 = Base.iterate(%89, %102))::Union{Nothing, Tuple{Int64, Int64}}\n",
      "│    %166 = (@_11 === nothing)::Bool\n",
      "│    %167 = Base.not_int(%166)::Bool\n",
      "└───        goto #30 if not %167\n",
      "29 ─        goto #15\n",
      "30 ┄ %170 = Main.eachindex(m@_42::Vector{Int64})::Base.OneTo{Int64}\n",
      "│           (@_10 = Base.iterate(%170))::Union{Nothing, Tuple{Int64, Int64}}\n",
      "│    %172 = (@_10 === nothing)::Bool\n",
      "│    %173 = Base.not_int(%172)::Bool\n",
      "└───        goto #48 if not %173\n",
      "31 ┄        Core.NewvarNode(:(@_32))::Any\n",
      "│           Core.NewvarNode(:(@_33))::Any\n",
      "│           Core.NewvarNode(:(value#275))::Any\n",
      "│           Core.NewvarNode(:(lens#278))::Any\n",
      "│           Core.NewvarNode(:(value#277))::Any\n",
      "│           Core.NewvarNode(:(isassumption#274))::Any\n",
      "│    %181 = @_10::Tuple{Int64, Int64}\n",
      "│           (i@_40 = Core.getfield(%181, 1))::Int64\n",
      "│    %183 = Core.getfield(%181, 2)::Int64\n",
      "│    %184 = Base.getindex(M, i@_40)::Any\n",
      "│    %185 = Base.getindex(μ@_43, i@_40)::Any\n",
      "│           (dist#276 = Main.Binomial(%184, %185))::Any\n",
      "│    %187 = Core.apply_type(AbstractPPL.VarName, :m)::Core.Const(AbstractPPL.VarName{:m})\n",
      "│    %188 = Core.tuple(i@_40)::Tuple{Int64}\n",
      "│    %189 = (Setfield.IndexLens)(%188)::Setfield.IndexLens{Tuple{Int64}}\n",
      "│    %190 = (Setfield.compose)(%189)::Setfield.IndexLens{Tuple{Int64}}\n",
      "│    %191 = (%187)(%190)::AbstractPPL.VarName{:m, Setfield.IndexLens{Tuple{Int64}}}\n",
      "│           (vn#273 = (DynamicPPL.resolve_varnames)(%191, dist#276))::AbstractPPL.VarName\n",
      "│    %193 = (DynamicPPL.contextual_isassumption)(__context__, vn#273)::Core.Const(true)\n",
      "└───        goto #38 if not %193\n",
      "32 ─ %195 = (DynamicPPL.inargnames)(vn#273, __model__)::Any\n",
      "│    %196 = !%195::Any\n",
      "└───        goto #34 if not %196\n",
      "33 ─        goto #35\n",
      "34 ─ %199 = (DynamicPPL.inmissings)(vn#273, __model__)::Any\n",
      "└───        goto #36 if not %199\n",
      "35 ┄        (@_49 = true)::Core.Const(true)\n",
      "└───        goto #37\n",
      "36 ─ %203 = (Base.maybeview)(m@_42, i@_40)::Any\n",
      "└───        (@_49 = %203 === Main.missing)::Bool\n",
      "37 ┄        (@_48 = @_49)::Bool\n",
      "└───        goto #39\n",
      "38 ─        Core.Const(:(@_48 = false))::Union{}\n",
      "39 ┄        (isassumption#274 = @_48)::Bool\n",
      "│    %209 = (DynamicPPL.contextual_isfixed)(__context__, vn#273)::Core.Const(false)\n",
      "└───        goto #41 if not %209\n",
      "40 ─        Core.Const(:((DynamicPPL.getfixed_nested)(__context__, vn#273)))::Union{}\n",
      "│           Core.Const(:(Base.setindex!(m@_42, %211, i@_40)))::Union{}\n",
      "└───        Core.Const(:(goto %247))::Union{}\n",
      "41 ┄        goto #43 if not isassumption#274\n",
      "42 ─ %215 = Core.tuple(__context__)::Tuple{DynamicPPL.SamplingContext{DynamicPPL.Sampler{PG{(), AdvancedPS.ResampleWithESSThreshold{typeof(AdvancedPS.resample_systematic), Float64}}}, DynamicPPL.DefaultContext, AdvancedPS.TracedRNG{UInt64, 1, Random123.Philox2x{UInt64, 10}}}}\n",
      "│    %216 = (DynamicPPL.check_tilde_rhs)(dist#276)::Any\n",
      "│    %217 = (DynamicPPL.unwrap_right_vn)(%216, vn#273)::Tuple{Any, AbstractPPL.VarName}\n",
      "│    %218 = Core.tuple(__varinfo__@_41)::Tuple{Any}\n",
      "│    %219 = Core._apply_iterate(Base.iterate, DynamicPPL.tilde_assume!!, %215, %217, %218)::Tuple{Any, Any}\n",
      "│    %220 = Base.indexed_iterate(%219, 1)::Core.PartialStruct(Tuple{Any, Int64}, Any[Any, Core.Const(2)])\n",
      "│           (value#277 = Core.getfield(%220, 1))::Any\n",
      "│           (@_33 = Core.getfield(%220, 2))::Core.Const(2)\n",
      "│    %223 = Base.indexed_iterate(%219, 2, @_33::Core.Const(2))::Core.PartialStruct(Tuple{Any, Int64}, Any[Any, Core.Const(3)])\n",
      "│           (__varinfo__@_41 = Core.getfield(%223, 1))::Any\n",
      "│    %225 = Core.tuple(i@_40)::Tuple{Int64}\n",
      "│    %226 = (Setfield.IndexLens)(%225)::Setfield.IndexLens{Tuple{Int64}}\n",
      "│    %227 = (Setfield.compose)(%226)::Setfield.IndexLens{Tuple{Int64}}\n",
      "│           (lens#278 = (BangBang.SetfieldImpl.prefermutation)(%227))::BangBang.SetfieldImpl.Lens!!{Setfield.IndexLens{Tuple{Int64}}}\n",
      "│           (m@_42 = (Setfield.set)(m@_42, lens#278, value#277))::Any\n",
      "│           value#277::Any\n",
      "└───        goto #46\n",
      "43 ─ %232 = (DynamicPPL.inargnames)(vn#273, __model__)::Any\n",
      "│    %233 = !%232::Any\n",
      "└───        goto #45 if not %233\n",
      "44 ─        (DynamicPPL.getconditioned_nested)(__context__, vn#273)::Union{}\n",
      "└───        Core.Const(:(Base.setindex!(m@_42, %235, i@_40)))::Union{}\n",
      "45 ┄ %237 = (DynamicPPL.check_tilde_rhs)(dist#276)::Any\n",
      "│    %238 = (Base.maybeview)(m@_42, i@_40)::Any\n",
      "│    %239 = vn#273::AbstractPPL.VarName\n",
      "│    %240 = (DynamicPPL.tilde_observe!!)(__context__, %237, %238, %239, __varinfo__@_41)::Tuple{Any, Any}\n",
      "│    %241 = Base.indexed_iterate(%240, 1)::Core.PartialStruct(Tuple{Any, Int64}, Any[Any, Core.Const(2)])\n",
      "│           (value#275 = Core.getfield(%241, 1))::Any\n",
      "│           (@_32 = Core.getfield(%241, 2))::Core.Const(2)\n",
      "│    %244 = Base.indexed_iterate(%240, 2, @_32::Core.Const(2))::Core.PartialStruct(Tuple{Any, Int64}, Any[Any, Core.Const(3)])\n",
      "│           (__varinfo__@_41 = Core.getfield(%244, 1))::Any\n",
      "└───        value#275::Any\n",
      "46 ┄        (@_10 = Base.iterate(%170, %183))::Union{Nothing, Tuple{Int64, Int64}}\n",
      "│    %248 = (@_10 === nothing)::Bool\n",
      "│    %249 = Base.not_int(%248)::Bool\n",
      "└───        goto #48 if not %249\n",
      "47 ─        goto #31\n",
      "48 ┄        (retval#279 = m@_42)::Any\n",
      "│    %253 = Core.tuple(retval#279, __varinfo__@_41)::Tuple{Any, Any}\n",
      "└───        return %253\n",
      ")\n",
      "------------------\n",
      "\n",
      "InexactError(:trunc, Int64, 1.893205781989023e19)Union{Ptr{Nothing}, Base.InterpreterIP}[Ptr{Nothing} @0x000000031b7f41b7, Ptr{Nothing} @0x000000031b7f41f3, Ptr{Nothing} @0x000000010300018b, Ptr{Nothing} @0x000000031c91c8df, Ptr{Nothing} @0x000000031c924067, Ptr{Nothing} @0x000000031c92418b, Ptr{Nothing} @0x000000010300018b, Ptr{Nothing} @0x000000010300def3, Ptr{Nothing} @0x000000031b62c113, Ptr{Nothing} @0x000000031b62c30b, Ptr{Nothing} @0x000000010300018b, Ptr{Nothing} @0x000000031c87c1cb, Ptr{Nothing} @0x000000010300018b, Ptr{Nothing} @0x000000010300def3, Ptr{Nothing} @0x000000031c8740fb, Ptr{Nothing} @0x000000010300018b, Ptr{Nothing} @0x000000010300def3, Ptr{Nothing} @0x000000031c86c1eb, Ptr{Nothing} @0x000000031c864187, Ptr{Nothing} @0x000000031c8641e3, Ptr{Nothing} @0x000000010300018b, Ptr{Nothing} @0x000000010301eefb]\n"
     ]
    },
    {
     "ename": "LoadError",
     "evalue": "TaskFailedException\n\n\u001b[91m    nested task error: \u001b[39mTaskFailedException\n    \n    \u001b[91m    nested task error: \u001b[39mInexactError: trunc(Int64, 1.893205781989023e19)\n        Stacktrace:\n          [1] \u001b[0m\u001b[1mconsume\u001b[22m\u001b[0m\u001b[1m(\u001b[22m\u001b[90mttask\u001b[39m::\u001b[0mTapedTask\u001b[90m{typeof(binomial_model), Tuple{DynamicPPL.Model{typeof(binomial_model), (:m, :n, :N, :μ, :Σ), (), (), Tuple{Vector{Int64}, Vector{Int64}, Vector{Int64}, Vector{Float64}, Matrix{Float64}}, Tuple{}, DynamicPPL.DefaultContext}, DynamicPPL.TypedVarInfo{@NamedTuple{γ::DynamicPPL.Metadata{Dict{AbstractPPL.VarName{:γ, Setfield.IdentityLens}, Int64}, Vector{MvLogNormal{Float64, PDMats.PDMat{Float64, Matrix{Float64}}, Vector{Float64}}}, Vector{AbstractPPL.VarName{:γ, Setfield.IdentityLens}}, Vector{Float64}, Vector{Set{DynamicPPL.Selector}}}, M::DynamicPPL.Metadata{Dict{AbstractPPL.VarName{:M, Setfield.IndexLens{Tuple{Int64}}}, Int64}, Vector{Poisson{Float64}}, Vector{AbstractPPL.VarName{:M, Setfield.IndexLens{Tuple{Int64}}}}, Vector{Int64}, Vector{Set{DynamicPPL.Selector}}}}, Float64}, DynamicPPL.SamplingContext{DynamicPPL.Sampler{PG{(), AdvancedPS.ResampleWithESSThreshold{typeof(AdvancedPS.resample_systematic), Float64}}}, DynamicPPL.DefaultContext, AdvancedPS.TracedRNG{UInt64, 1, Random123.Philox2x{UInt64, 10}}}, Vector{Int64}, Vector{Int64}, Vector{Int64}, Vector{Float64}, Matrix{Float64}}}\u001b[39m\u001b[0m\u001b[1m)\u001b[22m\n        \u001b[90m    @\u001b[39m \u001b[32mLibtask\u001b[39m \u001b[90m~/.julia/packages/Libtask/0vMZ5/src/\u001b[39m\u001b[90m\u001b[4mtapedtask.jl:153\u001b[24m\u001b[39m\n          [2] \u001b[0m\u001b[1madvance!\u001b[22m\u001b[0m\u001b[1m(\u001b[22m\u001b[90mtrace\u001b[39m::\u001b[0mAdvancedPS.Trace\u001b[90m{AdvancedPS.LibtaskModel{Turing.Essential.TracedModel{AbstractMCMC.AbstractSampler, DynamicPPL.AbstractVarInfo, DynamicPPL.Model, Tuple}, TapedTask{typeof(binomial_model), Tuple{DynamicPPL.Model{typeof(binomial_model), (:m, :n, :N, :μ, :Σ), (), (), Tuple{Vector{Int64}, Vector{Int64}, Vector{Int64}, Vector{Float64}, Matrix{Float64}}, Tuple{}, DynamicPPL.DefaultContext}, DynamicPPL.TypedVarInfo{@NamedTuple{γ::DynamicPPL.Metadata{Dict{AbstractPPL.VarName{:γ, Setfield.IdentityLens}, Int64}, Vector{MvLogNormal{Float64, PDMats.PDMat{Float64, Matrix{Float64}}, Vector{Float64}}}, Vector{AbstractPPL.VarName{:γ, Setfield.IdentityLens}}, Vector{Float64}, Vector{Set{DynamicPPL.Selector}}}, M::DynamicPPL.Metadata{Dict{AbstractPPL.VarName{:M, Setfield.IndexLens{Tuple{Int64}}}, Int64}, Vector{Poisson{Float64}}, Vector{AbstractPPL.VarName{:M, Setfield.IndexLens{Tuple{Int64}}}}, Vector{Int64}, Vector{Set{DynamicPPL.Selector}}}}, Float64}, DynamicPPL.SamplingContext{DynamicPPL.Sampler{PG{(), AdvancedPS.ResampleWithESSThreshold{typeof(AdvancedPS.resample_systematic), Float64}}}, DynamicPPL.DefaultContext, AdvancedPS.TracedRNG{UInt64, 1, Random123.Philox2x{UInt64, 10}}}, Vector{Int64}, Vector{Int64}, Vector{Int64}, Vector{Float64}, Matrix{Float64}}}}, AdvancedPS.TracedRNG{UInt64, 1, Random123.Philox2x{UInt64, 10}}}\u001b[39m, \u001b[90misref\u001b[39m::\u001b[0mBool\u001b[0m\u001b[1m)\u001b[22m\n        \u001b[90m    @\u001b[39m \u001b[36mTuring.Essential\u001b[39m \u001b[90m~/.julia/packages/Turing/lkUBK/src/essential/\u001b[39m\u001b[90m\u001b[4mcontainer.jl:34\u001b[24m\u001b[39m\n          [3] \u001b[0m\u001b[1mreweight!\u001b[22m\u001b[0m\u001b[1m(\u001b[22m\u001b[90mpc\u001b[39m::\u001b[0mAdvancedPS.ParticleContainer\u001b[90m{AdvancedPS.Trace{AdvancedPS.LibtaskModel{Turing.Essential.TracedModel{AbstractMCMC.AbstractSampler, DynamicPPL.AbstractVarInfo, DynamicPPL.Model, Tuple}, TapedTask{typeof(binomial_model), Tuple{DynamicPPL.Model{typeof(binomial_model), (:m, :n, :N, :μ, :Σ), (), (), Tuple{Vector{Int64}, Vector{Int64}, Vector{Int64}, Vector{Float64}, Matrix{Float64}}, Tuple{}, DynamicPPL.DefaultContext}, DynamicPPL.TypedVarInfo{@NamedTuple{γ::DynamicPPL.Metadata{Dict{AbstractPPL.VarName{:γ, Setfield.IdentityLens}, Int64}, Vector{MvLogNormal{Float64, PDMats.PDMat{Float64, Matrix{Float64}}, Vector{Float64}}}, Vector{AbstractPPL.VarName{:γ, Setfield.IdentityLens}}, Vector{Float64}, Vector{Set{DynamicPPL.Selector}}}, M::DynamicPPL.Metadata{Dict{AbstractPPL.VarName{:M, Setfield.IndexLens{Tuple{Int64}}}, Int64}, Vector{Poisson{Float64}}, Vector{AbstractPPL.VarName{:M, Setfield.IndexLens{Tuple{Int64}}}}, Vector{Int64}, Vector{Set{DynamicPPL.Selector}}}}, Float64}, DynamicPPL.SamplingContext{DynamicPPL.Sampler{PG{(), AdvancedPS.ResampleWithESSThreshold{typeof(AdvancedPS.resample_systematic), Float64}}}, DynamicPPL.DefaultContext, AdvancedPS.TracedRNG{UInt64, 1, Random123.Philox2x{UInt64, 10}}}, Vector{Int64}, Vector{Int64}, Vector{Int64}, Vector{Float64}, Matrix{Float64}}}}, AdvancedPS.TracedRNG{UInt64, 1, Random123.Philox2x{UInt64, 10}}}, AdvancedPS.TracedRNG{UInt64, 1, Random123.Philox2x{UInt64, 10}}}\u001b[39m, \u001b[90mref\u001b[39m::\u001b[0mNothing\u001b[0m\u001b[1m)\u001b[22m\n        \u001b[90m    @\u001b[39m \u001b[33mAdvancedPS\u001b[39m \u001b[90m~/.julia/packages/AdvancedPS/rpMgZ/src/\u001b[39m\u001b[90m\u001b[4mcontainer.jl:272\u001b[24m\u001b[39m\n          [4] \u001b[0m\u001b[1msweep!\u001b[22m\u001b[0m\u001b[1m(\u001b[22m\u001b[90mrng\u001b[39m::\u001b[0mTaskLocalRNG, \u001b[90mpc\u001b[39m::\u001b[0mAdvancedPS.ParticleContainer\u001b[90m{AdvancedPS.Trace{AdvancedPS.LibtaskModel{Turing.Essential.TracedModel{AbstractMCMC.AbstractSampler, DynamicPPL.AbstractVarInfo, DynamicPPL.Model, Tuple}, TapedTask{typeof(binomial_model), Tuple{DynamicPPL.Model{typeof(binomial_model), (:m, :n, :N, :μ, :Σ), (), (), Tuple{Vector{Int64}, Vector{Int64}, Vector{Int64}, Vector{Float64}, Matrix{Float64}}, Tuple{}, DynamicPPL.DefaultContext}, DynamicPPL.TypedVarInfo{@NamedTuple{γ::DynamicPPL.Metadata{Dict{AbstractPPL.VarName{:γ, Setfield.IdentityLens}, Int64}, Vector{MvLogNormal{Float64, PDMats.PDMat{Float64, Matrix{Float64}}, Vector{Float64}}}, Vector{AbstractPPL.VarName{:γ, Setfield.IdentityLens}}, Vector{Float64}, Vector{Set{DynamicPPL.Selector}}}, M::DynamicPPL.Metadata{Dict{AbstractPPL.VarName{:M, Setfield.IndexLens{Tuple{Int64}}}, Int64}, Vector{Poisson{Float64}}, Vector{AbstractPPL.VarName{:M, Setfield.IndexLens{Tuple{Int64}}}}, Vector{Int64}, Vector{Set{DynamicPPL.Selector}}}}, Float64}, DynamicPPL.SamplingContext{DynamicPPL.Sampler{PG{(), AdvancedPS.ResampleWithESSThreshold{typeof(AdvancedPS.resample_systematic), Float64}}}, DynamicPPL.DefaultContext, AdvancedPS.TracedRNG{UInt64, 1, Random123.Philox2x{UInt64, 10}}}, Vector{Int64}, Vector{Int64}, Vector{Int64}, Vector{Float64}, Matrix{Float64}}}}, AdvancedPS.TracedRNG{UInt64, 1, Random123.Philox2x{UInt64, 10}}}, AdvancedPS.TracedRNG{UInt64, 1, Random123.Philox2x{UInt64, 10}}}\u001b[39m, \u001b[90mresampler\u001b[39m::\u001b[0mAdvancedPS.ResampleWithESSThreshold\u001b[90m{typeof(AdvancedPS.resample_systematic), Float64}\u001b[39m, \u001b[90msampler\u001b[39m::\u001b[0mDynamicPPL.Sampler\u001b[90m{PG{(), AdvancedPS.ResampleWithESSThreshold{typeof(AdvancedPS.resample_systematic), Float64}}}\u001b[39m, \u001b[90mref\u001b[39m::\u001b[0mNothing\u001b[0m\u001b[1m)\u001b[22m\n        \u001b[90m    @\u001b[39m \u001b[33mAdvancedPS\u001b[39m \u001b[90m~/.julia/packages/AdvancedPS/rpMgZ/src/\u001b[39m\u001b[90m\u001b[4mcontainer.jl:335\u001b[24m\u001b[39m\n          [5] \u001b[0m\u001b[1msweep!\u001b[22m\u001b[0m\u001b[1m(\u001b[22m\u001b[90mrng\u001b[39m::\u001b[0mTaskLocalRNG, \u001b[90mpc\u001b[39m::\u001b[0mAdvancedPS.ParticleContainer\u001b[90m{AdvancedPS.Trace{AdvancedPS.LibtaskModel{Turing.Essential.TracedModel{AbstractMCMC.AbstractSampler, DynamicPPL.AbstractVarInfo, DynamicPPL.Model, Tuple}, TapedTask{typeof(binomial_model), Tuple{DynamicPPL.Model{typeof(binomial_model), (:m, :n, :N, :μ, :Σ), (), (), Tuple{Vector{Int64}, Vector{Int64}, Vector{Int64}, Vector{Float64}, Matrix{Float64}}, Tuple{}, DynamicPPL.DefaultContext}, DynamicPPL.TypedVarInfo{@NamedTuple{γ::DynamicPPL.Metadata{Dict{AbstractPPL.VarName{:γ, Setfield.IdentityLens}, Int64}, Vector{MvLogNormal{Float64, PDMats.PDMat{Float64, Matrix{Float64}}, Vector{Float64}}}, Vector{AbstractPPL.VarName{:γ, Setfield.IdentityLens}}, Vector{Float64}, Vector{Set{DynamicPPL.Selector}}}, M::DynamicPPL.Metadata{Dict{AbstractPPL.VarName{:M, Setfield.IndexLens{Tuple{Int64}}}, Int64}, Vector{Poisson{Float64}}, Vector{AbstractPPL.VarName{:M, Setfield.IndexLens{Tuple{Int64}}}}, Vector{Int64}, Vector{Set{DynamicPPL.Selector}}}}, Float64}, DynamicPPL.SamplingContext{DynamicPPL.Sampler{PG{(), AdvancedPS.ResampleWithESSThreshold{typeof(AdvancedPS.resample_systematic), Float64}}}, DynamicPPL.DefaultContext, AdvancedPS.TracedRNG{UInt64, 1, Random123.Philox2x{UInt64, 10}}}, Vector{Int64}, Vector{Int64}, Vector{Int64}, Vector{Float64}, Matrix{Float64}}}}, AdvancedPS.TracedRNG{UInt64, 1, Random123.Philox2x{UInt64, 10}}}, AdvancedPS.TracedRNG{UInt64, 1, Random123.Philox2x{UInt64, 10}}}\u001b[39m, \u001b[90mresampler\u001b[39m::\u001b[0mAdvancedPS.ResampleWithESSThreshold\u001b[90m{typeof(AdvancedPS.resample_systematic), Float64}\u001b[39m, \u001b[90msampler\u001b[39m::\u001b[0mDynamicPPL.Sampler\u001b[90m{PG{(), AdvancedPS.ResampleWithESSThreshold{typeof(AdvancedPS.resample_systematic), Float64}}}\u001b[39m\u001b[0m\u001b[1m)\u001b[22m\n        \u001b[90m    @\u001b[39m \u001b[33mAdvancedPS\u001b[39m \u001b[90m~/.julia/packages/AdvancedPS/rpMgZ/src/\u001b[39m\u001b[90m\u001b[4mcontainer.jl:325\u001b[24m\u001b[39m\n          [6] \u001b[0m\u001b[1minitialstep\u001b[22m\u001b[0m\u001b[1m(\u001b[22m\u001b[90mrng\u001b[39m::\u001b[0mTaskLocalRNG, \u001b[90mmodel\u001b[39m::\u001b[0mDynamicPPL.Model\u001b[90m{typeof(binomial_model), (:m, :n, :N, :μ, :Σ), (), (), Tuple{Vector{Int64}, Vector{Int64}, Vector{Int64}, Vector{Float64}, Matrix{Float64}}, Tuple{}, DynamicPPL.DefaultContext}\u001b[39m, \u001b[90mspl\u001b[39m::\u001b[0mDynamicPPL.Sampler\u001b[90m{PG{(), AdvancedPS.ResampleWithESSThreshold{typeof(AdvancedPS.resample_systematic), Float64}}}\u001b[39m, \u001b[90mvi\u001b[39m::\u001b[0mDynamicPPL.TypedVarInfo\u001b[90m{@NamedTuple{γ::DynamicPPL.Metadata{Dict{AbstractPPL.VarName{:γ, Setfield.IdentityLens}, Int64}, Vector{MvLogNormal{Float64, PDMats.PDMat{Float64, Matrix{Float64}}, Vector{Float64}}}, Vector{AbstractPPL.VarName{:γ, Setfield.IdentityLens}}, Vector{Float64}, Vector{Set{DynamicPPL.Selector}}}, M::DynamicPPL.Metadata{Dict{AbstractPPL.VarName{:M, Setfield.IndexLens{Tuple{Int64}}}, Int64}, Vector{Poisson{Float64}}, Vector{AbstractPPL.VarName{:M, Setfield.IndexLens{Tuple{Int64}}}}, Vector{Int64}, Vector{Set{DynamicPPL.Selector}}}}, Float64}\u001b[39m; \u001b[90mkwargs\u001b[39m::\u001b[0m@Kwargs\u001b[90m{initial_params::Nothing}\u001b[39m\u001b[0m\u001b[1m)\u001b[22m\n        \u001b[90m    @\u001b[39m \u001b[36mTuring.Inference\u001b[39m \u001b[90m~/.julia/packages/Turing/lkUBK/src/mcmc/\u001b[39m\u001b[90m\u001b[4mparticle_mcmc.jl:270\u001b[24m\u001b[39m\n          [7] \u001b[0m\u001b[1mstep\u001b[22m\u001b[0m\u001b[1m(\u001b[22m\u001b[90mrng\u001b[39m::\u001b[0mTaskLocalRNG, \u001b[90mmodel\u001b[39m::\u001b[0mDynamicPPL.Model\u001b[90m{typeof(binomial_model), (:m, :n, :N, :μ, :Σ), (), (), Tuple{Vector{Int64}, Vector{Int64}, Vector{Int64}, Vector{Float64}, Matrix{Float64}}, Tuple{}, DynamicPPL.DefaultContext}\u001b[39m, \u001b[90mspl\u001b[39m::\u001b[0mDynamicPPL.Sampler\u001b[90m{PG{(), AdvancedPS.ResampleWithESSThreshold{typeof(AdvancedPS.resample_systematic), Float64}}}\u001b[39m; \u001b[90minitial_params\u001b[39m::\u001b[0mNothing, \u001b[90mkwargs\u001b[39m::\u001b[0m@Kwargs\u001b[90m{}\u001b[39m\u001b[0m\u001b[1m)\u001b[22m\n        \u001b[90m    @\u001b[39m \u001b[35mDynamicPPL\u001b[39m \u001b[90m~/.julia/packages/DynamicPPL/rXg4T/src/\u001b[39m\u001b[90m\u001b[4msampler.jl:116\u001b[24m\u001b[39m\n          [8] \u001b[0m\u001b[1mstep\u001b[22m\n        \u001b[90m    @\u001b[39m \u001b[90m~/.julia/packages/DynamicPPL/rXg4T/src/\u001b[39m\u001b[90m\u001b[4msampler.jl:99\u001b[24m\u001b[39m\u001b[90m [inlined]\u001b[39m\n          [9] \u001b[0m\u001b[1mmacro expansion\u001b[22m\n        \u001b[90m    @\u001b[39m \u001b[90m~/.julia/packages/AbstractMCMC/YrmkI/src/\u001b[39m\u001b[90m\u001b[4msample.jl:130\u001b[24m\u001b[39m\u001b[90m [inlined]\u001b[39m\n         [10] \u001b[0m\u001b[1mmacro expansion\u001b[22m\n        \u001b[90m    @\u001b[39m \u001b[90m~/.julia/packages/AbstractMCMC/YrmkI/src/\u001b[39m\u001b[90m\u001b[4mlogging.jl:16\u001b[24m\u001b[39m\u001b[90m [inlined]\u001b[39m\n         [11] \u001b[0m\u001b[1mmcmcsample\u001b[22m\u001b[0m\u001b[1m(\u001b[22m\u001b[90mrng\u001b[39m::\u001b[0mTaskLocalRNG, \u001b[90mmodel\u001b[39m::\u001b[0mDynamicPPL.Model\u001b[90m{typeof(binomial_model), (:m, :n, :N, :μ, :Σ), (), (), Tuple{Vector{Int64}, Vector{Int64}, Vector{Int64}, Vector{Float64}, Matrix{Float64}}, Tuple{}, DynamicPPL.DefaultContext}\u001b[39m, \u001b[90msampler\u001b[39m::\u001b[0mDynamicPPL.Sampler\u001b[90m{PG{(), AdvancedPS.ResampleWithESSThreshold{typeof(AdvancedPS.resample_systematic), Float64}}}\u001b[39m, \u001b[90mN\u001b[39m::\u001b[0mInt64; \u001b[90mprogress\u001b[39m::\u001b[0mBool, \u001b[90mprogressname\u001b[39m::\u001b[0mString, \u001b[90mcallback\u001b[39m::\u001b[0mNothing, \u001b[90mdiscard_initial\u001b[39m::\u001b[0mInt64, \u001b[90mthinning\u001b[39m::\u001b[0mInt64, \u001b[90mchain_type\u001b[39m::\u001b[0mType, \u001b[90minitial_state\u001b[39m::\u001b[0mNothing, \u001b[90mkwargs\u001b[39m::\u001b[0m@Kwargs\u001b[90m{initial_params::Nothing}\u001b[39m\u001b[0m\u001b[1m)\u001b[22m\n        \u001b[90m    @\u001b[39m \u001b[35mAbstractMCMC\u001b[39m \u001b[90m~/.julia/packages/AbstractMCMC/YrmkI/src/\u001b[39m\u001b[90m\u001b[4msample.jl:120\u001b[24m\u001b[39m\n         [12] \u001b[0m\u001b[1mmcmcsample\u001b[22m\n        \u001b[90m    @\u001b[39m \u001b[90m~/.julia/packages/AbstractMCMC/YrmkI/src/\u001b[39m\u001b[90m\u001b[4msample.jl:98\u001b[24m\u001b[39m\u001b[90m [inlined]\u001b[39m\n         [13] \u001b[0m\u001b[1m#sample#61\u001b[22m\n        \u001b[90m    @\u001b[39m \u001b[90m~/.julia/packages/DynamicPPL/rXg4T/src/\u001b[39m\u001b[90m\u001b[4msampler.jl:93\u001b[24m\u001b[39m\u001b[90m [inlined]\u001b[39m\n         [14] \u001b[0m\u001b[1msample\u001b[22m\n        \u001b[90m    @\u001b[39m \u001b[90m~/.julia/packages/DynamicPPL/rXg4T/src/\u001b[39m\u001b[90m\u001b[4msampler.jl:83\u001b[24m\u001b[39m\u001b[90m [inlined]\u001b[39m\n         [15] \u001b[0m\u001b[1m(::AbstractMCMC.var\"#37#50\"{DynamicPPL.Sampler{PG{(), AdvancedPS.ResampleWithESSThreshold{typeof(AdvancedPS.resample_systematic), Float64}}}, DynamicPPL.Model{typeof(binomial_model), (:m, :n, :N, :μ, :Σ), (), (), Tuple{Vector{Int64}, Vector{Int64}, Vector{Int64}, Vector{Float64}, Matrix{Float64}}, Tuple{}, DynamicPPL.DefaultContext}, TaskLocalRNG, UnitRange{Int64}, Bool, Nothing, Nothing, @Kwargs{chain_type::UnionAll}, Int64, Vector{Any}, Vector{UInt64}})\u001b[22m\u001b[0m\u001b[1m(\u001b[22m\u001b[0m\u001b[1m)\u001b[22m\n        \u001b[90m    @\u001b[39m \u001b[35mAbstractMCMC\u001b[39m \u001b[90m~/.julia/packages/AbstractMCMC/YrmkI/src/\u001b[39m\u001b[90m\u001b[4msample.jl:390\u001b[24m\u001b[39m\n    Stacktrace:\n     [1] \u001b[0m\u001b[1msync_end\u001b[22m\u001b[0m\u001b[1m(\u001b[22m\u001b[90mc\u001b[39m::\u001b[0mChannel\u001b[90m{Any}\u001b[39m\u001b[0m\u001b[1m)\u001b[22m\n    \u001b[90m   @\u001b[39m \u001b[90mBase\u001b[39m \u001b[90m./\u001b[39m\u001b[90m\u001b[4mtask.jl:448\u001b[24m\u001b[39m\n     [2] \u001b[0m\u001b[1mmacro expansion\u001b[22m\n    \u001b[90m   @\u001b[39m \u001b[90m./\u001b[39m\u001b[90m\u001b[4mtask.jl:480\u001b[24m\u001b[39m\u001b[90m [inlined]\u001b[39m\n     [3] \u001b[0m\u001b[1m(::AbstractMCMC.var\"#36#49\"{Bool, Nothing, Nothing, @Kwargs{chain_type::UnionAll}, Int64, Int64, Vector{Any}, Vector{UInt64}, Vector{DynamicPPL.Sampler{PG{(), AdvancedPS.ResampleWithESSThreshold{typeof(AdvancedPS.resample_systematic), Float64}}}}, Vector{DynamicPPL.Model{typeof(binomial_model), (:m, :n, :N, :μ, :Σ), (), (), Tuple{Vector{Int64}, Vector{Int64}, Vector{Int64}, Vector{Float64}, Matrix{Float64}}, Tuple{}, DynamicPPL.DefaultContext}}, Vector{TaskLocalRNG}, Int64, Int64})\u001b[22m\u001b[0m\u001b[1m(\u001b[22m\u001b[0m\u001b[1m)\u001b[22m\n    \u001b[90m   @\u001b[39m \u001b[35mAbstractMCMC\u001b[39m \u001b[90m~/.julia/packages/AbstractMCMC/YrmkI/src/\u001b[39m\u001b[90m\u001b[4msample.jl:364\u001b[24m\u001b[39m",
     "output_type": "error",
     "traceback": [
      "TaskFailedException\n\n\u001b[91m    nested task error: \u001b[39mTaskFailedException\n    \n    \u001b[91m    nested task error: \u001b[39mInexactError: trunc(Int64, 1.893205781989023e19)\n        Stacktrace:\n          [1] \u001b[0m\u001b[1mconsume\u001b[22m\u001b[0m\u001b[1m(\u001b[22m\u001b[90mttask\u001b[39m::\u001b[0mTapedTask\u001b[90m{typeof(binomial_model), Tuple{DynamicPPL.Model{typeof(binomial_model), (:m, :n, :N, :μ, :Σ), (), (), Tuple{Vector{Int64}, Vector{Int64}, Vector{Int64}, Vector{Float64}, Matrix{Float64}}, Tuple{}, DynamicPPL.DefaultContext}, DynamicPPL.TypedVarInfo{@NamedTuple{γ::DynamicPPL.Metadata{Dict{AbstractPPL.VarName{:γ, Setfield.IdentityLens}, Int64}, Vector{MvLogNormal{Float64, PDMats.PDMat{Float64, Matrix{Float64}}, Vector{Float64}}}, Vector{AbstractPPL.VarName{:γ, Setfield.IdentityLens}}, Vector{Float64}, Vector{Set{DynamicPPL.Selector}}}, M::DynamicPPL.Metadata{Dict{AbstractPPL.VarName{:M, Setfield.IndexLens{Tuple{Int64}}}, Int64}, Vector{Poisson{Float64}}, Vector{AbstractPPL.VarName{:M, Setfield.IndexLens{Tuple{Int64}}}}, Vector{Int64}, Vector{Set{DynamicPPL.Selector}}}}, Float64}, DynamicPPL.SamplingContext{DynamicPPL.Sampler{PG{(), AdvancedPS.ResampleWithESSThreshold{typeof(AdvancedPS.resample_systematic), Float64}}}, DynamicPPL.DefaultContext, AdvancedPS.TracedRNG{UInt64, 1, Random123.Philox2x{UInt64, 10}}}, Vector{Int64}, Vector{Int64}, Vector{Int64}, Vector{Float64}, Matrix{Float64}}}\u001b[39m\u001b[0m\u001b[1m)\u001b[22m\n        \u001b[90m    @\u001b[39m \u001b[32mLibtask\u001b[39m \u001b[90m~/.julia/packages/Libtask/0vMZ5/src/\u001b[39m\u001b[90m\u001b[4mtapedtask.jl:153\u001b[24m\u001b[39m\n          [2] \u001b[0m\u001b[1madvance!\u001b[22m\u001b[0m\u001b[1m(\u001b[22m\u001b[90mtrace\u001b[39m::\u001b[0mAdvancedPS.Trace\u001b[90m{AdvancedPS.LibtaskModel{Turing.Essential.TracedModel{AbstractMCMC.AbstractSampler, DynamicPPL.AbstractVarInfo, DynamicPPL.Model, Tuple}, TapedTask{typeof(binomial_model), Tuple{DynamicPPL.Model{typeof(binomial_model), (:m, :n, :N, :μ, :Σ), (), (), Tuple{Vector{Int64}, Vector{Int64}, Vector{Int64}, Vector{Float64}, Matrix{Float64}}, Tuple{}, DynamicPPL.DefaultContext}, DynamicPPL.TypedVarInfo{@NamedTuple{γ::DynamicPPL.Metadata{Dict{AbstractPPL.VarName{:γ, Setfield.IdentityLens}, Int64}, Vector{MvLogNormal{Float64, PDMats.PDMat{Float64, Matrix{Float64}}, Vector{Float64}}}, Vector{AbstractPPL.VarName{:γ, Setfield.IdentityLens}}, Vector{Float64}, Vector{Set{DynamicPPL.Selector}}}, M::DynamicPPL.Metadata{Dict{AbstractPPL.VarName{:M, Setfield.IndexLens{Tuple{Int64}}}, Int64}, Vector{Poisson{Float64}}, Vector{AbstractPPL.VarName{:M, Setfield.IndexLens{Tuple{Int64}}}}, Vector{Int64}, Vector{Set{DynamicPPL.Selector}}}}, Float64}, DynamicPPL.SamplingContext{DynamicPPL.Sampler{PG{(), AdvancedPS.ResampleWithESSThreshold{typeof(AdvancedPS.resample_systematic), Float64}}}, DynamicPPL.DefaultContext, AdvancedPS.TracedRNG{UInt64, 1, Random123.Philox2x{UInt64, 10}}}, Vector{Int64}, Vector{Int64}, Vector{Int64}, Vector{Float64}, Matrix{Float64}}}}, AdvancedPS.TracedRNG{UInt64, 1, Random123.Philox2x{UInt64, 10}}}\u001b[39m, \u001b[90misref\u001b[39m::\u001b[0mBool\u001b[0m\u001b[1m)\u001b[22m\n        \u001b[90m    @\u001b[39m \u001b[36mTuring.Essential\u001b[39m \u001b[90m~/.julia/packages/Turing/lkUBK/src/essential/\u001b[39m\u001b[90m\u001b[4mcontainer.jl:34\u001b[24m\u001b[39m\n          [3] \u001b[0m\u001b[1mreweight!\u001b[22m\u001b[0m\u001b[1m(\u001b[22m\u001b[90mpc\u001b[39m::\u001b[0mAdvancedPS.ParticleContainer\u001b[90m{AdvancedPS.Trace{AdvancedPS.LibtaskModel{Turing.Essential.TracedModel{AbstractMCMC.AbstractSampler, DynamicPPL.AbstractVarInfo, DynamicPPL.Model, Tuple}, TapedTask{typeof(binomial_model), Tuple{DynamicPPL.Model{typeof(binomial_model), (:m, :n, :N, :μ, :Σ), (), (), Tuple{Vector{Int64}, Vector{Int64}, Vector{Int64}, Vector{Float64}, Matrix{Float64}}, Tuple{}, DynamicPPL.DefaultContext}, DynamicPPL.TypedVarInfo{@NamedTuple{γ::DynamicPPL.Metadata{Dict{AbstractPPL.VarName{:γ, Setfield.IdentityLens}, Int64}, Vector{MvLogNormal{Float64, PDMats.PDMat{Float64, Matrix{Float64}}, Vector{Float64}}}, Vector{AbstractPPL.VarName{:γ, Setfield.IdentityLens}}, Vector{Float64}, Vector{Set{DynamicPPL.Selector}}}, M::DynamicPPL.Metadata{Dict{AbstractPPL.VarName{:M, Setfield.IndexLens{Tuple{Int64}}}, Int64}, Vector{Poisson{Float64}}, Vector{AbstractPPL.VarName{:M, Setfield.IndexLens{Tuple{Int64}}}}, Vector{Int64}, Vector{Set{DynamicPPL.Selector}}}}, Float64}, DynamicPPL.SamplingContext{DynamicPPL.Sampler{PG{(), AdvancedPS.ResampleWithESSThreshold{typeof(AdvancedPS.resample_systematic), Float64}}}, DynamicPPL.DefaultContext, AdvancedPS.TracedRNG{UInt64, 1, Random123.Philox2x{UInt64, 10}}}, Vector{Int64}, Vector{Int64}, Vector{Int64}, Vector{Float64}, Matrix{Float64}}}}, AdvancedPS.TracedRNG{UInt64, 1, Random123.Philox2x{UInt64, 10}}}, AdvancedPS.TracedRNG{UInt64, 1, Random123.Philox2x{UInt64, 10}}}\u001b[39m, \u001b[90mref\u001b[39m::\u001b[0mNothing\u001b[0m\u001b[1m)\u001b[22m\n        \u001b[90m    @\u001b[39m \u001b[33mAdvancedPS\u001b[39m \u001b[90m~/.julia/packages/AdvancedPS/rpMgZ/src/\u001b[39m\u001b[90m\u001b[4mcontainer.jl:272\u001b[24m\u001b[39m\n          [4] \u001b[0m\u001b[1msweep!\u001b[22m\u001b[0m\u001b[1m(\u001b[22m\u001b[90mrng\u001b[39m::\u001b[0mTaskLocalRNG, \u001b[90mpc\u001b[39m::\u001b[0mAdvancedPS.ParticleContainer\u001b[90m{AdvancedPS.Trace{AdvancedPS.LibtaskModel{Turing.Essential.TracedModel{AbstractMCMC.AbstractSampler, DynamicPPL.AbstractVarInfo, DynamicPPL.Model, Tuple}, TapedTask{typeof(binomial_model), Tuple{DynamicPPL.Model{typeof(binomial_model), (:m, :n, :N, :μ, :Σ), (), (), Tuple{Vector{Int64}, Vector{Int64}, Vector{Int64}, Vector{Float64}, Matrix{Float64}}, Tuple{}, DynamicPPL.DefaultContext}, DynamicPPL.TypedVarInfo{@NamedTuple{γ::DynamicPPL.Metadata{Dict{AbstractPPL.VarName{:γ, Setfield.IdentityLens}, Int64}, Vector{MvLogNormal{Float64, PDMats.PDMat{Float64, Matrix{Float64}}, Vector{Float64}}}, Vector{AbstractPPL.VarName{:γ, Setfield.IdentityLens}}, Vector{Float64}, Vector{Set{DynamicPPL.Selector}}}, M::DynamicPPL.Metadata{Dict{AbstractPPL.VarName{:M, Setfield.IndexLens{Tuple{Int64}}}, Int64}, Vector{Poisson{Float64}}, Vector{AbstractPPL.VarName{:M, Setfield.IndexLens{Tuple{Int64}}}}, Vector{Int64}, Vector{Set{DynamicPPL.Selector}}}}, Float64}, DynamicPPL.SamplingContext{DynamicPPL.Sampler{PG{(), AdvancedPS.ResampleWithESSThreshold{typeof(AdvancedPS.resample_systematic), Float64}}}, DynamicPPL.DefaultContext, AdvancedPS.TracedRNG{UInt64, 1, Random123.Philox2x{UInt64, 10}}}, Vector{Int64}, Vector{Int64}, Vector{Int64}, Vector{Float64}, Matrix{Float64}}}}, AdvancedPS.TracedRNG{UInt64, 1, Random123.Philox2x{UInt64, 10}}}, AdvancedPS.TracedRNG{UInt64, 1, Random123.Philox2x{UInt64, 10}}}\u001b[39m, \u001b[90mresampler\u001b[39m::\u001b[0mAdvancedPS.ResampleWithESSThreshold\u001b[90m{typeof(AdvancedPS.resample_systematic), Float64}\u001b[39m, \u001b[90msampler\u001b[39m::\u001b[0mDynamicPPL.Sampler\u001b[90m{PG{(), AdvancedPS.ResampleWithESSThreshold{typeof(AdvancedPS.resample_systematic), Float64}}}\u001b[39m, \u001b[90mref\u001b[39m::\u001b[0mNothing\u001b[0m\u001b[1m)\u001b[22m\n        \u001b[90m    @\u001b[39m \u001b[33mAdvancedPS\u001b[39m \u001b[90m~/.julia/packages/AdvancedPS/rpMgZ/src/\u001b[39m\u001b[90m\u001b[4mcontainer.jl:335\u001b[24m\u001b[39m\n          [5] \u001b[0m\u001b[1msweep!\u001b[22m\u001b[0m\u001b[1m(\u001b[22m\u001b[90mrng\u001b[39m::\u001b[0mTaskLocalRNG, \u001b[90mpc\u001b[39m::\u001b[0mAdvancedPS.ParticleContainer\u001b[90m{AdvancedPS.Trace{AdvancedPS.LibtaskModel{Turing.Essential.TracedModel{AbstractMCMC.AbstractSampler, DynamicPPL.AbstractVarInfo, DynamicPPL.Model, Tuple}, TapedTask{typeof(binomial_model), Tuple{DynamicPPL.Model{typeof(binomial_model), (:m, :n, :N, :μ, :Σ), (), (), Tuple{Vector{Int64}, Vector{Int64}, Vector{Int64}, Vector{Float64}, Matrix{Float64}}, Tuple{}, DynamicPPL.DefaultContext}, DynamicPPL.TypedVarInfo{@NamedTuple{γ::DynamicPPL.Metadata{Dict{AbstractPPL.VarName{:γ, Setfield.IdentityLens}, Int64}, Vector{MvLogNormal{Float64, PDMats.PDMat{Float64, Matrix{Float64}}, Vector{Float64}}}, Vector{AbstractPPL.VarName{:γ, Setfield.IdentityLens}}, Vector{Float64}, Vector{Set{DynamicPPL.Selector}}}, M::DynamicPPL.Metadata{Dict{AbstractPPL.VarName{:M, Setfield.IndexLens{Tuple{Int64}}}, Int64}, Vector{Poisson{Float64}}, Vector{AbstractPPL.VarName{:M, Setfield.IndexLens{Tuple{Int64}}}}, Vector{Int64}, Vector{Set{DynamicPPL.Selector}}}}, Float64}, DynamicPPL.SamplingContext{DynamicPPL.Sampler{PG{(), AdvancedPS.ResampleWithESSThreshold{typeof(AdvancedPS.resample_systematic), Float64}}}, DynamicPPL.DefaultContext, AdvancedPS.TracedRNG{UInt64, 1, Random123.Philox2x{UInt64, 10}}}, Vector{Int64}, Vector{Int64}, Vector{Int64}, Vector{Float64}, Matrix{Float64}}}}, AdvancedPS.TracedRNG{UInt64, 1, Random123.Philox2x{UInt64, 10}}}, AdvancedPS.TracedRNG{UInt64, 1, Random123.Philox2x{UInt64, 10}}}\u001b[39m, \u001b[90mresampler\u001b[39m::\u001b[0mAdvancedPS.ResampleWithESSThreshold\u001b[90m{typeof(AdvancedPS.resample_systematic), Float64}\u001b[39m, \u001b[90msampler\u001b[39m::\u001b[0mDynamicPPL.Sampler\u001b[90m{PG{(), AdvancedPS.ResampleWithESSThreshold{typeof(AdvancedPS.resample_systematic), Float64}}}\u001b[39m\u001b[0m\u001b[1m)\u001b[22m\n        \u001b[90m    @\u001b[39m \u001b[33mAdvancedPS\u001b[39m \u001b[90m~/.julia/packages/AdvancedPS/rpMgZ/src/\u001b[39m\u001b[90m\u001b[4mcontainer.jl:325\u001b[24m\u001b[39m\n          [6] \u001b[0m\u001b[1minitialstep\u001b[22m\u001b[0m\u001b[1m(\u001b[22m\u001b[90mrng\u001b[39m::\u001b[0mTaskLocalRNG, \u001b[90mmodel\u001b[39m::\u001b[0mDynamicPPL.Model\u001b[90m{typeof(binomial_model), (:m, :n, :N, :μ, :Σ), (), (), Tuple{Vector{Int64}, Vector{Int64}, Vector{Int64}, Vector{Float64}, Matrix{Float64}}, Tuple{}, DynamicPPL.DefaultContext}\u001b[39m, \u001b[90mspl\u001b[39m::\u001b[0mDynamicPPL.Sampler\u001b[90m{PG{(), AdvancedPS.ResampleWithESSThreshold{typeof(AdvancedPS.resample_systematic), Float64}}}\u001b[39m, \u001b[90mvi\u001b[39m::\u001b[0mDynamicPPL.TypedVarInfo\u001b[90m{@NamedTuple{γ::DynamicPPL.Metadata{Dict{AbstractPPL.VarName{:γ, Setfield.IdentityLens}, Int64}, Vector{MvLogNormal{Float64, PDMats.PDMat{Float64, Matrix{Float64}}, Vector{Float64}}}, Vector{AbstractPPL.VarName{:γ, Setfield.IdentityLens}}, Vector{Float64}, Vector{Set{DynamicPPL.Selector}}}, M::DynamicPPL.Metadata{Dict{AbstractPPL.VarName{:M, Setfield.IndexLens{Tuple{Int64}}}, Int64}, Vector{Poisson{Float64}}, Vector{AbstractPPL.VarName{:M, Setfield.IndexLens{Tuple{Int64}}}}, Vector{Int64}, Vector{Set{DynamicPPL.Selector}}}}, Float64}\u001b[39m; \u001b[90mkwargs\u001b[39m::\u001b[0m@Kwargs\u001b[90m{initial_params::Nothing}\u001b[39m\u001b[0m\u001b[1m)\u001b[22m\n        \u001b[90m    @\u001b[39m \u001b[36mTuring.Inference\u001b[39m \u001b[90m~/.julia/packages/Turing/lkUBK/src/mcmc/\u001b[39m\u001b[90m\u001b[4mparticle_mcmc.jl:270\u001b[24m\u001b[39m\n          [7] \u001b[0m\u001b[1mstep\u001b[22m\u001b[0m\u001b[1m(\u001b[22m\u001b[90mrng\u001b[39m::\u001b[0mTaskLocalRNG, \u001b[90mmodel\u001b[39m::\u001b[0mDynamicPPL.Model\u001b[90m{typeof(binomial_model), (:m, :n, :N, :μ, :Σ), (), (), Tuple{Vector{Int64}, Vector{Int64}, Vector{Int64}, Vector{Float64}, Matrix{Float64}}, Tuple{}, DynamicPPL.DefaultContext}\u001b[39m, \u001b[90mspl\u001b[39m::\u001b[0mDynamicPPL.Sampler\u001b[90m{PG{(), AdvancedPS.ResampleWithESSThreshold{typeof(AdvancedPS.resample_systematic), Float64}}}\u001b[39m; \u001b[90minitial_params\u001b[39m::\u001b[0mNothing, \u001b[90mkwargs\u001b[39m::\u001b[0m@Kwargs\u001b[90m{}\u001b[39m\u001b[0m\u001b[1m)\u001b[22m\n        \u001b[90m    @\u001b[39m \u001b[35mDynamicPPL\u001b[39m \u001b[90m~/.julia/packages/DynamicPPL/rXg4T/src/\u001b[39m\u001b[90m\u001b[4msampler.jl:116\u001b[24m\u001b[39m\n          [8] \u001b[0m\u001b[1mstep\u001b[22m\n        \u001b[90m    @\u001b[39m \u001b[90m~/.julia/packages/DynamicPPL/rXg4T/src/\u001b[39m\u001b[90m\u001b[4msampler.jl:99\u001b[24m\u001b[39m\u001b[90m [inlined]\u001b[39m\n          [9] \u001b[0m\u001b[1mmacro expansion\u001b[22m\n        \u001b[90m    @\u001b[39m \u001b[90m~/.julia/packages/AbstractMCMC/YrmkI/src/\u001b[39m\u001b[90m\u001b[4msample.jl:130\u001b[24m\u001b[39m\u001b[90m [inlined]\u001b[39m\n         [10] \u001b[0m\u001b[1mmacro expansion\u001b[22m\n        \u001b[90m    @\u001b[39m \u001b[90m~/.julia/packages/AbstractMCMC/YrmkI/src/\u001b[39m\u001b[90m\u001b[4mlogging.jl:16\u001b[24m\u001b[39m\u001b[90m [inlined]\u001b[39m\n         [11] \u001b[0m\u001b[1mmcmcsample\u001b[22m\u001b[0m\u001b[1m(\u001b[22m\u001b[90mrng\u001b[39m::\u001b[0mTaskLocalRNG, \u001b[90mmodel\u001b[39m::\u001b[0mDynamicPPL.Model\u001b[90m{typeof(binomial_model), (:m, :n, :N, :μ, :Σ), (), (), Tuple{Vector{Int64}, Vector{Int64}, Vector{Int64}, Vector{Float64}, Matrix{Float64}}, Tuple{}, DynamicPPL.DefaultContext}\u001b[39m, \u001b[90msampler\u001b[39m::\u001b[0mDynamicPPL.Sampler\u001b[90m{PG{(), AdvancedPS.ResampleWithESSThreshold{typeof(AdvancedPS.resample_systematic), Float64}}}\u001b[39m, \u001b[90mN\u001b[39m::\u001b[0mInt64; \u001b[90mprogress\u001b[39m::\u001b[0mBool, \u001b[90mprogressname\u001b[39m::\u001b[0mString, \u001b[90mcallback\u001b[39m::\u001b[0mNothing, \u001b[90mdiscard_initial\u001b[39m::\u001b[0mInt64, \u001b[90mthinning\u001b[39m::\u001b[0mInt64, \u001b[90mchain_type\u001b[39m::\u001b[0mType, \u001b[90minitial_state\u001b[39m::\u001b[0mNothing, \u001b[90mkwargs\u001b[39m::\u001b[0m@Kwargs\u001b[90m{initial_params::Nothing}\u001b[39m\u001b[0m\u001b[1m)\u001b[22m\n        \u001b[90m    @\u001b[39m \u001b[35mAbstractMCMC\u001b[39m \u001b[90m~/.julia/packages/AbstractMCMC/YrmkI/src/\u001b[39m\u001b[90m\u001b[4msample.jl:120\u001b[24m\u001b[39m\n         [12] \u001b[0m\u001b[1mmcmcsample\u001b[22m\n        \u001b[90m    @\u001b[39m \u001b[90m~/.julia/packages/AbstractMCMC/YrmkI/src/\u001b[39m\u001b[90m\u001b[4msample.jl:98\u001b[24m\u001b[39m\u001b[90m [inlined]\u001b[39m\n         [13] \u001b[0m\u001b[1m#sample#61\u001b[22m\n        \u001b[90m    @\u001b[39m \u001b[90m~/.julia/packages/DynamicPPL/rXg4T/src/\u001b[39m\u001b[90m\u001b[4msampler.jl:93\u001b[24m\u001b[39m\u001b[90m [inlined]\u001b[39m\n         [14] \u001b[0m\u001b[1msample\u001b[22m\n        \u001b[90m    @\u001b[39m \u001b[90m~/.julia/packages/DynamicPPL/rXg4T/src/\u001b[39m\u001b[90m\u001b[4msampler.jl:83\u001b[24m\u001b[39m\u001b[90m [inlined]\u001b[39m\n         [15] \u001b[0m\u001b[1m(::AbstractMCMC.var\"#37#50\"{DynamicPPL.Sampler{PG{(), AdvancedPS.ResampleWithESSThreshold{typeof(AdvancedPS.resample_systematic), Float64}}}, DynamicPPL.Model{typeof(binomial_model), (:m, :n, :N, :μ, :Σ), (), (), Tuple{Vector{Int64}, Vector{Int64}, Vector{Int64}, Vector{Float64}, Matrix{Float64}}, Tuple{}, DynamicPPL.DefaultContext}, TaskLocalRNG, UnitRange{Int64}, Bool, Nothing, Nothing, @Kwargs{chain_type::UnionAll}, Int64, Vector{Any}, Vector{UInt64}})\u001b[22m\u001b[0m\u001b[1m(\u001b[22m\u001b[0m\u001b[1m)\u001b[22m\n        \u001b[90m    @\u001b[39m \u001b[35mAbstractMCMC\u001b[39m \u001b[90m~/.julia/packages/AbstractMCMC/YrmkI/src/\u001b[39m\u001b[90m\u001b[4msample.jl:390\u001b[24m\u001b[39m\n    Stacktrace:\n     [1] \u001b[0m\u001b[1msync_end\u001b[22m\u001b[0m\u001b[1m(\u001b[22m\u001b[90mc\u001b[39m::\u001b[0mChannel\u001b[90m{Any}\u001b[39m\u001b[0m\u001b[1m)\u001b[22m\n    \u001b[90m   @\u001b[39m \u001b[90mBase\u001b[39m \u001b[90m./\u001b[39m\u001b[90m\u001b[4mtask.jl:448\u001b[24m\u001b[39m\n     [2] \u001b[0m\u001b[1mmacro expansion\u001b[22m\n    \u001b[90m   @\u001b[39m \u001b[90m./\u001b[39m\u001b[90m\u001b[4mtask.jl:480\u001b[24m\u001b[39m\u001b[90m [inlined]\u001b[39m\n     [3] \u001b[0m\u001b[1m(::AbstractMCMC.var\"#36#49\"{Bool, Nothing, Nothing, @Kwargs{chain_type::UnionAll}, Int64, Int64, Vector{Any}, Vector{UInt64}, Vector{DynamicPPL.Sampler{PG{(), AdvancedPS.ResampleWithESSThreshold{typeof(AdvancedPS.resample_systematic), Float64}}}}, Vector{DynamicPPL.Model{typeof(binomial_model), (:m, :n, :N, :μ, :Σ), (), (), Tuple{Vector{Int64}, Vector{Int64}, Vector{Int64}, Vector{Float64}, Matrix{Float64}}, Tuple{}, DynamicPPL.DefaultContext}}, Vector{TaskLocalRNG}, Int64, Int64})\u001b[22m\u001b[0m\u001b[1m(\u001b[22m\u001b[0m\u001b[1m)\u001b[22m\n    \u001b[90m   @\u001b[39m \u001b[35mAbstractMCMC\u001b[39m \u001b[90m~/.julia/packages/AbstractMCMC/YrmkI/src/\u001b[39m\u001b[90m\u001b[4msample.jl:364\u001b[24m\u001b[39m",
      "",
      "Stacktrace:",
      "  [1] sync_end(c::Channel{Any})",
      "    @ Base ./task.jl:448",
      "  [2] macro expansion",
      "    @ ./task.jl:480 [inlined]",
      "  [3] macro expansion",
      "    @ ~/.julia/packages/AbstractMCMC/YrmkI/src/sample.jl:342 [inlined]",
      "  [4] macro expansion",
      "    @ ~/.julia/packages/ProgressLogging/6KXlp/src/ProgressLogging.jl:328 [inlined]",
      "  [5] (::AbstractMCMC.var\"#34#47\"{Bool, String, Nothing, Nothing, @Kwargs{chain_type::UnionAll}, Int64, Int64, Vector{Any}, Vector{UInt64}, Vector{DynamicPPL.Sampler{PG{(), AdvancedPS.ResampleWithESSThreshold{typeof(AdvancedPS.resample_systematic), Float64}}}}, Vector{DynamicPPL.Model{typeof(binomial_model), (:m, :n, :N, :μ, :Σ), (), (), Tuple{Vector{Int64}, Vector{Int64}, Vector{Int64}, Vector{Float64}, Matrix{Float64}}, Tuple{}, DynamicPPL.DefaultContext}}, Vector{TaskLocalRNG}, UnitRange{Int64}, Int64, Int64})()",
      "    @ AbstractMCMC ~/.julia/packages/AbstractMCMC/YrmkI/src/logging.jl:12",
      "  [6] with_logstate(f::Function, logstate::Any)",
      "    @ Base.CoreLogging ./logging.jl:515",
      "  [7] with_logger",
      "    @ ./logging.jl:627 [inlined]",
      "  [8] with_progresslogger(f::Function, _module::Module, logger::Logging.ConsoleLogger)",
      "    @ AbstractMCMC ~/.julia/packages/AbstractMCMC/YrmkI/src/logging.jl:36",
      "  [9] macro expansion",
      "    @ ~/.julia/packages/AbstractMCMC/YrmkI/src/logging.jl:11 [inlined]",
      " [10] mcmcsample(rng::TaskLocalRNG, model::DynamicPPL.Model{typeof(binomial_model), (:m, :n, :N, :μ, :Σ), (), (), Tuple{Vector{Int64}, Vector{Int64}, Vector{Int64}, Vector{Float64}, Matrix{Float64}}, Tuple{}, DynamicPPL.DefaultContext}, sampler::DynamicPPL.Sampler{PG{(), AdvancedPS.ResampleWithESSThreshold{typeof(AdvancedPS.resample_systematic), Float64}}}, ::MCMCThreads, N::Int64, nchains::Int64; progress::Bool, progressname::String, initial_params::Nothing, initial_state::Nothing, kwargs::@Kwargs{chain_type::UnionAll})",
      "    @ AbstractMCMC ~/.julia/packages/AbstractMCMC/YrmkI/src/sample.jl:336",
      " [11] sample(rng::TaskLocalRNG, model::DynamicPPL.Model{typeof(binomial_model), (:m, :n, :N, :μ, :Σ), (), (), Tuple{Vector{Int64}, Vector{Int64}, Vector{Int64}, Vector{Float64}, Matrix{Float64}}, Tuple{}, DynamicPPL.DefaultContext}, sampler::DynamicPPL.Sampler{PG{(), AdvancedPS.ResampleWithESSThreshold{typeof(AdvancedPS.resample_systematic), Float64}}}, ensemble::MCMCThreads, N::Int64, n_chains::Int64; chain_type::Type, progress::Bool, kwargs::@Kwargs{})",
      "    @ Turing.Inference ~/.julia/packages/Turing/lkUBK/src/mcmc/Inference.jl:258",
      " [12] sample",
      "    @ ~/.julia/packages/Turing/lkUBK/src/mcmc/Inference.jl:247 [inlined]",
      " [13] #sample#5",
      "    @ ~/.julia/packages/Turing/lkUBK/src/mcmc/Inference.jl:243 [inlined]",
      " [14] sample",
      "    @ ~/.julia/packages/Turing/lkUBK/src/mcmc/Inference.jl:234 [inlined]",
      " [15] #sample#4",
      "    @ ~/.julia/packages/Turing/lkUBK/src/mcmc/Inference.jl:230 [inlined]",
      " [16] sample(model::DynamicPPL.Model{typeof(binomial_model), (:m, :n, :N, :μ, :Σ), (), (), Tuple{Vector{Int64}, Vector{Int64}, Vector{Int64}, Vector{Float64}, Matrix{Float64}}, Tuple{}, DynamicPPL.DefaultContext}, alg::PG{(), AdvancedPS.ResampleWithESSThreshold{typeof(AdvancedPS.resample_systematic), Float64}}, ensemble::MCMCThreads, N::Int64, n_chains::Int64)",
      "    @ Turing.Inference ~/.julia/packages/Turing/lkUBK/src/mcmc/Inference.jl:222",
      " [17] top-level scope",
      "    @ In[23]:1"
     ]
    }
   ],
   "source": [
    "chains_1 = sample(\n",
    "    binomial_model_log_nor(m, n, N, μ, Σ), \n",
    "    Gibbs(PG(100, :M), HMC(0.00001, 1000, :γ)), \n",
    "    500, MCMCThreads(), initial_parametrs = reduce(vcat, [M, μ]), 4\n",
    ")"
   ]
  },
  {
   "cell_type": "code",
   "execution_count": null,
   "id": "2e74abcf",
   "metadata": {},
   "outputs": [],
   "source": [
    "prog = Progress(nsims, \"Simulation progress ...\")\n",
    "res = Vector{Any}(missing, nsims)\n",
    "μ = [1.5, 3.4]\n",
    "Σ = .2 * [1 -.6; -.6 1]\n",
    "nsims = 100\n",
    "\n",
    "Threads.@threads for k in 1:nsims\n",
    "    α, β = rand(MvNormal(μ, Σ))\n",
    "\n",
    "    N = rand.(N_distr, Q)\n",
    "    M = reduce(vcat, rand.(M_distr(N, α), 1))\n",
    "    n = reduce(vcat, rand.(Binomial.(N, .2), 1))\n",
    "\n",
    "    p = (N .^ α) .* ((n ./ N) .^ β)\n",
    "    p = 1 ./ (1 .+ exp.(-p))\n",
    "\n",
    "    #u = reduce(vcat, rand.(u_distr.(n, N), 1))\n",
    "    u = 1.0\n",
    "    m = reduce(vcat, rand.(Binomial.(M, p * u), 1))\n",
    "\n",
    "    df1 = DataFrame(\n",
    "        y = m,\n",
    "        x1 = log.(N),\n",
    "        x2 = log.(n ./ N)\n",
    "    )\n",
    "\n",
    "    mm = glm(@formula(y ~ x1 + x2 + 0), df1, Poisson(), LogLink())\n",
    "    α̂₁, β̂₁ = coef(mm)\n",
    "\n",
    "    ols = lm(@formula(log(y) ~ x1 + x2 + 0), df1)\n",
    "    α̂₂, β̂₂ = coef(ols)\n",
    "\n",
    "    est = sample(binomial_model(m, n, N, μ, Σ), PG(100), 500)\n",
    "    α̂₃, β̂₃ = describe(est)[1][1:2, :mean]\n",
    "    M̂ = describe(est)[1][3:end, :mean]\n",
    "\n",
    "    μ̂_prior = [α̂₁, β̂₁]\n",
    "    Σ̂_prior = vcov(mm)\n",
    "\n",
    "    est_2 = sample(binomial_model(m, n, N, μ̂_prior, Σ̂_prior), PG(100), 500)\n",
    "    α̂₄, β̂₄ = describe(est_2)[1][1:2, :mean]\n",
    "    M̂_2 = describe(est_2)[1][3:end, :mean]\n",
    "\n",
    "    res[k] = [\n",
    "        sum(M); sum(N .^ α); sum(N .^ α̂₁); sum(N .^ α̂₂); sum(N .^ α̂₃);\n",
    "        sum([mean(N[x] .^ est[:, 1, :]) for x in 1:Q]); sum(M̂); \n",
    "        sum(N .^ α̂₄); sum([mean(N[x] .^ est_2[:, 1, :]) for x in 1:Q]);\n",
    "        sum(M̂_2)\n",
    "    ]\n",
    "    #push!(res, [sum(M) sum(N .^ α) sum(N .^ α̂₁) sum(N .^ α̂₂)])\n",
    "    next!(prog)\n",
    "end # end for\n",
    "\n",
    "df_res = DataFrame(mapreduce(permutedims, vcat, res), \n",
    "    [\"actual\", \"expected\", \"glm_est\", \"ols_est\", \"expected_est\" , \"expected_est_better\", \n",
    "        \"actual_est\", \"expected_est_bad_prior\" , \"expected_est_better_bad_prior\", \"actual_est_bad_prior\"])\n",
    "\n",
    "describe(df_res)"
   ]
  },
  {
   "cell_type": "markdown",
   "id": "864d7168",
   "metadata": {},
   "source": [
    "## Gamma prior"
   ]
  },
  {
   "cell_type": "code",
   "execution_count": 3,
   "id": "93ab1840",
   "metadata": {},
   "outputs": [
    {
     "data": {
      "text/plain": [
       "binomial_model_gamma (generic function with 2 methods)"
      ]
     },
     "execution_count": 3,
     "metadata": {},
     "output_type": "execute_result"
    }
   ],
   "source": [
    "@model function binomial_model_gamma(m, n, N, Σ, a, b)\n",
    "    C  = GaussianCopula(Σ)\n",
    "    d₁ = Gamma(a[1], b[1])\n",
    "    d₂ = Gamma(a[2], b[2])\n",
    "\n",
    "    γ ~ SklarDist(C, (d₁, d₂))\n",
    "    #Turing.Turing.@addlogprob! loglikelihood(D, X)\n",
    "    ξ = N .^ γ[1]\n",
    "    μ = ξ .* ((n ./ N) .^ γ[2])\n",
    "    μ = 1 ./ (1 .+ 1 ./ μ)\n",
    "    M = Vector(undef, length(m))\n",
    "    \n",
    "    for i in eachindex(M)\n",
    "        M[i] ~ Poisson(ξ[i])\n",
    "    end\n",
    "\n",
    "    for i in eachindex(m)\n",
    "        m[i] ~ Binomial(M[i], μ[i])\n",
    "    end\n",
    "    return m\n",
    "end"
   ]
  },
  {
   "cell_type": "code",
   "execution_count": 4,
   "id": "bedeb58e",
   "metadata": {},
   "outputs": [
    {
     "name": "stdout",
     "output_type": "stream",
     "text": [
      "[1.1689754889148265, 1.6108858946058267]\n"
     ]
    },
    {
     "data": {
      "text/plain": [
       "20×5 Matrix{Float64}:\n",
       " 199.0  242.0  13.0  101.0  0.890159\n",
       " 759.0  786.0  40.0  292.0  0.968743\n",
       " 293.0  324.0  17.0  148.0  0.913383\n",
       " 221.0  268.0   8.0  117.0  0.776483\n",
       "  52.0   87.0   3.0   42.0  0.529472\n",
       " 395.0  437.0  18.0  189.0  0.91211\n",
       " 465.0  510.0  18.0  215.0  0.907436\n",
       " 564.0  611.0  20.0  233.0  0.918108\n",
       " 174.0  212.0   9.0   98.0  0.819555\n",
       " 351.0  400.0  14.0  165.0  0.880255\n",
       " 241.0  286.0   9.0  125.0  0.803102\n",
       " 325.0  376.0  13.0  156.0  0.869921\n",
       "  10.0   88.0   1.0   42.0  0.160877\n",
       " 155.0  219.0   7.0   98.0  0.751848\n",
       " 413.0  430.0  24.0  192.0  0.942467\n",
       " 117.0  148.0   7.0   75.0  0.77324\n",
       " 741.0  772.0  36.0  307.0  0.96238\n",
       "  39.0   78.0   3.0   42.0  0.529472\n",
       " 313.0  357.0  13.0  164.0  0.867399\n",
       " 366.0  393.0  21.0  157.0  0.935231"
      ]
     },
     "execution_count": 4,
     "metadata": {},
     "output_type": "execute_result"
    }
   ],
   "source": [
    "a = [24.0, 13.5]\n",
    "b = [1 / 25.0, 1 / 10.5]\n",
    "Σ = [1 .5; .5 1]\n",
    "\n",
    "C = GaussianCopula(Σ)\n",
    "d = SklarDist(C, (Gamma(a[1], b[1]), Gamma(a[2], b[2])))\n",
    "\n",
    "α, β = rand(d)\n",
    "\n",
    "Q = 20\n",
    "\n",
    "N_distr = Poisson.(rand(DiscreteUniform(20, 300), Q))\n",
    "M_distr = (N, α) -> Poisson.(N .^ α)\n",
    "u_distr = (n, N) -> Beta(n, N - n)\n",
    "#u_distr = (M, μ) -> Gamma(ϕ, 1 / ϕ)\n",
    "\n",
    "N = reduce(vcat, rand.(N_distr, 1))\n",
    "M = reduce(vcat, rand.(M_distr(N, α), 1))\n",
    "n = reduce(vcat, rand.(Binomial.(N, .1), 1))\n",
    "\n",
    "p = (N .^ α) .* ((n ./ N) .^ β)\n",
    "#p = 1 ./ (1 .+ exp.(-p))\n",
    "p = 1 ./ (1 .+ 1 ./ p)\n",
    "u = 1\n",
    "\n",
    "m = reduce(vcat, rand.(Binomial.(M, p * u), 1))\n",
    "\n",
    "println([α, β])\n",
    "\n",
    "[m M n N p]"
   ]
  },
  {
   "cell_type": "code",
   "execution_count": 5,
   "id": "d256166f",
   "metadata": {},
   "outputs": [
    {
     "name": "stderr",
     "output_type": "stream",
     "text": [
      "\u001b[32mSampling (4 threads): 100%|█████████████████████████████| Time: 0:02:02\u001b[39m\n"
     ]
    },
    {
     "data": {
      "text/plain": [
       "Chains MCMC chain (1500×24×4 Array{Float64, 3}):\n",
       "\n",
       "Iterations        = 1:1:1500\n",
       "Number of chains  = 4\n",
       "Samples per chain = 1500\n",
       "Wall duration     = 296.36 seconds\n",
       "Compute duration  = 817.04 seconds\n",
       "parameters        = γ[1], γ[2], M[1], M[2], M[3], M[4], M[5], M[6], M[7], M[8], M[9], M[10], M[11], M[12], M[13], M[14], M[15], M[16], M[17], M[18], M[19], M[20]\n",
       "internals         = lp, logevidence\n",
       "\n",
       "Summary Statistics\n",
       " \u001b[1m parameters \u001b[0m \u001b[1m     mean \u001b[0m \u001b[1m     std \u001b[0m \u001b[1m    mcse \u001b[0m \u001b[1m ess_bulk \u001b[0m \u001b[1m ess_tail \u001b[0m \u001b[1m    rhat \u001b[0m \u001b[1m \u001b[0m ⋯\n",
       " \u001b[90m     Symbol \u001b[0m \u001b[90m  Float64 \u001b[0m \u001b[90m Float64 \u001b[0m \u001b[90m Float64 \u001b[0m \u001b[90m  Float64 \u001b[0m \u001b[90m  Float64 \u001b[0m \u001b[90m Float64 \u001b[0m \u001b[90m \u001b[0m ⋯\n",
       "\n",
       "        γ[1]     1.1748    0.0046    0.0010    22.3652    27.9967    1.6929    ⋯\n",
       "        γ[2]     1.7031    0.0736    0.0144    20.8981    35.9394    1.5109    ⋯\n",
       "        M[1]   231.2730    7.8151    2.0038    15.7069        NaN    1.7941    ⋯\n",
       "        M[2]   792.3297   13.1069    3.0574    16.0581    16.2396    1.8106    ⋯\n",
       "        M[3]   345.9452   21.3263    5.1736    16.5932    14.8062    1.5848    ⋯\n",
       "        M[4]   272.1848   12.1329    1.8664    33.1003    26.8527    1.4105    ⋯\n",
       "        M[5]    79.8202   10.3378    2.6272    14.7809    13.4063    2.0854    ⋯\n",
       "        M[6]   463.7835   18.2837    4.2716    18.3014    13.9310    1.5918    ⋯\n",
       "        M[7]   542.6993   23.8064    4.5175    31.3059    30.8835    1.9543    ⋯\n",
       "        M[8]   624.3885   26.0866    6.7384    16.5314    15.0833    1.7117    ⋯\n",
       "        M[9]   212.6592   17.4203    3.8459    19.9396    13.2303    1.5912    ⋯\n",
       "       M[10]   408.9028   21.7940    5.7157    14.8767    13.2122    3.1325    ⋯\n",
       "       M[11]   300.3652   12.9993    3.1897    17.6325    26.7298    1.5273    ⋯\n",
       "       M[12]   376.9745   18.8763    5.0102    14.2832    21.4593    2.2027    ⋯\n",
       "       M[13]    83.2330    5.4520    1.3864    15.7521    13.7955    1.8371    ⋯\n",
       "       M[14]   208.0163   15.3468    3.9034    16.6425    13.3767    1.8026    ⋯\n",
       "       M[15]   469.0375   19.8810    4.8415    17.3163    14.5714    1.5048    ⋯\n",
       "       M[16]   158.6178    6.7559    1.3590    25.4472    25.4209    1.4574    ⋯\n",
       "       M[17]   810.0917   29.7786    7.4936    15.0545    13.2185    1.9528    ⋯\n",
       "       M[18]    76.6383   10.8217    2.6479    20.2495    13.3767    2.1533    ⋯\n",
       "       M[19]   393.1510   17.0229    3.3941    24.6443    31.8628    1.5146    ⋯\n",
       "       M[20]   392.3370    9.9442    1.8579    24.5038    28.5097    1.3631    ⋯\n",
       "\u001b[36m                                                                1 column omitted\u001b[0m\n",
       "\n",
       "Quantiles\n",
       " \u001b[1m parameters \u001b[0m \u001b[1m     2.5% \u001b[0m \u001b[1m    25.0% \u001b[0m \u001b[1m    50.0% \u001b[0m \u001b[1m    75.0% \u001b[0m \u001b[1m    97.5% \u001b[0m\n",
       " \u001b[90m     Symbol \u001b[0m \u001b[90m  Float64 \u001b[0m \u001b[90m  Float64 \u001b[0m \u001b[90m  Float64 \u001b[0m \u001b[90m  Float64 \u001b[0m \u001b[90m  Float64 \u001b[0m\n",
       "\n",
       "        γ[1]     1.1668     1.1721     1.1732     1.1765     1.1846\n",
       "        γ[2]     1.4572     1.6852     1.6879     1.7155     1.8668\n",
       "        M[1]   222.0000   223.0000   231.0000   234.0000   247.0000\n",
       "        M[2]   777.0000   783.0000   785.0000   807.0000   808.0000\n",
       "        M[3]   316.0000   324.0000   343.0000   358.0000   391.0000\n",
       "        M[4]   245.0000   266.0000   270.0000   280.0000   304.0000\n",
       "        M[5]    69.0000    71.0000    73.0000    90.0000   102.0000\n",
       "        M[6]   425.0000   451.0000   469.0000   479.0000   496.0000\n",
       "        M[7]   501.0000   535.0000   538.0000   556.0000   588.0000\n",
       "        M[8]   586.0000   609.0000   627.0000   653.0000   654.0000\n",
       "        M[9]   189.0000   204.0000   208.0000   229.0000   244.0000\n",
       "       M[10]   372.0000   394.7500   402.0000   429.0000   441.0000\n",
       "       M[11]   271.0000   293.0000   303.0000   310.0000   321.0000\n",
       "       M[12]   335.0000   364.0000   376.0000   393.0000   423.0000\n",
       "       M[13]    76.0000    79.0000    83.0000    87.0000    91.0000\n",
       "       M[14]   183.0000   197.0000   206.0000   219.0000   228.0000\n",
       "       M[15]   437.0000   458.0000   472.0000   483.0000   508.0000\n",
       "       M[16]   146.0000   153.0000   158.0000   164.0000   170.0000\n",
       "       M[17]   756.0000   791.0000   805.0000   832.0000   872.0000\n",
       "       M[18]    58.0000    72.0000    80.0000    84.0000    98.0000\n",
       "       M[19]   358.0000   382.0000   386.0000   401.0000   454.0000\n",
       "       M[20]   372.0000   386.0000   394.0000   399.0000   406.0000\n"
      ]
     },
     "execution_count": 5,
     "metadata": {},
     "output_type": "execute_result"
    }
   ],
   "source": [
    "test_1 = sample(\n",
    "    binomial_model_gamma(m, n, N, Σ, a, b), \n",
    "    #Gibbs(PG(100, :M), HMC(0.00001, 1000, :γ)), \n",
    "    PG(50), \n",
    "    MCMCThreads(),\n",
    "    1500,\n",
    "    4\n",
    ")"
   ]
  },
  {
   "cell_type": "code",
   "execution_count": 6,
   "id": "83c6ecfb",
   "metadata": {
    "scrolled": true
   },
   "outputs": [
    {
     "data": {
      "text/plain": [
       "(1.3630617885421306, 3.1325345454150413)"
      ]
     },
     "execution_count": 6,
     "metadata": {},
     "output_type": "execute_result"
    }
   ],
   "source": [
    "minimum(describe(test_1)[1][:,:rhat]), maximum(describe(test_1)[1][:,:rhat])"
   ]
  },
  {
   "cell_type": "code",
   "execution_count": 7,
   "id": "1b93aed4",
   "metadata": {},
   "outputs": [
    {
     "data": {
      "text/plain": [
       "2-element Vector{LinearAlgebra.Adjoint{Float64, Vector{Float64}}}:\n",
       " [1.6929109314353759 1.510930318205592 … 1.5146245695825467 1.3630617885421306]\n",
       " [1.1748142589473187 1.7031221172461446 … 393.151 392.337]"
      ]
     },
     "execution_count": 7,
     "metadata": {},
     "output_type": "execute_result"
    }
   ],
   "source": [
    "[describe(test_1)[1][:,:rhat]', describe(test_1)[1][:,:mean]']"
   ]
  },
  {
   "cell_type": "code",
   "execution_count": 8,
   "id": "72ad4ec4-9aba-49f7-9be0-576eba80f405",
   "metadata": {},
   "outputs": [
    {
     "data": {
      "text/plain": [
       "StatsModels.TableRegressionModel{LinearModel{GLM.LmResp{Vector{Float64}}, GLM.DensePredChol{Float64, LinearAlgebra.CholeskyPivoted{Float64, Matrix{Float64}, Vector{Int64}}}}, Matrix{Float64}}\n",
       "\n",
       ":(log(y)) ~ 0 + x1 + x2\n",
       "\n",
       "Coefficients:\n",
       "──────────────────────────────────────────────────────────────\n",
       "      Coef.  Std. Error      t  Pr(>|t|)  Lower 95%  Upper 95%\n",
       "──────────────────────────────────────────────────────────────\n",
       "x1  1.45553   0.0423466  34.37    <1e-17   1.36656    1.54449\n",
       "x2  0.68288   0.0835333   8.17    <1e-06   0.507383   0.858377\n",
       "──────────────────────────────────────────────────────────────"
      ]
     },
     "execution_count": 8,
     "metadata": {},
     "output_type": "execute_result"
    }
   ],
   "source": [
    "df1 = DataFrame(\n",
    "        y = m,\n",
    "        x1 = log.(N),\n",
    "        x2 = log.(n ./ N)\n",
    "    )\n",
    "\n",
    "mm = glm(@formula(y ~ x1 + x2 + 0), df1, Poisson(), LogLink())\n",
    "ols = lm(@formula(log(y) ~ x1 + x2 + 0), df1)"
   ]
  },
  {
   "cell_type": "code",
   "execution_count": 9,
   "id": "daf42e12-dbe3-4061-92d2-894a6fd56c9f",
   "metadata": {},
   "outputs": [
    {
     "data": {
      "text/plain": [
       "2-element Vector{Float64}:\n",
       " 7791.758492282519\n",
       "   87.06786930417682"
      ]
     },
     "execution_count": 9,
     "metadata": {},
     "output_type": "execute_result"
    }
   ],
   "source": [
    "    Σ̂_prior = vcov(mm)\n",
    "    b_prior = [coef(mm)[1] / Σ̂_prior[1, 1], coef(mm)[2] / Σ̂_prior[2, 2]] .^ -1\n",
    "    a_prior = coef(mm) ./ b_prior"
   ]
  },
  {
   "cell_type": "code",
   "execution_count": 10,
   "id": "3030dcfd-2108-4bf5-9370-02af77779e53",
   "metadata": {},
   "outputs": [
    {
     "name": "stderr",
     "output_type": "stream",
     "text": [
      "\u001b[32mSampling (4 threads): 100%|█████████████████████████████| Time: 0:01:57\u001b[39m\n"
     ]
    },
    {
     "data": {
      "text/plain": [
       "Chains MCMC chain (1500×24×4 Array{Float64, 3}):\n",
       "\n",
       "Iterations        = 1:1:1500\n",
       "Number of chains  = 4\n",
       "Samples per chain = 1500\n",
       "Wall duration     = 288.82 seconds\n",
       "Compute duration  = 805.37 seconds\n",
       "parameters        = γ[1], γ[2], M[1], M[2], M[3], M[4], M[5], M[6], M[7], M[8], M[9], M[10], M[11], M[12], M[13], M[14], M[15], M[16], M[17], M[18], M[19], M[20]\n",
       "internals         = lp, logevidence\n",
       "\n",
       "Summary Statistics\n",
       " \u001b[1m parameters \u001b[0m \u001b[1m      mean \u001b[0m \u001b[1m     std \u001b[0m \u001b[1m    mcse \u001b[0m \u001b[1m ess_bulk \u001b[0m \u001b[1m ess_tail \u001b[0m \u001b[1m    rhat \u001b[0m \u001b[1m\u001b[0m ⋯\n",
       " \u001b[90m     Symbol \u001b[0m \u001b[90m   Float64 \u001b[0m \u001b[90m Float64 \u001b[0m \u001b[90m Float64 \u001b[0m \u001b[90m  Float64 \u001b[0m \u001b[90m  Float64 \u001b[0m \u001b[90m Float64 \u001b[0m \u001b[90m\u001b[0m ⋯\n",
       "\n",
       "        γ[1]      1.2267    0.0049    0.0011    16.6461    14.9420    1.5428   ⋯\n",
       "        γ[2]      0.1959    0.0093    0.0018    20.3585    22.1738    1.3606   ⋯\n",
       "        M[1]    270.1220    9.5962    2.3149    16.5856    19.1966    1.5628   ⋯\n",
       "        M[2]   1062.1675   27.8343    6.0233    18.8074    17.1570    1.4337   ⋯\n",
       "        M[3]    453.4428   15.4553    3.3358    18.6905    16.2273    1.3221   ⋯\n",
       "        M[4]    345.4688   15.7518    4.1500    14.6083    15.7044    1.9164   ⋯\n",
       "        M[5]    104.4723   10.1589    2.4143    18.3207    19.1387    1.9288   ⋯\n",
       "        M[6]    612.5523   19.2762    4.5002    17.2952    14.9420    1.4703   ⋯\n",
       "        M[7]    713.9773   29.0766    7.0316    15.6703    16.4257    1.6312   ⋯\n",
       "        M[8]    782.5280   28.6250    6.0817    16.3288    13.7178    1.6359   ⋯\n",
       "        M[9]    273.6232   13.6090    3.6046    13.8657    16.4257    2.1609   ⋯\n",
       "       M[10]    531.6895   32.3458    8.3621    15.1969    16.2273    1.7595   ⋯\n",
       "       M[11]    376.2258   13.8498    3.2759    15.8726    16.6684    1.6502   ⋯\n",
       "       M[12]    485.5452   15.5810    3.2744    16.7446    17.1570    1.5588   ⋯\n",
       "       M[13]     96.3808    7.4808    1.8859    15.6468    16.2273    1.6234   ⋯\n",
       "       M[14]    279.3667   14.8453    3.9490    15.3245    17.6006    2.0850   ⋯\n",
       "       M[15]    634.9697   30.9742    8.0278    14.6108    16.2273    1.8315   ⋯\n",
       "       M[16]    196.0007   10.4326    2.4529    18.1601    14.2710    1.4824   ⋯\n",
       "       M[17]   1122.6613   42.2348    9.7488    16.7800    14.9420    1.5431   ⋯\n",
       "       M[18]    102.4872   10.6757    2.8252    15.0824    14.2710    1.8485   ⋯\n",
       "       M[19]    530.4902   27.6467    6.7727    16.8878    14.9420    1.5026   ⋯\n",
       "       M[20]    504.0923   30.1964    8.0411    14.7676    14.9420    2.9075   ⋯\n",
       "\u001b[36m                                                                1 column omitted\u001b[0m\n",
       "\n",
       "Quantiles\n",
       " \u001b[1m parameters \u001b[0m \u001b[1m      2.5% \u001b[0m \u001b[1m     25.0% \u001b[0m \u001b[1m     50.0% \u001b[0m \u001b[1m     75.0% \u001b[0m \u001b[1m     97.5% \u001b[0m\n",
       " \u001b[90m     Symbol \u001b[0m \u001b[90m   Float64 \u001b[0m \u001b[90m   Float64 \u001b[0m \u001b[90m   Float64 \u001b[0m \u001b[90m   Float64 \u001b[0m \u001b[90m   Float64 \u001b[0m\n",
       "\n",
       "        γ[1]      1.2212      1.2232      1.2239      1.2301      1.2345\n",
       "        γ[2]      0.1850      0.1912      0.1943      0.2001      0.2148\n",
       "        M[1]    258.0000    264.0000    266.0000    278.0000    292.0000\n",
       "        M[2]   1026.0000   1034.0000   1065.0000   1071.0000   1100.0000\n",
       "        M[3]    422.0000    450.0000    450.0000    452.0000    485.0000\n",
       "        M[4]    315.0000    342.0000    354.0000    355.0000    377.0000\n",
       "        M[5]     92.0000     94.0000    107.0000    109.0000    118.0000\n",
       "        M[6]    587.0000    595.0000    615.0000    626.0000    652.0000\n",
       "        M[7]    672.0000    697.0000    721.0000    731.0000    787.0000\n",
       "        M[8]    755.0000    763.0000    780.0000    794.0000    858.0000\n",
       "        M[9]    256.0000    266.0000    266.0000    289.0000    292.0000\n",
       "       M[10]    448.0000    514.0000    533.0000    566.0000    575.0000\n",
       "       M[11]    345.0000    364.0000    378.0000    385.0000    389.0000\n",
       "       M[12]    473.0000    478.0000    482.0000    483.0000    528.0000\n",
       "       M[13]     81.0000     89.0000     96.0000    103.0000    108.0000\n",
       "       M[14]    259.0000    266.0000    272.0000    299.0000    301.0000\n",
       "       M[15]    584.0000    604.0000    644.0000    657.0000    700.0000\n",
       "       M[16]    180.0000    188.0000    199.0000    207.0000    211.0000\n",
       "       M[17]   1056.0000   1103.0000   1121.0000   1154.0000   1216.0000\n",
       "       M[18]     82.0000     99.0000    105.0000    106.0000    118.0000\n",
       "       M[19]    473.0000    523.0000    536.0000    543.0000    564.0000\n",
       "       M[20]    459.0000    479.0000    493.0000    520.0000    551.0000\n"
      ]
     },
     "execution_count": 10,
     "metadata": {},
     "output_type": "execute_result"
    }
   ],
   "source": [
    "test_2 = sample(\n",
    "    binomial_model_gamma(m, n, N, Σ̂_prior, a_prior, b_prior), \n",
    "    #Gibbs(PG(100, :M), HMC(0.00001, 1000, :γ)), \n",
    "    PG(50), \n",
    "    MCMCThreads(),\n",
    "    1500,\n",
    "    4\n",
    ")"
   ]
  },
  {
   "cell_type": "code",
   "execution_count": 11,
   "id": "3d946a2b-7450-4b60-8d93-f712f6a31c4d",
   "metadata": {},
   "outputs": [
    {
     "data": {
      "text/plain": [
       "(1.3220828357620587, 2.9075242925412974)"
      ]
     },
     "execution_count": 11,
     "metadata": {},
     "output_type": "execute_result"
    }
   ],
   "source": [
    "minimum(describe(test_2)[1][:,:rhat]), maximum(describe(test_2)[1][:,:rhat])"
   ]
  },
  {
   "cell_type": "code",
   "execution_count": 12,
   "id": "550d44eb-62cb-4ec6-a136-56f627004c12",
   "metadata": {},
   "outputs": [
    {
     "data": {
      "text/plain": [
       "2-element Vector{LinearAlgebra.Adjoint{Float64, Vector{Float64}}}:\n",
       " [1.5427720755349703 1.360560871828682 … 1.5025631374199826 2.9075242925412974]\n",
       " [1.2267000289076415 0.19588102486744965 … 530.4901666666667 504.09233333333333]"
      ]
     },
     "execution_count": 12,
     "metadata": {},
     "output_type": "execute_result"
    }
   ],
   "source": [
    "[describe(test_2)[1][:,:rhat]', describe(test_2)[1][:,:mean]']"
   ]
  },
  {
   "cell_type": "code",
   "execution_count": 13,
   "id": "b58f9569",
   "metadata": {},
   "outputs": [
    {
     "data": {
      "text/plain": [
       "8-element Vector{Any}:\n",
       " 1.1689754889148265\n",
       " 1.6108858946058267\n",
       "  [220.2939437646305 762.030096370328 … 388.2381153979856 368.937558801142]\n",
       "  [242, 786, 324, 268, 87, 437, 510, 611, 212, 400, 286, 376, 88, 219, 430, 148, 772, 78, 357, 393]\n",
       "  [231.273, 792.3296666666666, 345.9451666666667, 272.18483333333336, 79.82016666666667, 463.7835, 542.6993333333334, 624.3885, 212.65916666666666, 408.9028333333333, 300.36516666666665, 376.9745, 83.233, 208.01633333333334, 469.0375, 158.61783333333332, 810.0916666666667, 76.63833333333334, 393.151, 392.337]\n",
       "  [270.122, 1062.1675, 453.44283333333334, 345.46883333333335, 104.47233333333334, 612.5523333333333, 713.9773333333334, 782.528, 273.6231666666667, 531.6895, 376.22583333333336, 485.54516666666666, 96.38083333333333, 279.3666666666667, 634.9696666666666, 196.00066666666666, 1122.6613333333332, 102.48716666666667, 530.4901666666667, 504.09233333333333]\n",
       "  [368.19712199270793 1433.3933212685752 … 684.8679197488841 647.668930645026]\n",
       "  [826.6915331628251 3876.4200407133503 … 1674.035233916997 1571.0529042440294]"
      ]
     },
     "execution_count": 13,
     "metadata": {},
     "output_type": "execute_result"
    }
   ],
   "source": [
    "[α, β, (N .^ α)', M, \n",
    " describe(test_1[1:end,:,:])[1][3:end, :mean],\n",
    " describe(test_2[1:end,:,:])[1][3:end, :mean],\n",
    " (N .^ coef(mm)[1])', (N .^ coef(ols)[1])']"
   ]
  },
  {
   "cell_type": "code",
   "execution_count": 14,
   "id": "aac310fb-7e92-4213-8658-259e271ced81",
   "metadata": {},
   "outputs": [
    {
     "data": {
      "text/html": [
       "<div><div style = \"float: left;\"><span>4×7 DataFrame</span></div><div style = \"clear: both;\"></div></div><div class = \"data-frame\" style = \"overflow-x: scroll;\"><table class = \"data-frame\" style = \"margin-bottom: 6px;\"><thead><tr class = \"header\"><th class = \"rowNumber\" style = \"font-weight: bold; text-align: right;\">Row</th><th style = \"text-align: left;\">variable</th><th style = \"text-align: left;\">mean</th><th style = \"text-align: left;\">min</th><th style = \"text-align: left;\">median</th><th style = \"text-align: left;\">max</th><th style = \"text-align: left;\">nmissing</th><th style = \"text-align: left;\">eltype</th></tr><tr class = \"subheader headerLastRow\"><th class = \"rowNumber\" style = \"font-weight: bold; text-align: right;\"></th><th title = \"Symbol\" style = \"text-align: left;\">Symbol</th><th title = \"Float64\" style = \"text-align: left;\">Float64</th><th title = \"Float64\" style = \"text-align: left;\">Float64</th><th title = \"Float64\" style = \"text-align: left;\">Float64</th><th title = \"Float64\" style = \"text-align: left;\">Float64</th><th title = \"Int64\" style = \"text-align: left;\">Int64</th><th title = \"DataType\" style = \"text-align: left;\">DataType</th></tr></thead><tbody><tr><td class = \"rowNumber\" style = \"font-weight: bold; text-align: right;\">1</td><td style = \"text-align: left;\">x1</td><td style = \"text-align: right;\">276.032</td><td style = \"text-align: right;\">31.7302</td><td style = \"text-align: right;\">260.531</td><td style = \"text-align: right;\">756.334</td><td style = \"text-align: right;\">0</td><td style = \"text-align: left;\">Float64</td></tr><tr><td class = \"rowNumber\" style = \"font-weight: bold; text-align: right;\">2</td><td style = \"text-align: left;\">x2</td><td style = \"text-align: right;\">1208.99</td><td style = \"text-align: right;\">142.506</td><td style = \"text-align: right;\">1147.88</td><td style = \"text-align: right;\">3397.62</td><td style = \"text-align: right;\">0</td><td style = \"text-align: left;\">Float64</td></tr><tr><td class = \"rowNumber\" style = \"font-weight: bold; text-align: right;\">3</td><td style = \"text-align: left;\">x3</td><td style = \"text-align: right;\">10.9224</td><td style = \"text-align: right;\">-10.9837</td><td style = \"text-align: right;\">7.61625</td><td style = \"text-align: right;\">39.0375</td><td style = \"text-align: right;\">0</td><td style = \"text-align: left;\">Float64</td></tr><tr><td class = \"rowNumber\" style = \"font-weight: bold; text-align: right;\">4</td><td style = \"text-align: left;\">x4</td><td style = \"text-align: right;\">122.713</td><td style = \"text-align: right;\">8.38083</td><td style = \"text-align: right;\">110.319</td><td style = \"text-align: right;\">350.661</td><td style = \"text-align: right;\">0</td><td style = \"text-align: left;\">Float64</td></tr></tbody></table></div>"
      ],
      "text/latex": [
       "\\begin{tabular}{r|ccccccc}\n",
       "\t& variable & mean & min & median & max & nmissing & eltype\\\\\n",
       "\t\\hline\n",
       "\t& Symbol & Float64 & Float64 & Float64 & Float64 & Int64 & DataType\\\\\n",
       "\t\\hline\n",
       "\t1 & x1 & 276.032 & 31.7302 & 260.531 & 756.334 & 0 & Float64 \\\\\n",
       "\t2 & x2 & 1208.99 & 142.506 & 1147.88 & 3397.62 & 0 & Float64 \\\\\n",
       "\t3 & x3 & 10.9224 & -10.9837 & 7.61625 & 39.0375 & 0 & Float64 \\\\\n",
       "\t4 & x4 & 122.713 & 8.38083 & 110.319 & 350.661 & 0 & Float64 \\\\\n",
       "\\end{tabular}\n"
      ],
      "text/plain": [
       "\u001b[1m4×7 DataFrame\u001b[0m\n",
       "\u001b[1m Row \u001b[0m│\u001b[1m variable \u001b[0m\u001b[1m mean      \u001b[0m\u001b[1m min       \u001b[0m\u001b[1m median     \u001b[0m\u001b[1m max       \u001b[0m\u001b[1m nmissing \u001b[0m\u001b[1m eltype\u001b[0m ⋯\n",
       "     │\u001b[90m Symbol   \u001b[0m\u001b[90m Float64   \u001b[0m\u001b[90m Float64   \u001b[0m\u001b[90m Float64    \u001b[0m\u001b[90m Float64   \u001b[0m\u001b[90m Int64    \u001b[0m\u001b[90m DataTy\u001b[0m ⋯\n",
       "─────┼──────────────────────────────────────────────────────────────────────────\n",
       "   1 │ x1         276.032    31.7302    260.531     756.334          0  Float6 ⋯\n",
       "   2 │ x2        1208.99    142.506    1147.88     3397.62           0  Float6\n",
       "   3 │ x3          10.9224  -10.9837      7.61625    39.0375         0  Float6\n",
       "   4 │ x4         122.713     8.38083   110.319     350.661          0  Float6\n",
       "\u001b[36m                                                                1 column omitted\u001b[0m"
      ]
     },
     "execution_count": 14,
     "metadata": {},
     "output_type": "execute_result"
    }
   ],
   "source": [
    "rr = DataFrame([\n",
    "    (N .^ coef(mm)[1])' - M' \n",
    "    (N .^ coef(ols)[1])' - M'\n",
    "    describe(test_1)[1][3:end, :mean]' - M'\n",
    "    describe(test_2)[1][3:end, :mean]' - M'\n",
    "]', :auto)\n",
    "\n",
    "describe(rr)"
   ]
  },
  {
   "cell_type": "code",
   "execution_count": 15,
   "id": "c5b2fbe2",
   "metadata": {
    "scrolled": true
   },
   "outputs": [
    {
     "name": "stderr",
     "output_type": "stream",
     "text": [
      "\u001b[36m\u001b[1m[ \u001b[22m\u001b[39m\u001b[36m\u001b[1mInfo: \u001b[22m\u001b[39m[Turing]: progress logging is disabled globally\n",
      "\u001b[36m\u001b[1m[ \u001b[22m\u001b[39m\u001b[36m\u001b[1mInfo: \u001b[22m\u001b[39m[AdvancedVI]: global PROGRESS is set as false\n"
     ]
    },
    {
     "name": "stdout",
     "output_type": "stream",
     "text": [
      "DomainError(-0.14403128747896488, \"Gamma: the condition θ > zero(θ) is not satisfied.\")\n"
     ]
    },
    {
     "name": "stderr",
     "output_type": "stream",
     "text": [
      "\u001b[32mSimulation progress ...   1%|▍                           |  ETA: 4:46:55\u001b[39m"
     ]
    },
    {
     "name": "stdout",
     "output_type": "stream",
     "text": [
      "DomainError(-0.2255992778672261, \"Gamma: the condition θ > zero(θ) is not satisfied.\")\n"
     ]
    },
    {
     "name": "stderr",
     "output_type": "stream",
     "text": [
      "\u001b[32mSimulation progress ...   4%|█▏                          |  ETA: 3:19:14\u001b[39m"
     ]
    },
    {
     "name": "stdout",
     "output_type": "stream",
     "text": [
      "DomainError(-0.07679994602166464, \"Gamma: the condition θ > zero(θ) is not satisfied.\")\n"
     ]
    },
    {
     "name": "stderr",
     "output_type": "stream",
     "text": [
      "\u001b[32mSimulation progress ...  11%|███▎                        |  ETA: 4:38:06\u001b[39m"
     ]
    },
    {
     "name": "stdout",
     "output_type": "stream",
     "text": [
      "DomainError(-0.1506268993543012, \"Gamma: the condition θ > zero(θ) is not satisfied.\")\n"
     ]
    },
    {
     "name": "stderr",
     "output_type": "stream",
     "text": [
      "\u001b[32mSimulation progress ...  14%|███▉                        |  ETA: 13:11:03\u001b[39m"
     ]
    },
    {
     "name": "stdout",
     "output_type": "stream",
     "text": [
      "DomainError(-0.17368996659403874, \"Gamma: the condition θ > zero(θ) is not satisfied.\")\n"
     ]
    },
    {
     "name": "stderr",
     "output_type": "stream",
     "text": [
      "\u001b[32mSimulation progress ...  15%|████▏                       |  ETA: 12:31:10\u001b[39m"
     ]
    },
    {
     "name": "stdout",
     "output_type": "stream",
     "text": [
      "DomainError(-1.7956420506751252, \"Gamma: the condition θ > zero(θ) is not satisfied.\")\n"
     ]
    },
    {
     "name": "stderr",
     "output_type": "stream",
     "text": [
      "\u001b[32mSimulation progress ...  19%|█████▎                      |  ETA: 10:07:18\u001b[39m"
     ]
    },
    {
     "name": "stdout",
     "output_type": "stream",
     "text": [
      "DomainError(-0.06992025829242865, \"Gamma: the condition θ > zero(θ) is not satisfied.\")\n"
     ]
    },
    {
     "name": "stderr",
     "output_type": "stream",
     "text": [
      "\u001b[32mSimulation progress ...  19%|█████▍                      |  ETA: 10:02:42\u001b[39m"
     ]
    },
    {
     "name": "stdout",
     "output_type": "stream",
     "text": [
      "DomainError(-0.05489617392968693, \"Gamma: the condition θ > zero(θ) is not satisfied.\")\n"
     ]
    },
    {
     "name": "stderr",
     "output_type": "stream",
     "text": [
      "\u001b[32mSimulation progress ...  21%|█████▊                      |  ETA: 9:15:09\u001b[39m"
     ]
    },
    {
     "name": "stdout",
     "output_type": "stream",
     "text": [
      "DomainError(-0.45755496529380435, \"Gamma: the condition θ > zero(θ) is not satisfied.\")\n",
      "DomainError(-0.2606409072359716, \"Gamma: the condition θ > zero(θ) is not satisfied.\")\n"
     ]
    },
    {
     "name": "stderr",
     "output_type": "stream",
     "text": [
      "\u001b[32mSimulation progress ...  28%|███████▊                    |  ETA: 8:49:55\u001b[39mm"
     ]
    },
    {
     "name": "stdout",
     "output_type": "stream",
     "text": [
      "DomainError(-0.04609536058963065, \"Gamma: the condition θ > zero(θ) is not satisfied.\")\n"
     ]
    },
    {
     "name": "stderr",
     "output_type": "stream",
     "text": [
      "\u001b[32mSimulation progress ...  40%|███████████▎                |  ETA: 5:43:42\u001b[39m"
     ]
    },
    {
     "name": "stdout",
     "output_type": "stream",
     "text": [
      "DomainError(-0.10524432925978408, \"Gamma: the condition θ > zero(θ) is not satisfied.\")\n"
     ]
    },
    {
     "name": "stderr",
     "output_type": "stream",
     "text": [
      "\u001b[32mSimulation progress ...  45%|████████████▊               |  ETA: 4:52:19\u001b[39m"
     ]
    },
    {
     "name": "stdout",
     "output_type": "stream",
     "text": [
      "DomainError(-0.15074542058572837, \"Gamma: the condition θ > zero(θ) is not satisfied.\")\n"
     ]
    },
    {
     "name": "stderr",
     "output_type": "stream",
     "text": [
      "\u001b[32mSimulation progress ...  48%|█████████████▌              |  ETA: 4:29:24\u001b[39m"
     ]
    },
    {
     "name": "stdout",
     "output_type": "stream",
     "text": [
      "AssertionError(\"isfinite(dev)\")\n"
     ]
    },
    {
     "name": "stderr",
     "output_type": "stream",
     "text": [
      "\u001b[32mSimulation progress ...  48%|█████████████▌              |  ETA: 4:27:42\u001b[39m"
     ]
    },
    {
     "name": "stdout",
     "output_type": "stream",
     "text": [
      "UndefVarError(:Σ̂_prior)\n"
     ]
    },
    {
     "name": "stderr",
     "output_type": "stream",
     "text": [
      "\u001b[32mSimulation progress ...  50%|██████████████              |  ETA: 4:13:00\u001b[39m"
     ]
    },
    {
     "name": "stdout",
     "output_type": "stream",
     "text": [
      "DomainError(-0.15720980084577665, \"Gamma: the condition θ > zero(θ) is not satisfied.\")\n"
     ]
    },
    {
     "name": "stderr",
     "output_type": "stream",
     "text": [
      "\u001b[32mSimulation progress ...  57%|████████████████            |  ETA: 3:22:36\u001b[39m"
     ]
    },
    {
     "name": "stdout",
     "output_type": "stream",
     "text": [
      "DomainError(-0.23921898733564542, \"Gamma: the condition θ > zero(θ) is not satisfied.\")\n"
     ]
    },
    {
     "name": "stderr",
     "output_type": "stream",
     "text": [
      "\u001b[32mSimulation progress ...  60%|████████████████▊           |  ETA: 3:03:29\u001b[39m"
     ]
    },
    {
     "name": "stdout",
     "output_type": "stream",
     "text": [
      "DomainError(-0.3230625940307533, \"Gamma: the condition θ > zero(θ) is not satisfied.\")\n"
     ]
    },
    {
     "name": "stderr",
     "output_type": "stream",
     "text": [
      "\u001b[32mSimulation progress ...  61%|█████████████████▏          |  ETA: 2:57:16\u001b[39m"
     ]
    },
    {
     "name": "stdout",
     "output_type": "stream",
     "text": [
      "DomainError(-0.401795959972354, \"Gamma: the condition θ > zero(θ) is not satisfied.\")\n"
     ]
    },
    {
     "name": "stderr",
     "output_type": "stream",
     "text": [
      "\u001b[32mSimulation progress ...  61%|█████████████████▎          |  ETA: 2:54:31\u001b[39m"
     ]
    },
    {
     "name": "stdout",
     "output_type": "stream",
     "text": [
      "DomainError(-0.08282430849434771, \"Gamma: the condition θ > zero(θ) is not satisfied.\")\n"
     ]
    },
    {
     "name": "stderr",
     "output_type": "stream",
     "text": [
      "\u001b[32mSimulation progress ...  65%|██████████████████▏         |  ETA: 2:34:54\u001b[39m"
     ]
    },
    {
     "name": "stdout",
     "output_type": "stream",
     "text": [
      "DomainError(-0.22698216827813947, \"Gamma: the condition θ > zero(θ) is not satisfied.\")\n"
     ]
    },
    {
     "name": "stderr",
     "output_type": "stream",
     "text": [
      "\u001b[32mSimulation progress ...  67%|██████████████████▊         |  ETA: 2:24:07\u001b[39m"
     ]
    },
    {
     "name": "stdout",
     "output_type": "stream",
     "text": [
      "DomainError(-0.06700812481568422, \"Ga"
     ]
    },
    {
     "name": "stderr",
     "output_type": "stream",
     "text": [
      "\u001b[32mSimulation progress ...  67%|██████████████████▊         |  ETA: 2:22:51\u001b[39m"
     ]
    },
    {
     "name": "stdout",
     "output_type": "stream",
     "text": [
      "mma: the condition θ > zero(θ) is not satisfied.\")\n"
     ]
    },
    {
     "name": "stderr",
     "output_type": "stream",
     "text": [
      "\u001b[32mSimulation progress ...  68%|███████████████████▏        |  ETA: 2:16:21\u001b[39m"
     ]
    },
    {
     "name": "stdout",
     "output_type": "stream",
     "text": [
      "DomainError(-0.19967069773698162, \"Gamma: the condition θ > zero(θ) is not satisfied.\")\n"
     ]
    },
    {
     "name": "stderr",
     "output_type": "stream",
     "text": [
      "\u001b[32mSimulation progress ...  70%|███████████████████▋        |  ETA: 2:07:00\u001b[39m"
     ]
    },
    {
     "name": "stdout",
     "output_type": "stream",
     "text": [
      "DomainError(-0.0943551606755815, \"Gamma: the condition θ > zero(θ) is not satisfied.\")\n"
     ]
    },
    {
     "name": "stderr",
     "output_type": "stream",
     "text": [
      "\u001b[32mSimulation progress ...  74%|████████████████████▋       |  ETA: 1:49:06\u001b[39m"
     ]
    },
    {
     "name": "stdout",
     "output_type": "stream",
     "text": [
      "DomainError(-2.8985956604329903, \"Gamma: the condition θ > zero(θ) is not satisfied.\")\n"
     ]
    },
    {
     "name": "stderr",
     "output_type": "stream",
     "text": [
      "\u001b[32mSimulation progress ...  82%|███████████████████████     |  ETA: 1:10:56\u001b[39m"
     ]
    },
    {
     "name": "stdout",
     "output_type": "stream",
     "text": [
      "DomainError(-0.4162656636860542, \"Gamma: the condition θ > zero(θ) is not satisfied.\")\n"
     ]
    },
    {
     "name": "stderr",
     "output_type": "stream",
     "text": [
      "\u001b[32mSimulation progress ...  90%|█████████████████████████▏  |  ETA: 0:38:42\u001b[39m"
     ]
    },
    {
     "name": "stdout",
     "output_type": "stream",
     "text": [
      "DomainError(-5.510855429267145, \"Gamma: the condition θ > zero(θ) is not satisfied.\")\n"
     ]
    },
    {
     "name": "stderr",
     "output_type": "stream",
     "text": [
      "\u001b[32mSimulation progress ... 100%|████████████████████████████| Time: 6:02:45\u001b[39m\n"
     ]
    },
    {
     "data": {
      "text/html": [
       "<div><div style = \"float: left;\"><span>10×7 DataFrame</span></div><div style = \"clear: both;\"></div></div><div class = \"data-frame\" style = \"overflow-x: scroll;\"><table class = \"data-frame\" style = \"margin-bottom: 6px;\"><thead><tr class = \"header\"><th class = \"rowNumber\" style = \"font-weight: bold; text-align: right;\">Row</th><th style = \"text-align: left;\">variable</th><th style = \"text-align: left;\">mean</th><th style = \"text-align: left;\">min</th><th style = \"text-align: left;\">median</th><th style = \"text-align: left;\">max</th><th style = \"text-align: left;\">nmissing</th><th style = \"text-align: left;\">eltype</th></tr><tr class = \"subheader headerLastRow\"><th class = \"rowNumber\" style = \"font-weight: bold; text-align: right;\"></th><th title = \"Symbol\" style = \"text-align: left;\">Symbol</th><th title = \"Float64\" style = \"text-align: left;\">Float64</th><th title = \"Float64\" style = \"text-align: left;\">Float64</th><th title = \"Union{Nothing, Float64}\" style = \"text-align: left;\">Union…</th><th title = \"Float64\" style = \"text-align: left;\">Float64</th><th title = \"Int64\" style = \"text-align: left;\">Int64</th><th title = \"DataType\" style = \"text-align: left;\">DataType</th></tr></thead><tbody><tr><td class = \"rowNumber\" style = \"font-weight: bold; text-align: right;\">1</td><td style = \"text-align: left;\">actual</td><td style = \"text-align: right;\">5843.86</td><td style = \"text-align: right;\">188.0</td><td style = \"text-align: left;\">2257.5</td><td style = \"text-align: right;\">109289.0</td><td style = \"text-align: right;\">0</td><td style = \"text-align: left;\">Float64</td></tr><tr><td class = \"rowNumber\" style = \"font-weight: bold; text-align: right;\">2</td><td style = \"text-align: left;\">expected</td><td style = \"text-align: right;\">5849.84</td><td style = \"text-align: right;\">173.649</td><td style = \"text-align: left;\">2277.35</td><td style = \"text-align: right;\">1.09283e5</td><td style = \"text-align: right;\">0</td><td style = \"text-align: left;\">Float64</td></tr><tr><td class = \"rowNumber\" style = \"font-weight: bold; text-align: right;\">3</td><td style = \"text-align: left;\">glm_est</td><td style = \"text-align: right;\">NaN</td><td style = \"text-align: right;\">NaN</td><td style = \"font-style: italic; text-align: left;\"></td><td style = \"text-align: right;\">NaN</td><td style = \"text-align: right;\">0</td><td style = \"text-align: left;\">Float64</td></tr><tr><td class = \"rowNumber\" style = \"font-weight: bold; text-align: right;\">4</td><td style = \"text-align: left;\">ols_est</td><td style = \"text-align: right;\">NaN</td><td style = \"text-align: right;\">NaN</td><td style = \"font-style: italic; text-align: left;\"></td><td style = \"text-align: right;\">NaN</td><td style = \"text-align: right;\">0</td><td style = \"text-align: left;\">Float64</td></tr><tr><td class = \"rowNumber\" style = \"font-weight: bold; text-align: right;\">5</td><td style = \"text-align: left;\">expected_est</td><td style = \"text-align: right;\">6097.22</td><td style = \"text-align: right;\">178.736</td><td style = \"text-align: left;\">2361.75</td><td style = \"text-align: right;\">1.17721e5</td><td style = \"text-align: right;\">0</td><td style = \"text-align: left;\">Float64</td></tr><tr><td class = \"rowNumber\" style = \"font-weight: bold; text-align: right;\">6</td><td style = \"text-align: left;\">expected_est_better</td><td style = \"text-align: right;\">6144.98</td><td style = \"text-align: right;\">182.157</td><td style = \"text-align: left;\">2363.52</td><td style = \"text-align: right;\">1.17923e5</td><td style = \"text-align: right;\">0</td><td style = \"text-align: left;\">Float64</td></tr><tr><td class = \"rowNumber\" style = \"font-weight: bold; text-align: right;\">7</td><td style = \"text-align: left;\">actual_est</td><td style = \"text-align: right;\">6149.57</td><td style = \"text-align: right;\">194.506</td><td style = \"text-align: left;\">2402.03</td><td style = \"text-align: right;\">1.18056e5</td><td style = \"text-align: right;\">0</td><td style = \"text-align: left;\">Float64</td></tr><tr><td class = \"rowNumber\" style = \"font-weight: bold; text-align: right;\">8</td><td style = \"text-align: left;\">expected_est_bad_prior</td><td style = \"text-align: right;\">NaN</td><td style = \"text-align: right;\">NaN</td><td style = \"font-style: italic; text-align: left;\"></td><td style = \"text-align: right;\">NaN</td><td style = \"text-align: right;\">0</td><td style = \"text-align: left;\">Float64</td></tr><tr><td class = \"rowNumber\" style = \"font-weight: bold; text-align: right;\">9</td><td style = \"text-align: left;\">expected_est_better_bad_prior</td><td style = \"text-align: right;\">NaN</td><td style = \"text-align: right;\">NaN</td><td style = \"font-style: italic; text-align: left;\"></td><td style = \"text-align: right;\">NaN</td><td style = \"text-align: right;\">0</td><td style = \"text-align: left;\">Float64</td></tr><tr><td class = \"rowNumber\" style = \"font-weight: bold; text-align: right;\">10</td><td style = \"text-align: left;\">actual_est_bad_prior</td><td style = \"text-align: right;\">NaN</td><td style = \"text-align: right;\">NaN</td><td style = \"font-style: italic; text-align: left;\"></td><td style = \"text-align: right;\">NaN</td><td style = \"text-align: right;\">0</td><td style = \"text-align: left;\">Float64</td></tr></tbody></table></div>"
      ],
      "text/latex": [
       "\\begin{tabular}{r|ccccccc}\n",
       "\t& variable & mean & min & median & max & nmissing & eltype\\\\\n",
       "\t\\hline\n",
       "\t& Symbol & Float64 & Float64 & Union… & Float64 & Int64 & DataType\\\\\n",
       "\t\\hline\n",
       "\t1 & actual & 5843.86 & 188.0 & 2257.5 & 109289.0 & 0 & Float64 \\\\\n",
       "\t2 & expected & 5849.84 & 173.649 & 2277.35 & 1.09283e5 & 0 & Float64 \\\\\n",
       "\t3 & glm\\_est & NaN & NaN &  & NaN & 0 & Float64 \\\\\n",
       "\t4 & ols\\_est & NaN & NaN &  & NaN & 0 & Float64 \\\\\n",
       "\t5 & expected\\_est & 6097.22 & 178.736 & 2361.75 & 1.17721e5 & 0 & Float64 \\\\\n",
       "\t6 & expected\\_est\\_better & 6144.98 & 182.157 & 2363.52 & 1.17923e5 & 0 & Float64 \\\\\n",
       "\t7 & actual\\_est & 6149.57 & 194.506 & 2402.03 & 1.18056e5 & 0 & Float64 \\\\\n",
       "\t8 & expected\\_est\\_bad\\_prior & NaN & NaN &  & NaN & 0 & Float64 \\\\\n",
       "\t9 & expected\\_est\\_better\\_bad\\_prior & NaN & NaN &  & NaN & 0 & Float64 \\\\\n",
       "\t10 & actual\\_est\\_bad\\_prior & NaN & NaN &  & NaN & 0 & Float64 \\\\\n",
       "\\end{tabular}\n"
      ],
      "text/plain": [
       "\u001b[1m10×7 DataFrame\u001b[0m\n",
       "\u001b[1m Row \u001b[0m│\u001b[1m variable                      \u001b[0m\u001b[1m mean    \u001b[0m\u001b[1m min     \u001b[0m\u001b[1m median  \u001b[0m\u001b[1m max          \u001b[0m ⋯\n",
       "     │\u001b[90m Symbol                        \u001b[0m\u001b[90m Float64 \u001b[0m\u001b[90m Float64 \u001b[0m\u001b[90m Union…  \u001b[0m\u001b[90m Float64      \u001b[0m ⋯\n",
       "─────┼──────────────────────────────────────────────────────────────────────────\n",
       "   1 │ actual                         5843.86  188.0    2257.5   109289.0      ⋯\n",
       "   2 │ expected                       5849.84  173.649  2277.35       1.09283e\n",
       "   3 │ glm_est                         NaN     NaN     \u001b[90m         \u001b[0m    NaN\n",
       "   4 │ ols_est                         NaN     NaN     \u001b[90m         \u001b[0m    NaN\n",
       "   5 │ expected_est                   6097.22  178.736  2361.75       1.17721e ⋯\n",
       "   6 │ expected_est_better            6144.98  182.157  2363.52       1.17923e\n",
       "   7 │ actual_est                     6149.57  194.506  2402.03       1.18056e\n",
       "   8 │ expected_est_bad_prior          NaN     NaN     \u001b[90m         \u001b[0m    NaN\n",
       "   9 │ expected_est_better_bad_prior   NaN     NaN     \u001b[90m         \u001b[0m    NaN        ⋯\n",
       "  10 │ actual_est_bad_prior            NaN     NaN     \u001b[90m         \u001b[0m    NaN\n",
       "\u001b[36m                                                               3 columns omitted\u001b[0m"
      ]
     },
     "execution_count": 15,
     "metadata": {},
     "output_type": "execute_result"
    }
   ],
   "source": [
    "setprogress!(false)\n",
    "# simulation parameters\n",
    "chain_sim = 500 # nie patrzyłem czy warto to wyżej ustawić\n",
    "nsims = 500\n",
    "pg_sim = 25 # na symulacje wystardczy bo dla podwojonej wartości poprawy dużej nie ma\n",
    "\n",
    "#\n",
    "prog = Progress(nsims, \"Simulation progress ...\")\n",
    "res = Vector{Any}(missing, nsims)\n",
    "\n",
    "# hyper parameters\n",
    "a = [24.75, 16.5]\n",
    "b = [1 / 25.0, 1 / 13.5]\n",
    "Q = 10\n",
    "Σ = [1 .25; .25 1]\n",
    "C = GaussianCopula(Σ)\n",
    "d = SklarDist(C, (Gamma(a[1], b[1]), Gamma(a[2], b[2])))\n",
    "\n",
    "N_distr = Poisson.(rand(DiscreteUniform(50, 500), Q))\n",
    "M_distr = (N, α) -> Poisson.(N .^ α)\n",
    "#u_distr = (n, N) -> Beta(n, N - n)\n",
    "\n",
    "Threads.@threads for k in 1:nsims\n",
    "    α, β = rand(d)\n",
    "\n",
    "    N = reduce(vcat, rand.(N_distr, 1))\n",
    "    n = reduce(vcat, rand.(Binomial.(N, .1), 1))\n",
    "    \n",
    "    M = reduce(vcat, rand.(M_distr(N, α), 1))\n",
    "\n",
    "    p = (N .^ α) .* ((n ./ N) .^ β)\n",
    "    p = 1 ./ (1 .+ 1 ./ p)\n",
    "\n",
    "    #u = reduce(vcat, rand.(u_distr.(n, N), 1))\n",
    "    u = 1.0\n",
    "    m = reduce(vcat, rand.(Binomial.(M, p * u), 1))\n",
    "\n",
    "    df1 = DataFrame(\n",
    "        y = m,\n",
    "        x1 = log.(N),\n",
    "        x2 = log.(n ./ N)\n",
    "    )\n",
    "\n",
    "    α̂₁, β̂₁ = [NaN, NaN]\n",
    "    α̂₂, β̂₂ = [NaN, NaN]\n",
    "    mm = nothing\n",
    "    ols = nothing\n",
    "\n",
    "    try\n",
    "        mm = glm(@formula(y ~ x1 + x2 + 0), df1, Poisson(), LogLink())\n",
    "    catch e\n",
    "        println(e)\n",
    "    end # en try\n",
    "\n",
    "    try\n",
    "        ols = lm(@formula(log(y) ~ x1 + x2 + 0), df1)\n",
    "    catch e\n",
    "        println(e)\n",
    "    end # en try\n",
    "\n",
    "    if !isnothing(mm)\n",
    "        α̂₁, β̂₁ = coef(mm)\n",
    "    end # end if\n",
    "\n",
    "    if !isnothing(ols)\n",
    "        α̂₂, β̂₂ = coef(ols)\n",
    "    end # end if\n",
    "    \n",
    "    α̂₃, β̂₃ = [NaN, NaN]\n",
    "    M̂ = [NaN for ii in 1:Q]\n",
    "    est_M = [NaN for ii in 1:Q]\n",
    "    est = nothing\n",
    "    \n",
    "    try\n",
    "        est = sample(binomial_model_gamma(m, n, N, Σ, a, b), PG(pg_sim), chain_sim)\n",
    "    catch e\n",
    "        println(e)\n",
    "    end # end try\n",
    "\n",
    "    if !isnothing(est)\n",
    "        α̂₃, β̂₃ = describe(est)[1][1:2, :mean]\n",
    "        M̂      = describe(est)[1][3:end, :mean]\n",
    "        est_M  = sum([mean(N[x] .^ est[:, 1, :]) for x in 1:Q])\n",
    "    end # end if\n",
    "\n",
    "    α̂₄, β̂₄ = [NaN, NaN]\n",
    "    M̂_2 = [NaN for ii in 1:Q]\n",
    "    est_M_2 = [NaN for ii in 1:Q]\n",
    "    est_2 = nothing\n",
    "\n",
    "    # estimated priors\n",
    "    if !isnothing(mm)\n",
    "        μ̂_prior = [α̂₁, β̂₁]\n",
    "        Σ̂_prior = vcov(mm)\n",
    "        b_prior = [α̂₁ / Σ̂_prior[1, 1], β̂₁ / Σ̂_prior[2, 2]] .^ -1\n",
    "        a_prior = [α̂₁, β̂₁] ./ b_prior\n",
    "    end # end if\n",
    "\n",
    "    try\n",
    "        est_2 = sample(binomial_model_gamma(m, n, N, Σ̂_prior, a_prior, b_prior), PG(pg_sim), chain_sim)\n",
    "    catch e\n",
    "        println(e)\n",
    "    end # end try\n",
    "\n",
    "    if !isnothing(est_2)\n",
    "        α̂₄, β̂₄ = describe(est_2)[1][1:2, :mean]\n",
    "        M̂_2    = describe(est_2)[1][3:end, :mean]\n",
    "        est_M_2  = sum([mean(N[x] .^ est_2[:, 1, :]) for x in 1:Q])\n",
    "    end # end if\n",
    "\n",
    "    # this fails if nothing is passed to get index\n",
    "    res[k] = [\n",
    "        sum(M); sum(N .^ α); sum(N .^ α̂₁); sum(N .^ α̂₂); sum(N .^ α̂₃);\n",
    "        sum(est_M); sum(M̂); sum(N .^ α̂₄); sum(est_M_2); sum(M̂_2)\n",
    "    ]\n",
    "    \n",
    "    next!(prog)\n",
    "end # end for\n",
    "\n",
    "df_res = DataFrame(mapreduce(permutedims, vcat, res), \n",
    "    [\"actual\", \"expected\", \"glm_est\", \"ols_est\", \"expected_est\" , \"expected_est_better\", \n",
    "        \"actual_est\",\"expected_est_bad_prior\" , \"expected_est_better_bad_prior\", \"actual_est_bad_prior\"\n",
    "    ])\n",
    "\n",
    "describe(df_res)"
   ]
  },
  {
   "cell_type": "code",
   "execution_count": 16,
   "id": "c0707095-deec-41db-a22b-b5b7e908acb4",
   "metadata": {},
   "outputs": [
    {
     "data": {
      "text/html": [
       "<div><div style = \"float: left;\"><span>9×5 DataFrame</span></div><div style = \"clear: both;\"></div></div><div class = \"data-frame\" style = \"overflow-x: scroll;\"><table class = \"data-frame\" style = \"margin-bottom: 6px;\"><thead><tr class = \"header\"><th class = \"rowNumber\" style = \"font-weight: bold; text-align: right;\">Row</th><th style = \"text-align: left;\">rel_bias</th><th style = \"text-align: left;\">rel_mse</th><th style = \"text-align: left;\">rel_mae</th><th style = \"text-align: left;\">NaN_proc</th><th style = \"text-align: left;\">est</th></tr><tr class = \"subheader headerLastRow\"><th class = \"rowNumber\" style = \"font-weight: bold; text-align: right;\"></th><th title = \"Float64\" style = \"text-align: left;\">Float64</th><th title = \"Float64\" style = \"text-align: left;\">Float64</th><th title = \"Float64\" style = \"text-align: left;\">Float64</th><th title = \"Float64\" style = \"text-align: left;\">Float64</th><th title = \"String\" style = \"text-align: left;\">String</th></tr></thead><tbody><tr><td class = \"rowNumber\" style = \"font-weight: bold; text-align: right;\">1</td><td style = \"text-align: right;\">-0.00140554</td><td style = \"text-align: right;\">0.98961</td><td style = \"text-align: right;\">0.0178622</td><td style = \"text-align: right;\">0.0</td><td style = \"text-align: left;\">Expected value</td></tr><tr><td class = \"rowNumber\" style = \"font-weight: bold; text-align: right;\">2</td><td style = \"text-align: right;\">-0.934158</td><td style = \"text-align: right;\">4990.58</td><td style = \"text-align: right;\">0.946013</td><td style = \"text-align: right;\">0.002</td><td style = \"text-align: left;\">glm</td></tr><tr><td class = \"rowNumber\" style = \"font-weight: bold; text-align: right;\">3</td><td style = \"text-align: right;\">-1.30383</td><td style = \"text-align: right;\">17617.6</td><td style = \"text-align: right;\">1.31641</td><td style = \"text-align: right;\">0.006</td><td style = \"text-align: left;\">ols</td></tr><tr><td class = \"rowNumber\" style = \"font-weight: bold; text-align: right;\">4</td><td style = \"text-align: right;\">-0.0536558</td><td style = \"text-align: right;\">21.2389</td><td style = \"text-align: right;\">0.0639445</td><td style = \"text-align: right;\">0.0</td><td style = \"text-align: left;\">expected_est</td></tr><tr><td class = \"rowNumber\" style = \"font-weight: bold; text-align: right;\">5</td><td style = \"text-align: right;\">-0.0556776</td><td style = \"text-align: right;\">24.7512</td><td style = \"text-align: right;\">0.0653268</td><td style = \"text-align: right;\">0.0</td><td style = \"text-align: left;\">expected_est_better</td></tr><tr><td class = \"rowNumber\" style = \"font-weight: bold; text-align: right;\">6</td><td style = \"text-align: right;\">-0.0575094</td><td style = \"text-align: right;\">24.6404</td><td style = \"text-align: right;\">0.0651531</td><td style = \"text-align: right;\">0.0</td><td style = \"text-align: left;\">actual_est</td></tr><tr><td class = \"rowNumber\" style = \"font-weight: bold; text-align: right;\">7</td><td style = \"text-align: right;\">-0.138514</td><td style = \"text-align: right;\">451.544</td><td style = \"text-align: right;\">0.157831</td><td style = \"text-align: right;\">0.052</td><td style = \"text-align: left;\">expected_est_bad_prior</td></tr><tr><td class = \"rowNumber\" style = \"font-weight: bold; text-align: right;\">8</td><td style = \"text-align: right;\">-0.140134</td><td style = \"text-align: right;\">455.753</td><td style = \"text-align: right;\">0.158949</td><td style = \"text-align: right;\">0.052</td><td style = \"text-align: left;\">expected_est_better_bad_prior</td></tr><tr><td class = \"rowNumber\" style = \"font-weight: bold; text-align: right;\">9</td><td style = \"text-align: right;\">-0.135704</td><td style = \"text-align: right;\">447.453</td><td style = \"text-align: right;\">0.155855</td><td style = \"text-align: right;\">0.052</td><td style = \"text-align: left;\">actual_est_bad_prior</td></tr></tbody></table></div>"
      ],
      "text/latex": [
       "\\begin{tabular}{r|ccccc}\n",
       "\t& rel\\_bias & rel\\_mse & rel\\_mae & NaN\\_proc & est\\\\\n",
       "\t\\hline\n",
       "\t& Float64 & Float64 & Float64 & Float64 & String\\\\\n",
       "\t\\hline\n",
       "\t1 & -0.00140554 & 0.98961 & 0.0178622 & 0.0 & Expected value \\\\\n",
       "\t2 & -0.934158 & 4990.58 & 0.946013 & 0.002 & glm \\\\\n",
       "\t3 & -1.30383 & 17617.6 & 1.31641 & 0.006 & ols \\\\\n",
       "\t4 & -0.0536558 & 21.2389 & 0.0639445 & 0.0 & expected\\_est \\\\\n",
       "\t5 & -0.0556776 & 24.7512 & 0.0653268 & 0.0 & expected\\_est\\_better \\\\\n",
       "\t6 & -0.0575094 & 24.6404 & 0.0651531 & 0.0 & actual\\_est \\\\\n",
       "\t7 & -0.138514 & 451.544 & 0.157831 & 0.052 & expected\\_est\\_bad\\_prior \\\\\n",
       "\t8 & -0.140134 & 455.753 & 0.158949 & 0.052 & expected\\_est\\_better\\_bad\\_prior \\\\\n",
       "\t9 & -0.135704 & 447.453 & 0.155855 & 0.052 & actual\\_est\\_bad\\_prior \\\\\n",
       "\\end{tabular}\n"
      ],
      "text/plain": [
       "\u001b[1m9×5 DataFrame\u001b[0m\n",
       "\u001b[1m Row \u001b[0m│\u001b[1m rel_bias    \u001b[0m\u001b[1m rel_mse     \u001b[0m\u001b[1m rel_mae   \u001b[0m\u001b[1m NaN_proc \u001b[0m\u001b[1m est                     \u001b[0m ⋯\n",
       "     │\u001b[90m Float64     \u001b[0m\u001b[90m Float64     \u001b[0m\u001b[90m Float64   \u001b[0m\u001b[90m Float64  \u001b[0m\u001b[90m String                  \u001b[0m ⋯\n",
       "─────┼──────────────────────────────────────────────────────────────────────────\n",
       "   1 │ -0.00140554      0.98961  0.0178622     0.0    Expected value           ⋯\n",
       "   2 │ -0.934158     4990.58     0.946013      0.002  glm\n",
       "   3 │ -1.30383     17617.6      1.31641       0.006  ols\n",
       "   4 │ -0.0536558      21.2389   0.0639445     0.0    expected_est\n",
       "   5 │ -0.0556776      24.7512   0.0653268     0.0    expected_est_better      ⋯\n",
       "   6 │ -0.0575094      24.6404   0.0651531     0.0    actual_est\n",
       "   7 │ -0.138514      451.544    0.157831      0.052  expected_est_bad_prior\n",
       "   8 │ -0.140134      455.753    0.158949      0.052  expected_est_better_bad_\n",
       "   9 │ -0.135704      447.453    0.155855      0.052  actual_est_bad_prior     ⋯\n",
       "\u001b[36m                                                                1 column omitted\u001b[0m"
      ]
     },
     "execution_count": 16,
     "metadata": {},
     "output_type": "execute_result"
    }
   ],
   "source": [
    "DataFrame(\n",
    "    rel_bias = [mean(((df_res[:, 1] .- df_res[:, k]) ./ df_res[:, 1])[.!isnan.(df_res[:, k])])        for k in 2:10],\n",
    "    rel_mse  = [mean((((df_res[:, 1] .- df_res[:, k]) .^ 2) ./ df_res[:, 1])[.!isnan.(df_res[:, k])]) for k in 2:10],\n",
    "    rel_mae  = [mean((abs.(df_res[:, 1] .- df_res[:, k]) ./ df_res[:, 1])[.!isnan.(df_res[:, k])])    for k in 2:10],\n",
    "    NaN_proc = [mean(isnan.(df_res[:, k]))                                                            for k in 2:10],\n",
    "    est      = [\"Expected value\", \"glm\", \"ols\", \"expected_est\", \"expected_est_better\", \"actual_est\", \n",
    "                \"expected_est_bad_prior\", \"expected_est_better_bad_prior\", \"actual_est_bad_prior\"]\n",
    ")"
   ]
  },
  {
   "cell_type": "code",
   "execution_count": 18,
   "id": "3a6cf1af-16ee-489b-8006-8ed29b440be2",
   "metadata": {},
   "outputs": [
    {
     "data": {
      "text/html": [
       "<div><div style = \"float: left;\"><span>9×7 DataFrame</span></div><div style = \"clear: both;\"></div></div><div class = \"data-frame\" style = \"overflow-x: scroll;\"><table class = \"data-frame\" style = \"margin-bottom: 6px;\"><thead><tr class = \"header\"><th class = \"rowNumber\" style = \"font-weight: bold; text-align: right;\">Row</th><th style = \"text-align: left;\">bias</th><th style = \"text-align: left;\">mse</th><th style = \"text-align: left;\">rmse</th><th style = \"text-align: left;\">var</th><th style = \"text-align: left;\">sd</th><th style = \"text-align: left;\">mae</th><th style = \"text-align: left;\">est</th></tr><tr class = \"subheader headerLastRow\"><th class = \"rowNumber\" style = \"font-weight: bold; text-align: right;\"></th><th title = \"Float64\" style = \"text-align: left;\">Float64</th><th title = \"Float64\" style = \"text-align: left;\">Float64</th><th title = \"Float64\" style = \"text-align: left;\">Float64</th><th title = \"Float64\" style = \"text-align: left;\">Float64</th><th title = \"Float64\" style = \"text-align: left;\">Float64</th><th title = \"Float64\" style = \"text-align: left;\">Float64</th><th title = \"String\" style = \"text-align: left;\">String</th></tr></thead><tbody><tr><td class = \"rowNumber\" style = \"font-weight: bold; text-align: right;\">1</td><td style = \"text-align: right;\">-0.00597458</td><td style = \"text-align: right;\">5.03973</td><td style = \"text-align: right;\">2.24493</td><td style = \"text-align: right;\">135.377</td><td style = \"text-align: right;\">11.6352</td><td style = \"text-align: right;\">0.0475442</td><td style = \"text-align: left;\">Expected value</td></tr><tr><td class = \"rowNumber\" style = \"font-weight: bold; text-align: right;\">2</td><td style = \"text-align: right;\">-2.28064</td><td style = \"text-align: right;\">17688.4</td><td style = \"text-align: right;\">132.998</td><td style = \"text-align: right;\">169.75</td><td style = \"text-align: right;\">13.0288</td><td style = \"text-align: right;\">2.31801</td><td style = \"text-align: left;\">glm</td></tr><tr><td class = \"rowNumber\" style = \"font-weight: bold; text-align: right;\">3</td><td style = \"text-align: right;\">-3.63036</td><td style = \"text-align: right;\">77796.3</td><td style = \"text-align: right;\">278.92</td><td style = \"text-align: right;\">239.26</td><td style = \"text-align: right;\">15.468</td><td style = \"text-align: right;\">3.67925</td><td style = \"text-align: left;\">ols</td></tr><tr><td class = \"rowNumber\" style = \"font-weight: bold; text-align: right;\">4</td><td style = \"text-align: right;\">-0.253359</td><td style = \"text-align: right;\">596.127</td><td style = \"text-align: right;\">24.4157</td><td style = \"text-align: right;\">147.589</td><td style = \"text-align: right;\">12.1486</td><td style = \"text-align: right;\">0.29334</td><td style = \"text-align: left;\">expected_est</td></tr><tr><td class = \"rowNumber\" style = \"font-weight: bold; text-align: right;\">5</td><td style = \"text-align: right;\">-0.301117</td><td style = \"text-align: right;\">760.764</td><td style = \"text-align: right;\">27.582</td><td style = \"text-align: right;\">152.808</td><td style = \"text-align: right;\">12.3615</td><td style = \"text-align: right;\">0.323707</td><td style = \"text-align: left;\">expected_est_better</td></tr><tr><td class = \"rowNumber\" style = \"font-weight: bold; text-align: right;\">6</td><td style = \"text-align: right;\">-0.305705</td><td style = \"text-align: right;\">766.102</td><td style = \"text-align: right;\">27.6786</td><td style = \"text-align: right;\">152.888</td><td style = \"text-align: right;\">12.3648</td><td style = \"text-align: right;\">0.324931</td><td style = \"text-align: left;\">actual_est</td></tr><tr><td class = \"rowNumber\" style = \"font-weight: bold; text-align: right;\">7</td><td style = \"text-align: right;\">-0.519107</td><td style = \"text-align: right;\">3092.5</td><td style = \"text-align: right;\">55.6102</td><td style = \"text-align: right;\">148.168</td><td style = \"text-align: right;\">12.1724</td><td style = \"text-align: right;\">0.557509</td><td style = \"text-align: left;\">expected_est_bad_prior</td></tr><tr><td class = \"rowNumber\" style = \"font-weight: bold; text-align: right;\">8</td><td style = \"text-align: right;\">-0.522229</td><td style = \"text-align: right;\">3107.83</td><td style = \"text-align: right;\">55.7479</td><td style = \"text-align: right;\">148.177</td><td style = \"text-align: right;\">12.1728</td><td style = \"text-align: right;\">0.559964</td><td style = \"text-align: left;\">expected_est_better_bad_prior</td></tr><tr><td class = \"rowNumber\" style = \"font-weight: bold; text-align: right;\">9</td><td style = \"text-align: right;\">-0.505559</td><td style = \"text-align: right;\">3038.18</td><td style = \"text-align: right;\">55.1197</td><td style = \"text-align: right;\">147.634</td><td style = \"text-align: right;\">12.1505</td><td style = \"text-align: right;\">0.545699</td><td style = \"text-align: left;\">actual_est_bad_prior</td></tr></tbody></table></div>"
      ],
      "text/latex": [
       "\\begin{tabular}{r|ccccccc}\n",
       "\t& bias & mse & rmse & var & sd & mae & est\\\\\n",
       "\t\\hline\n",
       "\t& Float64 & Float64 & Float64 & Float64 & Float64 & Float64 & String\\\\\n",
       "\t\\hline\n",
       "\t1 & -0.00597458 & 5.03973 & 2.24493 & 135.377 & 11.6352 & 0.0475442 & Expected value \\\\\n",
       "\t2 & -2.28064 & 17688.4 & 132.998 & 169.75 & 13.0288 & 2.31801 & glm \\\\\n",
       "\t3 & -3.63036 & 77796.3 & 278.92 & 239.26 & 15.468 & 3.67925 & ols \\\\\n",
       "\t4 & -0.253359 & 596.127 & 24.4157 & 147.589 & 12.1486 & 0.29334 & expected\\_est \\\\\n",
       "\t5 & -0.301117 & 760.764 & 27.582 & 152.808 & 12.3615 & 0.323707 & expected\\_est\\_better \\\\\n",
       "\t6 & -0.305705 & 766.102 & 27.6786 & 152.888 & 12.3648 & 0.324931 & actual\\_est \\\\\n",
       "\t7 & -0.519107 & 3092.5 & 55.6102 & 148.168 & 12.1724 & 0.557509 & expected\\_est\\_bad\\_prior \\\\\n",
       "\t8 & -0.522229 & 3107.83 & 55.7479 & 148.177 & 12.1728 & 0.559964 & expected\\_est\\_better\\_bad\\_prior \\\\\n",
       "\t9 & -0.505559 & 3038.18 & 55.1197 & 147.634 & 12.1505 & 0.545699 & actual\\_est\\_bad\\_prior \\\\\n",
       "\\end{tabular}\n"
      ],
      "text/plain": [
       "\u001b[1m9×7 DataFrame\u001b[0m\n",
       "\u001b[1m Row \u001b[0m│\u001b[1m bias        \u001b[0m\u001b[1m mse         \u001b[0m\u001b[1m rmse      \u001b[0m\u001b[1m var     \u001b[0m\u001b[1m sd      \u001b[0m\u001b[1m mae       \u001b[0m\u001b[1m est  \u001b[0m ⋯\n",
       "     │\u001b[90m Float64     \u001b[0m\u001b[90m Float64     \u001b[0m\u001b[90m Float64   \u001b[0m\u001b[90m Float64 \u001b[0m\u001b[90m Float64 \u001b[0m\u001b[90m Float64   \u001b[0m\u001b[90m Strin\u001b[0m ⋯\n",
       "─────┼──────────────────────────────────────────────────────────────────────────\n",
       "   1 │ -0.00597458      5.03973    2.24493  135.377  11.6352  0.0475442  Expec ⋯\n",
       "   2 │ -2.28064     17688.4      132.998    169.75   13.0288  2.31801    glm\n",
       "   3 │ -3.63036     77796.3      278.92     239.26   15.468   3.67925    ols\n",
       "   4 │ -0.253359      596.127     24.4157   147.589  12.1486  0.29334    expec\n",
       "   5 │ -0.301117      760.764     27.582    152.808  12.3615  0.323707   expec ⋯\n",
       "   6 │ -0.305705      766.102     27.6786   152.888  12.3648  0.324931   actua\n",
       "   7 │ -0.519107     3092.5       55.6102   148.168  12.1724  0.557509   expec\n",
       "   8 │ -0.522229     3107.83      55.7479   148.177  12.1728  0.559964   expec\n",
       "   9 │ -0.505559     3038.18      55.1197   147.634  12.1505  0.545699   actua ⋯\n",
       "\u001b[36m                                                                1 column omitted\u001b[0m"
      ]
     },
     "execution_count": 18,
     "metadata": {},
     "output_type": "execute_result"
    }
   ],
   "source": [
    "DataFrame(\n",
    "    bias  = [mean(((df_res[:, 1] .- df_res[:, k]) ./ 1000)[.!isnan.(df_res[:, k])])              for k in 2:10],\n",
    "    mse   = [mean((((df_res[:, 1] .- df_res[:, k]) .^ 2) ./ 1000)[.!isnan.(df_res[:, k])])       for k in 2:10],\n",
    "    rmse  = [sqrt(mean((((df_res[:, 1] .- df_res[:, k]) .^ 2) ./ 1000)[.!isnan.(df_res[:, k])])) for k in 2:10],\n",
    "    var   = [var((df_res[:, k] / 1000)[.!isnan.(df_res[:, k])])                                  for k in 2:10],\n",
    "    sd    = [std((df_res[:, k] / 1000)[.!isnan.(df_res[:, k])])                                  for k in 2:10],\n",
    "    mae   = [mean((abs.(df_res[:, 1] .- df_res[:, k]) ./ 1000)[.!isnan.(df_res[:, k])])          for k in 2:10],\n",
    "    est   = [\"Expected value\", \"glm\", \"ols\", \"expected_est\", \"expected_est_better\", \"actual_est\"\n",
    "        , \"expected_est_bad_prior\", \"expected_est_better_bad_prior\", \"actual_est_bad_prior\"\n",
    "    ]\n",
    ")"
   ]
  },
  {
   "cell_type": "code",
   "execution_count": 19,
   "id": "96e878da-3ecb-455c-9fed-571252305ff1",
   "metadata": {},
   "outputs": [
    {
     "data": {
      "text/html": [
       "<div><div style = \"float: left;\"><span>8×7 DataFrame</span></div><div style = \"clear: both;\"></div></div><div class = \"data-frame\" style = \"overflow-x: scroll;\"><table class = \"data-frame\" style = \"margin-bottom: 6px;\"><thead><tr class = \"header\"><th class = \"rowNumber\" style = \"font-weight: bold; text-align: right;\">Row</th><th style = \"text-align: left;\">bias</th><th style = \"text-align: left;\">mse</th><th style = \"text-align: left;\">rmse</th><th style = \"text-align: left;\">var</th><th style = \"text-align: left;\">sd</th><th style = \"text-align: left;\">mae</th><th style = \"text-align: left;\">est</th></tr><tr class = \"subheader headerLastRow\"><th class = \"rowNumber\" style = \"font-weight: bold; text-align: right;\"></th><th title = \"Float64\" style = \"text-align: left;\">Float64</th><th title = \"Float64\" style = \"text-align: left;\">Float64</th><th title = \"Float64\" style = \"text-align: left;\">Float64</th><th title = \"Float64\" style = \"text-align: left;\">Float64</th><th title = \"Float64\" style = \"text-align: left;\">Float64</th><th title = \"Float64\" style = \"text-align: left;\">Float64</th><th title = \"String\" style = \"text-align: left;\">String</th></tr></thead><tbody><tr><td class = \"rowNumber\" style = \"font-weight: bold; text-align: right;\">1</td><td style = \"text-align: right;\">-2.2746</td><td style = \"text-align: right;\">17623.8</td><td style = \"text-align: right;\">132.998</td><td style = \"text-align: right;\">169.75</td><td style = \"text-align: right;\">13.0288</td><td style = \"text-align: right;\">2.3142</td><td style = \"text-align: left;\">glm</td></tr><tr><td class = \"rowNumber\" style = \"font-weight: bold; text-align: right;\">2</td><td style = \"text-align: right;\">-3.62427</td><td style = \"text-align: right;\">77636.3</td><td style = \"text-align: right;\">278.92</td><td style = \"text-align: right;\">239.26</td><td style = \"text-align: right;\">15.468</td><td style = \"text-align: right;\">3.67393</td><td style = \"text-align: left;\">ols</td></tr><tr><td class = \"rowNumber\" style = \"font-weight: bold; text-align: right;\">3</td><td style = \"text-align: right;\">-0.247384</td><td style = \"text-align: right;\">598.402</td><td style = \"text-align: right;\">24.4157</td><td style = \"text-align: right;\">147.589</td><td style = \"text-align: right;\">12.1486</td><td style = \"text-align: right;\">0.292371</td><td style = \"text-align: left;\">expected_est</td></tr><tr><td class = \"rowNumber\" style = \"font-weight: bold; text-align: right;\">4</td><td style = \"text-align: right;\">-0.295142</td><td style = \"text-align: right;\">757.102</td><td style = \"text-align: right;\">27.582</td><td style = \"text-align: right;\">152.808</td><td style = \"text-align: right;\">12.3615</td><td style = \"text-align: right;\">0.322072</td><td style = \"text-align: left;\">expected_est_better</td></tr><tr><td class = \"rowNumber\" style = \"font-weight: bold; text-align: right;\">5</td><td style = \"text-align: right;\">-0.299731</td><td style = \"text-align: right;\">762.273</td><td style = \"text-align: right;\">27.6786</td><td style = \"text-align: right;\">152.888</td><td style = \"text-align: right;\">12.3648</td><td style = \"text-align: right;\">0.322613</td><td style = \"text-align: left;\">actual_est</td></tr><tr><td class = \"rowNumber\" style = \"font-weight: bold; text-align: right;\">6</td><td style = \"text-align: right;\">-0.514244</td><td style = \"text-align: right;\">3071.87</td><td style = \"text-align: right;\">55.6102</td><td style = \"text-align: right;\">148.168</td><td style = \"text-align: right;\">12.1724</td><td style = \"text-align: right;\">0.558815</td><td style = \"text-align: left;\">expected_est_bad_prior</td></tr><tr><td class = \"rowNumber\" style = \"font-weight: bold; text-align: right;\">7</td><td style = \"text-align: right;\">-0.517365</td><td style = \"text-align: right;\">3087.15</td><td style = \"text-align: right;\">55.7479</td><td style = \"text-align: right;\">148.177</td><td style = \"text-align: right;\">12.1728</td><td style = \"text-align: right;\">0.561236</td><td style = \"text-align: left;\">expected_est_better_bad_prior</td></tr><tr><td class = \"rowNumber\" style = \"font-weight: bold; text-align: right;\">8</td><td style = \"text-align: right;\">-0.500695</td><td style = \"text-align: right;\">3017.65</td><td style = \"text-align: right;\">55.1197</td><td style = \"text-align: right;\">147.634</td><td style = \"text-align: right;\">12.1505</td><td style = \"text-align: right;\">0.546234</td><td style = \"text-align: left;\">actual_est_bad_prior</td></tr></tbody></table></div>"
      ],
      "text/latex": [
       "\\begin{tabular}{r|ccccccc}\n",
       "\t& bias & mse & rmse & var & sd & mae & est\\\\\n",
       "\t\\hline\n",
       "\t& Float64 & Float64 & Float64 & Float64 & Float64 & Float64 & String\\\\\n",
       "\t\\hline\n",
       "\t1 & -2.2746 & 17623.8 & 132.998 & 169.75 & 13.0288 & 2.3142 & glm \\\\\n",
       "\t2 & -3.62427 & 77636.3 & 278.92 & 239.26 & 15.468 & 3.67393 & ols \\\\\n",
       "\t3 & -0.247384 & 598.402 & 24.4157 & 147.589 & 12.1486 & 0.292371 & expected\\_est \\\\\n",
       "\t4 & -0.295142 & 757.102 & 27.582 & 152.808 & 12.3615 & 0.322072 & expected\\_est\\_better \\\\\n",
       "\t5 & -0.299731 & 762.273 & 27.6786 & 152.888 & 12.3648 & 0.322613 & actual\\_est \\\\\n",
       "\t6 & -0.514244 & 3071.87 & 55.6102 & 148.168 & 12.1724 & 0.558815 & expected\\_est\\_bad\\_prior \\\\\n",
       "\t7 & -0.517365 & 3087.15 & 55.7479 & 148.177 & 12.1728 & 0.561236 & expected\\_est\\_better\\_bad\\_prior \\\\\n",
       "\t8 & -0.500695 & 3017.65 & 55.1197 & 147.634 & 12.1505 & 0.546234 & actual\\_est\\_bad\\_prior \\\\\n",
       "\\end{tabular}\n"
      ],
      "text/plain": [
       "\u001b[1m8×7 DataFrame\u001b[0m\n",
       "\u001b[1m Row \u001b[0m│\u001b[1m bias      \u001b[0m\u001b[1m mse       \u001b[0m\u001b[1m rmse     \u001b[0m\u001b[1m var     \u001b[0m\u001b[1m sd      \u001b[0m\u001b[1m mae      \u001b[0m\u001b[1m est        \u001b[0m ⋯\n",
       "     │\u001b[90m Float64   \u001b[0m\u001b[90m Float64   \u001b[0m\u001b[90m Float64  \u001b[0m\u001b[90m Float64 \u001b[0m\u001b[90m Float64 \u001b[0m\u001b[90m Float64  \u001b[0m\u001b[90m String     \u001b[0m ⋯\n",
       "─────┼──────────────────────────────────────────────────────────────────────────\n",
       "   1 │ -2.2746    17623.8    132.998   169.75   13.0288  2.3142    glm         ⋯\n",
       "   2 │ -3.62427   77636.3    278.92    239.26   15.468   3.67393   ols\n",
       "   3 │ -0.247384    598.402   24.4157  147.589  12.1486  0.292371  expected_es\n",
       "   4 │ -0.295142    757.102   27.582   152.808  12.3615  0.322072  expected_es\n",
       "   5 │ -0.299731    762.273   27.6786  152.888  12.3648  0.322613  actual_est  ⋯\n",
       "   6 │ -0.514244   3071.87    55.6102  148.168  12.1724  0.558815  expected_es\n",
       "   7 │ -0.517365   3087.15    55.7479  148.177  12.1728  0.561236  expected_es\n",
       "   8 │ -0.500695   3017.65    55.1197  147.634  12.1505  0.546234  actual_est_\n",
       "\u001b[36m                                                                1 column omitted\u001b[0m"
      ]
     },
     "execution_count": 19,
     "metadata": {},
     "output_type": "execute_result"
    }
   ],
   "source": [
    "DataFrame(\n",
    "    bias  = [mean(((df_res[:, 2] .- df_res[:, k]) ./ 1000)[.!isnan.(df_res[:, k])])              for k in 3:10],\n",
    "    mse   = [mean((((df_res[:, 2] .- df_res[:, k]) .^ 2) ./ 1000)[.!isnan.(df_res[:, k])])       for k in 3:10],\n",
    "    rmse  = [sqrt(mean((((df_res[:, 1] .- df_res[:, k]) .^ 2) ./ 1000)[.!isnan.(df_res[:, k])])) for k in 3:10],\n",
    "    var   = [var((df_res[:, k] / 1000)[.!isnan.(df_res[:, k])])                                  for k in 3:10],\n",
    "    sd    = [std((df_res[:, k] / 1000)[.!isnan.(df_res[:, k])])                                  for k in 3:10],\n",
    "    mae   = [mean((abs.(df_res[:, 2] .- df_res[:, k]) ./ 1000)[.!isnan.(df_res[:, k])])          for k in 3:10],\n",
    "    est   = [\"glm\", \"ols\", \"expected_est\", \"expected_est_better\", \"actual_est\"\n",
    "        , \"expected_est_bad_prior\", \"expected_est_better_bad_prior\", \"actual_est_bad_prior\"\n",
    "    ]\n",
    ")"
   ]
  },
  {
   "cell_type": "code",
   "execution_count": 20,
   "id": "3dcd2570-7205-4c48-bd3b-a24b3f409dc8",
   "metadata": {},
   "outputs": [],
   "source": [
    "CSV.write(pwd() * \"/data_raw/gamma_res.csv\", df_res);"
   ]
  }
 ],
 "metadata": {
  "kernelspec": {
   "display_name": "Julia 1.10.2",
   "language": "julia",
   "name": "julia-1.10"
  },
  "language_info": {
   "file_extension": ".jl",
   "mimetype": "application/julia",
   "name": "julia",
   "version": "1.10.2"
  }
 },
 "nbformat": 4,
 "nbformat_minor": 5
}

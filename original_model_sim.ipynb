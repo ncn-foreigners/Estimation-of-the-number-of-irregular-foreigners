{
 "cells": [
  {
   "cell_type": "markdown",
   "id": "0eb17a0f-d12c-4aa2-bd02-19e29b9e13a3",
   "metadata": {
    "editable": true,
    "slideshow": {
     "slide_type": ""
    },
    "tags": []
   },
   "source": [
    "Installing necessary packages:\n",
    "```Julia\n",
    "using Pkg\n",
    "\n",
    "Pkg.add([\"Random\", \"Distributions\", \"DataFrames\", \"GLM\", \"Statistics\", \"ProgressMeter\", \"Plots\"])\n",
    "```"
   ]
  },
  {
   "cell_type": "code",
   "execution_count": 1,
   "id": "93207f9e-9cab-4fb8-a8e7-a1656a1113ed",
   "metadata": {},
   "outputs": [],
   "source": [
    "using Random, Distributions, DataFrames, GLM, Statistics, ProgressMeter, CSV"
   ]
  },
  {
   "cell_type": "code",
   "execution_count": 2,
   "id": "957313b3-524d-4d09-8fc1-e10abeeb88a3",
   "metadata": {},
   "outputs": [
    {
     "name": "stderr",
     "output_type": "stream",
     "text": [
      "\u001b[32mSimulation progress ... 100%|████████████████████████████| Time: 0:00:00\u001b[39m\n"
     ]
    }
   ],
   "source": [
    "α = 1.18\n",
    "β = .4\n",
    "Q = 20 # Liczba państw\n",
    "nsims = 10000\n",
    "\n",
    "N_distr = Poisson(2000)\n",
    "M_distr = (N, α) -> Poisson.(N .^ α)\n",
    "p_distr = Uniform(.1,.75)\n",
    "\n",
    "res = Vector{Any}(missing, nsims)\n",
    "\n",
    "prog = Progress(10*Threads.nthreads(), \"Simulation progress ...\")\n",
    "\n",
    "Threads.@threads for i in 1:(10*Threads.nthreads())\n",
    "    Threads.threadid()\n",
    "    next!(prog)\n",
    "end # end for"
   ]
  },
  {
   "cell_type": "code",
   "execution_count": 3,
   "id": "963fc2e6-2e15-422b-a5ae-be3858f7cb5f",
   "metadata": {},
   "outputs": [
    {
     "name": "stderr",
     "output_type": "stream",
     "text": [
      "\u001b[32mSimulation progress ... 100%|████████████████████████████| Time: 0:00:04\u001b[39m\n"
     ]
    }
   ],
   "source": [
    "prog = Progress(nsims, \"Simulation progress ...\")\n",
    "\n",
    "Threads.@threads for k in 1:nsims\n",
    "    N = reduce(vcat, rand.(Binomial.(rand(N_distr, Q), .1), 1))\n",
    "    M = reduce(vcat, rand.(M_distr(N, α), 1))\n",
    "    p = rand(p_distr, Q)\n",
    "    \n",
    "    m = reduce(vcat, rand.(Poisson.(M .* p), 1))\n",
    "    n = reduce(vcat, rand.(Binomial.(N, p), 1))\n",
    "\n",
    "    df1 = DataFrame(\n",
    "        y = m,\n",
    "        x1 = log.(N),\n",
    "        x2 = log.(n ./ N)\n",
    "    )\n",
    "\n",
    "    mm = glm(@formula(y ~ x1 + x2 + 0), df1, Poisson(), LogLink())\n",
    "    α̂₁, β̂₁ = coef(mm)\n",
    "\n",
    "    ols = lm(@formula(log(y) ~ x1 + x2 + 0), df1)\n",
    "    α̂₂, β̂₂ = coef(ols)\n",
    "\n",
    "    res[k] = [sum(M) sum(N .^ α) sum(N .^ α̂₁) sum(N .^ α̂₂)]\n",
    "    #push!(res, [sum(M) sum(N .^ α) sum(N .^ α̂₁) sum(N .^ α̂₂)])\n",
    "    next!(prog)\n",
    "end # end for"
   ]
  },
  {
   "cell_type": "code",
   "execution_count": 4,
   "id": "8a3e11af-eb10-46bb-b881-bd742d8973c5",
   "metadata": {
    "scrolled": true
   },
   "outputs": [
    {
     "data": {
      "text/html": [
       "<div><div style = \"float: left;\"><span>4×7 DataFrame</span></div><div style = \"clear: both;\"></div></div><div class = \"data-frame\" style = \"overflow-x: scroll;\"><table class = \"data-frame\" style = \"margin-bottom: 6px;\"><thead><tr class = \"header\"><th class = \"rowNumber\" style = \"font-weight: bold; text-align: right;\">Row</th><th style = \"text-align: left;\">variable</th><th style = \"text-align: left;\">mean</th><th style = \"text-align: left;\">min</th><th style = \"text-align: left;\">median</th><th style = \"text-align: left;\">max</th><th style = \"text-align: left;\">nmissing</th><th style = \"text-align: left;\">eltype</th></tr><tr class = \"subheader headerLastRow\"><th class = \"rowNumber\" style = \"font-weight: bold; text-align: right;\"></th><th title = \"Symbol\" style = \"text-align: left;\">Symbol</th><th title = \"Float64\" style = \"text-align: left;\">Float64</th><th title = \"Float64\" style = \"text-align: left;\">Float64</th><th title = \"Float64\" style = \"text-align: left;\">Float64</th><th title = \"Float64\" style = \"text-align: left;\">Float64</th><th title = \"Int64\" style = \"text-align: left;\">Int64</th><th title = \"DataType\" style = \"text-align: left;\">DataType</th></tr></thead><tbody><tr><td class = \"rowNumber\" style = \"font-weight: bold; text-align: right;\">1</td><td style = \"text-align: left;\">actual</td><td style = \"text-align: right;\">10388.0</td><td style = \"text-align: right;\">9603.0</td><td style = \"text-align: right;\">10386.0</td><td style = \"text-align: right;\">11292.0</td><td style = \"text-align: right;\">0</td><td style = \"text-align: left;\">Float64</td></tr><tr><td class = \"rowNumber\" style = \"font-weight: bold; text-align: right;\">2</td><td style = \"text-align: left;\">expected</td><td style = \"text-align: right;\">10387.5</td><td style = \"text-align: right;\">9510.32</td><td style = \"text-align: right;\">10388.1</td><td style = \"text-align: right;\">11058.1</td><td style = \"text-align: right;\">0</td><td style = \"text-align: left;\">Float64</td></tr><tr><td class = \"rowNumber\" style = \"font-weight: bold; text-align: right;\">3</td><td style = \"text-align: left;\">glm_est</td><td style = \"text-align: right;\">10125.9</td><td style = \"text-align: right;\">7959.86</td><td style = \"text-align: right;\">10113.9</td><td style = \"text-align: right;\">12609.8</td><td style = \"text-align: right;\">0</td><td style = \"text-align: left;\">Float64</td></tr><tr><td class = \"rowNumber\" style = \"font-weight: bold; text-align: right;\">4</td><td style = \"text-align: left;\">ols_est</td><td style = \"text-align: right;\">10045.0</td><td style = \"text-align: right;\">7744.76</td><td style = \"text-align: right;\">10032.5</td><td style = \"text-align: right;\">13860.3</td><td style = \"text-align: right;\">0</td><td style = \"text-align: left;\">Float64</td></tr></tbody></table></div>"
      ],
      "text/latex": [
       "\\begin{tabular}{r|ccccccc}\n",
       "\t& variable & mean & min & median & max & nmissing & eltype\\\\\n",
       "\t\\hline\n",
       "\t& Symbol & Float64 & Float64 & Float64 & Float64 & Int64 & DataType\\\\\n",
       "\t\\hline\n",
       "\t1 & actual & 10388.0 & 9603.0 & 10386.0 & 11292.0 & 0 & Float64 \\\\\n",
       "\t2 & expected & 10387.5 & 9510.32 & 10388.1 & 11058.1 & 0 & Float64 \\\\\n",
       "\t3 & glm\\_est & 10125.9 & 7959.86 & 10113.9 & 12609.8 & 0 & Float64 \\\\\n",
       "\t4 & ols\\_est & 10045.0 & 7744.76 & 10032.5 & 13860.3 & 0 & Float64 \\\\\n",
       "\\end{tabular}\n"
      ],
      "text/plain": [
       "\u001b[1m4×7 DataFrame\u001b[0m\n",
       "\u001b[1m Row \u001b[0m│\u001b[1m variable \u001b[0m\u001b[1m mean    \u001b[0m\u001b[1m min     \u001b[0m\u001b[1m median  \u001b[0m\u001b[1m max     \u001b[0m\u001b[1m nmissing \u001b[0m\u001b[1m eltype   \u001b[0m\n",
       "     │\u001b[90m Symbol   \u001b[0m\u001b[90m Float64 \u001b[0m\u001b[90m Float64 \u001b[0m\u001b[90m Float64 \u001b[0m\u001b[90m Float64 \u001b[0m\u001b[90m Int64    \u001b[0m\u001b[90m DataType \u001b[0m\n",
       "─────┼──────────────────────────────────────────────────────────────────\n",
       "   1 │ actual    10388.0  9603.0   10386.0  11292.0         0  Float64\n",
       "   2 │ expected  10387.5  9510.32  10388.1  11058.1         0  Float64\n",
       "   3 │ glm_est   10125.9  7959.86  10113.9  12609.8         0  Float64\n",
       "   4 │ ols_est   10045.0  7744.76  10032.5  13860.3         0  Float64"
      ]
     },
     "execution_count": 4,
     "metadata": {},
     "output_type": "execute_result"
    }
   ],
   "source": [
    "df_res = DataFrame(reduce(vcat, [res[i] for i in 1:length(res) if isassigned(res, i)]), [\"actual\", \"expected\", \"glm_est\", \"ols_est\"])\n",
    "df_plot = stack(df_res, 1:4)\n",
    "\n",
    "describe(df_res)"
   ]
  },
  {
   "cell_type": "code",
   "execution_count": 5,
   "id": "29c32fd2-6ebb-46f6-b3c9-abd6fcaf1a86",
   "metadata": {},
   "outputs": [
    {
     "data": {
      "text/html": [
       "<div><div style = \"float: left;\"><span>3×4 DataFrame</span></div><div style = \"clear: both;\"></div></div><div class = \"data-frame\" style = \"overflow-x: scroll;\"><table class = \"data-frame\" style = \"margin-bottom: 6px;\"><thead><tr class = \"header\"><th class = \"rowNumber\" style = \"font-weight: bold; text-align: right;\">Row</th><th style = \"text-align: left;\">rel_bias</th><th style = \"text-align: left;\">rel_mse</th><th style = \"text-align: left;\">rel_mae</th><th style = \"text-align: left;\">est</th></tr><tr class = \"subheader headerLastRow\"><th class = \"rowNumber\" style = \"font-weight: bold; text-align: right;\"></th><th title = \"Float64\" style = \"text-align: left;\">Float64</th><th title = \"Float64\" style = \"text-align: left;\">Float64</th><th title = \"Float64\" style = \"text-align: left;\">Float64</th><th title = \"String\" style = \"text-align: left;\">String</th></tr></thead><tbody><tr><td class = \"rowNumber\" style = \"font-weight: bold; text-align: right;\">1</td><td style = \"text-align: right;\">-4.89825e-5</td><td style = \"text-align: right;\">0.991537</td><td style = \"text-align: right;\">0.00781908</td><td style = \"text-align: left;\">Expected value</td></tr><tr><td class = \"rowNumber\" style = \"font-weight: bold; text-align: right;\">2</td><td style = \"text-align: right;\">0.0252293</td><td style = \"text-align: right;\">33.4901</td><td style = \"text-align: right;\">0.0456803</td><td style = \"text-align: left;\">glm</td></tr><tr><td class = \"rowNumber\" style = \"font-weight: bold; text-align: right;\">3</td><td style = \"text-align: right;\">0.0330229</td><td style = \"text-align: right;\">49.4803</td><td style = \"text-align: right;\">0.0557081</td><td style = \"text-align: left;\">ols</td></tr></tbody></table></div>"
      ],
      "text/latex": [
       "\\begin{tabular}{r|cccc}\n",
       "\t& rel\\_bias & rel\\_mse & rel\\_mae & est\\\\\n",
       "\t\\hline\n",
       "\t& Float64 & Float64 & Float64 & String\\\\\n",
       "\t\\hline\n",
       "\t1 & -4.89825e-5 & 0.991537 & 0.00781908 & Expected value \\\\\n",
       "\t2 & 0.0252293 & 33.4901 & 0.0456803 & glm \\\\\n",
       "\t3 & 0.0330229 & 49.4803 & 0.0557081 & ols \\\\\n",
       "\\end{tabular}\n"
      ],
      "text/plain": [
       "\u001b[1m3×4 DataFrame\u001b[0m\n",
       "\u001b[1m Row \u001b[0m│\u001b[1m rel_bias    \u001b[0m\u001b[1m rel_mse   \u001b[0m\u001b[1m rel_mae    \u001b[0m\u001b[1m est            \u001b[0m\n",
       "     │\u001b[90m Float64     \u001b[0m\u001b[90m Float64   \u001b[0m\u001b[90m Float64    \u001b[0m\u001b[90m String         \u001b[0m\n",
       "─────┼────────────────────────────────────────────────────\n",
       "   1 │ -4.89825e-5   0.991537  0.00781908  Expected value\n",
       "   2 │  0.0252293   33.4901    0.0456803   glm\n",
       "   3 │  0.0330229   49.4803    0.0557081   ols"
      ]
     },
     "execution_count": 5,
     "metadata": {},
     "output_type": "execute_result"
    }
   ],
   "source": [
    "DataFrame(\n",
    "    rel_bias = [mean((df_res[:, 1] .- df_res[:, 2]) ./ df_res[:, 1]), mean((df_res[:, 1] .- df_res[:, 3]) ./ df_res[:, 1]), mean((df_res[:, 1] .- df_res[:, 4]) ./ df_res[:, 1])],\n",
    "    rel_mse  = [mean(((df_res[:, 1] .- df_res[:, 2]) .^ 2) ./ df_res[:, 1]), mean(((df_res[:, 1] .- df_res[:, 3]) .^ 2) ./ df_res[:, 1]), mean(((df_res[:, 1] .- df_res[:, 4]) .^ 2) ./ df_res[:, 1])],\n",
    "    rel_mae  = [mean(abs.(df_res[:, 1] .- df_res[:, 2]) ./ df_res[:, 1]), mean(abs.(df_res[:, 1] .- df_res[:, 3]) ./ df_res[:, 1]), mean(abs.(df_res[:, 1] .- df_res[:, 4]) ./ df_res[:, 1])],\n",
    "    est      = [\"Expected value\",\"glm\",\"ols\"]\n",
    ")"
   ]
  },
  {
   "cell_type": "code",
   "execution_count": 6,
   "id": "faa1d2fe-39d0-4afc-bf67-40ac55094c7d",
   "metadata": {},
   "outputs": [
    {
     "data": {
      "text/html": [
       "<div><div style = \"float: left;\"><span>2×4 DataFrame</span></div><div style = \"clear: both;\"></div></div><div class = \"data-frame\" style = \"overflow-x: scroll;\"><table class = \"data-frame\" style = \"margin-bottom: 6px;\"><thead><tr class = \"header\"><th class = \"rowNumber\" style = \"font-weight: bold; text-align: right;\">Row</th><th style = \"text-align: left;\">rel_bias</th><th style = \"text-align: left;\">rel_mse</th><th style = \"text-align: left;\">rel_mae</th><th style = \"text-align: left;\">est</th></tr><tr class = \"subheader headerLastRow\"><th class = \"rowNumber\" style = \"font-weight: bold; text-align: right;\"></th><th title = \"Float64\" style = \"text-align: left;\">Float64</th><th title = \"Float64\" style = \"text-align: left;\">Float64</th><th title = \"Float64\" style = \"text-align: left;\">Float64</th><th title = \"String\" style = \"text-align: left;\">String</th></tr></thead><tbody><tr><td class = \"rowNumber\" style = \"font-weight: bold; text-align: right;\">1</td><td style = \"text-align: right;\">0.0251827</td><td style = \"text-align: right;\">34.4351</td><td style = \"text-align: right;\">0.0463156</td><td style = \"text-align: left;\">glm</td></tr><tr><td class = \"rowNumber\" style = \"font-weight: bold; text-align: right;\">2</td><td style = \"text-align: right;\">0.0329732</td><td style = \"text-align: right;\">50.4747</td><td style = \"text-align: right;\">0.0562796</td><td style = \"text-align: left;\">ols</td></tr></tbody></table></div>"
      ],
      "text/latex": [
       "\\begin{tabular}{r|cccc}\n",
       "\t& rel\\_bias & rel\\_mse & rel\\_mae & est\\\\\n",
       "\t\\hline\n",
       "\t& Float64 & Float64 & Float64 & String\\\\\n",
       "\t\\hline\n",
       "\t1 & 0.0251827 & 34.4351 & 0.0463156 & glm \\\\\n",
       "\t2 & 0.0329732 & 50.4747 & 0.0562796 & ols \\\\\n",
       "\\end{tabular}\n"
      ],
      "text/plain": [
       "\u001b[1m2×4 DataFrame\u001b[0m\n",
       "\u001b[1m Row \u001b[0m│\u001b[1m rel_bias  \u001b[0m\u001b[1m rel_mse \u001b[0m\u001b[1m rel_mae   \u001b[0m\u001b[1m est    \u001b[0m\n",
       "     │\u001b[90m Float64   \u001b[0m\u001b[90m Float64 \u001b[0m\u001b[90m Float64   \u001b[0m\u001b[90m String \u001b[0m\n",
       "─────┼───────────────────────────────────────\n",
       "   1 │ 0.0251827  34.4351  0.0463156  glm\n",
       "   2 │ 0.0329732  50.4747  0.0562796  ols"
      ]
     },
     "execution_count": 6,
     "metadata": {},
     "output_type": "execute_result"
    }
   ],
   "source": [
    "DataFrame(\n",
    "    rel_bias = [mean((df_res[:, 2] .- df_res[:, 3]) ./ df_res[:, 2]), mean((df_res[:, 2] .- df_res[:, 4]) ./ df_res[:, 2])],\n",
    "    rel_mse  = [mean(((df_res[:, 2] .- df_res[:, 3]) .^ 2) ./ df_res[:, 2]), mean(((df_res[:, 2] .- df_res[:, 4]) .^ 2) ./ df_res[:, 2])],\n",
    "    rel_mae  = [mean(abs.(df_res[:, 2] .- df_res[:, 3]) ./ df_res[:, 2]), mean(abs.(df_res[:, 2] .- df_res[:, 4]) ./ df_res[:, 2])],\n",
    "    est      = [\"glm\",\"ols\"]\n",
    ")"
   ]
  },
  {
   "cell_type": "code",
   "execution_count": 7,
   "id": "635091b2-efc6-48b9-ba3d-83a0220c0eb6",
   "metadata": {},
   "outputs": [],
   "source": [
    "CSV.write(pwd() * \"/data_raw/init_res.csv\", df_res);"
   ]
  }
 ],
 "metadata": {
  "kernelspec": {
   "display_name": "Julia 1.10.2",
   "language": "julia",
   "name": "julia-1.10"
  },
  "language_info": {
   "file_extension": ".jl",
   "mimetype": "application/julia",
   "name": "julia",
   "version": "1.10.2"
  }
 },
 "nbformat": 4,
 "nbformat_minor": 5
}

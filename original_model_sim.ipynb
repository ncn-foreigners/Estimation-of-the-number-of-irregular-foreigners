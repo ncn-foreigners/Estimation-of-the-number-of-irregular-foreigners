{
 "cells": [
  {
   "cell_type": "markdown",
   "id": "0eb17a0f-d12c-4aa2-bd02-19e29b9e13a3",
   "metadata": {
    "editable": true,
    "slideshow": {
     "slide_type": ""
    },
    "tags": []
   },
   "source": [
    "Installing necessary packages:\n",
    "```Julia\n",
    "using Pkg\n",
    "\n",
    "Pkg.add([\"Random\", \"Distributions\", \"DataFrames\", \"GLM\", \"Statistics\", \"ProgressMeter\", \"Plots\"])\n",
    "Pkg.add(url = \"https://github.com/ncn-foreigners/UnobservedCountEstimation.jl\")\n",
    "```"
   ]
  },
  {
   "cell_type": "code",
   "execution_count": 2,
   "id": "93207f9e-9cab-4fb8-a8e7-a1656a1113ed",
   "metadata": {},
   "outputs": [],
   "source": [
    "using Random, Distributions, DataFrames, GLM, Statistics, ProgressMeter, CSV, UnobservedCountEstimation"
   ]
  },
  {
   "cell_type": "code",
   "execution_count": 3,
   "id": "957313b3-524d-4d09-8fc1-e10abeeb88a3",
   "metadata": {},
   "outputs": [
    {
     "name": "stderr",
     "output_type": "stream",
     "text": [
      "\u001b[32mSimulation progress ... 100%|████████████████████████████| Time: 0:00:00\u001b[39m\n"
     ]
    }
   ],
   "source": [
    "α = 1.18\n",
    "β = .4\n",
    "Q = 20 # Liczba państw\n",
    "nsims = 10000\n",
    "\n",
    "N_distr = Poisson(2000)\n",
    "M_distr = (N, α) -> Poisson.(N .^ α)\n",
    "p_distr = Uniform(.1,.75)\n",
    "\n",
    "res = Vector{Any}(missing, nsims)\n",
    "\n",
    "prog = Progress(10*Threads.nthreads(), \"Simulation progress ...\")\n",
    "\n",
    "Threads.@threads for i in 1:(10*Threads.nthreads())\n",
    "    Threads.threadid()\n",
    "    next!(prog)\n",
    "end # end for"
   ]
  },
  {
   "cell_type": "code",
   "execution_count": 4,
   "id": "963fc2e6-2e15-422b-a5ae-be3858f7cb5f",
   "metadata": {},
   "outputs": [
    {
     "name": "stderr",
     "output_type": "stream",
     "text": [
      "\u001b[32mSimulation progress ... 100%|████████████████████████████| Time: 0:00:11\u001b[39m\n"
     ]
    }
   ],
   "source": [
    "prog = Progress(nsims, \"Simulation progress ...\")\n",
    "\n",
    "Threads.@threads for k in 1:nsims\n",
    "    N = reduce(vcat, rand.(Binomial.(rand(N_distr, Q), .1), 1))\n",
    "    M = reduce(vcat, rand.(M_distr(N, α), 1))\n",
    "    p = rand(p_distr, Q)\n",
    "    \n",
    "    m = reduce(vcat, rand.(Poisson.(M .* p), 1))\n",
    "    n = reduce(vcat, rand.(Binomial.(N, p), 1))\n",
    "\n",
    "    df1 = DataFrame(\n",
    "        y = m,\n",
    "        x1 = log.(N),\n",
    "        x2 = log.(n ./ N)\n",
    "    )\n",
    "\n",
    "    mm = glm(@formula(y ~ x1 + x2 + 0), df1, Poisson(), LogLink())\n",
    "    α̂₁, β̂₁ = coef(mm)\n",
    "\n",
    "    ols = lm(@formula(log(y) ~ x1 + x2 + 0), df1)\n",
    "    α̂₂, β̂₂ = coef(ols)\n",
    "\n",
    "    mle_1 = zhang_model(m, N, n; start = \"glm\")[1][4]\n",
    "    mle_2 = zhang_model(m, N, n; start = \"lm\")[1][4]\n",
    "\n",
    "    res[k] = [sum(M) sum(N .^ α) sum(N .^ α̂₁) sum(N .^ α̂₂) mle_1 mle_2]\n",
    "    #push!(res, [sum(M) sum(N .^ α) sum(N .^ α̂₁) sum(N .^ α̂₂)])\n",
    "    next!(prog)\n",
    "end # end for"
   ]
  },
  {
   "cell_type": "code",
   "execution_count": 5,
   "id": "8a3e11af-eb10-46bb-b881-bd742d8973c5",
   "metadata": {
    "scrolled": true
   },
   "outputs": [
    {
     "data": {
      "text/html": [
       "<div><div style = \"float: left;\"><span>6×7 DataFrame</span></div><div style = \"clear: both;\"></div></div><div class = \"data-frame\" style = \"overflow-x: scroll;\"><table class = \"data-frame\" style = \"margin-bottom: 6px;\"><thead><tr class = \"header\"><th class = \"rowNumber\" style = \"font-weight: bold; text-align: right;\">Row</th><th style = \"text-align: left;\">variable</th><th style = \"text-align: left;\">mean</th><th style = \"text-align: left;\">min</th><th style = \"text-align: left;\">median</th><th style = \"text-align: left;\">max</th><th style = \"text-align: left;\">nmissing</th><th style = \"text-align: left;\">eltype</th></tr><tr class = \"subheader headerLastRow\"><th class = \"rowNumber\" style = \"font-weight: bold; text-align: right;\"></th><th title = \"Symbol\" style = \"text-align: left;\">Symbol</th><th title = \"Float64\" style = \"text-align: left;\">Float64</th><th title = \"Float64\" style = \"text-align: left;\">Float64</th><th title = \"Float64\" style = \"text-align: left;\">Float64</th><th title = \"Float64\" style = \"text-align: left;\">Float64</th><th title = \"Int64\" style = \"text-align: left;\">Int64</th><th title = \"DataType\" style = \"text-align: left;\">DataType</th></tr></thead><tbody><tr><td class = \"rowNumber\" style = \"font-weight: bold; text-align: right;\">1</td><td style = \"text-align: left;\">actual</td><td style = \"text-align: right;\">10387.4</td><td style = \"text-align: right;\">9604.0</td><td style = \"text-align: right;\">10385.0</td><td style = \"text-align: right;\">11182.0</td><td style = \"text-align: right;\">0</td><td style = \"text-align: left;\">Float64</td></tr><tr><td class = \"rowNumber\" style = \"font-weight: bold; text-align: right;\">2</td><td style = \"text-align: left;\">expected</td><td style = \"text-align: right;\">10386.9</td><td style = \"text-align: right;\">9692.25</td><td style = \"text-align: right;\">10387.9</td><td style = \"text-align: right;\">11074.7</td><td style = \"text-align: right;\">0</td><td style = \"text-align: left;\">Float64</td></tr><tr><td class = \"rowNumber\" style = \"font-weight: bold; text-align: right;\">3</td><td style = \"text-align: left;\">glm_est</td><td style = \"text-align: right;\">10125.0</td><td style = \"text-align: right;\">8083.57</td><td style = \"text-align: right;\">10102.9</td><td style = \"text-align: right;\">12805.5</td><td style = \"text-align: right;\">0</td><td style = \"text-align: left;\">Float64</td></tr><tr><td class = \"rowNumber\" style = \"font-weight: bold; text-align: right;\">4</td><td style = \"text-align: left;\">ols_est</td><td style = \"text-align: right;\">10042.6</td><td style = \"text-align: right;\">7624.68</td><td style = \"text-align: right;\">10024.2</td><td style = \"text-align: right;\">13424.9</td><td style = \"text-align: right;\">0</td><td style = \"text-align: left;\">Float64</td></tr><tr><td class = \"rowNumber\" style = \"font-weight: bold; text-align: right;\">5</td><td style = \"text-align: left;\">mle_glm_start</td><td style = \"text-align: right;\">10089.9</td><td style = \"text-align: right;\">7816.64</td><td style = \"text-align: right;\">10075.2</td><td style = \"text-align: right;\">13147.0</td><td style = \"text-align: right;\">0</td><td style = \"text-align: left;\">Float64</td></tr><tr><td class = \"rowNumber\" style = \"font-weight: bold; text-align: right;\">6</td><td style = \"text-align: left;\">mle_lm_start</td><td style = \"text-align: right;\">10089.9</td><td style = \"text-align: right;\">7816.64</td><td style = \"text-align: right;\">10075.2</td><td style = \"text-align: right;\">13147.0</td><td style = \"text-align: right;\">0</td><td style = \"text-align: left;\">Float64</td></tr></tbody></table></div>"
      ],
      "text/latex": [
       "\\begin{tabular}{r|ccccccc}\n",
       "\t& variable & mean & min & median & max & nmissing & eltype\\\\\n",
       "\t\\hline\n",
       "\t& Symbol & Float64 & Float64 & Float64 & Float64 & Int64 & DataType\\\\\n",
       "\t\\hline\n",
       "\t1 & actual & 10387.4 & 9604.0 & 10385.0 & 11182.0 & 0 & Float64 \\\\\n",
       "\t2 & expected & 10386.9 & 9692.25 & 10387.9 & 11074.7 & 0 & Float64 \\\\\n",
       "\t3 & glm\\_est & 10125.0 & 8083.57 & 10102.9 & 12805.5 & 0 & Float64 \\\\\n",
       "\t4 & ols\\_est & 10042.6 & 7624.68 & 10024.2 & 13424.9 & 0 & Float64 \\\\\n",
       "\t5 & mle\\_glm\\_start & 10089.9 & 7816.64 & 10075.2 & 13147.0 & 0 & Float64 \\\\\n",
       "\t6 & mle\\_lm\\_start & 10089.9 & 7816.64 & 10075.2 & 13147.0 & 0 & Float64 \\\\\n",
       "\\end{tabular}\n"
      ],
      "text/plain": [
       "\u001b[1m6×7 DataFrame\u001b[0m\n",
       "\u001b[1m Row \u001b[0m│\u001b[1m variable      \u001b[0m\u001b[1m mean    \u001b[0m\u001b[1m min     \u001b[0m\u001b[1m median  \u001b[0m\u001b[1m max     \u001b[0m\u001b[1m nmissing \u001b[0m\u001b[1m eltype   \u001b[0m\n",
       "     │\u001b[90m Symbol        \u001b[0m\u001b[90m Float64 \u001b[0m\u001b[90m Float64 \u001b[0m\u001b[90m Float64 \u001b[0m\u001b[90m Float64 \u001b[0m\u001b[90m Int64    \u001b[0m\u001b[90m DataType \u001b[0m\n",
       "─────┼───────────────────────────────────────────────────────────────────────\n",
       "   1 │ actual         10387.4  9604.0   10385.0  11182.0         0  Float64\n",
       "   2 │ expected       10386.9  9692.25  10387.9  11074.7         0  Float64\n",
       "   3 │ glm_est        10125.0  8083.57  10102.9  12805.5         0  Float64\n",
       "   4 │ ols_est        10042.6  7624.68  10024.2  13424.9         0  Float64\n",
       "   5 │ mle_glm_start  10089.9  7816.64  10075.2  13147.0         0  Float64\n",
       "   6 │ mle_lm_start   10089.9  7816.64  10075.2  13147.0         0  Float64"
      ]
     },
     "execution_count": 5,
     "metadata": {},
     "output_type": "execute_result"
    }
   ],
   "source": [
    "df_res = DataFrame(reduce(vcat, [res[i] for i in 1:length(res) if isassigned(res, i)]), [\"actual\", \"expected\", \"glm_est\", \"ols_est\", \"mle_glm_start\", \"mle_lm_start\"])\n",
    "\n",
    "describe(df_res)"
   ]
  },
  {
   "cell_type": "code",
   "execution_count": 6,
   "id": "29c32fd2-6ebb-46f6-b3c9-abd6fcaf1a86",
   "metadata": {},
   "outputs": [
    {
     "data": {
      "text/html": [
       "<div><div style = \"float: left;\"><span>5×4 DataFrame</span></div><div style = \"clear: both;\"></div></div><div class = \"data-frame\" style = \"overflow-x: scroll;\"><table class = \"data-frame\" style = \"margin-bottom: 6px;\"><thead><tr class = \"header\"><th class = \"rowNumber\" style = \"font-weight: bold; text-align: right;\">Row</th><th style = \"text-align: left;\">rel_bias</th><th style = \"text-align: left;\">rel_mse</th><th style = \"text-align: left;\">rel_mae</th><th style = \"text-align: left;\">est</th></tr><tr class = \"subheader headerLastRow\"><th class = \"rowNumber\" style = \"font-weight: bold; text-align: right;\"></th><th title = \"Float64\" style = \"text-align: left;\">Float64</th><th title = \"Float64\" style = \"text-align: left;\">Float64</th><th title = \"Float64\" style = \"text-align: left;\">Float64</th><th title = \"String\" style = \"text-align: left;\">String</th></tr></thead><tbody><tr><td class = \"rowNumber\" style = \"font-weight: bold; text-align: right;\">1</td><td style = \"text-align: right;\">-5.11886e-5</td><td style = \"text-align: right;\">1.0084</td><td style = \"text-align: right;\">0.00785276</td><td style = \"text-align: left;\">Expected value</td></tr><tr><td class = \"rowNumber\" style = \"font-weight: bold; text-align: right;\">2</td><td style = \"text-align: right;\">0.0252743</td><td style = \"text-align: right;\">33.4738</td><td style = \"text-align: right;\">0.0458633</td><td style = \"text-align: left;\">glm</td></tr><tr><td class = \"rowNumber\" style = \"font-weight: bold; text-align: right;\">3</td><td style = \"text-align: right;\">0.0332085</td><td style = \"text-align: right;\">49.2042</td><td style = \"text-align: right;\">0.0556424</td><td style = \"text-align: left;\">ols</td></tr><tr><td class = \"rowNumber\" style = \"font-weight: bold; text-align: right;\">4</td><td style = \"text-align: right;\">0.0286597</td><td style = \"text-align: right;\">39.3878</td><td style = \"text-align: right;\">0.0496685</td><td style = \"text-align: left;\">mle_glm_start</td></tr><tr><td class = \"rowNumber\" style = \"font-weight: bold; text-align: right;\">5</td><td style = \"text-align: right;\">0.0286597</td><td style = \"text-align: right;\">39.3878</td><td style = \"text-align: right;\">0.0496685</td><td style = \"text-align: left;\">mle_lm_start</td></tr></tbody></table></div>"
      ],
      "text/latex": [
       "\\begin{tabular}{r|cccc}\n",
       "\t& rel\\_bias & rel\\_mse & rel\\_mae & est\\\\\n",
       "\t\\hline\n",
       "\t& Float64 & Float64 & Float64 & String\\\\\n",
       "\t\\hline\n",
       "\t1 & -5.11886e-5 & 1.0084 & 0.00785276 & Expected value \\\\\n",
       "\t2 & 0.0252743 & 33.4738 & 0.0458633 & glm \\\\\n",
       "\t3 & 0.0332085 & 49.2042 & 0.0556424 & ols \\\\\n",
       "\t4 & 0.0286597 & 39.3878 & 0.0496685 & mle\\_glm\\_start \\\\\n",
       "\t5 & 0.0286597 & 39.3878 & 0.0496685 & mle\\_lm\\_start \\\\\n",
       "\\end{tabular}\n"
      ],
      "text/plain": [
       "\u001b[1m5×4 DataFrame\u001b[0m\n",
       "\u001b[1m Row \u001b[0m│\u001b[1m rel_bias    \u001b[0m\u001b[1m rel_mse \u001b[0m\u001b[1m rel_mae    \u001b[0m\u001b[1m est            \u001b[0m\n",
       "     │\u001b[90m Float64     \u001b[0m\u001b[90m Float64 \u001b[0m\u001b[90m Float64    \u001b[0m\u001b[90m String         \u001b[0m\n",
       "─────┼──────────────────────────────────────────────────\n",
       "   1 │ -5.11886e-5   1.0084  0.00785276  Expected value\n",
       "   2 │  0.0252743   33.4738  0.0458633   glm\n",
       "   3 │  0.0332085   49.2042  0.0556424   ols\n",
       "   4 │  0.0286597   39.3878  0.0496685   mle_glm_start\n",
       "   5 │  0.0286597   39.3878  0.0496685   mle_lm_start"
      ]
     },
     "execution_count": 6,
     "metadata": {},
     "output_type": "execute_result"
    }
   ],
   "source": [
    "DataFrame(\n",
    "    rel_bias = [mean((df_res[:, 1] .- df_res[:, k]) ./ df_res[:, 1])        for k in 2:6],\n",
    "    rel_mse  = [mean(((df_res[:, 1] .- df_res[:, k]) .^ 2) ./ df_res[:, 1]) for k in 2:6],\n",
    "    rel_mae  = [mean(abs.(df_res[:, 1] .- df_res[:, k]) ./ df_res[:, 1])    for k in 2:6],\n",
    "    est      = [\"Expected value\", \"glm\", \"ols\", \"mle_glm_start\", \"mle_lm_start\"]\n",
    ")"
   ]
  },
  {
   "cell_type": "code",
   "execution_count": 7,
   "id": "faa1d2fe-39d0-4afc-bf67-40ac55094c7d",
   "metadata": {},
   "outputs": [
    {
     "data": {
      "text/html": [
       "<div><div style = \"float: left;\"><span>4×4 DataFrame</span></div><div style = \"clear: both;\"></div></div><div class = \"data-frame\" style = \"overflow-x: scroll;\"><table class = \"data-frame\" style = \"margin-bottom: 6px;\"><thead><tr class = \"header\"><th class = \"rowNumber\" style = \"font-weight: bold; text-align: right;\">Row</th><th style = \"text-align: left;\">rel_bias</th><th style = \"text-align: left;\">rel_mse</th><th style = \"text-align: left;\">rel_mae</th><th style = \"text-align: left;\">est</th></tr><tr class = \"subheader headerLastRow\"><th class = \"rowNumber\" style = \"font-weight: bold; text-align: right;\"></th><th title = \"Float64\" style = \"text-align: left;\">Float64</th><th title = \"Float64\" style = \"text-align: left;\">Float64</th><th title = \"Float64\" style = \"text-align: left;\">Float64</th><th title = \"String\" style = \"text-align: left;\">String</th></tr></thead><tbody><tr><td class = \"rowNumber\" style = \"font-weight: bold; text-align: right;\">1</td><td style = \"text-align: right;\">0.0252333</td><td style = \"text-align: right;\">34.3343</td><td style = \"text-align: right;\">0.0464634</td><td style = \"text-align: left;\">glm</td></tr><tr><td class = \"rowNumber\" style = \"font-weight: bold; text-align: right;\">2</td><td style = \"text-align: right;\">0.0331669</td><td style = \"text-align: right;\">50.0607</td><td style = \"text-align: right;\">0.056162</td><td style = \"text-align: left;\">ols</td></tr><tr><td class = \"rowNumber\" style = \"font-weight: bold; text-align: right;\">3</td><td style = \"text-align: right;\">0.0286182</td><td style = \"text-align: right;\">40.2513</td><td style = \"text-align: right;\">0.0502106</td><td style = \"text-align: left;\">mle_glm_start</td></tr><tr><td class = \"rowNumber\" style = \"font-weight: bold; text-align: right;\">4</td><td style = \"text-align: right;\">0.0286182</td><td style = \"text-align: right;\">40.2513</td><td style = \"text-align: right;\">0.0502106</td><td style = \"text-align: left;\">mle_lm_start</td></tr></tbody></table></div>"
      ],
      "text/latex": [
       "\\begin{tabular}{r|cccc}\n",
       "\t& rel\\_bias & rel\\_mse & rel\\_mae & est\\\\\n",
       "\t\\hline\n",
       "\t& Float64 & Float64 & Float64 & String\\\\\n",
       "\t\\hline\n",
       "\t1 & 0.0252333 & 34.3343 & 0.0464634 & glm \\\\\n",
       "\t2 & 0.0331669 & 50.0607 & 0.056162 & ols \\\\\n",
       "\t3 & 0.0286182 & 40.2513 & 0.0502106 & mle\\_glm\\_start \\\\\n",
       "\t4 & 0.0286182 & 40.2513 & 0.0502106 & mle\\_lm\\_start \\\\\n",
       "\\end{tabular}\n"
      ],
      "text/plain": [
       "\u001b[1m4×4 DataFrame\u001b[0m\n",
       "\u001b[1m Row \u001b[0m│\u001b[1m rel_bias  \u001b[0m\u001b[1m rel_mse \u001b[0m\u001b[1m rel_mae   \u001b[0m\u001b[1m est           \u001b[0m\n",
       "     │\u001b[90m Float64   \u001b[0m\u001b[90m Float64 \u001b[0m\u001b[90m Float64   \u001b[0m\u001b[90m String        \u001b[0m\n",
       "─────┼──────────────────────────────────────────────\n",
       "   1 │ 0.0252333  34.3343  0.0464634  glm\n",
       "   2 │ 0.0331669  50.0607  0.056162   ols\n",
       "   3 │ 0.0286182  40.2513  0.0502106  mle_glm_start\n",
       "   4 │ 0.0286182  40.2513  0.0502106  mle_lm_start"
      ]
     },
     "execution_count": 7,
     "metadata": {},
     "output_type": "execute_result"
    }
   ],
   "source": [
    "DataFrame(\n",
    "    rel_bias = [mean((df_res[:, 2] .- df_res[:, k]) ./ df_res[:, 2])        for k in 3:6],\n",
    "    rel_mse  = [mean(((df_res[:, 2] .- df_res[:, k]) .^ 2) ./ df_res[:, 2]) for k in 3:6],\n",
    "    rel_mae  = [mean(abs.(df_res[:, 2] .- df_res[:, k]) ./ df_res[:, 2])    for k in 3:6],\n",
    "    est      = [\"glm\", \"ols\", \"mle_glm_start\", \"mle_lm_start\"]\n",
    ")"
   ]
  },
  {
   "cell_type": "code",
   "execution_count": 8,
   "id": "635091b2-efc6-48b9-ba3d-83a0220c0eb6",
   "metadata": {},
   "outputs": [],
   "source": [
    "CSV.write(pwd() * \"/data_raw/init_res.csv\", df_res);"
   ]
  },
  {
   "cell_type": "markdown",
   "id": "57614283-ff59-42e0-9cfa-f202038c40ff",
   "metadata": {},
   "source": [
    "### Higher population"
   ]
  },
  {
   "cell_type": "code",
   "execution_count": 9,
   "id": "1d7bbd83-df7c-44a9-b08b-aace1353d77f",
   "metadata": {
    "scrolled": true
   },
   "outputs": [
    {
     "name": "stderr",
     "output_type": "stream",
     "text": [
      "\u001b[32mSimulation progress ... 100%|████████████████████████████| Time: 0:00:03\u001b[39m\n"
     ]
    },
    {
     "data": {
      "text/html": [
       "<div><div style = \"float: left;\"><span>6×7 DataFrame</span></div><div style = \"clear: both;\"></div></div><div class = \"data-frame\" style = \"overflow-x: scroll;\"><table class = \"data-frame\" style = \"margin-bottom: 6px;\"><thead><tr class = \"header\"><th class = \"rowNumber\" style = \"font-weight: bold; text-align: right;\">Row</th><th style = \"text-align: left;\">variable</th><th style = \"text-align: left;\">mean</th><th style = \"text-align: left;\">min</th><th style = \"text-align: left;\">median</th><th style = \"text-align: left;\">max</th><th style = \"text-align: left;\">nmissing</th><th style = \"text-align: left;\">eltype</th></tr><tr class = \"subheader headerLastRow\"><th class = \"rowNumber\" style = \"font-weight: bold; text-align: right;\"></th><th title = \"Symbol\" style = \"text-align: left;\">Symbol</th><th title = \"Float64\" style = \"text-align: left;\">Float64</th><th title = \"Float64\" style = \"text-align: left;\">Float64</th><th title = \"Float64\" style = \"text-align: left;\">Float64</th><th title = \"Float64\" style = \"text-align: left;\">Float64</th><th title = \"Int64\" style = \"text-align: left;\">Int64</th><th title = \"DataType\" style = \"text-align: left;\">DataType</th></tr></thead><tbody><tr><td class = \"rowNumber\" style = \"font-weight: bold; text-align: right;\">1</td><td style = \"text-align: left;\">actual</td><td style = \"text-align: right;\">6.03546e5</td><td style = \"text-align: right;\">555090.0</td><td style = \"text-align: right;\">603597.0</td><td style = \"text-align: right;\">655810.0</td><td style = \"text-align: right;\">0</td><td style = \"text-align: left;\">Float64</td></tr><tr><td class = \"rowNumber\" style = \"font-weight: bold; text-align: right;\">2</td><td style = \"text-align: left;\">expected</td><td style = \"text-align: right;\">6.03546e5</td><td style = \"text-align: right;\">554276.0</td><td style = \"text-align: right;\">6.03595e5</td><td style = \"text-align: right;\">6.5576e5</td><td style = \"text-align: right;\">0</td><td style = \"text-align: left;\">Float64</td></tr><tr><td class = \"rowNumber\" style = \"font-weight: bold; text-align: right;\">3</td><td style = \"text-align: left;\">glm_est</td><td style = \"text-align: right;\">5.39599e5</td><td style = \"text-align: right;\">1.5562e5</td><td style = \"text-align: right;\">5.20156e5</td><td style = \"text-align: right;\">2.65869e6</td><td style = \"text-align: right;\">0</td><td style = \"text-align: left;\">Float64</td></tr><tr><td class = \"rowNumber\" style = \"font-weight: bold; text-align: right;\">4</td><td style = \"text-align: left;\">ols_est</td><td style = \"text-align: right;\">5.40289e5</td><td style = \"text-align: right;\">1.5534e5</td><td style = \"text-align: right;\">5.19848e5</td><td style = \"text-align: right;\">2.79366e6</td><td style = \"text-align: right;\">0</td><td style = \"text-align: left;\">Float64</td></tr><tr><td class = \"rowNumber\" style = \"font-weight: bold; text-align: right;\">5</td><td style = \"text-align: left;\">mle_glm_start</td><td style = \"text-align: right;\">540266.0</td><td style = \"text-align: right;\">156088.0</td><td style = \"text-align: right;\">5.1964e5</td><td style = \"text-align: right;\">2.76046e6</td><td style = \"text-align: right;\">0</td><td style = \"text-align: left;\">Float64</td></tr><tr><td class = \"rowNumber\" style = \"font-weight: bold; text-align: right;\">6</td><td style = \"text-align: left;\">mle_lm_start</td><td style = \"text-align: right;\">540266.0</td><td style = \"text-align: right;\">156088.0</td><td style = \"text-align: right;\">5.1964e5</td><td style = \"text-align: right;\">2.76046e6</td><td style = \"text-align: right;\">0</td><td style = \"text-align: left;\">Float64</td></tr></tbody></table></div>"
      ],
      "text/latex": [
       "\\begin{tabular}{r|ccccccc}\n",
       "\t& variable & mean & min & median & max & nmissing & eltype\\\\\n",
       "\t\\hline\n",
       "\t& Symbol & Float64 & Float64 & Float64 & Float64 & Int64 & DataType\\\\\n",
       "\t\\hline\n",
       "\t1 & actual & 6.03546e5 & 555090.0 & 603597.0 & 655810.0 & 0 & Float64 \\\\\n",
       "\t2 & expected & 6.03546e5 & 554276.0 & 6.03595e5 & 6.5576e5 & 0 & Float64 \\\\\n",
       "\t3 & glm\\_est & 5.39599e5 & 1.5562e5 & 5.20156e5 & 2.65869e6 & 0 & Float64 \\\\\n",
       "\t4 & ols\\_est & 5.40289e5 & 1.5534e5 & 5.19848e5 & 2.79366e6 & 0 & Float64 \\\\\n",
       "\t5 & mle\\_glm\\_start & 540266.0 & 156088.0 & 5.1964e5 & 2.76046e6 & 0 & Float64 \\\\\n",
       "\t6 & mle\\_lm\\_start & 540266.0 & 156088.0 & 5.1964e5 & 2.76046e6 & 0 & Float64 \\\\\n",
       "\\end{tabular}\n"
      ],
      "text/plain": [
       "\u001b[1m6×7 DataFrame\u001b[0m\n",
       "\u001b[1m Row \u001b[0m│\u001b[1m variable      \u001b[0m\u001b[1m mean           \u001b[0m\u001b[1m min           \u001b[0m\u001b[1m median         \u001b[0m\u001b[1m max      \u001b[0m ⋯\n",
       "     │\u001b[90m Symbol        \u001b[0m\u001b[90m Float64        \u001b[0m\u001b[90m Float64       \u001b[0m\u001b[90m Float64        \u001b[0m\u001b[90m Float64  \u001b[0m ⋯\n",
       "─────┼──────────────────────────────────────────────────────────────────────────\n",
       "   1 │ actual              6.03546e5  555090.0       603597.0        655810.0  ⋯\n",
       "   2 │ expected            6.03546e5  554276.0            6.03595e5       6.55\n",
       "   3 │ glm_est             5.39599e5       1.5562e5       5.20156e5       2.65\n",
       "   4 │ ols_est             5.40289e5       1.5534e5       5.19848e5       2.79\n",
       "   5 │ mle_glm_start  540266.0        156088.0            5.1964e5        2.76 ⋯\n",
       "   6 │ mle_lm_start   540266.0        156088.0            5.1964e5        2.76\n",
       "\u001b[36m                                                               3 columns omitted\u001b[0m"
      ]
     },
     "execution_count": 9,
     "metadata": {},
     "output_type": "execute_result"
    }
   ],
   "source": [
    "α = 1.7\n",
    "β = 1.5\n",
    "Q = 7 # Liczba państw\n",
    "nsims = 10000\n",
    "\n",
    "N_distr = Poisson(8000)\n",
    "M_distr = (N, α) -> Poisson.(N .^ α)\n",
    "p_distr = Uniform(.1,.25)\n",
    "\n",
    "res = Vector{Any}(missing, nsims)\n",
    "\n",
    "prog = Progress(nsims, \"Simulation progress ...\")\n",
    "\n",
    "Threads.@threads for k in 1:nsims\n",
    "    N = reduce(vcat, rand.(Binomial.(rand(N_distr, Q), .1), 1))\n",
    "    M = reduce(vcat, rand.(M_distr(N, α), 1))\n",
    "    p = rand(p_distr, Q)\n",
    "    \n",
    "    m = reduce(vcat, rand.(Poisson.(M .* p), 1))\n",
    "    n = reduce(vcat, rand.(Binomial.(N, p), 1))\n",
    "\n",
    "    df1 = DataFrame(\n",
    "        y = m,\n",
    "        x1 = log.(N),\n",
    "        x2 = log.(n ./ N)\n",
    "    )\n",
    "\n",
    "    mm = glm(@formula(y ~ x1 + x2 + 0), df1, Poisson(), LogLink())\n",
    "    α̂₁, β̂₁ = coef(mm)\n",
    "\n",
    "    ols = lm(@formula(log(y) ~ x1 + x2 + 0), df1)\n",
    "    α̂₂, β̂₂ = coef(ols)\n",
    "    \n",
    "    mle_1 = zhang_model(m, N, n; start = \"glm\")[1][4]\n",
    "    mle_2 = zhang_model(m, N, n; start = \"lm\")[1][4]\n",
    "\n",
    "    res[k] = [sum(M) sum(N .^ α) sum(N .^ α̂₁) sum(N .^ α̂₂) mle_1 mle_2]\n",
    "    #push!(res, [sum(M) sum(N .^ α) sum(N .^ α̂₁) sum(N .^ α̂₂)])\n",
    "    next!(prog)\n",
    "end # end for\n",
    "\n",
    "df_res = DataFrame(reduce(vcat, [res[i] for i in 1:length(res) if isassigned(res, i)]), [\"actual\", \"expected\", \"glm_est\", \"ols_est\", \"mle_glm_start\", \"mle_lm_start\"])\n",
    "\n",
    "describe(df_res)"
   ]
  },
  {
   "cell_type": "code",
   "execution_count": 10,
   "id": "148c0319-5821-47b5-be04-dd055d0f2575",
   "metadata": {},
   "outputs": [
    {
     "data": {
      "text/html": [
       "<div><div style = \"float: left;\"><span>5×4 DataFrame</span></div><div style = \"clear: both;\"></div></div><div class = \"data-frame\" style = \"overflow-x: scroll;\"><table class = \"data-frame\" style = \"margin-bottom: 6px;\"><thead><tr class = \"header\"><th class = \"rowNumber\" style = \"font-weight: bold; text-align: right;\">Row</th><th style = \"text-align: left;\">rel_bias</th><th style = \"text-align: left;\">rel_mse</th><th style = \"text-align: left;\">rel_mae</th><th style = \"text-align: left;\">est</th></tr><tr class = \"subheader headerLastRow\"><th class = \"rowNumber\" style = \"font-weight: bold; text-align: right;\"></th><th title = \"Float64\" style = \"text-align: left;\">Float64</th><th title = \"Float64\" style = \"text-align: left;\">Float64</th><th title = \"Float64\" style = \"text-align: left;\">Float64</th><th title = \"String\" style = \"text-align: left;\">String</th></tr></thead><tbody><tr><td class = \"rowNumber\" style = \"font-weight: bold; text-align: right;\">1</td><td style = \"text-align: right;\">-2.41093e-6</td><td style = \"text-align: right;\">1.0016</td><td style = \"text-align: right;\">0.0010277</td><td style = \"text-align: left;\">Expected value</td></tr><tr><td class = \"rowNumber\" style = \"font-weight: bold; text-align: right;\">2</td><td style = \"text-align: right;\">0.105929</td><td style = \"text-align: right;\">36874.9</td><td style = \"text-align: right;\">0.0010277</td><td style = \"text-align: left;\">glm</td></tr><tr><td class = \"rowNumber\" style = \"font-weight: bold; text-align: right;\">3</td><td style = \"text-align: right;\">0.104791</td><td style = \"text-align: right;\">38148.9</td><td style = \"text-align: right;\">0.0010277</td><td style = \"text-align: left;\">ols</td></tr><tr><td class = \"rowNumber\" style = \"font-weight: bold; text-align: right;\">4</td><td style = \"text-align: right;\">0.104828</td><td style = \"text-align: right;\">38067.0</td><td style = \"text-align: right;\">0.0010277</td><td style = \"text-align: left;\">mle_glm_start</td></tr><tr><td class = \"rowNumber\" style = \"font-weight: bold; text-align: right;\">5</td><td style = \"text-align: right;\">0.104828</td><td style = \"text-align: right;\">38067.0</td><td style = \"text-align: right;\">0.0010277</td><td style = \"text-align: left;\">mle_lm_start</td></tr></tbody></table></div>"
      ],
      "text/latex": [
       "\\begin{tabular}{r|cccc}\n",
       "\t& rel\\_bias & rel\\_mse & rel\\_mae & est\\\\\n",
       "\t\\hline\n",
       "\t& Float64 & Float64 & Float64 & String\\\\\n",
       "\t\\hline\n",
       "\t1 & -2.41093e-6 & 1.0016 & 0.0010277 & Expected value \\\\\n",
       "\t2 & 0.105929 & 36874.9 & 0.0010277 & glm \\\\\n",
       "\t3 & 0.104791 & 38148.9 & 0.0010277 & ols \\\\\n",
       "\t4 & 0.104828 & 38067.0 & 0.0010277 & mle\\_glm\\_start \\\\\n",
       "\t5 & 0.104828 & 38067.0 & 0.0010277 & mle\\_lm\\_start \\\\\n",
       "\\end{tabular}\n"
      ],
      "text/plain": [
       "\u001b[1m5×4 DataFrame\u001b[0m\n",
       "\u001b[1m Row \u001b[0m│\u001b[1m rel_bias    \u001b[0m\u001b[1m rel_mse    \u001b[0m\u001b[1m rel_mae   \u001b[0m\u001b[1m est            \u001b[0m\n",
       "     │\u001b[90m Float64     \u001b[0m\u001b[90m Float64    \u001b[0m\u001b[90m Float64   \u001b[0m\u001b[90m String         \u001b[0m\n",
       "─────┼────────────────────────────────────────────────────\n",
       "   1 │ -2.41093e-6      1.0016  0.0010277  Expected value\n",
       "   2 │  0.105929    36874.9     0.0010277  glm\n",
       "   3 │  0.104791    38148.9     0.0010277  ols\n",
       "   4 │  0.104828    38067.0     0.0010277  mle_glm_start\n",
       "   5 │  0.104828    38067.0     0.0010277  mle_lm_start"
      ]
     },
     "execution_count": 10,
     "metadata": {},
     "output_type": "execute_result"
    }
   ],
   "source": [
    "DataFrame(\n",
    "    rel_bias = [mean((df_res[:, 1] .- df_res[:, k]) ./ df_res[:, 1])        for k in 2:6],\n",
    "    rel_mse  = [mean(((df_res[:, 1] .- df_res[:, k]) .^ 2) ./ df_res[:, 1]) for k in 2:6],\n",
    "    rel_mae  = [mean(abs.(df_res[:, 1] .- df_res[:, 2]) ./ df_res[:, 1])    for k in 2:6],\n",
    "    est      = [\"Expected value\", \"glm\", \"ols\", \"mle_glm_start\", \"mle_lm_start\"]\n",
    ")"
   ]
  },
  {
   "cell_type": "code",
   "execution_count": 11,
   "id": "411f49b8-599e-42b0-b06c-e9ce703fa695",
   "metadata": {},
   "outputs": [
    {
     "data": {
      "text/html": [
       "<div><div style = \"float: left;\"><span>4×4 DataFrame</span></div><div style = \"clear: both;\"></div></div><div class = \"data-frame\" style = \"overflow-x: scroll;\"><table class = \"data-frame\" style = \"margin-bottom: 6px;\"><thead><tr class = \"header\"><th class = \"rowNumber\" style = \"font-weight: bold; text-align: right;\">Row</th><th style = \"text-align: left;\">rel_bias</th><th style = \"text-align: left;\">rel_mse</th><th style = \"text-align: left;\">rel_mae</th><th style = \"text-align: left;\">est</th></tr><tr class = \"subheader headerLastRow\"><th class = \"rowNumber\" style = \"font-weight: bold; text-align: right;\"></th><th title = \"Float64\" style = \"text-align: left;\">Float64</th><th title = \"Float64\" style = \"text-align: left;\">Float64</th><th title = \"Float64\" style = \"text-align: left;\">Float64</th><th title = \"String\" style = \"text-align: left;\">String</th></tr></thead><tbody><tr><td class = \"rowNumber\" style = \"font-weight: bold; text-align: right;\">1</td><td style = \"text-align: right;\">0.105932</td><td style = \"text-align: right;\">36873.7</td><td style = \"text-align: right;\">0.195919</td><td style = \"text-align: left;\">glm</td></tr><tr><td class = \"rowNumber\" style = \"font-weight: bold; text-align: right;\">2</td><td style = \"text-align: right;\">0.104794</td><td style = \"text-align: right;\">38146.9</td><td style = \"text-align: right;\">0.199357</td><td style = \"text-align: left;\">ols</td></tr><tr><td class = \"rowNumber\" style = \"font-weight: bold; text-align: right;\">3</td><td style = \"text-align: right;\">0.104832</td><td style = \"text-align: right;\">38065.0</td><td style = \"text-align: right;\">0.199213</td><td style = \"text-align: left;\">mle_glm_start</td></tr><tr><td class = \"rowNumber\" style = \"font-weight: bold; text-align: right;\">4</td><td style = \"text-align: right;\">0.104832</td><td style = \"text-align: right;\">38065.0</td><td style = \"text-align: right;\">0.199213</td><td style = \"text-align: left;\">mle_lm_start</td></tr></tbody></table></div>"
      ],
      "text/latex": [
       "\\begin{tabular}{r|cccc}\n",
       "\t& rel\\_bias & rel\\_mse & rel\\_mae & est\\\\\n",
       "\t\\hline\n",
       "\t& Float64 & Float64 & Float64 & String\\\\\n",
       "\t\\hline\n",
       "\t1 & 0.105932 & 36873.7 & 0.195919 & glm \\\\\n",
       "\t2 & 0.104794 & 38146.9 & 0.199357 & ols \\\\\n",
       "\t3 & 0.104832 & 38065.0 & 0.199213 & mle\\_glm\\_start \\\\\n",
       "\t4 & 0.104832 & 38065.0 & 0.199213 & mle\\_lm\\_start \\\\\n",
       "\\end{tabular}\n"
      ],
      "text/plain": [
       "\u001b[1m4×4 DataFrame\u001b[0m\n",
       "\u001b[1m Row \u001b[0m│\u001b[1m rel_bias \u001b[0m\u001b[1m rel_mse \u001b[0m\u001b[1m rel_mae  \u001b[0m\u001b[1m est           \u001b[0m\n",
       "     │\u001b[90m Float64  \u001b[0m\u001b[90m Float64 \u001b[0m\u001b[90m Float64  \u001b[0m\u001b[90m String        \u001b[0m\n",
       "─────┼────────────────────────────────────────────\n",
       "   1 │ 0.105932  36873.7  0.195919  glm\n",
       "   2 │ 0.104794  38146.9  0.199357  ols\n",
       "   3 │ 0.104832  38065.0  0.199213  mle_glm_start\n",
       "   4 │ 0.104832  38065.0  0.199213  mle_lm_start"
      ]
     },
     "execution_count": 11,
     "metadata": {},
     "output_type": "execute_result"
    }
   ],
   "source": [
    "DataFrame(\n",
    "    rel_bias = [mean((df_res[:, 2] .- df_res[:, k]) ./ df_res[:, 2])        for k in 3:6],\n",
    "    rel_mse  = [mean(((df_res[:, 2] .- df_res[:, k]) .^ 2) ./ df_res[:, 2]) for k in 3:6],\n",
    "    rel_mae  = [mean(abs.(df_res[:, 2] .- df_res[:, k]) ./ df_res[:, 2])    for k in 3:6],\n",
    "    est      = [\"glm\", \"ols\", \"mle_glm_start\", \"mle_lm_start\"]\n",
    ")"
   ]
  },
  {
   "cell_type": "code",
   "execution_count": 12,
   "id": "2112b305-5a55-4e03-98e9-ec3cf3e56518",
   "metadata": {},
   "outputs": [],
   "source": [
    "CSV.write(pwd() * \"/data_raw/init_res_1.csv\", df_res);"
   ]
  }
 ],
 "metadata": {
  "kernelspec": {
   "display_name": "Julia 1.10.2",
   "language": "julia",
   "name": "julia-1.10"
  },
  "language_info": {
   "file_extension": ".jl",
   "mimetype": "application/julia",
   "name": "julia",
   "version": "1.10.2"
  }
 },
 "nbformat": 4,
 "nbformat_minor": 5
}

{
 "cells": [
  {
   "cell_type": "markdown",
   "id": "0eb17a0f-d12c-4aa2-bd02-19e29b9e13a3",
   "metadata": {
    "editable": true,
    "slideshow": {
     "slide_type": ""
    },
    "tags": []
   },
   "source": [
    "Installing necessary packages:\n",
    "```Julia\n",
    "using Pkg\n",
    "\n",
    "Pkg.add([\"Random\", \"Distributions\", \"DataFrames\", \"GLM\", \"Statistics\", \"ProgressMeter\", \"Plots\", \"Turing])\n",
    "Pkg.add(url = \"https://github.com/ncn-foreigners/UnobservedCountEstimation.jl\")\n",
    "```"
   ]
  },
  {
   "cell_type": "code",
   "execution_count": 2,
   "id": "eec5ba31",
   "metadata": {},
   "outputs": [],
   "source": [
    "using Turing\n",
    "using Copulas"
   ]
  },
  {
   "cell_type": "code",
   "execution_count": 3,
   "id": "06270c0e",
   "metadata": {},
   "outputs": [],
   "source": [
    "using Random, Distributions, DataFrames, GLM, Statistics, ProgressMeter, CSV, StatsBase, StatsPlots"
   ]
  },
  {
   "cell_type": "code",
   "execution_count": 4,
   "id": "957313b3-524d-4d09-8fc1-e10abeeb88a3",
   "metadata": {},
   "outputs": [
    {
     "name": "stdout",
     "output_type": "stream",
     "text": [
      "1 1 "
     ]
    },
    {
     "name": "stderr",
     "output_type": "stream",
     "text": [
      "\u001b[32mSimulation progress ...  20%|█████▋                      |  ETA: 0:00:02\u001b[39m"
     ]
    },
    {
     "name": "stdout",
     "output_type": "stream",
     "text": [
      "1 1 1 "
     ]
    }
   ],
   "source": [
    "α, β = rand(MvNormal([1.1, 2.4], .3 * [1 -.5; -.5 1]))\n",
    "Q = 20\n",
    "\n",
    "N_distr = Poisson(6000)\n",
    "M_distr = (N, α) -> Poisson.(N .^ α)\n",
    "u_distr = (n, N) -> Beta(n, N - n)\n",
    "#u_distr = (M, μ) -> Gamma(ϕ, 1 / ϕ)\n",
    "\n",
    "prog = Progress(10*Threads.nthreads(), \"Simulation progress ...\")\n",
    "\n",
    "Threads.@threads for i in 1:(5*Threads.nthreads())\n",
    "    print(string(Threads.threadid()) * \" \")\n",
    "    next!(prog)\n",
    "end # end for"
   ]
  },
  {
   "cell_type": "code",
   "execution_count": 5,
   "id": "ff18c0af-1813-4b95-94ae-1e128d3ed691",
   "metadata": {},
   "outputs": [
    {
     "data": {
      "text/plain": [
       "(0.6918218110435266, 2.7033478193913116)"
      ]
     },
     "execution_count": 5,
     "metadata": {},
     "output_type": "execute_result"
    }
   ],
   "source": [
    "α, β"
   ]
  },
  {
   "cell_type": "markdown",
   "id": "45eb98e3",
   "metadata": {},
   "source": [
    "Testing `Trung.jl`"
   ]
  },
  {
   "cell_type": "code",
   "execution_count": 6,
   "id": "8d7e3f61",
   "metadata": {},
   "outputs": [
    {
     "data": {
      "text/plain": [
       "20×5 Matrix{Float64}:\n",
       " 215.0  404.0  252.0  6132.0  0.518651\n",
       " 194.0  368.0  226.0  5939.0  0.514821\n",
       " 213.0  403.0  226.0  5986.0  0.514588\n",
       " 227.0  422.0  245.0  5939.0  0.518432\n",
       " 233.0  426.0  241.0  5954.0  0.517541\n",
       " 198.0  431.0  251.0  5923.0  0.519783\n",
       " 199.0  394.0  243.0  5892.0  0.518318\n",
       " 201.0  398.0  255.0  5959.0  0.520396\n",
       " 209.0  381.0  241.0  6031.0  0.517094\n",
       " 197.0  400.0  250.0  5994.0  0.519108\n",
       " 217.0  427.0  204.0  5909.0  0.511353\n",
       " 207.0  423.0  254.0  6050.0  0.519576\n",
       " 220.0  415.0  253.0  5888.0  0.520454\n",
       " 218.0  430.0  235.0  5860.0  0.516919\n",
       " 208.0  413.0  248.0  6002.0  0.518648\n",
       " 254.0  434.0  262.0  5959.0  0.521944\n",
       " 187.0  387.0  250.0  5895.0  0.519758\n",
       " 209.0  398.0  227.0  6075.0  0.514331\n",
       " 245.0  437.0  258.0  6073.0  0.520264\n",
       " 213.0  413.0  208.0  5844.0  0.512233"
      ]
     },
     "execution_count": 6,
     "metadata": {},
     "output_type": "execute_result"
    }
   ],
   "source": [
    "N = rand.(N_distr, Q)\n",
    "M = reduce(vcat, rand.(M_distr(N, α), 1))\n",
    "n = reduce(vcat, rand.(Binomial.(N, .04), 1))\n",
    "\n",
    "p = (N .^ α) .* ((n ./ N) .^ β)\n",
    "p = 1 ./ (1 .+ exp.(-p))\n",
    "\n",
    "u = 1.0\n",
    "m = reduce(vcat, rand.(Binomial.(M, p * u), 1))\n",
    "\n",
    "[m M n N p]"
   ]
  },
  {
   "cell_type": "code",
   "execution_count": 8,
   "id": "f672e4ab",
   "metadata": {},
   "outputs": [
    {
     "name": "stderr",
     "output_type": "stream",
     "text": [
      "\u001b[33m\u001b[1m┌ \u001b[22m\u001b[39m\u001b[33m\u001b[1mWarning: \u001b[22m\u001b[39mOnly a single thread available: MCMC chains are not sampled in parallel\n",
      "\u001b[33m\u001b[1m└ \u001b[22m\u001b[39m\u001b[90m@ AbstractMCMC ~/.julia/packages/AbstractMCMC/YrmkI/src/sample.jl:310\u001b[39m\n",
      "\u001b[32mSampling (1 threads): 100%|█████████████████████████████| Time: 0:14:32\u001b[39m\n"
     ]
    },
    {
     "data": {
      "text/plain": [
       "Chains MCMC chain (5000×24×4 Array{Float64, 3}):\n",
       "\n",
       "Iterations        = 1:1:5000\n",
       "Number of chains  = 4\n",
       "Samples per chain = 5000\n",
       "Wall duration     = 1169.15 seconds\n",
       "Compute duration  = 1168.38 seconds\n",
       "parameters        = γ[1], γ[2], M[1], M[2], M[3], M[4], M[5], M[6], M[7], M[8], M[9], M[10], M[11], M[12], M[13], M[14], M[15], M[16], M[17], M[18], M[19], M[20]\n",
       "internals         = lp, logevidence\n",
       "\n",
       "Summary Statistics\n",
       " \u001b[1m parameters \u001b[0m \u001b[1m     mean \u001b[0m \u001b[1m      std \u001b[0m \u001b[1m    mcse \u001b[0m \u001b[1m ess_bulk \u001b[0m \u001b[1m ess_tail \u001b[0m \u001b[1m    rhat \u001b[0m \u001b[1m\u001b[0m ⋯\n",
       " \u001b[90m     Symbol \u001b[0m \u001b[90m  Float64 \u001b[0m \u001b[90m  Float64 \u001b[0m \u001b[90m Float64 \u001b[0m \u001b[90m  Float64 \u001b[0m \u001b[90m  Float64 \u001b[0m \u001b[90m Float64 \u001b[0m \u001b[90m\u001b[0m ⋯\n",
       "\n",
       "        γ[1]     0.6893     0.0112    0.0013    50.0709    45.3309    1.5643   ⋯\n",
       "        γ[2]     2.5943     0.3719    0.0553    45.6772        NaN    1.6337   ⋯\n",
       "        M[1]   403.4493   213.1060    3.8170    55.2711    46.7482    1.5694   ⋯\n",
       "        M[2]   402.6982   206.6097    5.7675    46.9759    43.1925    1.6978   ⋯\n",
       "        M[3]   395.4508   208.6618    4.7968    50.4729    45.3309    1.8560   ⋯\n",
       "        M[4]   414.9382   205.9029    5.3301    46.2276    44.0176    1.9628   ⋯\n",
       "        M[5]   417.1381   205.3605    5.6233    46.4297    43.6796    1.8619   ⋯\n",
       "        M[6]   396.4484   203.9087    4.8068    49.5876    45.3309    2.0201   ⋯\n",
       "        M[7]   392.0056   203.5225    6.1153    48.0891    45.0306    1.9272   ⋯\n",
       "        M[8]   408.3838   208.7104    5.0506    48.7290    46.7482    1.4912   ⋯\n",
       "        M[9]   408.2646   208.4869    4.4734    47.4313    45.3309    1.5620   ⋯\n",
       "       M[10]   399.0568   208.5708    4.6497    51.9015    46.7343    1.4666   ⋯\n",
       "       M[11]   410.5270   205.1820    5.2655    52.4479    44.0176    1.9249   ⋯\n",
       "       M[12]   394.4228   210.2533    5.1192    48.1698    47.1982    1.4757   ⋯\n",
       "       M[13]   399.1308   206.1325    4.4647    53.8690    43.7530    1.9941   ⋯\n",
       "       M[14]   401.7436   203.8245    4.5155    52.4548    45.5660    1.9184   ⋯\n",
       "       M[15]   395.9955   207.5360    4.4456    55.2539    45.3309    1.9638   ⋯\n",
       "       M[16]   416.3509   206.0525    3.7007    51.9564    47.4225    1.5874   ⋯\n",
       "       M[17]   389.1558   201.5066    3.7887    51.3519    45.5660    1.6505   ⋯\n",
       "       M[18]   406.4019   210.0132    4.7309    51.4045    45.3309    1.5147   ⋯\n",
       "       M[19]   415.7970   207.0423    3.9632    51.6493    45.3309    1.5745   ⋯\n",
       "       M[20]   404.0382   200.1384    3.7072    50.8571    45.3309    1.5390   ⋯\n",
       "\u001b[36m                                                                1 column omitted\u001b[0m\n",
       "\n",
       "Quantiles\n",
       " \u001b[1m parameters \u001b[0m \u001b[1m     2.5% \u001b[0m \u001b[1m    25.0% \u001b[0m \u001b[1m    50.0% \u001b[0m \u001b[1m    75.0% \u001b[0m \u001b[1m    97.5% \u001b[0m\n",
       " \u001b[90m     Symbol \u001b[0m \u001b[90m  Float64 \u001b[0m \u001b[90m  Float64 \u001b[0m \u001b[90m  Float64 \u001b[0m \u001b[90m  Float64 \u001b[0m \u001b[90m  Float64 \u001b[0m\n",
       "\n",
       "        γ[1]     0.6687     0.6843     0.6920     0.6961     0.6974\n",
       "        γ[2]     2.0040     2.3797     2.4999     2.8168     3.1655\n",
       "        M[1]   329.0000   379.0000   404.0000   422.0000   428.0000\n",
       "        M[2]   317.0000   378.0000   398.0000   427.0000   444.0000\n",
       "        M[3]   341.0000   367.0000   392.0000   410.0000   446.0000\n",
       "        M[4]   354.0000   392.0000   426.0000   446.0000   458.0000\n",
       "        M[5]   338.0000   376.0000   427.0000   447.0000   453.0000\n",
       "        M[6]   340.0000   365.0000   393.0000   426.0000   448.0000\n",
       "        M[7]   313.0000   378.0000   390.0000   424.0000   455.0000\n",
       "        M[8]   354.0000   370.0000   424.0000   426.0000   449.0000\n",
       "        M[9]   336.0000   387.0000   422.0000   424.0000   444.0000\n",
       "       M[10]   326.0000   374.0000   407.0000   412.0000   447.0000\n",
       "       M[11]   342.0000   377.0000   417.0000   436.0000   456.0000\n",
       "       M[12]   341.0000   376.0000   387.0000   427.0000   433.0000\n",
       "       M[13]   333.0000   381.0000   396.0000   413.0000   455.0000\n",
       "       M[14]   321.0000   376.0000   407.0000   423.0000   431.0000\n",
       "       M[15]   307.0000   382.0000   395.0000   413.0000   434.0000\n",
       "       M[16]   344.0000   393.0000   416.0000   428.0000   444.0000\n",
       "       M[17]   313.0000   372.0000   385.0000   412.0000   420.0000\n",
       "       M[18]   332.0000   388.0000   404.0000   433.0000   444.0000\n",
       "       M[19]   339.0000   400.0000   403.0000   435.0000   448.0000\n",
       "       M[20]   328.0000   389.0000   406.0000   423.0000   428.0000\n"
      ]
     },
     "execution_count": 8,
     "metadata": {},
     "output_type": "execute_result"
    }
   ],
   "source": [
    "@model function binomial_model(m, n, N)\n",
    "    γ ~ MvNormal([1.6, 2.4], .3 * [1 .5; .5 1])\n",
    "    ξ = N .^ γ[1]\n",
    "    μ = ξ .* ((n ./ N) .^ γ[2])\n",
    "    μ = 1 ./ (1 .+ exp.(-μ))\n",
    "    M = Vector(undef, length(m))\n",
    "    \n",
    "    for i in eachindex(M)\n",
    "        M[i] ~ Poisson(ξ[i])\n",
    "    end\n",
    "\n",
    "    for i in eachindex(m)\n",
    "        m[i] ~ Binomial(M[i], μ[i])\n",
    "    end\n",
    "    return m\n",
    "end\n",
    "\n",
    "chains_1 = sample(binomial_model(m, n, N), PG(100), MCMCThreads(), 500, 4)"
   ]
  },
  {
   "cell_type": "code",
   "execution_count": 9,
   "id": "b789dd87",
   "metadata": {},
   "outputs": [
    {
     "data": {
      "text/plain": [
       "5-element Vector{Any}:\n",
       " 0.6918218110435266\n",
       " 2.7033478193913116\n",
       "  [417.2014184137074 408.0723669419337 … 414.42019415340815 403.54528487135354]\n",
       "  [404, 368, 403, 422, 426, 431, 394, 398, 381, 400, 427, 423, 415, 430, 413, 434, 387, 398, 437, 413]\n",
       "  [403.44935, 402.69825, 395.45075, 414.93815, 417.1381, 396.44845, 392.00555, 408.38385, 408.2646, 399.05675, 410.527, 394.4228, 399.1308, 401.7436, 395.9955, 416.3509, 389.15575, 406.40195, 415.797, 404.0382]"
      ]
     },
     "execution_count": 9,
     "metadata": {},
     "output_type": "execute_result"
    }
   ],
   "source": [
    "[α, β, (N .^ α)', M, describe(chains_1[1:end,:,:])[1][3:end, :mean]]"
   ]
  },
  {
   "cell_type": "code",
   "execution_count": 18,
   "id": "158c3592",
   "metadata": {},
   "outputs": [
    {
     "name": "stderr",
     "output_type": "stream",
     "text": [
      "\u001b[36m\u001b[1m[ \u001b[22m\u001b[39m\u001b[36m\u001b[1mInfo: \u001b[22m\u001b[39m[Turing]: progress logging is disabled globally\n",
      "\u001b[36m\u001b[1m[ \u001b[22m\u001b[39m\u001b[36m\u001b[1mInfo: \u001b[22m\u001b[39m[AdvancedVI]: global PROGRESS is set as false\n"
     ]
    },
    {
     "data": {
      "text/plain": [
       "false"
      ]
     },
     "execution_count": 18,
     "metadata": {},
     "output_type": "execute_result"
    }
   ],
   "source": [
    "@model function binomial_model(m, n, N, μ, Σ)\n",
    "    γ ~ MvNormal(μ, Σ)\n",
    "    ξ = N .^ γ[1]\n",
    "    μ = ξ .* ((n ./ N) .^ γ[2])\n",
    "    μ = 1 ./ (1 .+ exp.(-μ))\n",
    "    M = Vector(undef, length(m))\n",
    "    \n",
    "    for i in eachindex(M)\n",
    "        M[i] ~ Poisson(ξ[i])\n",
    "    end\n",
    "\n",
    "    for i in eachindex(m)\n",
    "        m[i] ~ Binomial(M[i], μ[i])\n",
    "    end\n",
    "    return m\n",
    "end\n",
    "setprogress!(false)"
   ]
  },
  {
   "cell_type": "code",
   "execution_count": 36,
   "id": "963fc2e6-2e15-422b-a5ae-be3858f7cb5f",
   "metadata": {},
   "outputs": [
    {
     "name": "stderr",
     "output_type": "stream",
     "text": [
      "\u001b[32mSimulation progress ... 100%|████████████████████████████| Time: 5:42:53\u001b[39m\n"
     ]
    },
    {
     "ename": "LoadError",
     "evalue": "ArgumentError: 'Vector{Float64}' iterates 'Float64' values, which doesn't satisfy the Tables.jl `AbstractRow` interface",
     "output_type": "error",
     "traceback": [
      "ArgumentError: 'Vector{Float64}' iterates 'Float64' values, which doesn't satisfy the Tables.jl `AbstractRow` interface",
      "",
      "Stacktrace:",
      "  [1] invalidtable(::Vector{Float64}, ::Float64)",
      "    @ Tables ~/.julia/packages/Tables/NSGZI/src/tofromdatavalues.jl:41",
      "  [2] iterate",
      "    @ ~/.julia/packages/Tables/NSGZI/src/tofromdatavalues.jl:47 [inlined]",
      "  [3] buildcolumns",
      "    @ ~/.julia/packages/Tables/NSGZI/src/fallbacks.jl:209 [inlined]",
      "  [4] _columns",
      "    @ ~/.julia/packages/Tables/NSGZI/src/fallbacks.jl:274 [inlined]",
      "  [5] columns",
      "    @ ~/.julia/packages/Tables/NSGZI/src/fallbacks.jl:258 [inlined]",
      "  [6] DataFrame(x::Vector{Float64}; copycols::Bool)",
      "    @ DataFrames ~/.julia/packages/DataFrames/58MUJ/src/other/tables.jl:57",
      "  [7] DataFrame",
      "    @ ~/.julia/packages/DataFrames/58MUJ/src/other/tables.jl:48 [inlined]",
      "  [8] DataFrame(columns::Vector{Float64}, cnames::Vector{Symbol}; makeunique::Bool, copycols::Bool)",
      "    @ DataFrames ~/.julia/packages/DataFrames/58MUJ/src/dataframe/dataframe.jl:339",
      "  [9] DataFrame",
      "    @ ~/.julia/packages/DataFrames/58MUJ/src/dataframe/dataframe.jl:336 [inlined]",
      " [10] DataFrame(columns::Vector{Float64}, cnames::Vector{String})",
      "    @ DataFrames ~/.julia/packages/DataFrames/58MUJ/src/dataframe/dataframe.jl:353",
      " [11] top-level scope",
      "    @ In[36]:54"
     ]
    }
   ],
   "source": [
    "prog = Progress(nsims, \"Simulation progress ...\")\n",
    "res = Vector{Any}(missing, nsims)\n",
    "μ = [1.5, 3.4]\n",
    "Σ = .2 * [1 -.6; -.6 1]\n",
    "nsims = 100\n",
    "\n",
    "Threads.@threads for k in 1:nsims\n",
    "    α, β = rand(MvNormal(μ, Σ))\n",
    "\n",
    "    N = rand.(N_distr, Q)\n",
    "    M = reduce(vcat, rand.(M_distr(N, α), 1))\n",
    "    n = reduce(vcat, rand.(Binomial.(N, .2), 1))\n",
    "\n",
    "    p = (N .^ α) .* ((n ./ N) .^ β)\n",
    "    p = 1 ./ (1 .+ exp.(-p))\n",
    "\n",
    "    #u = reduce(vcat, rand.(u_distr.(n, N), 1))\n",
    "    u = 1.0\n",
    "    m = reduce(vcat, rand.(Binomial.(M, p * u), 1))\n",
    "\n",
    "    df1 = DataFrame(\n",
    "        y = m,\n",
    "        x1 = log.(N),\n",
    "        x2 = log.(n ./ N)\n",
    "    )\n",
    "\n",
    "    mm = glm(@formula(y ~ x1 + x2 + 0), df1, Poisson(), LogLink())\n",
    "    α̂₁, β̂₁ = coef(mm)\n",
    "\n",
    "    ols = lm(@formula(log(y) ~ x1 + x2 + 0), df1)\n",
    "    α̂₂, β̂₂ = coef(ols)\n",
    "\n",
    "    est = sample(binomial_model(m, n, N, μ, Σ), PG(100), 500)\n",
    "    α̂₃, β̂₃ = describe(est)[1][1:2, :mean]\n",
    "    M̂ = describe(est)[1][3:end, :mean]\n",
    "\n",
    "    μ̂_prior = [α̂₁, β̂₁]\n",
    "    Σ̂_prior = vcov(mm)\n",
    "\n",
    "    est_2 = sample(binomial_model(m, n, N, μ̂_prior, Σ̂_prior), PG(100), 500)\n",
    "    α̂₄, β̂₄ = describe(est_2)[1][1:2, :mean]\n",
    "    M̂_2 = describe(est_2)[1][3:end, :mean]\n",
    "\n",
    "    res[k] = [\n",
    "        sum(M); sum(N .^ α); sum(N .^ α̂₁); sum(N .^ α̂₂); sum(N .^ α̂₃);\n",
    "        sum([mean(N[x] .^ est[:, 1, :]) for x in 1:Q]); sum(M̂); \n",
    "        sum(N .^ α̂₄); sum([mean(N[x] .^ est_2[:, 1, :]) for x in 1:Q]);\n",
    "        sum(M̂_2)\n",
    "    ]\n",
    "    #push!(res, [sum(M) sum(N .^ α) sum(N .^ α̂₁) sum(N .^ α̂₂)])\n",
    "    next!(prog)\n",
    "end # end for\n",
    "\n",
    "df_res = DataFrame(mapreduce(permutedims, vcat, res), \n",
    "    [\"actual\", \"expected\", \"glm_est\", \"ols_est\", \"expected_est\" , \"expected_est_better\", \n",
    "        \"actual_est\", \"expected_est_bad_prior\" , \"expected_est_better_bad_prior\", \"actual_est_bad_prior\"])\n",
    "\n",
    "describe(df_res)"
   ]
  },
  {
   "cell_type": "code",
   "execution_count": 47,
   "id": "258c6e0d-b603-40fa-bdee-e023f95e26eb",
   "metadata": {},
   "outputs": [
    {
     "data": {
      "text/html": [
       "<div><div style = \"float: left;\"><span>10×7 DataFrame</span></div><div style = \"clear: both;\"></div></div><div class = \"data-frame\" style = \"overflow-x: scroll;\"><table class = \"data-frame\" style = \"margin-bottom: 6px;\"><thead><tr class = \"header\"><th class = \"rowNumber\" style = \"font-weight: bold; text-align: right;\">Row</th><th style = \"text-align: left;\">variable</th><th style = \"text-align: left;\">mean</th><th style = \"text-align: left;\">min</th><th style = \"text-align: left;\">median</th><th style = \"text-align: left;\">max</th><th style = \"text-align: left;\">nmissing</th><th style = \"text-align: left;\">eltype</th></tr><tr class = \"subheader headerLastRow\"><th class = \"rowNumber\" style = \"font-weight: bold; text-align: right;\"></th><th title = \"Symbol\" style = \"text-align: left;\">Symbol</th><th title = \"Float64\" style = \"text-align: left;\">Float64</th><th title = \"Float64\" style = \"text-align: left;\">Float64</th><th title = \"Float64\" style = \"text-align: left;\">Float64</th><th title = \"Float64\" style = \"text-align: left;\">Float64</th><th title = \"Int64\" style = \"text-align: left;\">Int64</th><th title = \"DataType\" style = \"text-align: left;\">DataType</th></tr></thead><tbody><tr><td class = \"rowNumber\" style = \"font-weight: bold; text-align: right;\">1</td><td style = \"text-align: left;\">actual</td><td style = \"text-align: right;\">1.57611e7</td><td style = \"text-align: right;\">618.0</td><td style = \"text-align: right;\">354958.0</td><td style = \"text-align: right;\">9.37526e8</td><td style = \"text-align: right;\">0</td><td style = \"text-align: left;\">Float64</td></tr><tr><td class = \"rowNumber\" style = \"font-weight: bold; text-align: right;\">2</td><td style = \"text-align: left;\">expected</td><td style = \"text-align: right;\">1.57604e7</td><td style = \"text-align: right;\">582.652</td><td style = \"text-align: right;\">3.55792e5</td><td style = \"text-align: right;\">9.37469e8</td><td style = \"text-align: right;\">0</td><td style = \"text-align: left;\">Float64</td></tr><tr><td class = \"rowNumber\" style = \"font-weight: bold; text-align: right;\">3</td><td style = \"text-align: left;\">glm_est</td><td style = \"text-align: right;\">1.57724e7</td><td style = \"text-align: right;\">640.196</td><td style = \"text-align: right;\">3.52512e5</td><td style = \"text-align: right;\">9.37852e8</td><td style = \"text-align: right;\">0</td><td style = \"text-align: left;\">Float64</td></tr><tr><td class = \"rowNumber\" style = \"font-weight: bold; text-align: right;\">4</td><td style = \"text-align: left;\">ols_est</td><td style = \"text-align: right;\">1.57718e7</td><td style = \"text-align: right;\">601.937</td><td style = \"text-align: right;\">3.5178e5</td><td style = \"text-align: right;\">9.37896e8</td><td style = \"text-align: right;\">0</td><td style = \"text-align: left;\">Float64</td></tr><tr><td class = \"rowNumber\" style = \"font-weight: bold; text-align: right;\">5</td><td style = \"text-align: left;\">expected_est</td><td style = \"text-align: right;\">2.72258e5</td><td style = \"text-align: right;\">646.569</td><td style = \"text-align: right;\">2.89695e5</td><td style = \"text-align: right;\">9.24024e5</td><td style = \"text-align: right;\">0</td><td style = \"text-align: left;\">Float64</td></tr><tr><td class = \"rowNumber\" style = \"font-weight: bold; text-align: right;\">6</td><td style = \"text-align: left;\">expected_est_better</td><td style = \"text-align: right;\">1.19835e7</td><td style = \"text-align: right;\">647.684</td><td style = \"text-align: right;\">4.08845e5</td><td style = \"text-align: right;\">1.61499e8</td><td style = \"text-align: right;\">0</td><td style = \"text-align: left;\">Float64</td></tr><tr><td class = \"rowNumber\" style = \"font-weight: bold; text-align: right;\">7</td><td style = \"text-align: left;\">actual_est</td><td style = \"text-align: right;\">1.19835e7</td><td style = \"text-align: right;\">645.354</td><td style = \"text-align: right;\">4.08984e5</td><td style = \"text-align: right;\">1.615e8</td><td style = \"text-align: right;\">0</td><td style = \"text-align: left;\">Float64</td></tr><tr><td class = \"rowNumber\" style = \"font-weight: bold; text-align: right;\">8</td><td style = \"text-align: left;\">expected_est_bad_prior</td><td style = \"text-align: right;\">1.57714e7</td><td style = \"text-align: right;\">500.085</td><td style = \"text-align: right;\">3.54172e5</td><td style = \"text-align: right;\">9.37835e8</td><td style = \"text-align: right;\">0</td><td style = \"text-align: left;\">Float64</td></tr><tr><td class = \"rowNumber\" style = \"font-weight: bold; text-align: right;\">9</td><td style = \"text-align: left;\">expected_est_better_bad_prior</td><td style = \"text-align: right;\">1.57716e7</td><td style = \"text-align: right;\">500.913</td><td style = \"text-align: right;\">3.54184e5</td><td style = \"text-align: right;\">9.37835e8</td><td style = \"text-align: right;\">0</td><td style = \"text-align: left;\">Float64</td></tr><tr><td class = \"rowNumber\" style = \"font-weight: bold; text-align: right;\">10</td><td style = \"text-align: left;\">actual_est_bad_prior</td><td style = \"text-align: right;\">1.57717e7</td><td style = \"text-align: right;\">507.43</td><td style = \"text-align: right;\">3.54153e5</td><td style = \"text-align: right;\">9.37833e8</td><td style = \"text-align: right;\">0</td><td style = \"text-align: left;\">Float64</td></tr></tbody></table></div>"
      ],
      "text/latex": [
       "\\begin{tabular}{r|ccccccc}\n",
       "\t& variable & mean & min & median & max & nmissing & \\\\\n",
       "\t\\hline\n",
       "\t& Symbol & Float64 & Float64 & Float64 & Float64 & Int64 & \\\\\n",
       "\t\\hline\n",
       "\t1 & actual & 1.57611e7 & 618.0 & 354958.0 & 9.37526e8 & 0 & $\\dots$ \\\\\n",
       "\t2 & expected & 1.57604e7 & 582.652 & 3.55792e5 & 9.37469e8 & 0 & $\\dots$ \\\\\n",
       "\t3 & glm\\_est & 1.57724e7 & 640.196 & 3.52512e5 & 9.37852e8 & 0 & $\\dots$ \\\\\n",
       "\t4 & ols\\_est & 1.57718e7 & 601.937 & 3.5178e5 & 9.37896e8 & 0 & $\\dots$ \\\\\n",
       "\t5 & expected\\_est & 2.72258e5 & 646.569 & 2.89695e5 & 9.24024e5 & 0 & $\\dots$ \\\\\n",
       "\t6 & expected\\_est\\_better & 1.19835e7 & 647.684 & 4.08845e5 & 1.61499e8 & 0 & $\\dots$ \\\\\n",
       "\t7 & actual\\_est & 1.19835e7 & 645.354 & 4.08984e5 & 1.615e8 & 0 & $\\dots$ \\\\\n",
       "\t8 & expected\\_est\\_bad\\_prior & 1.57714e7 & 500.085 & 3.54172e5 & 9.37835e8 & 0 & $\\dots$ \\\\\n",
       "\t9 & expected\\_est\\_better\\_bad\\_prior & 1.57716e7 & 500.913 & 3.54184e5 & 9.37835e8 & 0 & $\\dots$ \\\\\n",
       "\t10 & actual\\_est\\_bad\\_prior & 1.57717e7 & 507.43 & 3.54153e5 & 9.37833e8 & 0 & $\\dots$ \\\\\n",
       "\\end{tabular}\n"
      ],
      "text/plain": [
       "\u001b[1m10×7 DataFrame\u001b[0m\n",
       "\u001b[1m Row \u001b[0m│\u001b[1m variable                      \u001b[0m\u001b[1m mean      \u001b[0m\u001b[1m min     \u001b[0m\u001b[1m median         \u001b[0m\u001b[1m max \u001b[0m ⋯\n",
       "     │\u001b[90m Symbol                        \u001b[0m\u001b[90m Float64   \u001b[0m\u001b[90m Float64 \u001b[0m\u001b[90m Float64        \u001b[0m\u001b[90m Floa\u001b[0m ⋯\n",
       "─────┼──────────────────────────────────────────────────────────────────────────\n",
       "   1 │ actual                         1.57611e7  618.0    354958.0        9.37 ⋯\n",
       "   2 │ expected                       1.57604e7  582.652       3.55792e5  9.37\n",
       "   3 │ glm_est                        1.57724e7  640.196       3.52512e5  9.37\n",
       "   4 │ ols_est                        1.57718e7  601.937       3.5178e5   9.37\n",
       "   5 │ expected_est                   2.72258e5  646.569       2.89695e5  9.24 ⋯\n",
       "   6 │ expected_est_better            1.19835e7  647.684       4.08845e5  1.61\n",
       "   7 │ actual_est                     1.19835e7  645.354       4.08984e5  1.61\n",
       "   8 │ expected_est_bad_prior         1.57714e7  500.085       3.54172e5  9.37\n",
       "   9 │ expected_est_better_bad_prior  1.57716e7  500.913       3.54184e5  9.37 ⋯\n",
       "  10 │ actual_est_bad_prior           1.57717e7  507.43        3.54153e5  9.37\n",
       "\u001b[36m                                                               3 columns omitted\u001b[0m"
      ]
     },
     "execution_count": 47,
     "metadata": {},
     "output_type": "execute_result"
    }
   ],
   "source": [
    "df_res = DataFrame(mapreduce(permutedims, vcat, res), \n",
    "    [\"actual\", \"expected\", \"glm_est\", \"ols_est\", \"expected_est\" , \"expected_est_better\", \n",
    "        \"actual_est\", \"expected_est_bad_prior\" , \"expected_est_better_bad_prior\", \"actual_est_bad_prior\"])\n",
    "\n",
    "describe(df_res)"
   ]
  },
  {
   "cell_type": "code",
   "execution_count": 51,
   "id": "29c32fd2-6ebb-46f6-b3c9-abd6fcaf1a86",
   "metadata": {},
   "outputs": [
    {
     "data": {
      "text/html": [
       "<div><div style = \"float: left;\"><span>9×4 DataFrame</span></div><div style = \"clear: both;\"></div></div><div class = \"data-frame\" style = \"overflow-x: scroll;\"><table class = \"data-frame\" style = \"margin-bottom: 6px;\"><thead><tr class = \"header\"><th class = \"rowNumber\" style = \"font-weight: bold; text-align: right;\">Row</th><th style = \"text-align: left;\">rel_bias</th><th style = \"text-align: left;\">rel_mse</th><th style = \"text-align: left;\">rel_mae</th><th style = \"text-align: left;\">est</th></tr><tr class = \"subheader headerLastRow\"><th class = \"rowNumber\" style = \"font-weight: bold; text-align: right;\"></th><th title = \"Float64\" style = \"text-align: left;\">Float64</th><th title = \"Float64\" style = \"text-align: left;\">Float64</th><th title = \"Float64\" style = \"text-align: left;\">Float64</th><th title = \"String\" style = \"text-align: left;\">String</th></tr></thead><tbody><tr><td class = \"rowNumber\" style = \"font-weight: bold; text-align: right;\">1</td><td style = \"text-align: right;\">0.000116574</td><td style = \"text-align: right;\">1.20939</td><td style = \"text-align: right;\">0.00437977</td><td style = \"text-align: left;\">Expected value</td></tr><tr><td class = \"rowNumber\" style = \"font-weight: bold; text-align: right;\">2</td><td style = \"text-align: right;\">-0.21841</td><td style = \"text-align: right;\">9256.35</td><td style = \"text-align: right;\">0.257574</td><td style = \"text-align: left;\">glm</td></tr><tr><td class = \"rowNumber\" style = \"font-weight: bold; text-align: right;\">3</td><td style = \"text-align: right;\">-0.215511</td><td style = \"text-align: right;\">9065.91</td><td style = \"text-align: right;\">0.26007</td><td style = \"text-align: left;\">ols</td></tr><tr><td class = \"rowNumber\" style = \"font-weight: bold; text-align: right;\">4</td><td style = \"text-align: right;\">0.281669</td><td style = \"text-align: right;\">1.53741e7</td><td style = \"text-align: right;\">0.377951</td><td style = \"text-align: left;\">expected_est</td></tr><tr><td class = \"rowNumber\" style = \"font-weight: bold; text-align: right;\">5</td><td style = \"text-align: right;\">-3.6523</td><td style = \"text-align: right;\">1.50211e8</td><td style = \"text-align: right;\">3.75249</td><td style = \"text-align: left;\">expected_est_better</td></tr><tr><td class = \"rowNumber\" style = \"font-weight: bold; text-align: right;\">6</td><td style = \"text-align: right;\">-3.65256</td><td style = \"text-align: right;\">1.50211e8</td><td style = \"text-align: right;\">3.75227</td><td style = \"text-align: left;\">actual_est</td></tr><tr><td class = \"rowNumber\" style = \"font-weight: bold; text-align: right;\">7</td><td style = \"text-align: right;\">-0.168579</td><td style = \"text-align: right;\">8950.56</td><td style = \"text-align: right;\">0.226103</td><td style = \"text-align: left;\">expected_est_bad_prior</td></tr><tr><td class = \"rowNumber\" style = \"font-weight: bold; text-align: right;\">8</td><td style = \"text-align: right;\">-0.175592</td><td style = \"text-align: right;\">9447.54</td><td style = \"text-align: right;\">0.232423</td><td style = \"text-align: left;\">expected_est_better_bad_prior</td></tr><tr><td class = \"rowNumber\" style = \"font-weight: bold; text-align: right;\">9</td><td style = \"text-align: right;\">-0.175543</td><td style = \"text-align: right;\">9449.05</td><td style = \"text-align: right;\">0.232135</td><td style = \"text-align: left;\">actual_est_bad_prior</td></tr></tbody></table></div>"
      ],
      "text/latex": [
       "\\begin{tabular}{r|cccc}\n",
       "\t& rel\\_bias & rel\\_mse & rel\\_mae & est\\\\\n",
       "\t\\hline\n",
       "\t& Float64 & Float64 & Float64 & String\\\\\n",
       "\t\\hline\n",
       "\t1 & 0.000116574 & 1.20939 & 0.00437977 & Expected value \\\\\n",
       "\t2 & -0.21841 & 9256.35 & 0.257574 & glm \\\\\n",
       "\t3 & -0.215511 & 9065.91 & 0.26007 & ols \\\\\n",
       "\t4 & 0.281669 & 1.53741e7 & 0.377951 & expected\\_est \\\\\n",
       "\t5 & -3.6523 & 1.50211e8 & 3.75249 & expected\\_est\\_better \\\\\n",
       "\t6 & -3.65256 & 1.50211e8 & 3.75227 & actual\\_est \\\\\n",
       "\t7 & -0.168579 & 8950.56 & 0.226103 & expected\\_est\\_bad\\_prior \\\\\n",
       "\t8 & -0.175592 & 9447.54 & 0.232423 & expected\\_est\\_better\\_bad\\_prior \\\\\n",
       "\t9 & -0.175543 & 9449.05 & 0.232135 & actual\\_est\\_bad\\_prior \\\\\n",
       "\\end{tabular}\n"
      ],
      "text/plain": [
       "\u001b[1m9×4 DataFrame\u001b[0m\n",
       "\u001b[1m Row \u001b[0m│\u001b[1m rel_bias     \u001b[0m\u001b[1m rel_mse      \u001b[0m\u001b[1m rel_mae    \u001b[0m\u001b[1m est                           \u001b[0m\n",
       "     │\u001b[90m Float64      \u001b[0m\u001b[90m Float64      \u001b[0m\u001b[90m Float64    \u001b[0m\u001b[90m String                        \u001b[0m\n",
       "─────┼───────────────────────────────────────────────────────────────────────\n",
       "   1 │  0.000116574     1.20939    0.00437977  Expected value\n",
       "   2 │ -0.21841      9256.35       0.257574    glm\n",
       "   3 │ -0.215511     9065.91       0.26007     ols\n",
       "   4 │  0.281669        1.53741e7  0.377951    expected_est\n",
       "   5 │ -3.6523          1.50211e8  3.75249     expected_est_better\n",
       "   6 │ -3.65256         1.50211e8  3.75227     actual_est\n",
       "   7 │ -0.168579     8950.56       0.226103    expected_est_bad_prior\n",
       "   8 │ -0.175592     9447.54       0.232423    expected_est_better_bad_prior\n",
       "   9 │ -0.175543     9449.05       0.232135    actual_est_bad_prior"
      ]
     },
     "execution_count": 51,
     "metadata": {},
     "output_type": "execute_result"
    }
   ],
   "source": [
    "DataFrame(\n",
    "    rel_bias = [mean((df_res[:, 1] .- df_res[:, k]) ./ df_res[:, 1])        for k in 2:10],\n",
    "    rel_mse  = [mean(((df_res[:, 1] .- df_res[:, k]) .^ 2) ./ df_res[:, 1]) for k in 2:10],\n",
    "    rel_mae  = [mean(abs.(df_res[:, 1] .- df_res[:, k]) ./ df_res[:, 1])    for k in 2:10],\n",
    "    est      = [\"Expected value\", \"glm\", \"ols\", \"expected_est\", \"expected_est_better\", \"actual_est\", \n",
    "        \"expected_est_bad_prior\", \"expected_est_better_bad_prior\", \"actual_est_bad_prior\"]\n",
    ")"
   ]
  },
  {
   "cell_type": "code",
   "execution_count": 52,
   "id": "53f7d738",
   "metadata": {},
   "outputs": [
    {
     "data": {
      "text/html": [
       "<div><div style = \"float: left;\"><span>9×7 DataFrame</span></div><div style = \"clear: both;\"></div></div><div class = \"data-frame\" style = \"overflow-x: scroll;\"><table class = \"data-frame\" style = \"margin-bottom: 6px;\"><thead><tr class = \"header\"><th class = \"rowNumber\" style = \"font-weight: bold; text-align: right;\">Row</th><th style = \"text-align: left;\">bias</th><th style = \"text-align: left;\">mse</th><th style = \"text-align: left;\">rmse</th><th style = \"text-align: left;\">var</th><th style = \"text-align: left;\">sd</th><th style = \"text-align: left;\">mae</th><th style = \"text-align: left;\">est</th></tr><tr class = \"subheader headerLastRow\"><th class = \"rowNumber\" style = \"font-weight: bold; text-align: right;\"></th><th title = \"Float64\" style = \"text-align: left;\">Float64</th><th title = \"Float64\" style = \"text-align: left;\">Float64</th><th title = \"Float64\" style = \"text-align: left;\">Float64</th><th title = \"Float64\" style = \"text-align: left;\">Float64</th><th title = \"Float64\" style = \"text-align: left;\">Float64</th><th title = \"Float64\" style = \"text-align: left;\">Float64</th><th title = \"String\" style = \"text-align: left;\">String</th></tr></thead><tbody><tr><td class = \"rowNumber\" style = \"font-weight: bold; text-align: right;\">1</td><td style = \"text-align: right;\">0.689031</td><td style = \"text-align: right;\">37519.9</td><td style = \"text-align: right;\">193.701</td><td style = \"text-align: right;\">9.05793e9</td><td style = \"text-align: right;\">95173.1</td><td style = \"text-align: right;\">1.63098</td><td style = \"text-align: left;\">Expected value</td></tr><tr><td class = \"rowNumber\" style = \"font-weight: bold; text-align: right;\">2</td><td style = \"text-align: right;\">-11.3189</td><td style = \"text-align: right;\">5.55979e6</td><td style = \"text-align: right;\">2357.92</td><td style = \"text-align: right;\">9.06598e9</td><td style = \"text-align: right;\">95215.4</td><td style = \"text-align: right;\">32.4284</td><td style = \"text-align: left;\">glm</td></tr><tr><td class = \"rowNumber\" style = \"font-weight: bold; text-align: right;\">3</td><td style = \"text-align: right;\">-10.6342</td><td style = \"text-align: right;\">5.68851e6</td><td style = \"text-align: right;\">2385.06</td><td style = \"text-align: right;\">9.06663e9</td><td style = \"text-align: right;\">95218.9</td><td style = \"text-align: right;\">32.8607</td><td style = \"text-align: left;\">ols</td></tr><tr><td class = \"rowNumber\" style = \"font-weight: bold; text-align: right;\">4</td><td style = \"text-align: right;\">15488.9</td><td style = \"text-align: right;\">9.20643e12</td><td style = \"text-align: right;\">3.03421e6</td><td style = \"text-align: right;\">44438.0</td><td style = \"text-align: right;\">210.803</td><td style = \"text-align: right;\">15502.9</td><td style = \"text-align: left;\">expected_est</td></tr><tr><td class = \"rowNumber\" style = \"font-weight: bold; text-align: right;\">5</td><td style = \"text-align: right;\">3777.58</td><td style = \"text-align: right;\">9.01605e12</td><td style = \"text-align: right;\">3.00267e6</td><td style = \"text-align: right;\">5.25868e8</td><td style = \"text-align: right;\">22931.8</td><td style = \"text-align: right;\">20322.4</td><td style = \"text-align: left;\">expected_est_better</td></tr><tr><td class = \"rowNumber\" style = \"font-weight: bold; text-align: right;\">6</td><td style = \"text-align: right;\">3777.57</td><td style = \"text-align: right;\">9.01606e12</td><td style = \"text-align: right;\">3.00267e6</td><td style = \"text-align: right;\">5.25871e8</td><td style = \"text-align: right;\">22931.9</td><td style = \"text-align: right;\">20322.5</td><td style = \"text-align: left;\">actual_est</td></tr><tr><td class = \"rowNumber\" style = \"font-weight: bold; text-align: right;\">7</td><td style = \"text-align: right;\">-10.2836</td><td style = \"text-align: right;\">4.19614e6</td><td style = \"text-align: right;\">2048.45</td><td style = \"text-align: right;\">9.06521e9</td><td style = \"text-align: right;\">95211.4</td><td style = \"text-align: right;\">22.2577</td><td style = \"text-align: left;\">expected_est_bad_prior</td></tr><tr><td class = \"rowNumber\" style = \"font-weight: bold; text-align: right;\">8</td><td style = \"text-align: right;\">-10.4429</td><td style = \"text-align: right;\">4.20785e6</td><td style = \"text-align: right;\">2051.3</td><td style = \"text-align: right;\">9.06521e9</td><td style = \"text-align: right;\">95211.4</td><td style = \"text-align: right;\">22.3761</td><td style = \"text-align: left;\">expected_est_better_bad_prior</td></tr><tr><td class = \"rowNumber\" style = \"font-weight: bold; text-align: right;\">9</td><td style = \"text-align: right;\">-10.5914</td><td style = \"text-align: right;\">4.20476e6</td><td style = \"text-align: right;\">2050.55</td><td style = \"text-align: right;\">9.06516e9</td><td style = \"text-align: right;\">95211.2</td><td style = \"text-align: right;\">22.2999</td><td style = \"text-align: left;\">actual_est_bad_prior</td></tr></tbody></table></div>"
      ],
      "text/latex": [
       "\\begin{tabular}{r|ccccccc}\n",
       "\t& bias & mse & rmse & var & sd & mae & est\\\\\n",
       "\t\\hline\n",
       "\t& Float64 & Float64 & Float64 & Float64 & Float64 & Float64 & String\\\\\n",
       "\t\\hline\n",
       "\t1 & 0.689031 & 37519.9 & 193.701 & 9.05793e9 & 95173.1 & 1.63098 & Expected value \\\\\n",
       "\t2 & -11.3189 & 5.55979e6 & 2357.92 & 9.06598e9 & 95215.4 & 32.4284 & glm \\\\\n",
       "\t3 & -10.6342 & 5.68851e6 & 2385.06 & 9.06663e9 & 95218.9 & 32.8607 & ols \\\\\n",
       "\t4 & 15488.9 & 9.20643e12 & 3.03421e6 & 44438.0 & 210.803 & 15502.9 & expected\\_est \\\\\n",
       "\t5 & 3777.58 & 9.01605e12 & 3.00267e6 & 5.25868e8 & 22931.8 & 20322.4 & expected\\_est\\_better \\\\\n",
       "\t6 & 3777.57 & 9.01606e12 & 3.00267e6 & 5.25871e8 & 22931.9 & 20322.5 & actual\\_est \\\\\n",
       "\t7 & -10.2836 & 4.19614e6 & 2048.45 & 9.06521e9 & 95211.4 & 22.2577 & expected\\_est\\_bad\\_prior \\\\\n",
       "\t8 & -10.4429 & 4.20785e6 & 2051.3 & 9.06521e9 & 95211.4 & 22.3761 & expected\\_est\\_better\\_bad\\_prior \\\\\n",
       "\t9 & -10.5914 & 4.20476e6 & 2050.55 & 9.06516e9 & 95211.2 & 22.2999 & actual\\_est\\_bad\\_prior \\\\\n",
       "\\end{tabular}\n"
      ],
      "text/plain": [
       "\u001b[1m9×7 DataFrame\u001b[0m\n",
       "\u001b[1m Row \u001b[0m│\u001b[1m bias         \u001b[0m\u001b[1m mse            \u001b[0m\u001b[1m rmse         \u001b[0m\u001b[1m var           \u001b[0m\u001b[1m sd        \u001b[0m\u001b[1m m\u001b[0m ⋯\n",
       "     │\u001b[90m Float64      \u001b[0m\u001b[90m Float64        \u001b[0m\u001b[90m Float64      \u001b[0m\u001b[90m Float64       \u001b[0m\u001b[90m Float64   \u001b[0m\u001b[90m F\u001b[0m ⋯\n",
       "─────┼──────────────────────────────────────────────────────────────────────────\n",
       "   1 │     0.689031  37519.9          193.701          9.05793e9  95173.1      ⋯\n",
       "   2 │   -11.3189        5.55979e6   2357.92           9.06598e9  95215.4\n",
       "   3 │   -10.6342        5.68851e6   2385.06           9.06663e9  95218.9\n",
       "   4 │ 15488.9           9.20643e12     3.03421e6  44438.0          210.803  1\n",
       "   5 │  3777.58          9.01605e12     3.00267e6      5.25868e8  22931.8    2 ⋯\n",
       "   6 │  3777.57          9.01606e12     3.00267e6      5.25871e8  22931.9    2\n",
       "   7 │   -10.2836        4.19614e6   2048.45           9.06521e9  95211.4\n",
       "   8 │   -10.4429        4.20785e6   2051.3            9.06521e9  95211.4\n",
       "   9 │   -10.5914        4.20476e6   2050.55           9.06516e9  95211.2      ⋯\n",
       "\u001b[36m                                                               2 columns omitted\u001b[0m"
      ]
     },
     "execution_count": 52,
     "metadata": {},
     "output_type": "execute_result"
    }
   ],
   "source": [
    "DataFrame(\n",
    "    bias  = [mean((df_res[:, 1] .- df_res[:, k]) ./ 1000)        for k in 2:10],\n",
    "    mse   = [mean(((df_res[:, 1] .- df_res[:, k]) .^ 2) ./ 1000) for k in 2:10],\n",
    "    rmse  = [sqrt(mean(((df_res[:, 1] .- df_res[:, k]) .^ 2) ./ 1000)) for k in 2:10],\n",
    "    var   = [var(df_res[:, k] / 1000) for k in 2:10],\n",
    "    sd    = [std(df_res[:, k] / 1000) for k in 2:10],\n",
    "    mae   = [mean(abs.(df_res[:, 1] .- df_res[:, k]) ./ 1000)    for k in 2:10],\n",
    "    est   = [\"Expected value\", \"glm\", \"ols\", \"expected_est\", \"expected_est_better\", \"actual_est\", \n",
    "        \"expected_est_bad_prior\", \"expected_est_better_bad_prior\", \"actual_est_bad_prior\"]\n",
    ")"
   ]
  },
  {
   "cell_type": "code",
   "execution_count": 50,
   "id": "635091b2-efc6-48b9-ba3d-83a0220c0eb6",
   "metadata": {},
   "outputs": [],
   "source": [
    "CSV.write(pwd() * \"/data_raw/init_res.csv\", df_res);"
   ]
  },
  {
   "cell_type": "markdown",
   "id": "57614283-ff59-42e0-9cfa-f202038c40ff",
   "metadata": {},
   "source": [
    "### Uknown prior"
   ]
  },
  {
   "cell_type": "code",
   "execution_count": 53,
   "id": "1d7bbd83-df7c-44a9-b08b-aace1353d77f",
   "metadata": {
    "scrolled": true
   },
   "outputs": [
    {
     "name": "stderr",
     "output_type": "stream",
     "text": [
      "\u001b[32mSimulation progress ... 100%|████████████████████████████| Time: 4:51:54\u001b[39m\n"
     ]
    },
    {
     "data": {
      "text/html": [
       "<div><div style = \"float: left;\"><span>10×7 DataFrame</span></div><div style = \"clear: both;\"></div></div><div class = \"data-frame\" style = \"overflow-x: scroll;\"><table class = \"data-frame\" style = \"margin-bottom: 6px;\"><thead><tr class = \"header\"><th class = \"rowNumber\" style = \"font-weight: bold; text-align: right;\">Row</th><th style = \"text-align: left;\">variable</th><th style = \"text-align: left;\">mean</th><th style = \"text-align: left;\">min</th><th style = \"text-align: left;\">median</th><th style = \"text-align: left;\">max</th><th style = \"text-align: left;\">nmissing</th><th style = \"text-align: left;\">eltype</th></tr><tr class = \"subheader headerLastRow\"><th class = \"rowNumber\" style = \"font-weight: bold; text-align: right;\"></th><th title = \"Symbol\" style = \"text-align: left;\">Symbol</th><th title = \"Float64\" style = \"text-align: left;\">Float64</th><th title = \"Float64\" style = \"text-align: left;\">Float64</th><th title = \"Float64\" style = \"text-align: left;\">Float64</th><th title = \"Float64\" style = \"text-align: left;\">Float64</th><th title = \"Int64\" style = \"text-align: left;\">Int64</th><th title = \"DataType\" style = \"text-align: left;\">DataType</th></tr></thead><tbody><tr><td class = \"rowNumber\" style = \"font-weight: bold; text-align: right;\">1</td><td style = \"text-align: left;\">actual</td><td style = \"text-align: right;\">2.15606e7</td><td style = \"text-align: right;\">371.0</td><td style = \"text-align: right;\">528770.0</td><td style = \"text-align: right;\">1.06463e9</td><td style = \"text-align: right;\">0</td><td style = \"text-align: left;\">Float64</td></tr><tr><td class = \"rowNumber\" style = \"font-weight: bold; text-align: right;\">2</td><td style = \"text-align: left;\">expected</td><td style = \"text-align: right;\">2.15609e7</td><td style = \"text-align: right;\">355.536</td><td style = \"text-align: right;\">5.27528e5</td><td style = \"text-align: right;\">1.06465e9</td><td style = \"text-align: right;\">0</td><td style = \"text-align: left;\">Float64</td></tr><tr><td class = \"rowNumber\" style = \"font-weight: bold; text-align: right;\">3</td><td style = \"text-align: left;\">glm_est</td><td style = \"text-align: right;\">2.15765e7</td><td style = \"text-align: right;\">97.6248</td><td style = \"text-align: right;\">5.09981e5</td><td style = \"text-align: right;\">1.06657e9</td><td style = \"text-align: right;\">0</td><td style = \"text-align: left;\">Float64</td></tr><tr><td class = \"rowNumber\" style = \"font-weight: bold; text-align: right;\">4</td><td style = \"text-align: left;\">ols_est</td><td style = \"text-align: right;\">2.15759e7</td><td style = \"text-align: right;\">94.0068</td><td style = \"text-align: right;\">5.09053e5</td><td style = \"text-align: right;\">1.06654e9</td><td style = \"text-align: right;\">0</td><td style = \"text-align: left;\">Float64</td></tr><tr><td class = \"rowNumber\" style = \"font-weight: bold; text-align: right;\">5</td><td style = \"text-align: left;\">expected_est</td><td style = \"text-align: right;\">2.54975e5</td><td style = \"text-align: right;\">374.828</td><td style = \"text-align: right;\">3.26216e5</td><td style = \"text-align: right;\">512301.0</td><td style = \"text-align: right;\">0</td><td style = \"text-align: left;\">Float64</td></tr><tr><td class = \"rowNumber\" style = \"font-weight: bold; text-align: right;\">6</td><td style = \"text-align: left;\">expected_est_better</td><td style = \"text-align: right;\">3.93233e7</td><td style = \"text-align: right;\">375.473</td><td style = \"text-align: right;\">2.45891e7</td><td style = \"text-align: right;\">3.45985e8</td><td style = \"text-align: right;\">0</td><td style = \"text-align: left;\">Float64</td></tr><tr><td class = \"rowNumber\" style = \"font-weight: bold; text-align: right;\">7</td><td style = \"text-align: left;\">actual_est</td><td style = \"text-align: right;\">3.93233e7</td><td style = \"text-align: right;\">383.914</td><td style = \"text-align: right;\">2.4589e7</td><td style = \"text-align: right;\">3.45986e8</td><td style = \"text-align: right;\">0</td><td style = \"text-align: left;\">Float64</td></tr><tr><td class = \"rowNumber\" style = \"font-weight: bold; text-align: right;\">8</td><td style = \"text-align: left;\">expected_est_bad_prior</td><td style = \"text-align: right;\">2.15778e7</td><td style = \"text-align: right;\">202.92</td><td style = \"text-align: right;\">5.21789e5</td><td style = \"text-align: right;\">1.06665e9</td><td style = \"text-align: right;\">0</td><td style = \"text-align: left;\">Float64</td></tr><tr><td class = \"rowNumber\" style = \"font-weight: bold; text-align: right;\">9</td><td style = \"text-align: left;\">expected_est_better_bad_prior</td><td style = \"text-align: right;\">2.15786e7</td><td style = \"text-align: right;\">216.602</td><td style = \"text-align: right;\">5.222e5</td><td style = \"text-align: right;\">1.06665e9</td><td style = \"text-align: right;\">0</td><td style = \"text-align: left;\">Float64</td></tr><tr><td class = \"rowNumber\" style = \"font-weight: bold; text-align: right;\">10</td><td style = \"text-align: left;\">actual_est_bad_prior</td><td style = \"text-align: right;\">2.15787e7</td><td style = \"text-align: right;\">208.096</td><td style = \"text-align: right;\">5.22187e5</td><td style = \"text-align: right;\">1.06665e9</td><td style = \"text-align: right;\">0</td><td style = \"text-align: left;\">Float64</td></tr></tbody></table></div>"
      ],
      "text/latex": [
       "\\begin{tabular}{r|ccccccc}\n",
       "\t& variable & mean & min & median & max & nmissing & \\\\\n",
       "\t\\hline\n",
       "\t& Symbol & Float64 & Float64 & Float64 & Float64 & Int64 & \\\\\n",
       "\t\\hline\n",
       "\t1 & actual & 2.15606e7 & 371.0 & 528770.0 & 1.06463e9 & 0 & $\\dots$ \\\\\n",
       "\t2 & expected & 2.15609e7 & 355.536 & 5.27528e5 & 1.06465e9 & 0 & $\\dots$ \\\\\n",
       "\t3 & glm\\_est & 2.15765e7 & 97.6248 & 5.09981e5 & 1.06657e9 & 0 & $\\dots$ \\\\\n",
       "\t4 & ols\\_est & 2.15759e7 & 94.0068 & 5.09053e5 & 1.06654e9 & 0 & $\\dots$ \\\\\n",
       "\t5 & expected\\_est & 2.54975e5 & 374.828 & 3.26216e5 & 512301.0 & 0 & $\\dots$ \\\\\n",
       "\t6 & expected\\_est\\_better & 3.93233e7 & 375.473 & 2.45891e7 & 3.45985e8 & 0 & $\\dots$ \\\\\n",
       "\t7 & actual\\_est & 3.93233e7 & 383.914 & 2.4589e7 & 3.45986e8 & 0 & $\\dots$ \\\\\n",
       "\t8 & expected\\_est\\_bad\\_prior & 2.15778e7 & 202.92 & 5.21789e5 & 1.06665e9 & 0 & $\\dots$ \\\\\n",
       "\t9 & expected\\_est\\_better\\_bad\\_prior & 2.15786e7 & 216.602 & 5.222e5 & 1.06665e9 & 0 & $\\dots$ \\\\\n",
       "\t10 & actual\\_est\\_bad\\_prior & 2.15787e7 & 208.096 & 5.22187e5 & 1.06665e9 & 0 & $\\dots$ \\\\\n",
       "\\end{tabular}\n"
      ],
      "text/plain": [
       "\u001b[1m10×7 DataFrame\u001b[0m\n",
       "\u001b[1m Row \u001b[0m│\u001b[1m variable                      \u001b[0m\u001b[1m mean      \u001b[0m\u001b[1m min      \u001b[0m\u001b[1m median         \u001b[0m\u001b[1m max\u001b[0m ⋯\n",
       "     │\u001b[90m Symbol                        \u001b[0m\u001b[90m Float64   \u001b[0m\u001b[90m Float64  \u001b[0m\u001b[90m Float64        \u001b[0m\u001b[90m Flo\u001b[0m ⋯\n",
       "─────┼──────────────────────────────────────────────────────────────────────────\n",
       "   1 │ actual                         2.15606e7  371.0     528770.0            ⋯\n",
       "   2 │ expected                       2.15609e7  355.536        5.27528e5\n",
       "   3 │ glm_est                        2.15765e7   97.6248       5.09981e5\n",
       "   4 │ ols_est                        2.15759e7   94.0068       5.09053e5\n",
       "   5 │ expected_est                   2.54975e5  374.828        3.26216e5  512 ⋯\n",
       "   6 │ expected_est_better            3.93233e7  375.473        2.45891e7\n",
       "   7 │ actual_est                     3.93233e7  383.914        2.4589e7\n",
       "   8 │ expected_est_bad_prior         2.15778e7  202.92         5.21789e5\n",
       "   9 │ expected_est_better_bad_prior  2.15786e7  216.602        5.222e5        ⋯\n",
       "  10 │ actual_est_bad_prior           2.15787e7  208.096        5.22187e5\n",
       "\u001b[36m                                                               3 columns omitted\u001b[0m"
      ]
     },
     "execution_count": 53,
     "metadata": {},
     "output_type": "execute_result"
    }
   ],
   "source": [
    "Q = 7 # Liczba państw\n",
    "\n",
    "N_distr = Poisson(1500)\n",
    "\n",
    "res = Vector{Any}(missing, nsims)\n",
    "μ = [1.5, 3.4]\n",
    "Σ = .2 * [1 -.6; -.6 1]\n",
    "nsims = 100\n",
    "\n",
    "prog = Progress(nsims, \"Simulation progress ...\")\n",
    "\n",
    "Threads.@threads for k in 1:nsims\n",
    "    α, β = rand(MvNormal(μ, Σ))\n",
    "\n",
    "    N = rand.(N_distr, Q)\n",
    "    M = reduce(vcat, rand.(M_distr(N, α), 1))\n",
    "    n = reduce(vcat, rand.(Binomial.(N, .2), 1))\n",
    "\n",
    "    p = (N .^ α) .* ((n ./ N) .^ β)\n",
    "    p = 1 ./ (1 .+ exp.(-p))\n",
    "    #u = reduce(vcat, rand.(u_distr.(n, N), 1))\n",
    "    u = 1.0\n",
    "    m = reduce(vcat, rand.(Binomial.(M, p * u), 1))\n",
    "    \n",
    "    df1 = DataFrame(\n",
    "        y = m,\n",
    "        x1 = log.(N),\n",
    "        x2 = log.(n ./ N)\n",
    "    )\n",
    "    \n",
    "    # TODO:: estimate Σ via one of those\n",
    "    mm = glm(@formula(y ~ x1 + x2 + 0), df1, Poisson(), LogLink())\n",
    "    α̂₁, β̂₁ = coef(mm)\n",
    "\n",
    "    ols = lm(@formula(log(y) ~ x1 + x2 + 0), df1)\n",
    "    α̂₂, β̂₂ = coef(ols)\n",
    "\n",
    "    est = sample(binomial_model(m, n, N, μ, Σ), PG(100), 500)\n",
    "    α̂₃, β̂₃ = describe(est)[1][1:2, :mean]\n",
    "    M̂ = describe(est)[1][3:end, :mean]\n",
    "\n",
    "    μ̂_prior = [α̂₁, β̂₁]\n",
    "    Σ̂_prior = vcov(mm)\n",
    "\n",
    "    est_2 = sample(binomial_model(m, n, N, μ̂_prior, Σ̂_prior), PG(100), 500)\n",
    "    α̂₄, β̂₄ = describe(est_2)[1][1:2, :mean]\n",
    "    M̂_2 = describe(est_2)[1][3:end, :mean]\n",
    "\n",
    "    res[k] = [\n",
    "        sum(M); sum(N .^ α); sum(N .^ α̂₁); sum(N .^ α̂₂); sum(N .^ α̂₃);\n",
    "        sum([mean(N[x] .^ est[:, 1, :]) for x in 1:Q]); sum(M̂); \n",
    "        sum(N .^ α̂₄); sum([mean(N[x] .^ est_2[:, 1, :]) for x in 1:Q]);\n",
    "        sum(M̂_2)\n",
    "    ]\n",
    "\n",
    "    #push!(res, [sum(M) sum(N .^ α) sum(N .^ α̂₁) sum(N .^ α̂₂)])\n",
    "    next!(prog)\n",
    "end # end for\n",
    "\n",
    "df_res = DataFrame(mapreduce(permutedims, vcat, res), \n",
    "    [\"actual\", \"expected\", \"glm_est\", \"ols_est\", \"expected_est\" , \"expected_est_better\", \n",
    "        \"actual_est\", \"expected_est_bad_prior\" , \"expected_est_better_bad_prior\", \"actual_est_bad_prior\"])\n",
    "\n",
    "describe(df_res)"
   ]
  },
  {
   "cell_type": "code",
   "execution_count": 54,
   "id": "148c0319-5821-47b5-be04-dd055d0f2575",
   "metadata": {},
   "outputs": [
    {
     "data": {
      "text/html": [
       "<div><div style = \"float: left;\"><span>9×4 DataFrame</span></div><div style = \"clear: both;\"></div></div><div class = \"data-frame\" style = \"overflow-x: scroll;\"><table class = \"data-frame\" style = \"margin-bottom: 6px;\"><thead><tr class = \"header\"><th class = \"rowNumber\" style = \"font-weight: bold; text-align: right;\">Row</th><th style = \"text-align: left;\">rel_bias</th><th style = \"text-align: left;\">rel_mse</th><th style = \"text-align: left;\">rel_mae</th><th style = \"text-align: left;\">est</th></tr><tr class = \"subheader headerLastRow\"><th class = \"rowNumber\" style = \"font-weight: bold; text-align: right;\"></th><th title = \"Float64\" style = \"text-align: left;\">Float64</th><th title = \"Float64\" style = \"text-align: left;\">Float64</th><th title = \"Float64\" style = \"text-align: left;\">Float64</th><th title = \"String\" style = \"text-align: left;\">String</th></tr></thead><tbody><tr><td class = \"rowNumber\" style = \"font-weight: bold; text-align: right;\">1</td><td style = \"text-align: right;\">0.00162797</td><td style = \"text-align: right;\">1.06888</td><td style = \"text-align: right;\">0.00396007</td><td style = \"text-align: left;\">Expected value</td></tr><tr><td class = \"rowNumber\" style = \"font-weight: bold; text-align: right;\">2</td><td style = \"text-align: right;\">-0.268251</td><td style = \"text-align: right;\">6638.04</td><td style = \"text-align: right;\">0.337673</td><td style = \"text-align: left;\">glm</td></tr><tr><td class = \"rowNumber\" style = \"font-weight: bold; text-align: right;\">3</td><td style = \"text-align: right;\">-0.257848</td><td style = \"text-align: right;\">6271.36</td><td style = \"text-align: right;\">0.327008</td><td style = \"text-align: left;\">ols</td></tr><tr><td class = \"rowNumber\" style = \"font-weight: bold; text-align: right;\">4</td><td style = \"text-align: right;\">0.376868</td><td style = \"text-align: right;\">2.11475e7</td><td style = \"text-align: right;\">0.4379</td><td style = \"text-align: left;\">expected_est</td></tr><tr><td class = \"rowNumber\" style = \"font-weight: bold; text-align: right;\">5</td><td style = \"text-align: right;\">-18.6108</td><td style = \"text-align: right;\">1.30055e9</td><td style = \"text-align: right;\">18.6637</td><td style = \"text-align: left;\">expected_est_better</td></tr><tr><td class = \"rowNumber\" style = \"font-weight: bold; text-align: right;\">6</td><td style = \"text-align: right;\">-18.6118</td><td style = \"text-align: right;\">1.30056e9</td><td style = \"text-align: right;\">18.6642</td><td style = \"text-align: left;\">actual_est</td></tr><tr><td class = \"rowNumber\" style = \"font-weight: bold; text-align: right;\">7</td><td style = \"text-align: right;\">-0.0393317</td><td style = \"text-align: right;\">2399.75</td><td style = \"text-align: right;\">0.131305</td><td style = \"text-align: left;\">expected_est_bad_prior</td></tr><tr><td class = \"rowNumber\" style = \"font-weight: bold; text-align: right;\">8</td><td style = \"text-align: right;\">-0.095784</td><td style = \"text-align: right;\">4538.62</td><td style = \"text-align: right;\">0.1828</td><td style = \"text-align: left;\">expected_est_better_bad_prior</td></tr><tr><td class = \"rowNumber\" style = \"font-weight: bold; text-align: right;\">9</td><td style = \"text-align: right;\">-0.0953988</td><td style = \"text-align: right;\">4533.34</td><td style = \"text-align: right;\">0.183023</td><td style = \"text-align: left;\">actual_est_bad_prior</td></tr></tbody></table></div>"
      ],
      "text/latex": [
       "\\begin{tabular}{r|cccc}\n",
       "\t& rel\\_bias & rel\\_mse & rel\\_mae & est\\\\\n",
       "\t\\hline\n",
       "\t& Float64 & Float64 & Float64 & String\\\\\n",
       "\t\\hline\n",
       "\t1 & 0.00162797 & 1.06888 & 0.00396007 & Expected value \\\\\n",
       "\t2 & -0.268251 & 6638.04 & 0.337673 & glm \\\\\n",
       "\t3 & -0.257848 & 6271.36 & 0.327008 & ols \\\\\n",
       "\t4 & 0.376868 & 2.11475e7 & 0.4379 & expected\\_est \\\\\n",
       "\t5 & -18.6108 & 1.30055e9 & 18.6637 & expected\\_est\\_better \\\\\n",
       "\t6 & -18.6118 & 1.30056e9 & 18.6642 & actual\\_est \\\\\n",
       "\t7 & -0.0393317 & 2399.75 & 0.131305 & expected\\_est\\_bad\\_prior \\\\\n",
       "\t8 & -0.095784 & 4538.62 & 0.1828 & expected\\_est\\_better\\_bad\\_prior \\\\\n",
       "\t9 & -0.0953988 & 4533.34 & 0.183023 & actual\\_est\\_bad\\_prior \\\\\n",
       "\\end{tabular}\n"
      ],
      "text/plain": [
       "\u001b[1m9×4 DataFrame\u001b[0m\n",
       "\u001b[1m Row \u001b[0m│\u001b[1m rel_bias     \u001b[0m\u001b[1m rel_mse      \u001b[0m\u001b[1m rel_mae     \u001b[0m\u001b[1m est                           \u001b[0m\n",
       "     │\u001b[90m Float64      \u001b[0m\u001b[90m Float64      \u001b[0m\u001b[90m Float64     \u001b[0m\u001b[90m String                        \u001b[0m\n",
       "─────┼────────────────────────────────────────────────────────────────────────\n",
       "   1 │   0.00162797     1.06888     0.00396007  Expected value\n",
       "   2 │  -0.268251    6638.04        0.337673    glm\n",
       "   3 │  -0.257848    6271.36        0.327008    ols\n",
       "   4 │   0.376868       2.11475e7   0.4379      expected_est\n",
       "   5 │ -18.6108         1.30055e9  18.6637      expected_est_better\n",
       "   6 │ -18.6118         1.30056e9  18.6642      actual_est\n",
       "   7 │  -0.0393317   2399.75        0.131305    expected_est_bad_prior\n",
       "   8 │  -0.095784    4538.62        0.1828      expected_est_better_bad_prior\n",
       "   9 │  -0.0953988   4533.34        0.183023    actual_est_bad_prior"
      ]
     },
     "execution_count": 54,
     "metadata": {},
     "output_type": "execute_result"
    }
   ],
   "source": [
    "DataFrame(\n",
    "    rel_bias = [mean((df_res[:, 1] .- df_res[:, k]) ./ df_res[:, 1])        for k in 2:10],\n",
    "    rel_mse  = [mean(((df_res[:, 1] .- df_res[:, k]) .^ 2) ./ df_res[:, 1]) for k in 2:10],\n",
    "    rel_mae  = [mean(abs.(df_res[:, 1] .- df_res[:, k]) ./ df_res[:, 1])    for k in 2:10],\n",
    "    est      = [\"Expected value\", \"glm\", \"ols\", \"expected_est\", \"expected_est_better\", \"actual_est\", \n",
    "        \"expected_est_bad_prior\", \"expected_est_better_bad_prior\", \"actual_est_bad_prior\"]\n",
    ")"
   ]
  },
  {
   "cell_type": "code",
   "execution_count": 55,
   "id": "411f49b8-599e-42b0-b06c-e9ce703fa695",
   "metadata": {},
   "outputs": [
    {
     "data": {
      "text/html": [
       "<div><div style = \"float: left;\"><span>9×7 DataFrame</span></div><div style = \"clear: both;\"></div></div><div class = \"data-frame\" style = \"overflow-x: scroll;\"><table class = \"data-frame\" style = \"margin-bottom: 6px;\"><thead><tr class = \"header\"><th class = \"rowNumber\" style = \"font-weight: bold; text-align: right;\">Row</th><th style = \"text-align: left;\">bias</th><th style = \"text-align: left;\">mse</th><th style = \"text-align: left;\">rmse</th><th style = \"text-align: left;\">var</th><th style = \"text-align: left;\">sd</th><th style = \"text-align: left;\">mae</th><th style = \"text-align: left;\">est</th></tr><tr class = \"subheader headerLastRow\"><th class = \"rowNumber\" style = \"font-weight: bold; text-align: right;\"></th><th title = \"Float64\" style = \"text-align: left;\">Float64</th><th title = \"Float64\" style = \"text-align: left;\">Float64</th><th title = \"Float64\" style = \"text-align: left;\">Float64</th><th title = \"Float64\" style = \"text-align: left;\">Float64</th><th title = \"Float64\" style = \"text-align: left;\">Float64</th><th title = \"Float64\" style = \"text-align: left;\">Float64</th><th title = \"String\" style = \"text-align: left;\">String</th></tr></thead><tbody><tr><td class = \"rowNumber\" style = \"font-weight: bold; text-align: right;\">1</td><td style = \"text-align: right;\">-0.269928</td><td style = \"text-align: right;\">19961.3</td><td style = \"text-align: right;\">141.285</td><td style = \"text-align: right;\">1.26127e10</td><td style = \"text-align: right;\">1.12306e5</td><td style = \"text-align: right;\">1.69467</td><td style = \"text-align: left;\">Expected value</td></tr><tr><td class = \"rowNumber\" style = \"font-weight: bold; text-align: right;\">2</td><td style = \"text-align: right;\">-15.8847</td><td style = \"text-align: right;\">5.35358e7</td><td style = \"text-align: right;\">7316.82</td><td style = \"text-align: right;\">1.26532e10</td><td style = \"text-align: right;\">1.12486e5</td><td style = \"text-align: right;\">71.8523</td><td style = \"text-align: left;\">glm</td></tr><tr><td class = \"rowNumber\" style = \"font-weight: bold; text-align: right;\">3</td><td style = \"text-align: right;\">-15.2771</td><td style = \"text-align: right;\">5.20521e7</td><td style = \"text-align: right;\">7214.71</td><td style = \"text-align: right;\">1.26525e10</td><td style = \"text-align: right;\">1.12483e5</td><td style = \"text-align: right;\">71.4522</td><td style = \"text-align: left;\">ols</td></tr><tr><td class = \"rowNumber\" style = \"font-weight: bold; text-align: right;\">4</td><td style = \"text-align: right;\">21305.7</td><td style = \"text-align: right;\">1.29334e13</td><td style = \"text-align: right;\">3.5963e6</td><td style = \"text-align: right;\">31108.9</td><td style = \"text-align: right;\">176.377</td><td style = \"text-align: right;\">21313.9</td><td style = \"text-align: left;\">expected_est</td></tr><tr><td class = \"rowNumber\" style = \"font-weight: bold; text-align: right;\">5</td><td style = \"text-align: right;\">-17762.7</td><td style = \"text-align: right;\">1.05269e13</td><td style = \"text-align: right;\">3.24452e6</td><td style = \"text-align: right;\">3.65892e9</td><td style = \"text-align: right;\">60489.0</td><td style = \"text-align: right;\">40440.0</td><td style = \"text-align: left;\">expected_est_better</td></tr><tr><td class = \"rowNumber\" style = \"font-weight: bold; text-align: right;\">6</td><td style = \"text-align: right;\">-17762.7</td><td style = \"text-align: right;\">1.05269e13</td><td style = \"text-align: right;\">3.24452e6</td><td style = \"text-align: right;\">3.65892e9</td><td style = \"text-align: right;\">60489.0</td><td style = \"text-align: right;\">40440.0</td><td style = \"text-align: left;\">actual_est</td></tr><tr><td class = \"rowNumber\" style = \"font-weight: bold; text-align: right;\">7</td><td style = \"text-align: right;\">-17.202</td><td style = \"text-align: right;\">5.65178e7</td><td style = \"text-align: right;\">7517.84</td><td style = \"text-align: right;\">1.26551e10</td><td style = \"text-align: right;\">1.12495e5</td><td style = \"text-align: right;\">63.4928</td><td style = \"text-align: left;\">expected_est_bad_prior</td></tr><tr><td class = \"rowNumber\" style = \"font-weight: bold; text-align: right;\">8</td><td style = \"text-align: right;\">-17.9886</td><td style = \"text-align: right;\">5.65988e7</td><td style = \"text-align: right;\">7523.22</td><td style = \"text-align: right;\">1.26551e10</td><td style = \"text-align: right;\">1.12495e5</td><td style = \"text-align: right;\">63.8227</td><td style = \"text-align: left;\">expected_est_better_bad_prior</td></tr><tr><td class = \"rowNumber\" style = \"font-weight: bold; text-align: right;\">9</td><td style = \"text-align: right;\">-18.0934</td><td style = \"text-align: right;\">5.65669e7</td><td style = \"text-align: right;\">7521.1</td><td style = \"text-align: right;\">1.26551e10</td><td style = \"text-align: right;\">1.12495e5</td><td style = \"text-align: right;\">63.8077</td><td style = \"text-align: left;\">actual_est_bad_prior</td></tr></tbody></table></div>"
      ],
      "text/latex": [
       "\\begin{tabular}{r|ccccccc}\n",
       "\t& bias & mse & rmse & var & sd & mae & est\\\\\n",
       "\t\\hline\n",
       "\t& Float64 & Float64 & Float64 & Float64 & Float64 & Float64 & String\\\\\n",
       "\t\\hline\n",
       "\t1 & -0.269928 & 19961.3 & 141.285 & 1.26127e10 & 1.12306e5 & 1.69467 & Expected value \\\\\n",
       "\t2 & -15.8847 & 5.35358e7 & 7316.82 & 1.26532e10 & 1.12486e5 & 71.8523 & glm \\\\\n",
       "\t3 & -15.2771 & 5.20521e7 & 7214.71 & 1.26525e10 & 1.12483e5 & 71.4522 & ols \\\\\n",
       "\t4 & 21305.7 & 1.29334e13 & 3.5963e6 & 31108.9 & 176.377 & 21313.9 & expected\\_est \\\\\n",
       "\t5 & -17762.7 & 1.05269e13 & 3.24452e6 & 3.65892e9 & 60489.0 & 40440.0 & expected\\_est\\_better \\\\\n",
       "\t6 & -17762.7 & 1.05269e13 & 3.24452e6 & 3.65892e9 & 60489.0 & 40440.0 & actual\\_est \\\\\n",
       "\t7 & -17.202 & 5.65178e7 & 7517.84 & 1.26551e10 & 1.12495e5 & 63.4928 & expected\\_est\\_bad\\_prior \\\\\n",
       "\t8 & -17.9886 & 5.65988e7 & 7523.22 & 1.26551e10 & 1.12495e5 & 63.8227 & expected\\_est\\_better\\_bad\\_prior \\\\\n",
       "\t9 & -18.0934 & 5.65669e7 & 7521.1 & 1.26551e10 & 1.12495e5 & 63.8077 & actual\\_est\\_bad\\_prior \\\\\n",
       "\\end{tabular}\n"
      ],
      "text/plain": [
       "\u001b[1m9×7 DataFrame\u001b[0m\n",
       "\u001b[1m Row \u001b[0m│\u001b[1m bias          \u001b[0m\u001b[1m mse            \u001b[0m\u001b[1m rmse         \u001b[0m\u001b[1m var            \u001b[0m\u001b[1m sd        \u001b[0m ⋯\n",
       "     │\u001b[90m Float64       \u001b[0m\u001b[90m Float64        \u001b[0m\u001b[90m Float64      \u001b[0m\u001b[90m Float64        \u001b[0m\u001b[90m Float64   \u001b[0m ⋯\n",
       "─────┼──────────────────────────────────────────────────────────────────────────\n",
       "   1 │     -0.269928  19961.3          141.285          1.26127e10      1.1230 ⋯\n",
       "   2 │    -15.8847        5.35358e7   7316.82           1.26532e10      1.1248\n",
       "   3 │    -15.2771        5.20521e7   7214.71           1.26525e10      1.1248\n",
       "   4 │  21305.7           1.29334e13     3.5963e6   31108.9           176.377\n",
       "   5 │ -17762.7           1.05269e13     3.24452e6      3.65892e9   60489.0    ⋯\n",
       "   6 │ -17762.7           1.05269e13     3.24452e6      3.65892e9   60489.0\n",
       "   7 │    -17.202         5.65178e7   7517.84           1.26551e10      1.1249\n",
       "   8 │    -17.9886        5.65988e7   7523.22           1.26551e10      1.1249\n",
       "   9 │    -18.0934        5.65669e7   7521.1            1.26551e10      1.1249 ⋯\n",
       "\u001b[36m                                                               3 columns omitted\u001b[0m"
      ]
     },
     "execution_count": 55,
     "metadata": {},
     "output_type": "execute_result"
    }
   ],
   "source": [
    "DataFrame(\n",
    "    bias  = [mean((df_res[:, 1] .- df_res[:, k]) ./ 1000)        for k in 2:10],\n",
    "    mse   = [mean(((df_res[:, 1] .- df_res[:, k]) .^ 2) ./ 1000) for k in 2:10],\n",
    "    rmse  = [sqrt(mean(((df_res[:, 1] .- df_res[:, k]) .^ 2) ./ 1000)) for k in 2:10],\n",
    "    var   = [var(df_res[:, k] / 1000) for k in 2:10],\n",
    "    sd    = [std(df_res[:, k] / 1000) for k in 2:10],\n",
    "    mae   = [mean(abs.(df_res[:, 1] .- df_res[:, k]) ./ 1000)    for k in 2:10],\n",
    "    est   = [\"Expected value\", \"glm\", \"ols\", \"expected_est\", \"expected_est_better\", \"actual_est\", \n",
    "        \"expected_est_bad_prior\", \"expected_est_better_bad_prior\", \"actual_est_bad_prior\"]\n",
    ")"
   ]
  },
  {
   "cell_type": "code",
   "execution_count": 56,
   "id": "2112b305-5a55-4e03-98e9-ec3cf3e56518",
   "metadata": {},
   "outputs": [],
   "source": [
    "CSV.write(pwd() * \"/data_raw/init_res_1.csv\", df_res);"
   ]
  },
  {
   "cell_type": "markdown",
   "id": "c49698bd",
   "metadata": {},
   "source": [
    "## Multivariate lognormal prior"
   ]
  },
  {
   "cell_type": "code",
   "execution_count": 222,
   "id": "d5444c05",
   "metadata": {},
   "outputs": [
    {
     "data": {
      "text/plain": [
       "binomial_model_log_nor (generic function with 6 methods)"
      ]
     },
     "execution_count": 222,
     "metadata": {},
     "output_type": "execute_result"
    }
   ],
   "source": [
    "@model function binomial_model_log_nor(m, n, μ, Σ)\n",
    "    γ ~ MvLogNormal(μ, Σ)\n",
    "    ξ = N .^ γ[1]\n",
    "    μ = ξ .* ((n ./ N) .^ γ[2])\n",
    "    μ = 1 ./ (1 .+ 1 ./ μ)\n",
    "    M = Vector(undef, length(m))\n",
    "    \n",
    "    for i in eachindex(M)\n",
    "        M[i] ~ Poisson(ξ[i])\n",
    "    end\n",
    "\n",
    "    for i in eachindex(m)\n",
    "        m[i] ~ Binomial(M[i], μ[i])\n",
    "    end\n",
    "    return m\n",
    "end"
   ]
  },
  {
   "cell_type": "code",
   "execution_count": 216,
   "id": "3778c4eb",
   "metadata": {},
   "outputs": [
    {
     "data": {
      "text/plain": [
       "20×5 Matrix{Float64}:\n",
       "  66.0   67.0   50.0  221.0  0.968399\n",
       "  34.0   34.0   30.0  117.0  0.95238\n",
       " 101.0  104.0   99.0  500.0  0.981713\n",
       "  54.0   54.0   45.0  188.0  0.965293\n",
       " 163.0  166.0  139.0  730.0  0.985988\n",
       " 140.0  142.0  147.0  704.0  0.986203\n",
       " 191.0  194.0  148.0  899.0  0.987185\n",
       "  47.0   48.0   30.0  181.0  0.95785\n",
       " 128.0  131.0  134.0  672.0  0.985403\n",
       "  36.0   38.0   33.0  140.0  0.956609\n",
       "  43.0   44.0   30.0  149.0  0.955489\n",
       " 112.0  114.0   77.0  432.0  0.978584\n",
       "  21.0   25.0   14.0   74.0  0.924333\n",
       "  68.0   70.0   64.0  281.0  0.973635\n",
       " 102.0  105.0   75.0  410.0  0.977996\n",
       " 124.0  125.0  107.0  561.0  0.982933\n",
       " 129.0  129.0  166.0  755.0  0.987222\n",
       " 140.0  141.0  134.0  640.0  0.985196\n",
       "  99.0  102.0   52.0  407.0  0.973908\n",
       "  29.0   36.0   21.0  153.0  0.948157"
      ]
     },
     "execution_count": 216,
     "metadata": {},
     "output_type": "execute_result"
    }
   ],
   "source": [
    "μ = [log(sqrt(2)), 1]\n",
    "Σ = .6 * [1 .4; .4 1]\n",
    "\n",
    "α, β = rand(MvLogNormal(μ, Σ))\n",
    "Q = 20\n",
    "\n",
    "N_distr = Poisson.(rand(DiscreteUniform(35, 1000), Q))\n",
    "M_distr = (N, α) -> Poisson.(N .^ α)\n",
    "u_distr = (n, N) -> Beta(n, N - n)\n",
    "#u_distr = (M, μ) -> Gamma(ϕ, 1 / ϕ)\n",
    "\n",
    "N = reduce(vcat, rand.(N_distr, 1))\n",
    "M = reduce(vcat, rand.(M_distr(N, α), 1))\n",
    "n = reduce(vcat, rand.(Binomial.(N, .2), 1))\n",
    "\n",
    "p = (N .^ α) .* ((n ./ N) .^ β)\n",
    "#p = 1 ./ (1 .+ exp.(-p))\n",
    "p = 1 ./ (1 .+ 1 ./ p)\n",
    "\n",
    "m = reduce(vcat, rand.(Binomial.(M, p * u), 1))\n",
    "\n",
    "[m M n N p]"
   ]
  },
  {
   "cell_type": "code",
   "execution_count": 217,
   "id": "9a2092af",
   "metadata": {},
   "outputs": [
    {
     "data": {
      "text/plain": [
       "(0.7636366973909048, 0.47087941647000187)"
      ]
     },
     "execution_count": 217,
     "metadata": {},
     "output_type": "execute_result"
    }
   ],
   "source": [
    "α,β"
   ]
  },
  {
   "cell_type": "code",
   "execution_count": 221,
   "id": "b26bff10",
   "metadata": {},
   "outputs": [
    {
     "name": "stderr",
     "output_type": "stream",
     "text": [
      "\u001b[33m\u001b[1m┌ \u001b[22m\u001b[39m\u001b[33m\u001b[1mWarning: \u001b[22m\u001b[39mfailed to find valid initial parameters in 10 tries; consider providing explicit initial parameters using the `initial_params` keyword\n",
      "\u001b[33m\u001b[1m└ \u001b[22m\u001b[39m\u001b[90m@ Turing.Inference ~/.julia/packages/Turing/lkUBK/src/mcmc/hmc.jl:171\u001b[39m\n"
     ]
    },
    {
     "ename": "LoadError",
     "evalue": "InexactError: trunc(Int64, 4.519128232039881e19)",
     "output_type": "error",
     "traceback": [
      "InexactError: trunc(Int64, 4.519128232039881e19)",
      "",
      "Stacktrace:",
      "  [1] trunc",
      "    @ ./float.jl:905 [inlined]",
      "  [2] floor",
      "    @ ./float.jl:383 [inlined]",
      "  [3] PoissonADSampler",
      "    @ ~/.julia/packages/Distributions/UaWBm/src/samplers/poisson.jl:54 [inlined]",
      "  [4] PoissonADSampler",
      "    @ ~/.julia/packages/Distributions/UaWBm/src/samplers/poisson.jl:49 [inlined]",
      "  [5] sampler",
      "    @ ~/.julia/packages/Distributions/UaWBm/src/univariate/discrete/poisson.jl:144 [inlined]",
      "  [6] rand(rng::TaskLocalRNG, d::Poisson{Float64})",
      "    @ Distributions ~/.julia/packages/Distributions/UaWBm/src/univariate/discrete/poisson.jl:148",
      "  [7] init",
      "    @ ~/.julia/packages/DynamicPPL/rXg4T/src/sampler.jl:26 [inlined]",
      "  [8] assume(rng::TaskLocalRNG, sampler::DynamicPPL.SampleFromUniform, dist::Poisson{Float64}, vn::AbstractPPL.VarName{:M, Setfield.IndexLens{Tuple{Int64}}}, vi::DynamicPPL.TypedVarInfo{@NamedTuple{γ::DynamicPPL.Metadata{Dict{AbstractPPL.VarName{:γ, Setfield.IdentityLens}, Int64}, Vector{MvLogNormal{Float64, PDMats.PDMat{Float64, Matrix{Float64}}, Vector{Float64}}}, Vector{AbstractPPL.VarName{:γ, Setfield.IdentityLens}}, Vector{Float64}, Vector{Set{DynamicPPL.Selector}}}, M::DynamicPPL.Metadata{Dict{AbstractPPL.VarName{:M, Setfield.IndexLens{Tuple{Int64}}}, Int64}, Vector{Poisson{Float64}}, Vector{AbstractPPL.VarName{:M, Setfield.IndexLens{Tuple{Int64}}}}, Vector{Int64}, Vector{Set{DynamicPPL.Selector}}}}, Float64})",
      "    @ DynamicPPL ~/.julia/packages/DynamicPPL/rXg4T/src/context_implementations.jl:234",
      "  [9] tilde_assume",
      "    @ ~/.julia/packages/DynamicPPL/rXg4T/src/context_implementations.jl:70 [inlined]",
      " [10] tilde_assume",
      "    @ ~/.julia/packages/DynamicPPL/rXg4T/src/context_implementations.jl:67 [inlined]",
      " [11] tilde_assume",
      "    @ ~/.julia/packages/DynamicPPL/rXg4T/src/context_implementations.jl:52 [inlined]",
      " [12] tilde_assume!!",
      "    @ ~/.julia/packages/DynamicPPL/rXg4T/src/context_implementations.jl:138 [inlined]",
      " [13] binomial_model_log_nor(__model__::DynamicPPL.Model{typeof(binomial_model_log_nor), (:m, :n, :N, :μ, :Σ), (), (), Tuple{Vector{Float64}, Vector{Int64}, Vector{Int64}, Vector{Float64}, Matrix{Float64}}, Tuple{}, DynamicPPL.DefaultContext}, __varinfo__::DynamicPPL.TypedVarInfo{@NamedTuple{γ::DynamicPPL.Metadata{Dict{AbstractPPL.VarName{:γ, Setfield.IdentityLens}, Int64}, Vector{MvLogNormal{Float64, PDMats.PDMat{Float64, Matrix{Float64}}, Vector{Float64}}}, Vector{AbstractPPL.VarName{:γ, Setfield.IdentityLens}}, Vector{Float64}, Vector{Set{DynamicPPL.Selector}}}, M::DynamicPPL.Metadata{Dict{AbstractPPL.VarName{:M, Setfield.IndexLens{Tuple{Int64}}}, Int64}, Vector{Poisson{Float64}}, Vector{AbstractPPL.VarName{:M, Setfield.IndexLens{Tuple{Int64}}}}, Vector{Int64}, Vector{Set{DynamicPPL.Selector}}}}, Float64}, __context__::DynamicPPL.SamplingContext{DynamicPPL.SampleFromUniform, DynamicPPL.DefaultContext, TaskLocalRNG}, m::Vector{Float64}, n::Vector{Int64}, N::Vector{Int64}, μ::Vector{Float64}, Σ::Matrix{Float64})",
      "    @ Main ./In[26]:8",
      " [14] _evaluate!!",
      "    @ ~/.julia/packages/DynamicPPL/rXg4T/src/model.jl:963 [inlined]",
      " [15] evaluate_threadunsafe!!",
      "    @ ~/.julia/packages/DynamicPPL/rXg4T/src/model.jl:936 [inlined]",
      " [16] evaluate!!",
      "    @ ~/.julia/packages/DynamicPPL/rXg4T/src/model.jl:889 [inlined]",
      " [17] evaluate!!",
      "    @ ~/.julia/packages/DynamicPPL/rXg4T/src/model.jl:900 [inlined]",
      " [18] evaluate!!(model::DynamicPPL.Model{typeof(binomial_model_log_nor), (:m, :n, :N, :μ, :Σ), (), (), Tuple{Vector{Float64}, Vector{Int64}, Vector{Int64}, Vector{Float64}, Matrix{Float64}}, Tuple{}, DynamicPPL.DefaultContext}, rng::TaskLocalRNG, varinfo::DynamicPPL.TypedVarInfo{@NamedTuple{γ::DynamicPPL.Metadata{Dict{AbstractPPL.VarName{:γ, Setfield.IdentityLens}, Int64}, Vector{MvLogNormal{Float64, PDMats.PDMat{Float64, Matrix{Float64}}, Vector{Float64}}}, Vector{AbstractPPL.VarName{:γ, Setfield.IdentityLens}}, Vector{Float64}, Vector{Set{DynamicPPL.Selector}}}, M::DynamicPPL.Metadata{Dict{AbstractPPL.VarName{:M, Setfield.IndexLens{Tuple{Int64}}}, Int64}, Vector{Poisson{Float64}}, Vector{AbstractPPL.VarName{:M, Setfield.IndexLens{Tuple{Int64}}}}, Vector{Int64}, Vector{Set{DynamicPPL.Selector}}}}, Float64}, sampler::DynamicPPL.SampleFromUniform)",
      "    @ DynamicPPL ~/.julia/packages/DynamicPPL/rXg4T/src/model.jl:900",
      " [19] initialstep(rng::TaskLocalRNG, model::DynamicPPL.Model{typeof(binomial_model_log_nor), (:m, :n, :N, :μ, :Σ), (), (), Tuple{Vector{Float64}, Vector{Int64}, Vector{Int64}, Vector{Float64}, Matrix{Float64}}, Tuple{}, DynamicPPL.DefaultContext}, spl::DynamicPPL.Sampler{HMCDA{AutoForwardDiff{0, Nothing}, (:γ,), AdvancedHMC.UnitEuclideanMetric}}, vi_original::DynamicPPL.TypedVarInfo{@NamedTuple{γ::DynamicPPL.Metadata{Dict{AbstractPPL.VarName{:γ, Setfield.IdentityLens}, Int64}, Vector{MvLogNormal{Float64, PDMats.PDMat{Float64, Matrix{Float64}}, Vector{Float64}}}, Vector{AbstractPPL.VarName{:γ, Setfield.IdentityLens}}, Vector{Float64}, Vector{Set{DynamicPPL.Selector}}}, M::DynamicPPL.Metadata{Dict{AbstractPPL.VarName{:M, Setfield.IndexLens{Tuple{Int64}}}, Int64}, Vector{Poisson{Float64}}, Vector{AbstractPPL.VarName{:M, Setfield.IndexLens{Tuple{Int64}}}}, Vector{Int64}, Vector{Set{DynamicPPL.Selector}}}}, Float64}; initial_params::Nothing, nadapts::Int64, kwargs::@Kwargs{})",
      "    @ Turing.Inference ~/.julia/packages/Turing/lkUBK/src/mcmc/hmc.jl:175",
      " [20] (::Turing.Inference.var\"#79#81\"{@Kwargs{initial_params::Nothing}, TaskLocalRNG, DynamicPPL.Model{typeof(binomial_model_log_nor), (:m, :n, :N, :μ, :Σ), (), (), Tuple{Vector{Float64}, Vector{Int64}, Vector{Int64}, Vector{Float64}, Matrix{Float64}}, Tuple{}, DynamicPPL.DefaultContext}})(local_spl::DynamicPPL.Sampler{HMCDA{AutoForwardDiff{0, Nothing}, (:γ,), AdvancedHMC.UnitEuclideanMetric}})",
      "    @ Turing.Inference ~/.julia/packages/Turing/lkUBK/src/mcmc/gibbs.jl:209",
      " [21] map",
      "    @ ./tuple.jl:292 [inlined]",
      " [22] initialstep(rng::TaskLocalRNG, model::DynamicPPL.Model{typeof(binomial_model_log_nor), (:m, :n, :N, :μ, :Σ), (), (), Tuple{Vector{Float64}, Vector{Int64}, Vector{Int64}, Vector{Float64}, Matrix{Float64}}, Tuple{}, DynamicPPL.DefaultContext}, spl::DynamicPPL.Sampler{Gibbs{(:M, :γ), 2, Tuple{PG{(:M,), AdvancedPS.ResampleWithESSThreshold{typeof(AdvancedPS.resample_systematic), Float64}}, HMCDA{AutoForwardDiff{0, Nothing}, (:γ,), AdvancedHMC.UnitEuclideanMetric}}, Tuple{Int64, Int64}}}, vi::DynamicPPL.TypedVarInfo{@NamedTuple{γ::DynamicPPL.Metadata{Dict{AbstractPPL.VarName{:γ, Setfield.IdentityLens}, Int64}, Vector{MvLogNormal{Float64, PDMats.PDMat{Float64, Matrix{Float64}}, Vector{Float64}}}, Vector{AbstractPPL.VarName{:γ, Setfield.IdentityLens}}, Vector{Float64}, Vector{Set{DynamicPPL.Selector}}}, M::DynamicPPL.Metadata{Dict{AbstractPPL.VarName{:M, Setfield.IndexLens{Tuple{Int64}}}, Int64}, Vector{Poisson{Float64}}, Vector{AbstractPPL.VarName{:M, Setfield.IndexLens{Tuple{Int64}}}}, Vector{Int64}, Vector{Set{DynamicPPL.Selector}}}}, Float64}; kwargs::@Kwargs{initial_params::Nothing})",
      "    @ Turing.Inference ~/.julia/packages/Turing/lkUBK/src/mcmc/gibbs.jl:202",
      " [23] step(rng::TaskLocalRNG, model::DynamicPPL.Model{typeof(binomial_model_log_nor), (:m, :n, :N, :μ, :Σ), (), (), Tuple{Vector{Float64}, Vector{Int64}, Vector{Int64}, Vector{Float64}, Matrix{Float64}}, Tuple{}, DynamicPPL.DefaultContext}, spl::DynamicPPL.Sampler{Gibbs{(:M, :γ), 2, Tuple{PG{(:M,), AdvancedPS.ResampleWithESSThreshold{typeof(AdvancedPS.resample_systematic), Float64}}, HMCDA{AutoForwardDiff{0, Nothing}, (:γ,), AdvancedHMC.UnitEuclideanMetric}}, Tuple{Int64, Int64}}}; initial_params::Nothing, kwargs::@Kwargs{})",
      "    @ DynamicPPL ~/.julia/packages/DynamicPPL/rXg4T/src/sampler.jl:116",
      " [24] step",
      "    @ ~/.julia/packages/DynamicPPL/rXg4T/src/sampler.jl:99 [inlined]",
      " [25] macro expansion",
      "    @ ~/.julia/packages/AbstractMCMC/YrmkI/src/sample.jl:130 [inlined]",
      " [26] macro expansion",
      "    @ ~/.julia/packages/ProgressLogging/6KXlp/src/ProgressLogging.jl:328 [inlined]",
      " [27] (::AbstractMCMC.var\"#22#23\"{Bool, String, Nothing, Int64, Int64, Nothing, @Kwargs{}, TaskLocalRNG, DynamicPPL.Model{typeof(binomial_model_log_nor), (:m, :n, :N, :μ, :Σ), (), (), Tuple{Vector{Float64}, Vector{Int64}, Vector{Int64}, Vector{Float64}, Matrix{Float64}}, Tuple{}, DynamicPPL.DefaultContext}, DynamicPPL.Sampler{Gibbs{(:M, :γ), 2, Tuple{PG{(:M,), AdvancedPS.ResampleWithESSThreshold{typeof(AdvancedPS.resample_systematic), Float64}}, HMCDA{AutoForwardDiff{0, Nothing}, (:γ,), AdvancedHMC.UnitEuclideanMetric}}, Tuple{Int64, Int64}}}, Int64, Int64})()",
      "    @ AbstractMCMC ~/.julia/packages/AbstractMCMC/YrmkI/src/logging.jl:12",
      " [28] with_logstate(f::Function, logstate::Any)",
      "    @ Base.CoreLogging ./logging.jl:515",
      " [29] with_logger",
      "    @ ./logging.jl:627 [inlined]",
      " [30] with_progresslogger(f::Function, _module::Module, logger::Logging.ConsoleLogger)",
      "    @ AbstractMCMC ~/.julia/packages/AbstractMCMC/YrmkI/src/logging.jl:36",
      " [31] macro expansion",
      "    @ ~/.julia/packages/AbstractMCMC/YrmkI/src/logging.jl:11 [inlined]",
      " [32] mcmcsample(rng::TaskLocalRNG, model::DynamicPPL.Model{typeof(binomial_model_log_nor), (:m, :n, :N, :μ, :Σ), (), (), Tuple{Vector{Float64}, Vector{Int64}, Vector{Int64}, Vector{Float64}, Matrix{Float64}}, Tuple{}, DynamicPPL.DefaultContext}, sampler::DynamicPPL.Sampler{Gibbs{(:M, :γ), 2, Tuple{PG{(:M,), AdvancedPS.ResampleWithESSThreshold{typeof(AdvancedPS.resample_systematic), Float64}}, HMCDA{AutoForwardDiff{0, Nothing}, (:γ,), AdvancedHMC.UnitEuclideanMetric}}, Tuple{Int64, Int64}}}, N::Int64; progress::Bool, progressname::String, callback::Nothing, discard_initial::Int64, thinning::Int64, chain_type::Type, initial_state::Nothing, kwargs::@Kwargs{})",
      "    @ AbstractMCMC ~/.julia/packages/AbstractMCMC/YrmkI/src/sample.jl:120",
      " [33] sample(rng::TaskLocalRNG, model::DynamicPPL.Model{typeof(binomial_model_log_nor), (:m, :n, :N, :μ, :Σ), (), (), Tuple{Vector{Float64}, Vector{Int64}, Vector{Int64}, Vector{Float64}, Matrix{Float64}}, Tuple{}, DynamicPPL.DefaultContext}, sampler::DynamicPPL.Sampler{Gibbs{(:M, :γ), 2, Tuple{PG{(:M,), AdvancedPS.ResampleWithESSThreshold{typeof(AdvancedPS.resample_systematic), Float64}}, HMCDA{AutoForwardDiff{0, Nothing}, (:γ,), AdvancedHMC.UnitEuclideanMetric}}, Tuple{Int64, Int64}}}, N::Int64; chain_type::Type, resume_from::Nothing, initial_state::Nothing, kwargs::@Kwargs{})",
      "    @ DynamicPPL ~/.julia/packages/DynamicPPL/rXg4T/src/sampler.jl:93",
      " [34] sample",
      "    @ ~/.julia/packages/DynamicPPL/rXg4T/src/sampler.jl:83 [inlined]",
      " [35] #sample#3",
      "    @ ~/.julia/packages/Turing/lkUBK/src/mcmc/Inference.jl:219 [inlined]",
      " [36] sample",
      "    @ ~/.julia/packages/Turing/lkUBK/src/mcmc/Inference.jl:212 [inlined]",
      " [37] #sample#2",
      "    @ ~/.julia/packages/Turing/lkUBK/src/mcmc/Inference.jl:209 [inlined]",
      " [38] sample(model::DynamicPPL.Model{typeof(binomial_model_log_nor), (:m, :n, :N, :μ, :Σ), (), (), Tuple{Vector{Float64}, Vector{Int64}, Vector{Int64}, Vector{Float64}, Matrix{Float64}}, Tuple{}, DynamicPPL.DefaultContext}, alg::Gibbs{(:M, :γ), 2, Tuple{PG{(:M,), AdvancedPS.ResampleWithESSThreshold{typeof(AdvancedPS.resample_systematic), Float64}}, HMCDA{AutoForwardDiff{0, Nothing}, (:γ,), AdvancedHMC.UnitEuclideanMetric}}, Tuple{Int64, Int64}}, N::Int64)",
      "    @ Turing.Inference ~/.julia/packages/Turing/lkUBK/src/mcmc/Inference.jl:203",
      " [39] top-level scope",
      "    @ In[221]:1"
     ]
    }
   ],
   "source": [
    "test_1 = sample(\n",
    "    binomial_model_log_nor(m / 100, n, N, μ, Σ), \n",
    "    #Gibbs(PG(100, :M), HMC(0.00001, 1000, :γ)), \n",
    "    Gibbs(PG(100, :M), HMCDA(10000, 0.65, .03, :γ)), \n",
    "    500#, initial_parametrs = reduce(vcat, [m / 100, μ])\n",
    ")"
   ]
  },
  {
   "cell_type": "code",
   "execution_count": 210,
   "id": "9087e1eb",
   "metadata": {},
   "outputs": [
    {
     "data": {
      "text/plain": [
       "1×22 adjoint(::Vector{Float64}) with eltype Float64:\n",
       " 2.0926  1.15072  1.4722  1.4722  …  1.46195  1.47954  1.46031  1.46195"
      ]
     },
     "execution_count": 210,
     "metadata": {},
     "output_type": "execute_result"
    }
   ],
   "source": [
    "describe(test_1)[1][:,:rhat]'"
   ]
  },
  {
   "cell_type": "code",
   "execution_count": 211,
   "id": "9ff0d2f3",
   "metadata": {},
   "outputs": [
    {
     "data": {
      "text/plain": [
       "1×22 adjoint(::Vector{Float64}) with eltype Float64:\n",
       " 2.13157  12.9811  34143.3  9.34337e5  …  6.86742e5  1.12716e6  2.26363e6"
      ]
     },
     "execution_count": 211,
     "metadata": {},
     "output_type": "execute_result"
    }
   ],
   "source": [
    "describe(test_1)[1][:,:mean]'"
   ]
  },
  {
   "cell_type": "code",
   "execution_count": 212,
   "id": "289e9b60",
   "metadata": {},
   "outputs": [
    {
     "data": {
      "text/plain": [
       "5-element Vector{Any}:\n",
       " 1.280485598459593\n",
       " 1.366157108903552\n",
       "  [534.3941686884311 3865.0677069815115 … 4324.249529199947 6570.45731308071]\n",
       "  [548, 3830, 1121, 502, 6101, 4851, 5495, 756, 2892, 2842, 6491, 1613, 2603, 5883, 708, 1650, 4169, 3189, 4292, 6598]\n",
       "  [34143.318, 934336.572, 120300.652, 32087.72, 2.011325766e6, 1.335538354e6, 1.681644638e6, 57521.202, 554500.49, 564409.96, 2.180373526e6, 223670.294, 493871.536, 1.912310998e6, 56201.544, 223143.556, 1.0660661e6, 686741.54, 1.127163536e6, 2.263628594e6]"
      ]
     },
     "execution_count": 212,
     "metadata": {},
     "output_type": "execute_result"
    }
   ],
   "source": [
    "[α, β, (N .^ α)', M, describe(test_1[1:end,:,:])[1][3:end, :mean]]"
   ]
  },
  {
   "cell_type": "code",
   "execution_count": 23,
   "id": "b31af56e",
   "metadata": {},
   "outputs": [
    {
     "name": "stderr",
     "output_type": "stream",
     "text": [
      "\u001b[33m\u001b[1m┌ \u001b[22m\u001b[39m\u001b[33m\u001b[1mWarning: \u001b[22m\u001b[39mOnly a single thread available: MCMC chains are not sampled in parallel\n",
      "\u001b[33m\u001b[1m└ \u001b[22m\u001b[39m\u001b[90m@ AbstractMCMC ~/.julia/packages/AbstractMCMC/YrmkI/src/sample.jl:310\u001b[39m\n"
     ]
    },
    {
     "name": "stdout",
     "output_type": "stream",
     "text": [
      "counter=137\n",
      "tf=TapedFunction:\n",
      "* .func => binomial_model\n",
      "* .ir   =>\n",
      "------------------\n",
      "CodeInfo(\n",
      "1 ──        (m@_42 = m@_5)::Vector{Int64}\n",
      "│           (μ@_43 = μ@_8)::Vector{Float64}\n",
      "│           (__varinfo__@_41 = __varinfo__@_3)::DynamicPPL.TypedVarInfo{@NamedTuple{γ::DynamicPPL.Metadata{Dict{AbstractPPL.VarName{:γ, Setfield.IdentityLens}, Int64}, Vector{MvLogNormal{Float64, PDMats.PDMat{Float64, Matrix{Float64}}, Vector{Float64}}}, Vector{AbstractPPL.VarName{:γ, Setfield.IdentityLens}}, Vector{Float64}, Vector{Set{DynamicPPL.Selector}}}, M::DynamicPPL.Metadata{Dict{AbstractPPL.VarName{:M, Setfield.IndexLens{Tuple{Int64}}}, Int64}, Vector{Poisson{Float64}}, Vector{AbstractPPL.VarName{:M, Setfield.IndexLens{Tuple{Int64}}}}, Vector{Int64}, Vector{Set{DynamicPPL.Selector}}}}, Float64}\n",
      "│           Core.NewvarNode(:(@_10))::Any\n",
      "│           Core.NewvarNode(:(@_11))::Any\n",
      "│           Core.NewvarNode(:(@_12))::Any\n",
      "│           Core.NewvarNode(:(@_13))::Any\n",
      "│           Core.NewvarNode(:(retval#279))::Any\n",
      "│           Core.NewvarNode(:(M))::Any\n",
      "│           Core.NewvarNode(:(ξ))::Any\n",
      "│           Core.NewvarNode(:(value#264))::Any\n",
      "│           Core.NewvarNode(:(γ))::Any\n",
      "│           Core.NewvarNode(:(value#266))::Any\n",
      "│           Core.NewvarNode(:(isassumption#263))::Any\n",
      "│           (dist#265 = Main.MvLogNormal(μ@_43::Vector{Float64}, Σ))::MvLogNormal{Float64, PDMats.PDMat{Float64, Matrix{Float64}}, Vector{Float64}}\n",
      "│    %16  = Core.apply_type(AbstractPPL.VarName, :γ)::Core.Const(AbstractPPL.VarName{:γ})\n",
      "│    %17  = (%16)()::Core.Const(γ)\n",
      "│           (vn#262 = (DynamicPPL.resolve_varnames)(%17, dist#265))::Core.Const(γ)\n",
      "│    %19  = (DynamicPPL.contextual_isassumption)(__context__, vn#262)::Core.Const(true)\n",
      "└───        goto #8 if not %19\n",
      "2 ── %21  = (DynamicPPL.inargnames)(vn#262, __model__)::Core.Const(false)\n",
      "│    %22  = !%21::Core.Const(true)\n",
      "└───        goto #4 if not %22\n",
      "3 ──        goto #5\n",
      "4 ──        Core.Const(:((DynamicPPL.inmissings)(vn#262, __model__)))::Union{}\n",
      "└───        Core.Const(:(goto %29 if not %25))::Union{}\n",
      "5 ┄─        (@_45 = true)::Core.Const(true)\n",
      "└───        goto #7\n",
      "6 ──        Core.Const(:(@_45 = γ === Main.missing))::Union{}\n",
      "7 ┄─        (@_44 = @_45::Core.Const(true))::Core.Const(true)\n",
      "└───        goto #9\n",
      "8 ──        Core.Const(:(@_44 = false))::Union{}\n",
      "9 ┄─        (isassumption#263 = @_44::Core.Const(true))::Core.Const(true)\n",
      "│    %34  = (DynamicPPL.contextual_isfixed)(__context__, vn#262)::Core.Const(false)\n",
      "└───        goto #11 if not %34\n",
      "10 ─        Core.Const(:(γ = (DynamicPPL.getfixed_nested)(__context__, vn#262)))::Union{}\n",
      "└───        Core.Const(:(goto %66))::Union{}\n",
      "11 ┄        goto #13 if not isassumption#263::Core.Const(true)\n",
      "12 ─ %39  = Core.tuple(__context__)::Tuple{DynamicPPL.SamplingContext{DynamicPPL.Sampler{PG{(), AdvancedPS.ResampleWithESSThreshold{typeof(AdvancedPS.resample_systematic), Float64}}}, DynamicPPL.DefaultContext, AdvancedPS.TracedRNG{UInt64, 1, Random123.Philox2x{UInt64, 10}}}}\n",
      "│    %40  = (DynamicPPL.check_tilde_rhs)(dist#265)::MvLogNormal{Float64, PDMats.PDMat{Float64, Matrix{Float64}}, Vector{Float64}}\n",
      "│    %41  = (DynamicPPL.unwrap_right_vn)(%40, vn#262)::Tuple{MvLogNormal{Float64, PDMats.PDMat{Float64, Matrix{Float64}}, Vector{Float64}}, AbstractPPL.VarName{:γ, Setfield.IdentityLens}}\n",
      "│    %42  = Core.tuple(__varinfo__@_41::DynamicPPL.TypedVarInfo{@NamedTuple{γ::DynamicPPL.Metadata{Dict{AbstractPPL.VarName{:γ, Setfield.IdentityLens}, Int64}, Vector{MvLogNormal{Float64, PDMats.PDMat{Float64, Matrix{Float64}}, Vector{Float64}}}, Vector{AbstractPPL.VarName{:γ, Setfield.IdentityLens}}, Vector{Float64}, Vector{Set{DynamicPPL.Selector}}}, M::DynamicPPL.Metadata{Dict{AbstractPPL.VarName{:M, Setfield.IndexLens{Tuple{Int64}}}, Int64}, Vector{Poisson{Float64}}, Vector{AbstractPPL.VarName{:M, Setfield.IndexLens{Tuple{Int64}}}}, Vector{Int64}, Vector{Set{DynamicPPL.Selector}}}}, Float64})::Tuple{DynamicPPL.TypedVarInfo{@NamedTuple{γ::DynamicPPL.Metadata{Dict{AbstractPPL.VarName{:γ, Setfield.IdentityLens}, Int64}, Vector{MvLogNormal{Float64, PDMats.PDMat{Float64, Matrix{Float64}}, Vector{Float64}}}, Vector{AbstractPPL.VarName{:γ, Setfield.IdentityLens}}, Vector{Float64}, Vector{Set{DynamicPPL.Selector}}}, M::DynamicPPL.Metadata{Dict{AbstractPPL.VarName{:M, Setfield.IndexLens{Tuple{Int64}}}, Int64}, Vector{Poisson{Float64}}, Vector{AbstractPPL.VarName{:M, Setfield.IndexLens{Tuple{Int64}}}}, Vector{Int64}, Vector{Set{DynamicPPL.Selector}}}}, Float64}}\n",
      "│    %43  = Core._apply_iterate(Base.iterate, DynamicPPL.tilde_assume!!, %39, %41, %42)::Tuple{Any, Any}\n",
      "│    %44  = Base.indexed_iterate(%43, 1)::Core.PartialStruct(Tuple{Any, Int64}, Any[Any, Core.Const(2)])\n",
      "│           (value#266 = Core.getfield(%44, 1))::Any\n",
      "│           (@_13 = Core.getfield(%44, 2))::Core.Const(2)\n",
      "│    %47  = Base.indexed_iterate(%43, 2, @_13::Core.Const(2))::Core.PartialStruct(Tuple{Any, Int64}, Any[Any, Core.Const(3)])\n",
      "│           (__varinfo__@_41 = Core.getfield(%47, 1))::Any\n",
      "│           (γ = value#266)::Any\n",
      "│           value#266::Any\n",
      "└───        goto #14\n",
      "13 ─        Core.Const(:((DynamicPPL.inargnames)(vn#262, __model__)))::Union{}\n",
      "│           Core.Const(:(!%52))::Union{}\n",
      "│           Core.Const(:(goto %56 if not %53))::Union{}\n",
      "│           Core.Const(:(γ = (DynamicPPL.getconditioned_nested)(__context__, vn#262)))::Union{}\n",
      "│           Core.Const(:((DynamicPPL.check_tilde_rhs)(dist#265)))::Union{}\n",
      "│           Core.Const(:(γ))::Union{}\n",
      "│           Core.Const(:(vn#262))::Union{}\n",
      "│           Core.Const(:((DynamicPPL.tilde_observe!!)(__context__, %56, %57, %58, __varinfo__@_41)))::Union{}\n",
      "│           Core.Const(:(Base.indexed_iterate(%59, 1)))::Union{}\n",
      "│           Core.Const(:(value#264 = Core.getfield(%60, 1)))::Union{}\n",
      "│           Core.Const(:(@_12 = Core.getfield(%60, 2)))::Union{}\n",
      "│           Core.Const(:(Base.indexed_iterate(%59, 2, @_12)))::Union{}\n",
      "│           Core.Const(:(__varinfo__@_41 = Core.getfield(%63, 1)))::Union{}\n",
      "└───        Core.Const(:(value#264))::Union{}\n",
      "14 ┄ %66  = Main.:^::Core.Const(^)\n",
      "│    %67  = Base.getindex(γ, 1)::Any\n",
      "│    %68  = Base.broadcasted(%66, N, %67)::Any\n",
      "│           (ξ = Base.materialize(%68))::Any\n",
      "│    %70  = Main.:*::Core.Const(*)\n",
      "│    %71  = ξ::Any\n",
      "│    %72  = Main.:^::Core.Const(^)\n",
      "│    %73  = Base.broadcasted(Main.:/, n, N)::Base.Broadcast.Broadcasted{Base.Broadcast.DefaultArrayStyle{1}, Nothing, typeof(/), Tuple{Vector{Int64}, Vector{Int64}}}\n",
      "│    %74  = Base.getindex(γ, 2)::Any\n",
      "│    %75  = Base.broadcasted(%72, %73, %74)::Any\n",
      "│    %76  = Base.broadcasted(%70, %71, %75)::Any\n",
      "│           (μ@_43 = Base.materialize(%76))::Any\n",
      "│    %78  = Main.:/::Core.Const(/)\n",
      "│    %79  = Main.:+::Core.Const(+)\n",
      "│    %80  = Main.exp::Core.Const(exp)\n",
      "│    %81  = -μ@_43::Any\n",
      "│    %82  = Base.broadcasted(%80, %81)::Any\n",
      "│    %83  = Base.broadcasted(%79, 1, %82)::Any\n",
      "│    %84  = Base.broadcasted(%78, 1, %83)::Any\n",
      "│           (μ@_43 = Base.materialize(%84))::Any\n",
      "│    %86  = Main.undef::Core.Const(UndefInitializer())\n",
      "│    %87  = Main.length(m@_42::Vector{Int64})::Int64\n",
      "│           (M = Main.Vector(%86, %87))::Vector{Any}\n",
      "│    %89  = Main.eachindex(M)::Base.OneTo{Int64}\n",
      "│           (@_11 = Base.iterate(%89))::Union{Nothing, Tuple{Int64, Int64}}\n",
      "│    %91  = (@_11 === nothing)::Bool\n",
      "│    %92  = Base.not_int(%91)::Bool\n",
      "└───        goto #30 if not %92\n",
      "15 ┄        Core.NewvarNode(:(@_23))::Any\n",
      "│           Core.NewvarNode(:(@_24))::Any\n",
      "│           Core.NewvarNode(:(value#269))::Any\n",
      "│           Core.NewvarNode(:(lens#272))::Any\n",
      "│           Core.NewvarNode(:(value#271))::Any\n",
      "│           Core.NewvarNode(:(isassumption#268))::Any\n",
      "│    %100 = @_11::Tuple{Int64, Int64}\n",
      "│           (i@_25 = Core.getfield(%100, 1))::Int64\n",
      "│    %102 = Core.getfield(%100, 2)::Int64\n",
      "│    %103 = Base.getindex(ξ, i@_25)::Any\n",
      "│           (dist#270 = Main.Poisson(%103))::Poisson\n",
      "│    %105 = Core.apply_type(AbstractPPL.VarName, :M)::Core.Const(AbstractPPL.VarName{:M})\n",
      "│    %106 = Core.tuple(i@_25)::Tuple{Int64}\n",
      "│    %107 = (Setfield.IndexLens)(%106)::Setfield.IndexLens{Tuple{Int64}}\n",
      "│    %108 = (Setfield.compose)(%107)::Setfield.IndexLens{Tuple{Int64}}\n",
      "│    %109 = (%105)(%108)::AbstractPPL.VarName{:M, Setfield.IndexLens{Tuple{Int64}}}\n",
      "│           (vn#267 = (DynamicPPL.resolve_varnames)(%109, dist#270))::AbstractPPL.VarName{:M, Setfield.IndexLens{Tuple{Int64}}}\n",
      "│    %111 = (DynamicPPL.contextual_isassumption)(__context__, vn#267)::Core.Const(true)\n",
      "└───        goto #22 if not %111\n",
      "16 ─ %113 = (DynamicPPL.inargnames)(vn#267, __model__)::Core.Const(false)\n",
      "│    %114 = !%113::Core.Const(true)\n",
      "└───        goto #18 if not %114\n",
      "17 ─        goto #19\n",
      "18 ─        Core.Const(:((DynamicPPL.inmissings)(vn#267, __model__)))::Union{}\n",
      "└───        Core.Const(:(goto %121 if not %117))::Union{}\n",
      "19 ┄        (@_47 = true)::Core.Const(true)\n",
      "└───        goto #21\n",
      "20 ─        Core.Const(:((Base.maybeview)(M, i@_25)))::Union{}\n",
      "└───        Core.Const(:(@_47 = %121 === Main.missing))::Union{}\n",
      "21 ┄        (@_46 = @_47::Core.Const(true))::Core.Const(true)\n",
      "└───        goto #23\n",
      "22 ─        Core.Const(:(@_46 = false))::Union{}\n",
      "23 ┄        (isassumption#268 = @_46::Core.Const(true))::Core.Const(true)\n",
      "│    %127 = (DynamicPPL.contextual_isfixed)(__context__, vn#267)::Core.Const(false)\n",
      "└───        goto #25 if not %127\n",
      "24 ─        Core.Const(:((DynamicPPL.getfixed_nested)(__context__, vn#267)))::Union{}\n",
      "│           Core.Const(:(Base.setindex!(M, %129, i@_25)))::Union{}\n",
      "└───        Core.Const(:(goto %165))::Union{}\n",
      "25 ┄        goto #27 if not isassumption#268::Core.Const(true)\n",
      "26 ─ %133 = Core.tuple(__context__)::Tuple{DynamicPPL.SamplingContext{DynamicPPL.Sampler{PG{(), AdvancedPS.ResampleWithESSThreshold{typeof(AdvancedPS.resample_systematic), Float64}}}, DynamicPPL.DefaultContext, AdvancedPS.TracedRNG{UInt64, 1, Random123.Philox2x{UInt64, 10}}}}\n",
      "│    %134 = (DynamicPPL.check_tilde_rhs)(dist#270)::Poisson\n",
      "│    %135 = (DynamicPPL.unwrap_right_vn)(%134, vn#267)::Tuple{Poisson, AbstractPPL.VarName{:M, Setfield.IndexLens{Tuple{Int64}}}}\n",
      "│    %136 = Core.tuple(__varinfo__@_41)::Tuple{Any}\n",
      "│    %137 = Core._apply_iterate(Base.iterate, DynamicPPL.tilde_assume!!, %133, %135, %136)::Tuple{Any, Any}\n",
      "│    %138 = Base.indexed_iterate(%137, 1)::Core.PartialStruct(Tuple{Any, Int64}, Any[Any, Core.Const(2)])\n",
      "│           (value#271 = Core.getfield(%138, 1))::Any\n",
      "│           (@_24 = Core.getfield(%138, 2))::Core.Const(2)\n",
      "│    %141 = Base.indexed_iterate(%137, 2, @_24::Core.Const(2))::Core.PartialStruct(Tuple{Any, Int64}, Any[Any, Core.Const(3)])\n",
      "│           (__varinfo__@_41 = Core.getfield(%141, 1))::Any\n",
      "│    %143 = Core.tuple(i@_25)::Tuple{Int64}\n",
      "│    %144 = (Setfield.IndexLens)(%143)::Setfield.IndexLens{Tuple{Int64}}\n",
      "│    %145 = (Setfield.compose)(%144)::Setfield.IndexLens{Tuple{Int64}}\n",
      "│           (lens#272 = (BangBang.SetfieldImpl.prefermutation)(%145))::BangBang.SetfieldImpl.Lens!!{Setfield.IndexLens{Tuple{Int64}}}\n",
      "│           (M = (Setfield.set)(M, lens#272, value#271))::Vector{Any}\n",
      "│           value#271::Any\n",
      "└───        goto #28\n",
      "27 ─        Core.Const(:((DynamicPPL.inargnames)(vn#267, __model__)))::Union{}\n",
      "│           Core.Const(:(!%150))::Union{}\n",
      "│           Core.Const(:(goto %155 if not %151))::Union{}\n",
      "│           Core.Const(:((DynamicPPL.getconditioned_nested)(__context__, vn#267)))::Union{}\n",
      "│           Core.Const(:(Base.setindex!(M, %153, i@_25)))::Union{}\n",
      "│           Core.Const(:((DynamicPPL.check_tilde_rhs)(dist#270)))::Union{}\n",
      "│           Core.Const(:((Base.maybeview)(M, i@_25)))::Union{}\n",
      "│           Core.Const(:(vn#267))::Union{}\n",
      "│           Core.Const(:((DynamicPPL.tilde_observe!!)(__context__, %155, %156, %157, __varinfo__@_41)))::Union{}\n",
      "│           Core.Const(:(Base.indexed_iterate(%158, 1)))::Union{}\n",
      "│           Core.Const(:(value#269 = Core.getfield(%159, 1)))::Union{}\n",
      "│           Core.Const(:(@_23 = Core.getfield(%159, 2)))::Union{}\n",
      "│           Core.Const(:(Base.indexed_iterate(%158, 2, @_23)))::Union{}\n",
      "│           Core.Const(:(__varinfo__@_41 = Core.getfield(%162, 1)))::Union{}\n",
      "└───        Core.Const(:(value#269))::Union{}\n",
      "28 ┄        (@_11 = Base.iterate(%89, %102))::Union{Nothing, Tuple{Int64, Int64}}\n",
      "│    %166 = (@_11 === nothing)::Bool\n",
      "│    %167 = Base.not_int(%166)::Bool\n",
      "└───        goto #30 if not %167\n",
      "29 ─        goto #15\n",
      "30 ┄ %170 = Main.eachindex(m@_42::Vector{Int64})::Base.OneTo{Int64}\n",
      "│           (@_10 = Base.iterate(%170))::Union{Nothing, Tuple{Int64, Int64}}\n",
      "│    %172 = (@_10 === nothing)::Bool\n",
      "│    %173 = Base.not_int(%172)::Bool\n",
      "└───        goto #48 if not %173\n",
      "31 ┄        Core.NewvarNode(:(@_32))::Any\n",
      "│           Core.NewvarNode(:(@_33))::Any\n",
      "│           Core.NewvarNode(:(value#275))::Any\n",
      "│           Core.NewvarNode(:(lens#278))::Any\n",
      "│           Core.NewvarNode(:(value#277))::Any\n",
      "│           Core.NewvarNode(:(isassumption#274))::Any\n",
      "│    %181 = @_10::Tuple{Int64, Int64}\n",
      "│           (i@_40 = Core.getfield(%181, 1))::Int64\n",
      "│    %183 = Core.getfield(%181, 2)::Int64\n",
      "│    %184 = Base.getindex(M, i@_40)::Any\n",
      "│    %185 = Base.getindex(μ@_43, i@_40)::Any\n",
      "│           (dist#276 = Main.Binomial(%184, %185))::Any\n",
      "│    %187 = Core.apply_type(AbstractPPL.VarName, :m)::Core.Const(AbstractPPL.VarName{:m})\n",
      "│    %188 = Core.tuple(i@_40)::Tuple{Int64}\n",
      "│    %189 = (Setfield.IndexLens)(%188)::Setfield.IndexLens{Tuple{Int64}}\n",
      "│    %190 = (Setfield.compose)(%189)::Setfield.IndexLens{Tuple{Int64}}\n",
      "│    %191 = (%187)(%190)::AbstractPPL.VarName{:m, Setfield.IndexLens{Tuple{Int64}}}\n",
      "│           (vn#273 = (DynamicPPL.resolve_varnames)(%191, dist#276))::AbstractPPL.VarName\n",
      "│    %193 = (DynamicPPL.contextual_isassumption)(__context__, vn#273)::Core.Const(true)\n",
      "└───        goto #38 if not %193\n",
      "32 ─ %195 = (DynamicPPL.inargnames)(vn#273, __model__)::Any\n",
      "│    %196 = !%195::Any\n",
      "└───        goto #34 if not %196\n",
      "33 ─        goto #35\n",
      "34 ─ %199 = (DynamicPPL.inmissings)(vn#273, __model__)::Any\n",
      "└───        goto #36 if not %199\n",
      "35 ┄        (@_49 = true)::Core.Const(true)\n",
      "└───        goto #37\n",
      "36 ─ %203 = (Base.maybeview)(m@_42, i@_40)::Any\n",
      "└───        (@_49 = %203 === Main.missing)::Bool\n",
      "37 ┄        (@_48 = @_49)::Bool\n",
      "└───        goto #39\n",
      "38 ─        Core.Const(:(@_48 = false))::Union{}\n",
      "39 ┄        (isassumption#274 = @_48)::Bool\n",
      "│    %209 = (DynamicPPL.contextual_isfixed)(__context__, vn#273)::Core.Const(false)\n",
      "└───        goto #41 if not %209\n",
      "40 ─        Core.Const(:((DynamicPPL.getfixed_nested)(__context__, vn#273)))::Union{}\n",
      "│           Core.Const(:(Base.setindex!(m@_42, %211, i@_40)))::Union{}\n",
      "└───        Core.Const(:(goto %247))::Union{}\n",
      "41 ┄        goto #43 if not isassumption#274\n",
      "42 ─ %215 = Core.tuple(__context__)::Tuple{DynamicPPL.SamplingContext{DynamicPPL.Sampler{PG{(), AdvancedPS.ResampleWithESSThreshold{typeof(AdvancedPS.resample_systematic), Float64}}}, DynamicPPL.DefaultContext, AdvancedPS.TracedRNG{UInt64, 1, Random123.Philox2x{UInt64, 10}}}}\n",
      "│    %216 = (DynamicPPL.check_tilde_rhs)(dist#276)::Any\n",
      "│    %217 = (DynamicPPL.unwrap_right_vn)(%216, vn#273)::Tuple{Any, AbstractPPL.VarName}\n",
      "│    %218 = Core.tuple(__varinfo__@_41)::Tuple{Any}\n",
      "│    %219 = Core._apply_iterate(Base.iterate, DynamicPPL.tilde_assume!!, %215, %217, %218)::Tuple{Any, Any}\n",
      "│    %220 = Base.indexed_iterate(%219, 1)::Core.PartialStruct(Tuple{Any, Int64}, Any[Any, Core.Const(2)])\n",
      "│           (value#277 = Core.getfield(%220, 1))::Any\n",
      "│           (@_33 = Core.getfield(%220, 2))::Core.Const(2)\n",
      "│    %223 = Base.indexed_iterate(%219, 2, @_33::Core.Const(2))::Core.PartialStruct(Tuple{Any, Int64}, Any[Any, Core.Const(3)])\n",
      "│           (__varinfo__@_41 = Core.getfield(%223, 1))::Any\n",
      "│    %225 = Core.tuple(i@_40)::Tuple{Int64}\n",
      "│    %226 = (Setfield.IndexLens)(%225)::Setfield.IndexLens{Tuple{Int64}}\n",
      "│    %227 = (Setfield.compose)(%226)::Setfield.IndexLens{Tuple{Int64}}\n",
      "│           (lens#278 = (BangBang.SetfieldImpl.prefermutation)(%227))::BangBang.SetfieldImpl.Lens!!{Setfield.IndexLens{Tuple{Int64}}}\n",
      "│           (m@_42 = (Setfield.set)(m@_42, lens#278, value#277))::Any\n",
      "│           value#277::Any\n",
      "└───        goto #46\n",
      "43 ─ %232 = (DynamicPPL.inargnames)(vn#273, __model__)::Any\n",
      "│    %233 = !%232::Any\n",
      "└───        goto #45 if not %233\n",
      "44 ─        (DynamicPPL.getconditioned_nested)(__context__, vn#273)::Union{}\n",
      "└───        Core.Const(:(Base.setindex!(m@_42, %235, i@_40)))::Union{}\n",
      "45 ┄ %237 = (DynamicPPL.check_tilde_rhs)(dist#276)::Any\n",
      "│    %238 = (Base.maybeview)(m@_42, i@_40)::Any\n",
      "│    %239 = vn#273::AbstractPPL.VarName\n",
      "│    %240 = (DynamicPPL.tilde_observe!!)(__context__, %237, %238, %239, __varinfo__@_41)::Tuple{Any, Any}\n",
      "│    %241 = Base.indexed_iterate(%240, 1)::Core.PartialStruct(Tuple{Any, Int64}, Any[Any, Core.Const(2)])\n",
      "│           (value#275 = Core.getfield(%241, 1))::Any\n",
      "│           (@_32 = Core.getfield(%241, 2))::Core.Const(2)\n",
      "│    %244 = Base.indexed_iterate(%240, 2, @_32::Core.Const(2))::Core.PartialStruct(Tuple{Any, Int64}, Any[Any, Core.Const(3)])\n",
      "│           (__varinfo__@_41 = Core.getfield(%244, 1))::Any\n",
      "└───        value#275::Any\n",
      "46 ┄        (@_10 = Base.iterate(%170, %183))::Union{Nothing, Tuple{Int64, Int64}}\n",
      "│    %248 = (@_10 === nothing)::Bool\n",
      "│    %249 = Base.not_int(%248)::Bool\n",
      "└───        goto #48 if not %249\n",
      "47 ─        goto #31\n",
      "48 ┄        (retval#279 = m@_42)::Any\n",
      "│    %253 = Core.tuple(retval#279, __varinfo__@_41)::Tuple{Any, Any}\n",
      "└───        return %253\n",
      ")\n",
      "------------------\n",
      "\n",
      "InexactError(:trunc, Int64, 1.893205781989023e19)Union{Ptr{Nothing}, Base.InterpreterIP}[Ptr{Nothing} @0x000000031b7f41b7, Ptr{Nothing} @0x000000031b7f41f3, Ptr{Nothing} @0x000000010300018b, Ptr{Nothing} @0x000000031c91c8df, Ptr{Nothing} @0x000000031c924067, Ptr{Nothing} @0x000000031c92418b, Ptr{Nothing} @0x000000010300018b, Ptr{Nothing} @0x000000010300def3, Ptr{Nothing} @0x000000031b62c113, Ptr{Nothing} @0x000000031b62c30b, Ptr{Nothing} @0x000000010300018b, Ptr{Nothing} @0x000000031c87c1cb, Ptr{Nothing} @0x000000010300018b, Ptr{Nothing} @0x000000010300def3, Ptr{Nothing} @0x000000031c8740fb, Ptr{Nothing} @0x000000010300018b, Ptr{Nothing} @0x000000010300def3, Ptr{Nothing} @0x000000031c86c1eb, Ptr{Nothing} @0x000000031c864187, Ptr{Nothing} @0x000000031c8641e3, Ptr{Nothing} @0x000000010300018b, Ptr{Nothing} @0x000000010301eefb]\n"
     ]
    },
    {
     "ename": "LoadError",
     "evalue": "TaskFailedException\n\n\u001b[91m    nested task error: \u001b[39mTaskFailedException\n    \n    \u001b[91m    nested task error: \u001b[39mInexactError: trunc(Int64, 1.893205781989023e19)\n        Stacktrace:\n          [1] \u001b[0m\u001b[1mconsume\u001b[22m\u001b[0m\u001b[1m(\u001b[22m\u001b[90mttask\u001b[39m::\u001b[0mTapedTask\u001b[90m{typeof(binomial_model), Tuple{DynamicPPL.Model{typeof(binomial_model), (:m, :n, :N, :μ, :Σ), (), (), Tuple{Vector{Int64}, Vector{Int64}, Vector{Int64}, Vector{Float64}, Matrix{Float64}}, Tuple{}, DynamicPPL.DefaultContext}, DynamicPPL.TypedVarInfo{@NamedTuple{γ::DynamicPPL.Metadata{Dict{AbstractPPL.VarName{:γ, Setfield.IdentityLens}, Int64}, Vector{MvLogNormal{Float64, PDMats.PDMat{Float64, Matrix{Float64}}, Vector{Float64}}}, Vector{AbstractPPL.VarName{:γ, Setfield.IdentityLens}}, Vector{Float64}, Vector{Set{DynamicPPL.Selector}}}, M::DynamicPPL.Metadata{Dict{AbstractPPL.VarName{:M, Setfield.IndexLens{Tuple{Int64}}}, Int64}, Vector{Poisson{Float64}}, Vector{AbstractPPL.VarName{:M, Setfield.IndexLens{Tuple{Int64}}}}, Vector{Int64}, Vector{Set{DynamicPPL.Selector}}}}, Float64}, DynamicPPL.SamplingContext{DynamicPPL.Sampler{PG{(), AdvancedPS.ResampleWithESSThreshold{typeof(AdvancedPS.resample_systematic), Float64}}}, DynamicPPL.DefaultContext, AdvancedPS.TracedRNG{UInt64, 1, Random123.Philox2x{UInt64, 10}}}, Vector{Int64}, Vector{Int64}, Vector{Int64}, Vector{Float64}, Matrix{Float64}}}\u001b[39m\u001b[0m\u001b[1m)\u001b[22m\n        \u001b[90m    @\u001b[39m \u001b[32mLibtask\u001b[39m \u001b[90m~/.julia/packages/Libtask/0vMZ5/src/\u001b[39m\u001b[90m\u001b[4mtapedtask.jl:153\u001b[24m\u001b[39m\n          [2] \u001b[0m\u001b[1madvance!\u001b[22m\u001b[0m\u001b[1m(\u001b[22m\u001b[90mtrace\u001b[39m::\u001b[0mAdvancedPS.Trace\u001b[90m{AdvancedPS.LibtaskModel{Turing.Essential.TracedModel{AbstractMCMC.AbstractSampler, DynamicPPL.AbstractVarInfo, DynamicPPL.Model, Tuple}, TapedTask{typeof(binomial_model), Tuple{DynamicPPL.Model{typeof(binomial_model), (:m, :n, :N, :μ, :Σ), (), (), Tuple{Vector{Int64}, Vector{Int64}, Vector{Int64}, Vector{Float64}, Matrix{Float64}}, Tuple{}, DynamicPPL.DefaultContext}, DynamicPPL.TypedVarInfo{@NamedTuple{γ::DynamicPPL.Metadata{Dict{AbstractPPL.VarName{:γ, Setfield.IdentityLens}, Int64}, Vector{MvLogNormal{Float64, PDMats.PDMat{Float64, Matrix{Float64}}, Vector{Float64}}}, Vector{AbstractPPL.VarName{:γ, Setfield.IdentityLens}}, Vector{Float64}, Vector{Set{DynamicPPL.Selector}}}, M::DynamicPPL.Metadata{Dict{AbstractPPL.VarName{:M, Setfield.IndexLens{Tuple{Int64}}}, Int64}, Vector{Poisson{Float64}}, Vector{AbstractPPL.VarName{:M, Setfield.IndexLens{Tuple{Int64}}}}, Vector{Int64}, Vector{Set{DynamicPPL.Selector}}}}, Float64}, DynamicPPL.SamplingContext{DynamicPPL.Sampler{PG{(), AdvancedPS.ResampleWithESSThreshold{typeof(AdvancedPS.resample_systematic), Float64}}}, DynamicPPL.DefaultContext, AdvancedPS.TracedRNG{UInt64, 1, Random123.Philox2x{UInt64, 10}}}, Vector{Int64}, Vector{Int64}, Vector{Int64}, Vector{Float64}, Matrix{Float64}}}}, AdvancedPS.TracedRNG{UInt64, 1, Random123.Philox2x{UInt64, 10}}}\u001b[39m, \u001b[90misref\u001b[39m::\u001b[0mBool\u001b[0m\u001b[1m)\u001b[22m\n        \u001b[90m    @\u001b[39m \u001b[36mTuring.Essential\u001b[39m \u001b[90m~/.julia/packages/Turing/lkUBK/src/essential/\u001b[39m\u001b[90m\u001b[4mcontainer.jl:34\u001b[24m\u001b[39m\n          [3] \u001b[0m\u001b[1mreweight!\u001b[22m\u001b[0m\u001b[1m(\u001b[22m\u001b[90mpc\u001b[39m::\u001b[0mAdvancedPS.ParticleContainer\u001b[90m{AdvancedPS.Trace{AdvancedPS.LibtaskModel{Turing.Essential.TracedModel{AbstractMCMC.AbstractSampler, DynamicPPL.AbstractVarInfo, DynamicPPL.Model, Tuple}, TapedTask{typeof(binomial_model), Tuple{DynamicPPL.Model{typeof(binomial_model), (:m, :n, :N, :μ, :Σ), (), (), Tuple{Vector{Int64}, Vector{Int64}, Vector{Int64}, Vector{Float64}, Matrix{Float64}}, Tuple{}, DynamicPPL.DefaultContext}, DynamicPPL.TypedVarInfo{@NamedTuple{γ::DynamicPPL.Metadata{Dict{AbstractPPL.VarName{:γ, Setfield.IdentityLens}, Int64}, Vector{MvLogNormal{Float64, PDMats.PDMat{Float64, Matrix{Float64}}, Vector{Float64}}}, Vector{AbstractPPL.VarName{:γ, Setfield.IdentityLens}}, Vector{Float64}, Vector{Set{DynamicPPL.Selector}}}, M::DynamicPPL.Metadata{Dict{AbstractPPL.VarName{:M, Setfield.IndexLens{Tuple{Int64}}}, Int64}, Vector{Poisson{Float64}}, Vector{AbstractPPL.VarName{:M, Setfield.IndexLens{Tuple{Int64}}}}, Vector{Int64}, Vector{Set{DynamicPPL.Selector}}}}, Float64}, DynamicPPL.SamplingContext{DynamicPPL.Sampler{PG{(), AdvancedPS.ResampleWithESSThreshold{typeof(AdvancedPS.resample_systematic), Float64}}}, DynamicPPL.DefaultContext, AdvancedPS.TracedRNG{UInt64, 1, Random123.Philox2x{UInt64, 10}}}, Vector{Int64}, Vector{Int64}, Vector{Int64}, Vector{Float64}, Matrix{Float64}}}}, AdvancedPS.TracedRNG{UInt64, 1, Random123.Philox2x{UInt64, 10}}}, AdvancedPS.TracedRNG{UInt64, 1, Random123.Philox2x{UInt64, 10}}}\u001b[39m, \u001b[90mref\u001b[39m::\u001b[0mNothing\u001b[0m\u001b[1m)\u001b[22m\n        \u001b[90m    @\u001b[39m \u001b[33mAdvancedPS\u001b[39m \u001b[90m~/.julia/packages/AdvancedPS/rpMgZ/src/\u001b[39m\u001b[90m\u001b[4mcontainer.jl:272\u001b[24m\u001b[39m\n          [4] \u001b[0m\u001b[1msweep!\u001b[22m\u001b[0m\u001b[1m(\u001b[22m\u001b[90mrng\u001b[39m::\u001b[0mTaskLocalRNG, \u001b[90mpc\u001b[39m::\u001b[0mAdvancedPS.ParticleContainer\u001b[90m{AdvancedPS.Trace{AdvancedPS.LibtaskModel{Turing.Essential.TracedModel{AbstractMCMC.AbstractSampler, DynamicPPL.AbstractVarInfo, DynamicPPL.Model, Tuple}, TapedTask{typeof(binomial_model), Tuple{DynamicPPL.Model{typeof(binomial_model), (:m, :n, :N, :μ, :Σ), (), (), Tuple{Vector{Int64}, Vector{Int64}, Vector{Int64}, Vector{Float64}, Matrix{Float64}}, Tuple{}, DynamicPPL.DefaultContext}, DynamicPPL.TypedVarInfo{@NamedTuple{γ::DynamicPPL.Metadata{Dict{AbstractPPL.VarName{:γ, Setfield.IdentityLens}, Int64}, Vector{MvLogNormal{Float64, PDMats.PDMat{Float64, Matrix{Float64}}, Vector{Float64}}}, Vector{AbstractPPL.VarName{:γ, Setfield.IdentityLens}}, Vector{Float64}, Vector{Set{DynamicPPL.Selector}}}, M::DynamicPPL.Metadata{Dict{AbstractPPL.VarName{:M, Setfield.IndexLens{Tuple{Int64}}}, Int64}, Vector{Poisson{Float64}}, Vector{AbstractPPL.VarName{:M, Setfield.IndexLens{Tuple{Int64}}}}, Vector{Int64}, Vector{Set{DynamicPPL.Selector}}}}, Float64}, DynamicPPL.SamplingContext{DynamicPPL.Sampler{PG{(), AdvancedPS.ResampleWithESSThreshold{typeof(AdvancedPS.resample_systematic), Float64}}}, DynamicPPL.DefaultContext, AdvancedPS.TracedRNG{UInt64, 1, Random123.Philox2x{UInt64, 10}}}, Vector{Int64}, Vector{Int64}, Vector{Int64}, Vector{Float64}, Matrix{Float64}}}}, AdvancedPS.TracedRNG{UInt64, 1, Random123.Philox2x{UInt64, 10}}}, AdvancedPS.TracedRNG{UInt64, 1, Random123.Philox2x{UInt64, 10}}}\u001b[39m, \u001b[90mresampler\u001b[39m::\u001b[0mAdvancedPS.ResampleWithESSThreshold\u001b[90m{typeof(AdvancedPS.resample_systematic), Float64}\u001b[39m, \u001b[90msampler\u001b[39m::\u001b[0mDynamicPPL.Sampler\u001b[90m{PG{(), AdvancedPS.ResampleWithESSThreshold{typeof(AdvancedPS.resample_systematic), Float64}}}\u001b[39m, \u001b[90mref\u001b[39m::\u001b[0mNothing\u001b[0m\u001b[1m)\u001b[22m\n        \u001b[90m    @\u001b[39m \u001b[33mAdvancedPS\u001b[39m \u001b[90m~/.julia/packages/AdvancedPS/rpMgZ/src/\u001b[39m\u001b[90m\u001b[4mcontainer.jl:335\u001b[24m\u001b[39m\n          [5] \u001b[0m\u001b[1msweep!\u001b[22m\u001b[0m\u001b[1m(\u001b[22m\u001b[90mrng\u001b[39m::\u001b[0mTaskLocalRNG, \u001b[90mpc\u001b[39m::\u001b[0mAdvancedPS.ParticleContainer\u001b[90m{AdvancedPS.Trace{AdvancedPS.LibtaskModel{Turing.Essential.TracedModel{AbstractMCMC.AbstractSampler, DynamicPPL.AbstractVarInfo, DynamicPPL.Model, Tuple}, TapedTask{typeof(binomial_model), Tuple{DynamicPPL.Model{typeof(binomial_model), (:m, :n, :N, :μ, :Σ), (), (), Tuple{Vector{Int64}, Vector{Int64}, Vector{Int64}, Vector{Float64}, Matrix{Float64}}, Tuple{}, DynamicPPL.DefaultContext}, DynamicPPL.TypedVarInfo{@NamedTuple{γ::DynamicPPL.Metadata{Dict{AbstractPPL.VarName{:γ, Setfield.IdentityLens}, Int64}, Vector{MvLogNormal{Float64, PDMats.PDMat{Float64, Matrix{Float64}}, Vector{Float64}}}, Vector{AbstractPPL.VarName{:γ, Setfield.IdentityLens}}, Vector{Float64}, Vector{Set{DynamicPPL.Selector}}}, M::DynamicPPL.Metadata{Dict{AbstractPPL.VarName{:M, Setfield.IndexLens{Tuple{Int64}}}, Int64}, Vector{Poisson{Float64}}, Vector{AbstractPPL.VarName{:M, Setfield.IndexLens{Tuple{Int64}}}}, Vector{Int64}, Vector{Set{DynamicPPL.Selector}}}}, Float64}, DynamicPPL.SamplingContext{DynamicPPL.Sampler{PG{(), AdvancedPS.ResampleWithESSThreshold{typeof(AdvancedPS.resample_systematic), Float64}}}, DynamicPPL.DefaultContext, AdvancedPS.TracedRNG{UInt64, 1, Random123.Philox2x{UInt64, 10}}}, Vector{Int64}, Vector{Int64}, Vector{Int64}, Vector{Float64}, Matrix{Float64}}}}, AdvancedPS.TracedRNG{UInt64, 1, Random123.Philox2x{UInt64, 10}}}, AdvancedPS.TracedRNG{UInt64, 1, Random123.Philox2x{UInt64, 10}}}\u001b[39m, \u001b[90mresampler\u001b[39m::\u001b[0mAdvancedPS.ResampleWithESSThreshold\u001b[90m{typeof(AdvancedPS.resample_systematic), Float64}\u001b[39m, \u001b[90msampler\u001b[39m::\u001b[0mDynamicPPL.Sampler\u001b[90m{PG{(), AdvancedPS.ResampleWithESSThreshold{typeof(AdvancedPS.resample_systematic), Float64}}}\u001b[39m\u001b[0m\u001b[1m)\u001b[22m\n        \u001b[90m    @\u001b[39m \u001b[33mAdvancedPS\u001b[39m \u001b[90m~/.julia/packages/AdvancedPS/rpMgZ/src/\u001b[39m\u001b[90m\u001b[4mcontainer.jl:325\u001b[24m\u001b[39m\n          [6] \u001b[0m\u001b[1minitialstep\u001b[22m\u001b[0m\u001b[1m(\u001b[22m\u001b[90mrng\u001b[39m::\u001b[0mTaskLocalRNG, \u001b[90mmodel\u001b[39m::\u001b[0mDynamicPPL.Model\u001b[90m{typeof(binomial_model), (:m, :n, :N, :μ, :Σ), (), (), Tuple{Vector{Int64}, Vector{Int64}, Vector{Int64}, Vector{Float64}, Matrix{Float64}}, Tuple{}, DynamicPPL.DefaultContext}\u001b[39m, \u001b[90mspl\u001b[39m::\u001b[0mDynamicPPL.Sampler\u001b[90m{PG{(), AdvancedPS.ResampleWithESSThreshold{typeof(AdvancedPS.resample_systematic), Float64}}}\u001b[39m, \u001b[90mvi\u001b[39m::\u001b[0mDynamicPPL.TypedVarInfo\u001b[90m{@NamedTuple{γ::DynamicPPL.Metadata{Dict{AbstractPPL.VarName{:γ, Setfield.IdentityLens}, Int64}, Vector{MvLogNormal{Float64, PDMats.PDMat{Float64, Matrix{Float64}}, Vector{Float64}}}, Vector{AbstractPPL.VarName{:γ, Setfield.IdentityLens}}, Vector{Float64}, Vector{Set{DynamicPPL.Selector}}}, M::DynamicPPL.Metadata{Dict{AbstractPPL.VarName{:M, Setfield.IndexLens{Tuple{Int64}}}, Int64}, Vector{Poisson{Float64}}, Vector{AbstractPPL.VarName{:M, Setfield.IndexLens{Tuple{Int64}}}}, Vector{Int64}, Vector{Set{DynamicPPL.Selector}}}}, Float64}\u001b[39m; \u001b[90mkwargs\u001b[39m::\u001b[0m@Kwargs\u001b[90m{initial_params::Nothing}\u001b[39m\u001b[0m\u001b[1m)\u001b[22m\n        \u001b[90m    @\u001b[39m \u001b[36mTuring.Inference\u001b[39m \u001b[90m~/.julia/packages/Turing/lkUBK/src/mcmc/\u001b[39m\u001b[90m\u001b[4mparticle_mcmc.jl:270\u001b[24m\u001b[39m\n          [7] \u001b[0m\u001b[1mstep\u001b[22m\u001b[0m\u001b[1m(\u001b[22m\u001b[90mrng\u001b[39m::\u001b[0mTaskLocalRNG, \u001b[90mmodel\u001b[39m::\u001b[0mDynamicPPL.Model\u001b[90m{typeof(binomial_model), (:m, :n, :N, :μ, :Σ), (), (), Tuple{Vector{Int64}, Vector{Int64}, Vector{Int64}, Vector{Float64}, Matrix{Float64}}, Tuple{}, DynamicPPL.DefaultContext}\u001b[39m, \u001b[90mspl\u001b[39m::\u001b[0mDynamicPPL.Sampler\u001b[90m{PG{(), AdvancedPS.ResampleWithESSThreshold{typeof(AdvancedPS.resample_systematic), Float64}}}\u001b[39m; \u001b[90minitial_params\u001b[39m::\u001b[0mNothing, \u001b[90mkwargs\u001b[39m::\u001b[0m@Kwargs\u001b[90m{}\u001b[39m\u001b[0m\u001b[1m)\u001b[22m\n        \u001b[90m    @\u001b[39m \u001b[35mDynamicPPL\u001b[39m \u001b[90m~/.julia/packages/DynamicPPL/rXg4T/src/\u001b[39m\u001b[90m\u001b[4msampler.jl:116\u001b[24m\u001b[39m\n          [8] \u001b[0m\u001b[1mstep\u001b[22m\n        \u001b[90m    @\u001b[39m \u001b[90m~/.julia/packages/DynamicPPL/rXg4T/src/\u001b[39m\u001b[90m\u001b[4msampler.jl:99\u001b[24m\u001b[39m\u001b[90m [inlined]\u001b[39m\n          [9] \u001b[0m\u001b[1mmacro expansion\u001b[22m\n        \u001b[90m    @\u001b[39m \u001b[90m~/.julia/packages/AbstractMCMC/YrmkI/src/\u001b[39m\u001b[90m\u001b[4msample.jl:130\u001b[24m\u001b[39m\u001b[90m [inlined]\u001b[39m\n         [10] \u001b[0m\u001b[1mmacro expansion\u001b[22m\n        \u001b[90m    @\u001b[39m \u001b[90m~/.julia/packages/AbstractMCMC/YrmkI/src/\u001b[39m\u001b[90m\u001b[4mlogging.jl:16\u001b[24m\u001b[39m\u001b[90m [inlined]\u001b[39m\n         [11] \u001b[0m\u001b[1mmcmcsample\u001b[22m\u001b[0m\u001b[1m(\u001b[22m\u001b[90mrng\u001b[39m::\u001b[0mTaskLocalRNG, \u001b[90mmodel\u001b[39m::\u001b[0mDynamicPPL.Model\u001b[90m{typeof(binomial_model), (:m, :n, :N, :μ, :Σ), (), (), Tuple{Vector{Int64}, Vector{Int64}, Vector{Int64}, Vector{Float64}, Matrix{Float64}}, Tuple{}, DynamicPPL.DefaultContext}\u001b[39m, \u001b[90msampler\u001b[39m::\u001b[0mDynamicPPL.Sampler\u001b[90m{PG{(), AdvancedPS.ResampleWithESSThreshold{typeof(AdvancedPS.resample_systematic), Float64}}}\u001b[39m, \u001b[90mN\u001b[39m::\u001b[0mInt64; \u001b[90mprogress\u001b[39m::\u001b[0mBool, \u001b[90mprogressname\u001b[39m::\u001b[0mString, \u001b[90mcallback\u001b[39m::\u001b[0mNothing, \u001b[90mdiscard_initial\u001b[39m::\u001b[0mInt64, \u001b[90mthinning\u001b[39m::\u001b[0mInt64, \u001b[90mchain_type\u001b[39m::\u001b[0mType, \u001b[90minitial_state\u001b[39m::\u001b[0mNothing, \u001b[90mkwargs\u001b[39m::\u001b[0m@Kwargs\u001b[90m{initial_params::Nothing}\u001b[39m\u001b[0m\u001b[1m)\u001b[22m\n        \u001b[90m    @\u001b[39m \u001b[35mAbstractMCMC\u001b[39m \u001b[90m~/.julia/packages/AbstractMCMC/YrmkI/src/\u001b[39m\u001b[90m\u001b[4msample.jl:120\u001b[24m\u001b[39m\n         [12] \u001b[0m\u001b[1mmcmcsample\u001b[22m\n        \u001b[90m    @\u001b[39m \u001b[90m~/.julia/packages/AbstractMCMC/YrmkI/src/\u001b[39m\u001b[90m\u001b[4msample.jl:98\u001b[24m\u001b[39m\u001b[90m [inlined]\u001b[39m\n         [13] \u001b[0m\u001b[1m#sample#61\u001b[22m\n        \u001b[90m    @\u001b[39m \u001b[90m~/.julia/packages/DynamicPPL/rXg4T/src/\u001b[39m\u001b[90m\u001b[4msampler.jl:93\u001b[24m\u001b[39m\u001b[90m [inlined]\u001b[39m\n         [14] \u001b[0m\u001b[1msample\u001b[22m\n        \u001b[90m    @\u001b[39m \u001b[90m~/.julia/packages/DynamicPPL/rXg4T/src/\u001b[39m\u001b[90m\u001b[4msampler.jl:83\u001b[24m\u001b[39m\u001b[90m [inlined]\u001b[39m\n         [15] \u001b[0m\u001b[1m(::AbstractMCMC.var\"#37#50\"{DynamicPPL.Sampler{PG{(), AdvancedPS.ResampleWithESSThreshold{typeof(AdvancedPS.resample_systematic), Float64}}}, DynamicPPL.Model{typeof(binomial_model), (:m, :n, :N, :μ, :Σ), (), (), Tuple{Vector{Int64}, Vector{Int64}, Vector{Int64}, Vector{Float64}, Matrix{Float64}}, Tuple{}, DynamicPPL.DefaultContext}, TaskLocalRNG, UnitRange{Int64}, Bool, Nothing, Nothing, @Kwargs{chain_type::UnionAll}, Int64, Vector{Any}, Vector{UInt64}})\u001b[22m\u001b[0m\u001b[1m(\u001b[22m\u001b[0m\u001b[1m)\u001b[22m\n        \u001b[90m    @\u001b[39m \u001b[35mAbstractMCMC\u001b[39m \u001b[90m~/.julia/packages/AbstractMCMC/YrmkI/src/\u001b[39m\u001b[90m\u001b[4msample.jl:390\u001b[24m\u001b[39m\n    Stacktrace:\n     [1] \u001b[0m\u001b[1msync_end\u001b[22m\u001b[0m\u001b[1m(\u001b[22m\u001b[90mc\u001b[39m::\u001b[0mChannel\u001b[90m{Any}\u001b[39m\u001b[0m\u001b[1m)\u001b[22m\n    \u001b[90m   @\u001b[39m \u001b[90mBase\u001b[39m \u001b[90m./\u001b[39m\u001b[90m\u001b[4mtask.jl:448\u001b[24m\u001b[39m\n     [2] \u001b[0m\u001b[1mmacro expansion\u001b[22m\n    \u001b[90m   @\u001b[39m \u001b[90m./\u001b[39m\u001b[90m\u001b[4mtask.jl:480\u001b[24m\u001b[39m\u001b[90m [inlined]\u001b[39m\n     [3] \u001b[0m\u001b[1m(::AbstractMCMC.var\"#36#49\"{Bool, Nothing, Nothing, @Kwargs{chain_type::UnionAll}, Int64, Int64, Vector{Any}, Vector{UInt64}, Vector{DynamicPPL.Sampler{PG{(), AdvancedPS.ResampleWithESSThreshold{typeof(AdvancedPS.resample_systematic), Float64}}}}, Vector{DynamicPPL.Model{typeof(binomial_model), (:m, :n, :N, :μ, :Σ), (), (), Tuple{Vector{Int64}, Vector{Int64}, Vector{Int64}, Vector{Float64}, Matrix{Float64}}, Tuple{}, DynamicPPL.DefaultContext}}, Vector{TaskLocalRNG}, Int64, Int64})\u001b[22m\u001b[0m\u001b[1m(\u001b[22m\u001b[0m\u001b[1m)\u001b[22m\n    \u001b[90m   @\u001b[39m \u001b[35mAbstractMCMC\u001b[39m \u001b[90m~/.julia/packages/AbstractMCMC/YrmkI/src/\u001b[39m\u001b[90m\u001b[4msample.jl:364\u001b[24m\u001b[39m",
     "output_type": "error",
     "traceback": [
      "TaskFailedException\n\n\u001b[91m    nested task error: \u001b[39mTaskFailedException\n    \n    \u001b[91m    nested task error: \u001b[39mInexactError: trunc(Int64, 1.893205781989023e19)\n        Stacktrace:\n          [1] \u001b[0m\u001b[1mconsume\u001b[22m\u001b[0m\u001b[1m(\u001b[22m\u001b[90mttask\u001b[39m::\u001b[0mTapedTask\u001b[90m{typeof(binomial_model), Tuple{DynamicPPL.Model{typeof(binomial_model), (:m, :n, :N, :μ, :Σ), (), (), Tuple{Vector{Int64}, Vector{Int64}, Vector{Int64}, Vector{Float64}, Matrix{Float64}}, Tuple{}, DynamicPPL.DefaultContext}, DynamicPPL.TypedVarInfo{@NamedTuple{γ::DynamicPPL.Metadata{Dict{AbstractPPL.VarName{:γ, Setfield.IdentityLens}, Int64}, Vector{MvLogNormal{Float64, PDMats.PDMat{Float64, Matrix{Float64}}, Vector{Float64}}}, Vector{AbstractPPL.VarName{:γ, Setfield.IdentityLens}}, Vector{Float64}, Vector{Set{DynamicPPL.Selector}}}, M::DynamicPPL.Metadata{Dict{AbstractPPL.VarName{:M, Setfield.IndexLens{Tuple{Int64}}}, Int64}, Vector{Poisson{Float64}}, Vector{AbstractPPL.VarName{:M, Setfield.IndexLens{Tuple{Int64}}}}, Vector{Int64}, Vector{Set{DynamicPPL.Selector}}}}, Float64}, DynamicPPL.SamplingContext{DynamicPPL.Sampler{PG{(), AdvancedPS.ResampleWithESSThreshold{typeof(AdvancedPS.resample_systematic), Float64}}}, DynamicPPL.DefaultContext, AdvancedPS.TracedRNG{UInt64, 1, Random123.Philox2x{UInt64, 10}}}, Vector{Int64}, Vector{Int64}, Vector{Int64}, Vector{Float64}, Matrix{Float64}}}\u001b[39m\u001b[0m\u001b[1m)\u001b[22m\n        \u001b[90m    @\u001b[39m \u001b[32mLibtask\u001b[39m \u001b[90m~/.julia/packages/Libtask/0vMZ5/src/\u001b[39m\u001b[90m\u001b[4mtapedtask.jl:153\u001b[24m\u001b[39m\n          [2] \u001b[0m\u001b[1madvance!\u001b[22m\u001b[0m\u001b[1m(\u001b[22m\u001b[90mtrace\u001b[39m::\u001b[0mAdvancedPS.Trace\u001b[90m{AdvancedPS.LibtaskModel{Turing.Essential.TracedModel{AbstractMCMC.AbstractSampler, DynamicPPL.AbstractVarInfo, DynamicPPL.Model, Tuple}, TapedTask{typeof(binomial_model), Tuple{DynamicPPL.Model{typeof(binomial_model), (:m, :n, :N, :μ, :Σ), (), (), Tuple{Vector{Int64}, Vector{Int64}, Vector{Int64}, Vector{Float64}, Matrix{Float64}}, Tuple{}, DynamicPPL.DefaultContext}, DynamicPPL.TypedVarInfo{@NamedTuple{γ::DynamicPPL.Metadata{Dict{AbstractPPL.VarName{:γ, Setfield.IdentityLens}, Int64}, Vector{MvLogNormal{Float64, PDMats.PDMat{Float64, Matrix{Float64}}, Vector{Float64}}}, Vector{AbstractPPL.VarName{:γ, Setfield.IdentityLens}}, Vector{Float64}, Vector{Set{DynamicPPL.Selector}}}, M::DynamicPPL.Metadata{Dict{AbstractPPL.VarName{:M, Setfield.IndexLens{Tuple{Int64}}}, Int64}, Vector{Poisson{Float64}}, Vector{AbstractPPL.VarName{:M, Setfield.IndexLens{Tuple{Int64}}}}, Vector{Int64}, Vector{Set{DynamicPPL.Selector}}}}, Float64}, DynamicPPL.SamplingContext{DynamicPPL.Sampler{PG{(), AdvancedPS.ResampleWithESSThreshold{typeof(AdvancedPS.resample_systematic), Float64}}}, DynamicPPL.DefaultContext, AdvancedPS.TracedRNG{UInt64, 1, Random123.Philox2x{UInt64, 10}}}, Vector{Int64}, Vector{Int64}, Vector{Int64}, Vector{Float64}, Matrix{Float64}}}}, AdvancedPS.TracedRNG{UInt64, 1, Random123.Philox2x{UInt64, 10}}}\u001b[39m, \u001b[90misref\u001b[39m::\u001b[0mBool\u001b[0m\u001b[1m)\u001b[22m\n        \u001b[90m    @\u001b[39m \u001b[36mTuring.Essential\u001b[39m \u001b[90m~/.julia/packages/Turing/lkUBK/src/essential/\u001b[39m\u001b[90m\u001b[4mcontainer.jl:34\u001b[24m\u001b[39m\n          [3] \u001b[0m\u001b[1mreweight!\u001b[22m\u001b[0m\u001b[1m(\u001b[22m\u001b[90mpc\u001b[39m::\u001b[0mAdvancedPS.ParticleContainer\u001b[90m{AdvancedPS.Trace{AdvancedPS.LibtaskModel{Turing.Essential.TracedModel{AbstractMCMC.AbstractSampler, DynamicPPL.AbstractVarInfo, DynamicPPL.Model, Tuple}, TapedTask{typeof(binomial_model), Tuple{DynamicPPL.Model{typeof(binomial_model), (:m, :n, :N, :μ, :Σ), (), (), Tuple{Vector{Int64}, Vector{Int64}, Vector{Int64}, Vector{Float64}, Matrix{Float64}}, Tuple{}, DynamicPPL.DefaultContext}, DynamicPPL.TypedVarInfo{@NamedTuple{γ::DynamicPPL.Metadata{Dict{AbstractPPL.VarName{:γ, Setfield.IdentityLens}, Int64}, Vector{MvLogNormal{Float64, PDMats.PDMat{Float64, Matrix{Float64}}, Vector{Float64}}}, Vector{AbstractPPL.VarName{:γ, Setfield.IdentityLens}}, Vector{Float64}, Vector{Set{DynamicPPL.Selector}}}, M::DynamicPPL.Metadata{Dict{AbstractPPL.VarName{:M, Setfield.IndexLens{Tuple{Int64}}}, Int64}, Vector{Poisson{Float64}}, Vector{AbstractPPL.VarName{:M, Setfield.IndexLens{Tuple{Int64}}}}, Vector{Int64}, Vector{Set{DynamicPPL.Selector}}}}, Float64}, DynamicPPL.SamplingContext{DynamicPPL.Sampler{PG{(), AdvancedPS.ResampleWithESSThreshold{typeof(AdvancedPS.resample_systematic), Float64}}}, DynamicPPL.DefaultContext, AdvancedPS.TracedRNG{UInt64, 1, Random123.Philox2x{UInt64, 10}}}, Vector{Int64}, Vector{Int64}, Vector{Int64}, Vector{Float64}, Matrix{Float64}}}}, AdvancedPS.TracedRNG{UInt64, 1, Random123.Philox2x{UInt64, 10}}}, AdvancedPS.TracedRNG{UInt64, 1, Random123.Philox2x{UInt64, 10}}}\u001b[39m, \u001b[90mref\u001b[39m::\u001b[0mNothing\u001b[0m\u001b[1m)\u001b[22m\n        \u001b[90m    @\u001b[39m \u001b[33mAdvancedPS\u001b[39m \u001b[90m~/.julia/packages/AdvancedPS/rpMgZ/src/\u001b[39m\u001b[90m\u001b[4mcontainer.jl:272\u001b[24m\u001b[39m\n          [4] \u001b[0m\u001b[1msweep!\u001b[22m\u001b[0m\u001b[1m(\u001b[22m\u001b[90mrng\u001b[39m::\u001b[0mTaskLocalRNG, \u001b[90mpc\u001b[39m::\u001b[0mAdvancedPS.ParticleContainer\u001b[90m{AdvancedPS.Trace{AdvancedPS.LibtaskModel{Turing.Essential.TracedModel{AbstractMCMC.AbstractSampler, DynamicPPL.AbstractVarInfo, DynamicPPL.Model, Tuple}, TapedTask{typeof(binomial_model), Tuple{DynamicPPL.Model{typeof(binomial_model), (:m, :n, :N, :μ, :Σ), (), (), Tuple{Vector{Int64}, Vector{Int64}, Vector{Int64}, Vector{Float64}, Matrix{Float64}}, Tuple{}, DynamicPPL.DefaultContext}, DynamicPPL.TypedVarInfo{@NamedTuple{γ::DynamicPPL.Metadata{Dict{AbstractPPL.VarName{:γ, Setfield.IdentityLens}, Int64}, Vector{MvLogNormal{Float64, PDMats.PDMat{Float64, Matrix{Float64}}, Vector{Float64}}}, Vector{AbstractPPL.VarName{:γ, Setfield.IdentityLens}}, Vector{Float64}, Vector{Set{DynamicPPL.Selector}}}, M::DynamicPPL.Metadata{Dict{AbstractPPL.VarName{:M, Setfield.IndexLens{Tuple{Int64}}}, Int64}, Vector{Poisson{Float64}}, Vector{AbstractPPL.VarName{:M, Setfield.IndexLens{Tuple{Int64}}}}, Vector{Int64}, Vector{Set{DynamicPPL.Selector}}}}, Float64}, DynamicPPL.SamplingContext{DynamicPPL.Sampler{PG{(), AdvancedPS.ResampleWithESSThreshold{typeof(AdvancedPS.resample_systematic), Float64}}}, DynamicPPL.DefaultContext, AdvancedPS.TracedRNG{UInt64, 1, Random123.Philox2x{UInt64, 10}}}, Vector{Int64}, Vector{Int64}, Vector{Int64}, Vector{Float64}, Matrix{Float64}}}}, AdvancedPS.TracedRNG{UInt64, 1, Random123.Philox2x{UInt64, 10}}}, AdvancedPS.TracedRNG{UInt64, 1, Random123.Philox2x{UInt64, 10}}}\u001b[39m, \u001b[90mresampler\u001b[39m::\u001b[0mAdvancedPS.ResampleWithESSThreshold\u001b[90m{typeof(AdvancedPS.resample_systematic), Float64}\u001b[39m, \u001b[90msampler\u001b[39m::\u001b[0mDynamicPPL.Sampler\u001b[90m{PG{(), AdvancedPS.ResampleWithESSThreshold{typeof(AdvancedPS.resample_systematic), Float64}}}\u001b[39m, \u001b[90mref\u001b[39m::\u001b[0mNothing\u001b[0m\u001b[1m)\u001b[22m\n        \u001b[90m    @\u001b[39m \u001b[33mAdvancedPS\u001b[39m \u001b[90m~/.julia/packages/AdvancedPS/rpMgZ/src/\u001b[39m\u001b[90m\u001b[4mcontainer.jl:335\u001b[24m\u001b[39m\n          [5] \u001b[0m\u001b[1msweep!\u001b[22m\u001b[0m\u001b[1m(\u001b[22m\u001b[90mrng\u001b[39m::\u001b[0mTaskLocalRNG, \u001b[90mpc\u001b[39m::\u001b[0mAdvancedPS.ParticleContainer\u001b[90m{AdvancedPS.Trace{AdvancedPS.LibtaskModel{Turing.Essential.TracedModel{AbstractMCMC.AbstractSampler, DynamicPPL.AbstractVarInfo, DynamicPPL.Model, Tuple}, TapedTask{typeof(binomial_model), Tuple{DynamicPPL.Model{typeof(binomial_model), (:m, :n, :N, :μ, :Σ), (), (), Tuple{Vector{Int64}, Vector{Int64}, Vector{Int64}, Vector{Float64}, Matrix{Float64}}, Tuple{}, DynamicPPL.DefaultContext}, DynamicPPL.TypedVarInfo{@NamedTuple{γ::DynamicPPL.Metadata{Dict{AbstractPPL.VarName{:γ, Setfield.IdentityLens}, Int64}, Vector{MvLogNormal{Float64, PDMats.PDMat{Float64, Matrix{Float64}}, Vector{Float64}}}, Vector{AbstractPPL.VarName{:γ, Setfield.IdentityLens}}, Vector{Float64}, Vector{Set{DynamicPPL.Selector}}}, M::DynamicPPL.Metadata{Dict{AbstractPPL.VarName{:M, Setfield.IndexLens{Tuple{Int64}}}, Int64}, Vector{Poisson{Float64}}, Vector{AbstractPPL.VarName{:M, Setfield.IndexLens{Tuple{Int64}}}}, Vector{Int64}, Vector{Set{DynamicPPL.Selector}}}}, Float64}, DynamicPPL.SamplingContext{DynamicPPL.Sampler{PG{(), AdvancedPS.ResampleWithESSThreshold{typeof(AdvancedPS.resample_systematic), Float64}}}, DynamicPPL.DefaultContext, AdvancedPS.TracedRNG{UInt64, 1, Random123.Philox2x{UInt64, 10}}}, Vector{Int64}, Vector{Int64}, Vector{Int64}, Vector{Float64}, Matrix{Float64}}}}, AdvancedPS.TracedRNG{UInt64, 1, Random123.Philox2x{UInt64, 10}}}, AdvancedPS.TracedRNG{UInt64, 1, Random123.Philox2x{UInt64, 10}}}\u001b[39m, \u001b[90mresampler\u001b[39m::\u001b[0mAdvancedPS.ResampleWithESSThreshold\u001b[90m{typeof(AdvancedPS.resample_systematic), Float64}\u001b[39m, \u001b[90msampler\u001b[39m::\u001b[0mDynamicPPL.Sampler\u001b[90m{PG{(), AdvancedPS.ResampleWithESSThreshold{typeof(AdvancedPS.resample_systematic), Float64}}}\u001b[39m\u001b[0m\u001b[1m)\u001b[22m\n        \u001b[90m    @\u001b[39m \u001b[33mAdvancedPS\u001b[39m \u001b[90m~/.julia/packages/AdvancedPS/rpMgZ/src/\u001b[39m\u001b[90m\u001b[4mcontainer.jl:325\u001b[24m\u001b[39m\n          [6] \u001b[0m\u001b[1minitialstep\u001b[22m\u001b[0m\u001b[1m(\u001b[22m\u001b[90mrng\u001b[39m::\u001b[0mTaskLocalRNG, \u001b[90mmodel\u001b[39m::\u001b[0mDynamicPPL.Model\u001b[90m{typeof(binomial_model), (:m, :n, :N, :μ, :Σ), (), (), Tuple{Vector{Int64}, Vector{Int64}, Vector{Int64}, Vector{Float64}, Matrix{Float64}}, Tuple{}, DynamicPPL.DefaultContext}\u001b[39m, \u001b[90mspl\u001b[39m::\u001b[0mDynamicPPL.Sampler\u001b[90m{PG{(), AdvancedPS.ResampleWithESSThreshold{typeof(AdvancedPS.resample_systematic), Float64}}}\u001b[39m, \u001b[90mvi\u001b[39m::\u001b[0mDynamicPPL.TypedVarInfo\u001b[90m{@NamedTuple{γ::DynamicPPL.Metadata{Dict{AbstractPPL.VarName{:γ, Setfield.IdentityLens}, Int64}, Vector{MvLogNormal{Float64, PDMats.PDMat{Float64, Matrix{Float64}}, Vector{Float64}}}, Vector{AbstractPPL.VarName{:γ, Setfield.IdentityLens}}, Vector{Float64}, Vector{Set{DynamicPPL.Selector}}}, M::DynamicPPL.Metadata{Dict{AbstractPPL.VarName{:M, Setfield.IndexLens{Tuple{Int64}}}, Int64}, Vector{Poisson{Float64}}, Vector{AbstractPPL.VarName{:M, Setfield.IndexLens{Tuple{Int64}}}}, Vector{Int64}, Vector{Set{DynamicPPL.Selector}}}}, Float64}\u001b[39m; \u001b[90mkwargs\u001b[39m::\u001b[0m@Kwargs\u001b[90m{initial_params::Nothing}\u001b[39m\u001b[0m\u001b[1m)\u001b[22m\n        \u001b[90m    @\u001b[39m \u001b[36mTuring.Inference\u001b[39m \u001b[90m~/.julia/packages/Turing/lkUBK/src/mcmc/\u001b[39m\u001b[90m\u001b[4mparticle_mcmc.jl:270\u001b[24m\u001b[39m\n          [7] \u001b[0m\u001b[1mstep\u001b[22m\u001b[0m\u001b[1m(\u001b[22m\u001b[90mrng\u001b[39m::\u001b[0mTaskLocalRNG, \u001b[90mmodel\u001b[39m::\u001b[0mDynamicPPL.Model\u001b[90m{typeof(binomial_model), (:m, :n, :N, :μ, :Σ), (), (), Tuple{Vector{Int64}, Vector{Int64}, Vector{Int64}, Vector{Float64}, Matrix{Float64}}, Tuple{}, DynamicPPL.DefaultContext}\u001b[39m, \u001b[90mspl\u001b[39m::\u001b[0mDynamicPPL.Sampler\u001b[90m{PG{(), AdvancedPS.ResampleWithESSThreshold{typeof(AdvancedPS.resample_systematic), Float64}}}\u001b[39m; \u001b[90minitial_params\u001b[39m::\u001b[0mNothing, \u001b[90mkwargs\u001b[39m::\u001b[0m@Kwargs\u001b[90m{}\u001b[39m\u001b[0m\u001b[1m)\u001b[22m\n        \u001b[90m    @\u001b[39m \u001b[35mDynamicPPL\u001b[39m \u001b[90m~/.julia/packages/DynamicPPL/rXg4T/src/\u001b[39m\u001b[90m\u001b[4msampler.jl:116\u001b[24m\u001b[39m\n          [8] \u001b[0m\u001b[1mstep\u001b[22m\n        \u001b[90m    @\u001b[39m \u001b[90m~/.julia/packages/DynamicPPL/rXg4T/src/\u001b[39m\u001b[90m\u001b[4msampler.jl:99\u001b[24m\u001b[39m\u001b[90m [inlined]\u001b[39m\n          [9] \u001b[0m\u001b[1mmacro expansion\u001b[22m\n        \u001b[90m    @\u001b[39m \u001b[90m~/.julia/packages/AbstractMCMC/YrmkI/src/\u001b[39m\u001b[90m\u001b[4msample.jl:130\u001b[24m\u001b[39m\u001b[90m [inlined]\u001b[39m\n         [10] \u001b[0m\u001b[1mmacro expansion\u001b[22m\n        \u001b[90m    @\u001b[39m \u001b[90m~/.julia/packages/AbstractMCMC/YrmkI/src/\u001b[39m\u001b[90m\u001b[4mlogging.jl:16\u001b[24m\u001b[39m\u001b[90m [inlined]\u001b[39m\n         [11] \u001b[0m\u001b[1mmcmcsample\u001b[22m\u001b[0m\u001b[1m(\u001b[22m\u001b[90mrng\u001b[39m::\u001b[0mTaskLocalRNG, \u001b[90mmodel\u001b[39m::\u001b[0mDynamicPPL.Model\u001b[90m{typeof(binomial_model), (:m, :n, :N, :μ, :Σ), (), (), Tuple{Vector{Int64}, Vector{Int64}, Vector{Int64}, Vector{Float64}, Matrix{Float64}}, Tuple{}, DynamicPPL.DefaultContext}\u001b[39m, \u001b[90msampler\u001b[39m::\u001b[0mDynamicPPL.Sampler\u001b[90m{PG{(), AdvancedPS.ResampleWithESSThreshold{typeof(AdvancedPS.resample_systematic), Float64}}}\u001b[39m, \u001b[90mN\u001b[39m::\u001b[0mInt64; \u001b[90mprogress\u001b[39m::\u001b[0mBool, \u001b[90mprogressname\u001b[39m::\u001b[0mString, \u001b[90mcallback\u001b[39m::\u001b[0mNothing, \u001b[90mdiscard_initial\u001b[39m::\u001b[0mInt64, \u001b[90mthinning\u001b[39m::\u001b[0mInt64, \u001b[90mchain_type\u001b[39m::\u001b[0mType, \u001b[90minitial_state\u001b[39m::\u001b[0mNothing, \u001b[90mkwargs\u001b[39m::\u001b[0m@Kwargs\u001b[90m{initial_params::Nothing}\u001b[39m\u001b[0m\u001b[1m)\u001b[22m\n        \u001b[90m    @\u001b[39m \u001b[35mAbstractMCMC\u001b[39m \u001b[90m~/.julia/packages/AbstractMCMC/YrmkI/src/\u001b[39m\u001b[90m\u001b[4msample.jl:120\u001b[24m\u001b[39m\n         [12] \u001b[0m\u001b[1mmcmcsample\u001b[22m\n        \u001b[90m    @\u001b[39m \u001b[90m~/.julia/packages/AbstractMCMC/YrmkI/src/\u001b[39m\u001b[90m\u001b[4msample.jl:98\u001b[24m\u001b[39m\u001b[90m [inlined]\u001b[39m\n         [13] \u001b[0m\u001b[1m#sample#61\u001b[22m\n        \u001b[90m    @\u001b[39m \u001b[90m~/.julia/packages/DynamicPPL/rXg4T/src/\u001b[39m\u001b[90m\u001b[4msampler.jl:93\u001b[24m\u001b[39m\u001b[90m [inlined]\u001b[39m\n         [14] \u001b[0m\u001b[1msample\u001b[22m\n        \u001b[90m    @\u001b[39m \u001b[90m~/.julia/packages/DynamicPPL/rXg4T/src/\u001b[39m\u001b[90m\u001b[4msampler.jl:83\u001b[24m\u001b[39m\u001b[90m [inlined]\u001b[39m\n         [15] \u001b[0m\u001b[1m(::AbstractMCMC.var\"#37#50\"{DynamicPPL.Sampler{PG{(), AdvancedPS.ResampleWithESSThreshold{typeof(AdvancedPS.resample_systematic), Float64}}}, DynamicPPL.Model{typeof(binomial_model), (:m, :n, :N, :μ, :Σ), (), (), Tuple{Vector{Int64}, Vector{Int64}, Vector{Int64}, Vector{Float64}, Matrix{Float64}}, Tuple{}, DynamicPPL.DefaultContext}, TaskLocalRNG, UnitRange{Int64}, Bool, Nothing, Nothing, @Kwargs{chain_type::UnionAll}, Int64, Vector{Any}, Vector{UInt64}})\u001b[22m\u001b[0m\u001b[1m(\u001b[22m\u001b[0m\u001b[1m)\u001b[22m\n        \u001b[90m    @\u001b[39m \u001b[35mAbstractMCMC\u001b[39m \u001b[90m~/.julia/packages/AbstractMCMC/YrmkI/src/\u001b[39m\u001b[90m\u001b[4msample.jl:390\u001b[24m\u001b[39m\n    Stacktrace:\n     [1] \u001b[0m\u001b[1msync_end\u001b[22m\u001b[0m\u001b[1m(\u001b[22m\u001b[90mc\u001b[39m::\u001b[0mChannel\u001b[90m{Any}\u001b[39m\u001b[0m\u001b[1m)\u001b[22m\n    \u001b[90m   @\u001b[39m \u001b[90mBase\u001b[39m \u001b[90m./\u001b[39m\u001b[90m\u001b[4mtask.jl:448\u001b[24m\u001b[39m\n     [2] \u001b[0m\u001b[1mmacro expansion\u001b[22m\n    \u001b[90m   @\u001b[39m \u001b[90m./\u001b[39m\u001b[90m\u001b[4mtask.jl:480\u001b[24m\u001b[39m\u001b[90m [inlined]\u001b[39m\n     [3] \u001b[0m\u001b[1m(::AbstractMCMC.var\"#36#49\"{Bool, Nothing, Nothing, @Kwargs{chain_type::UnionAll}, Int64, Int64, Vector{Any}, Vector{UInt64}, Vector{DynamicPPL.Sampler{PG{(), AdvancedPS.ResampleWithESSThreshold{typeof(AdvancedPS.resample_systematic), Float64}}}}, Vector{DynamicPPL.Model{typeof(binomial_model), (:m, :n, :N, :μ, :Σ), (), (), Tuple{Vector{Int64}, Vector{Int64}, Vector{Int64}, Vector{Float64}, Matrix{Float64}}, Tuple{}, DynamicPPL.DefaultContext}}, Vector{TaskLocalRNG}, Int64, Int64})\u001b[22m\u001b[0m\u001b[1m(\u001b[22m\u001b[0m\u001b[1m)\u001b[22m\n    \u001b[90m   @\u001b[39m \u001b[35mAbstractMCMC\u001b[39m \u001b[90m~/.julia/packages/AbstractMCMC/YrmkI/src/\u001b[39m\u001b[90m\u001b[4msample.jl:364\u001b[24m\u001b[39m",
      "",
      "Stacktrace:",
      "  [1] sync_end(c::Channel{Any})",
      "    @ Base ./task.jl:448",
      "  [2] macro expansion",
      "    @ ./task.jl:480 [inlined]",
      "  [3] macro expansion",
      "    @ ~/.julia/packages/AbstractMCMC/YrmkI/src/sample.jl:342 [inlined]",
      "  [4] macro expansion",
      "    @ ~/.julia/packages/ProgressLogging/6KXlp/src/ProgressLogging.jl:328 [inlined]",
      "  [5] (::AbstractMCMC.var\"#34#47\"{Bool, String, Nothing, Nothing, @Kwargs{chain_type::UnionAll}, Int64, Int64, Vector{Any}, Vector{UInt64}, Vector{DynamicPPL.Sampler{PG{(), AdvancedPS.ResampleWithESSThreshold{typeof(AdvancedPS.resample_systematic), Float64}}}}, Vector{DynamicPPL.Model{typeof(binomial_model), (:m, :n, :N, :μ, :Σ), (), (), Tuple{Vector{Int64}, Vector{Int64}, Vector{Int64}, Vector{Float64}, Matrix{Float64}}, Tuple{}, DynamicPPL.DefaultContext}}, Vector{TaskLocalRNG}, UnitRange{Int64}, Int64, Int64})()",
      "    @ AbstractMCMC ~/.julia/packages/AbstractMCMC/YrmkI/src/logging.jl:12",
      "  [6] with_logstate(f::Function, logstate::Any)",
      "    @ Base.CoreLogging ./logging.jl:515",
      "  [7] with_logger",
      "    @ ./logging.jl:627 [inlined]",
      "  [8] with_progresslogger(f::Function, _module::Module, logger::Logging.ConsoleLogger)",
      "    @ AbstractMCMC ~/.julia/packages/AbstractMCMC/YrmkI/src/logging.jl:36",
      "  [9] macro expansion",
      "    @ ~/.julia/packages/AbstractMCMC/YrmkI/src/logging.jl:11 [inlined]",
      " [10] mcmcsample(rng::TaskLocalRNG, model::DynamicPPL.Model{typeof(binomial_model), (:m, :n, :N, :μ, :Σ), (), (), Tuple{Vector{Int64}, Vector{Int64}, Vector{Int64}, Vector{Float64}, Matrix{Float64}}, Tuple{}, DynamicPPL.DefaultContext}, sampler::DynamicPPL.Sampler{PG{(), AdvancedPS.ResampleWithESSThreshold{typeof(AdvancedPS.resample_systematic), Float64}}}, ::MCMCThreads, N::Int64, nchains::Int64; progress::Bool, progressname::String, initial_params::Nothing, initial_state::Nothing, kwargs::@Kwargs{chain_type::UnionAll})",
      "    @ AbstractMCMC ~/.julia/packages/AbstractMCMC/YrmkI/src/sample.jl:336",
      " [11] sample(rng::TaskLocalRNG, model::DynamicPPL.Model{typeof(binomial_model), (:m, :n, :N, :μ, :Σ), (), (), Tuple{Vector{Int64}, Vector{Int64}, Vector{Int64}, Vector{Float64}, Matrix{Float64}}, Tuple{}, DynamicPPL.DefaultContext}, sampler::DynamicPPL.Sampler{PG{(), AdvancedPS.ResampleWithESSThreshold{typeof(AdvancedPS.resample_systematic), Float64}}}, ensemble::MCMCThreads, N::Int64, n_chains::Int64; chain_type::Type, progress::Bool, kwargs::@Kwargs{})",
      "    @ Turing.Inference ~/.julia/packages/Turing/lkUBK/src/mcmc/Inference.jl:258",
      " [12] sample",
      "    @ ~/.julia/packages/Turing/lkUBK/src/mcmc/Inference.jl:247 [inlined]",
      " [13] #sample#5",
      "    @ ~/.julia/packages/Turing/lkUBK/src/mcmc/Inference.jl:243 [inlined]",
      " [14] sample",
      "    @ ~/.julia/packages/Turing/lkUBK/src/mcmc/Inference.jl:234 [inlined]",
      " [15] #sample#4",
      "    @ ~/.julia/packages/Turing/lkUBK/src/mcmc/Inference.jl:230 [inlined]",
      " [16] sample(model::DynamicPPL.Model{typeof(binomial_model), (:m, :n, :N, :μ, :Σ), (), (), Tuple{Vector{Int64}, Vector{Int64}, Vector{Int64}, Vector{Float64}, Matrix{Float64}}, Tuple{}, DynamicPPL.DefaultContext}, alg::PG{(), AdvancedPS.ResampleWithESSThreshold{typeof(AdvancedPS.resample_systematic), Float64}}, ensemble::MCMCThreads, N::Int64, n_chains::Int64)",
      "    @ Turing.Inference ~/.julia/packages/Turing/lkUBK/src/mcmc/Inference.jl:222",
      " [17] top-level scope",
      "    @ In[23]:1"
     ]
    }
   ],
   "source": [
    "chains_1 = sample(\n",
    "    binomial_model_log_nor(m, n, N, μ, Σ), \n",
    "    Gibbs(PG(100, :M), HMC(0.00001, 1000, :γ)), \n",
    "    500, MCMCThreads(), initial_parametrs = reduce(vcat, [M, μ]), 4\n",
    ")"
   ]
  },
  {
   "cell_type": "code",
   "execution_count": null,
   "id": "2e74abcf",
   "metadata": {},
   "outputs": [],
   "source": [
    "prog = Progress(nsims, \"Simulation progress ...\")\n",
    "res = Vector{Any}(missing, nsims)\n",
    "μ = [1.5, 3.4]\n",
    "Σ = .2 * [1 -.6; -.6 1]\n",
    "nsims = 100\n",
    "\n",
    "Threads.@threads for k in 1:nsims\n",
    "    α, β = rand(MvNormal(μ, Σ))\n",
    "\n",
    "    N = rand.(N_distr, Q)\n",
    "    M = reduce(vcat, rand.(M_distr(N, α), 1))\n",
    "    n = reduce(vcat, rand.(Binomial.(N, .2), 1))\n",
    "\n",
    "    p = (N .^ α) .* ((n ./ N) .^ β)\n",
    "    p = 1 ./ (1 .+ exp.(-p))\n",
    "\n",
    "    #u = reduce(vcat, rand.(u_distr.(n, N), 1))\n",
    "    u = 1.0\n",
    "    m = reduce(vcat, rand.(Binomial.(M, p * u), 1))\n",
    "\n",
    "    df1 = DataFrame(\n",
    "        y = m,\n",
    "        x1 = log.(N),\n",
    "        x2 = log.(n ./ N)\n",
    "    )\n",
    "\n",
    "    mm = glm(@formula(y ~ x1 + x2 + 0), df1, Poisson(), LogLink())\n",
    "    α̂₁, β̂₁ = coef(mm)\n",
    "\n",
    "    ols = lm(@formula(log(y) ~ x1 + x2 + 0), df1)\n",
    "    α̂₂, β̂₂ = coef(ols)\n",
    "\n",
    "    est = sample(binomial_model(m, n, N, μ, Σ), PG(100), 500)\n",
    "    α̂₃, β̂₃ = describe(est)[1][1:2, :mean]\n",
    "    M̂ = describe(est)[1][3:end, :mean]\n",
    "\n",
    "    μ̂_prior = [α̂₁, β̂₁]\n",
    "    Σ̂_prior = vcov(mm)\n",
    "\n",
    "    est_2 = sample(binomial_model(m, n, N, μ̂_prior, Σ̂_prior), PG(100), 500)\n",
    "    α̂₄, β̂₄ = describe(est_2)[1][1:2, :mean]\n",
    "    M̂_2 = describe(est_2)[1][3:end, :mean]\n",
    "\n",
    "    res[k] = [\n",
    "        sum(M); sum(N .^ α); sum(N .^ α̂₁); sum(N .^ α̂₂); sum(N .^ α̂₃);\n",
    "        sum([mean(N[x] .^ est[:, 1, :]) for x in 1:Q]); sum(M̂); \n",
    "        sum(N .^ α̂₄); sum([mean(N[x] .^ est_2[:, 1, :]) for x in 1:Q]);\n",
    "        sum(M̂_2)\n",
    "    ]\n",
    "    #push!(res, [sum(M) sum(N .^ α) sum(N .^ α̂₁) sum(N .^ α̂₂)])\n",
    "    next!(prog)\n",
    "end # end for\n",
    "\n",
    "df_res = DataFrame(mapreduce(permutedims, vcat, res), \n",
    "    [\"actual\", \"expected\", \"glm_est\", \"ols_est\", \"expected_est\" , \"expected_est_better\", \n",
    "        \"actual_est\", \"expected_est_bad_prior\" , \"expected_est_better_bad_prior\", \"actual_est_bad_prior\"])\n",
    "\n",
    "describe(df_res)"
   ]
  },
  {
   "cell_type": "markdown",
   "id": "864d7168",
   "metadata": {},
   "source": [
    "## Gamma prior"
   ]
  },
  {
   "cell_type": "code",
   "execution_count": 316,
   "id": "93ab1840",
   "metadata": {},
   "outputs": [
    {
     "data": {
      "text/plain": [
       "binomial_model_gamma (generic function with 2 methods)"
      ]
     },
     "execution_count": 316,
     "metadata": {},
     "output_type": "execute_result"
    }
   ],
   "source": [
    "@model function binomial_model_gamma(m, n, N, θ, a, b)\n",
    "    C  = ClaytonCopula(2, θ)\n",
    "    d₁ = Gamma(a[1], b[1])\n",
    "    d₂ = Gamma(a[2], b[2])\n",
    "\n",
    "    γ ~ SklarDist(C, (d₁, d₂))\n",
    "    #Turing.Turing.@addlogprob! loglikelihood(D, X)\n",
    "    ξ = N .^ γ[1]\n",
    "    μ = ξ .* ((n ./ N) .^ γ[2])\n",
    "    μ = 1 ./ (1 .+ 1 ./ μ)\n",
    "    M = Vector(undef, length(m))\n",
    "    \n",
    "    for i in eachindex(M)\n",
    "        M[i] ~ Poisson(ξ[i])\n",
    "    end\n",
    "\n",
    "    for i in eachindex(m)\n",
    "        m[i] ~ Binomial(M[i], μ[i])\n",
    "    end\n",
    "    return m\n",
    "end"
   ]
  },
  {
   "cell_type": "code",
   "execution_count": 307,
   "id": "bedeb58e",
   "metadata": {},
   "outputs": [
    {
     "name": "stdout",
     "output_type": "stream",
     "text": [
      "[0.9786911598938772, 0.8657820216992712]\n"
     ]
    },
    {
     "data": {
      "text/plain": [
       "20×5 Matrix{Float64}:\n",
       " 283.0  291.0   29.0   334.0  0.972654\n",
       " 866.0  870.0   81.0   966.0  0.989856\n",
       " 810.0  817.0   79.0   880.0  0.989528\n",
       " 245.0  252.0   40.0   327.0  0.979113\n",
       " 488.0  496.0   58.0   561.0  0.985658\n",
       " 641.0  648.0   79.0   724.0  0.989297\n",
       " 602.0  607.0   55.0   720.0  0.985404\n",
       " 521.0  527.0   61.0   617.0  0.986407\n",
       " 814.0  823.0   93.0   946.0  0.990968\n",
       " 434.0  441.0   66.0   481.0  0.986935\n",
       " 489.0  500.0   55.0   550.0  0.984961\n",
       " 763.0  772.0   84.0   840.0  0.990013\n",
       " 409.0  415.0   46.0   485.0  0.982242\n",
       " 395.0  400.0   34.0   453.0  0.976879\n",
       " 837.0  845.0  116.0  1014.0  0.992587\n",
       " 481.0  489.0   43.0   548.0  0.981447\n",
       " 806.0  810.0  106.0   972.0  0.991952\n",
       " 134.0  144.0   12.0   180.0  0.939216\n",
       " 336.0  343.0   45.0   397.0  0.981501\n",
       " 473.0  485.0   56.0   570.0  0.985249"
      ]
     },
     "execution_count": 307,
     "metadata": {},
     "output_type": "execute_result"
    }
   ],
   "source": [
    "a = [5.0, 13.5]\n",
    "b = [1 / 5, 1 / 10.5]\n",
    "θ = 2.0\n",
    "\n",
    "C = ClaytonCopula(2, θ)\n",
    "d = SklarDist(C, (Gamma(a[1], b[1]), Gamma(a[2], b[2])))\n",
    "\n",
    "α, β = rand(d)\n",
    "\n",
    "Q = 20\n",
    "\n",
    "N_distr = Poisson.(rand(DiscreteUniform(70, 1000), Q))\n",
    "M_distr = (N, α) -> Poisson.(N .^ α)\n",
    "u_distr = (n, N) -> Beta(n, N - n)\n",
    "#u_distr = (M, μ) -> Gamma(ϕ, 1 / ϕ)\n",
    "\n",
    "N = reduce(vcat, rand.(N_distr, 1))\n",
    "M = reduce(vcat, rand.(M_distr(N, α), 1))\n",
    "n = reduce(vcat, rand.(Binomial.(N, .1), 1))\n",
    "\n",
    "p = (N .^ α) .* ((n ./ N) .^ β)\n",
    "#p = 1 ./ (1 .+ exp.(-p))\n",
    "p = 1 ./ (1 .+ 1 ./ p)\n",
    "\n",
    "m = reduce(vcat, rand.(Binomial.(M, p * u), 1))\n",
    "\n",
    "println([α, β])\n",
    "\n",
    "[m M n N p]"
   ]
  },
  {
   "cell_type": "code",
   "execution_count": 333,
   "id": "d256166f",
   "metadata": {},
   "outputs": [
    {
     "name": "stderr",
     "output_type": "stream",
     "text": [
      "\u001b[33m\u001b[1m┌ \u001b[22m\u001b[39m\u001b[33m\u001b[1mWarning: \u001b[22m\u001b[39mOnly a single thread available: MCMC chains are not sampled in parallel\n",
      "\u001b[33m\u001b[1m└ \u001b[22m\u001b[39m\u001b[90m@ AbstractMCMC ~/.julia/packages/AbstractMCMC/YrmkI/src/sample.jl:310\u001b[39m\n",
      "\u001b[32mSampling (1 threads): 100%|█████████████████████████████| Time: 0:16:05\u001b[39m\n"
     ]
    },
    {
     "data": {
      "text/plain": [
       "Chains MCMC chain (2000×24×4 Array{Float64, 3}):\n",
       "\n",
       "Iterations        = 1:1:2000\n",
       "Number of chains  = 4\n",
       "Samples per chain = 2000\n",
       "Wall duration     = 1280.53 seconds\n",
       "Compute duration  = 1280.19 seconds\n",
       "parameters        = γ[1], γ[2], M[1], M[2], M[3], M[4], M[5], M[6], M[7], M[8], M[9], M[10], M[11], M[12], M[13], M[14], M[15], M[16], M[17], M[18], M[19], M[20]\n",
       "internals         = lp, logevidence\n",
       "\n",
       "Summary Statistics\n",
       " \u001b[1m parameters \u001b[0m \u001b[1m     mean \u001b[0m \u001b[1m     std \u001b[0m \u001b[1m    mcse \u001b[0m \u001b[1m ess_bulk \u001b[0m \u001b[1m ess_tail \u001b[0m \u001b[1m    rhat \u001b[0m \u001b[1m \u001b[0m ⋯\n",
       " \u001b[90m     Symbol \u001b[0m \u001b[90m  Float64 \u001b[0m \u001b[90m Float64 \u001b[0m \u001b[90m Float64 \u001b[0m \u001b[90m  Float64 \u001b[0m \u001b[90m  Float64 \u001b[0m \u001b[90m Float64 \u001b[0m \u001b[90m \u001b[0m ⋯\n",
       "\n",
       "        γ[1]     0.9927    0.0034    0.0008    18.5587    16.8570    2.4751    ⋯\n",
       "        γ[2]     1.6920    0.1456    0.0336    19.4075    18.6253    2.0893    ⋯\n",
       "        M[1]   330.5044   17.9433    4.1625    18.8419    18.2579    2.1712    ⋯\n",
       "        M[2]   915.7521   24.4497    5.9807    16.7654    16.7013    4.1609    ⋯\n",
       "        M[3]   850.0910   20.8450    4.5608    20.6410    16.8502    2.7639    ⋯\n",
       "        M[4]   297.9926   17.1555    3.8876    19.2481    19.2853    3.1809    ⋯\n",
       "        M[5]   546.3859   11.8169    2.5346    21.0882    40.7219    2.2134    ⋯\n",
       "        M[6]   682.3987   24.5610    5.6834    18.5867    16.8502    2.3920    ⋯\n",
       "        M[7]   687.7530   25.2911    6.0266    17.5379    19.4707    2.9788    ⋯\n",
       "        M[8]   583.4233   26.0540    6.1529    18.1790    17.6303    2.4885    ⋯\n",
       "        M[9]   901.8758   19.4788    4.2887    19.4683    22.7438    1.7981    ⋯\n",
       "       M[10]   463.8986   12.9690    3.0222    18.4511    17.4820    3.3819    ⋯\n",
       "       M[11]   541.9039   21.1127    5.0811    17.7913    16.9972    2.7166    ⋯\n",
       "       M[12]   825.1097   28.4320    6.5505    19.2668    20.6880    2.0833    ⋯\n",
       "       M[13]   461.7418   18.8398    4.4979    18.1270    16.9370    2.6998    ⋯\n",
       "       M[14]   436.9039   11.6044    2.6692    18.9480    23.6752    1.8474    ⋯\n",
       "       M[15]   940.8571   39.7422    9.3982    17.7720    16.6706    3.5010    ⋯\n",
       "       M[16]   523.6276   26.4313    6.1711    18.2697    19.2278    2.1108    ⋯\n",
       "       M[17]   911.3706   27.0522    5.9813    20.3532    18.9939    3.1862    ⋯\n",
       "       M[18]   173.1476   14.5143    3.4328    20.8105    16.2909    2.1090    ⋯\n",
       "       M[19]   370.6190   17.5891    4.0635    18.9192    16.8090    2.3563    ⋯\n",
       "       M[20]   534.5834   12.4326    2.8253    18.8718    19.3447    2.5140    ⋯\n",
       "\u001b[36m                                                                1 column omitted\u001b[0m\n",
       "\n",
       "Quantiles\n",
       " \u001b[1m parameters \u001b[0m \u001b[1m     2.5% \u001b[0m \u001b[1m    25.0% \u001b[0m \u001b[1m    50.0% \u001b[0m \u001b[1m    75.0% \u001b[0m \u001b[1m     97.5% \u001b[0m\n",
       " \u001b[90m     Symbol \u001b[0m \u001b[90m  Float64 \u001b[0m \u001b[90m  Float64 \u001b[0m \u001b[90m  Float64 \u001b[0m \u001b[90m  Float64 \u001b[0m \u001b[90m   Float64 \u001b[0m\n",
       "\n",
       "        γ[1]     0.9884     0.9898     0.9916     0.9953      0.9986\n",
       "        γ[2]     1.4788     1.5043     1.7146     1.8304      1.8335\n",
       "        M[1]   311.0000   311.0000   331.0000   344.0000    368.0000\n",
       "        M[2]   883.0000   903.0000   906.0000   945.0000    951.0000\n",
       "        M[3]   827.0000   830.0000   857.0000   863.0000    881.0000\n",
       "        M[4]   266.0000   283.0000   292.0000   316.0000    325.0000\n",
       "        M[5]   533.9500   535.0000   541.0000   555.0000    567.0000\n",
       "        M[6]   654.0000   669.0000   685.0000   697.0000    729.0000\n",
       "        M[7]   666.0000   672.0000   676.0000   690.0000    734.0000\n",
       "        M[8]   555.0000   555.0000   576.0000   603.0000    629.0000\n",
       "        M[9]   842.0000   889.0000   902.0000   907.0000    930.0000\n",
       "       M[10]   444.0000   454.0000   462.0000   481.0000    481.0000\n",
       "       M[11]   522.0000   523.0000   540.0000   547.0000    586.0000\n",
       "       M[12]   793.0000   809.0000   824.0000   829.0000    892.0000\n",
       "       M[13]   440.0000   447.0000   466.0000   477.0000    495.0000\n",
       "       M[14]   419.0000   426.0000   439.0000   448.0000    448.0000\n",
       "       M[15]   885.0000   906.0000   949.0000   958.0000   1010.0000\n",
       "       M[16]   488.0000   500.0000   528.0000   554.0000    557.0000\n",
       "       M[17]   866.0000   881.0000   918.0000   923.0000    952.0000\n",
       "       M[18]   141.0000   164.0000   180.0000   181.0000    190.0000\n",
       "       M[19]   351.0000   357.0000   373.0000   392.0000    407.0000\n",
       "       M[20]   520.0000   528.0000   531.0000   536.0000    560.0000\n"
      ]
     },
     "execution_count": 333,
     "metadata": {},
     "output_type": "execute_result"
    }
   ],
   "source": [
    "test_1 = sample(\n",
    "    binomial_model_gamma(m, n, N, θ, a, b), \n",
    "    #Gibbs(PG(100, :M), HMC(0.00001, 1000, :γ)), \n",
    "    PG(50), \n",
    "    MCMCThreads(),\n",
    "    2000,\n",
    "    4\n",
    ")"
   ]
  },
  {
   "cell_type": "code",
   "execution_count": 334,
   "id": "83c6ecfb",
   "metadata": {},
   "outputs": [
    {
     "data": {
      "text/plain": [
       "(1.7981024137826969, 4.160867380000115)"
      ]
     },
     "execution_count": 334,
     "metadata": {},
     "output_type": "execute_result"
    }
   ],
   "source": [
    "minimum(describe(test_1)[1][:,:rhat]), maximum(describe(test_1)[1][:,:rhat])"
   ]
  },
  {
   "cell_type": "code",
   "execution_count": 335,
   "id": "1b93aed4",
   "metadata": {},
   "outputs": [
    {
     "data": {
      "text/plain": [
       "2-element Vector{LinearAlgebra.Adjoint{Float64, Vector{Float64}}}:\n",
       " [2.4750613867378997 2.089321936674718 … 2.3563470007814056 2.5139897041015975]\n",
       " [0.9927377618297112 1.6920411675316538 … 370.619 534.583375]"
      ]
     },
     "execution_count": 335,
     "metadata": {},
     "output_type": "execute_result"
    }
   ],
   "source": [
    "[describe(test_1)[1][:,:rhat]', describe(test_1)[1][:,:mean]']"
   ]
  },
  {
   "cell_type": "code",
   "execution_count": 336,
   "id": "b58f9569",
   "metadata": {},
   "outputs": [
    {
     "data": {
      "text/plain": [
       "5-element Vector{Any}:\n",
       " 0.9786911598938772\n",
       " 0.8657820216992712\n",
       "  [295.0994206526737 834.3931423945762 … 349.4727322359878 497.90943857859156]\n",
       "  [291, 870, 817, 252, 496, 648, 607, 527, 823, 441, 500, 772, 415, 400, 845, 489, 810, 144, 343, 485]\n",
       "  [330.504375, 915.752125, 850.091, 297.992625, 546.385875, 682.39875, 687.753, 583.42325, 901.87575, 463.898625, 541.903875, 825.10975, 461.74175, 436.903875, 940.857125, 523.627625, 911.370625, 173.147625, 370.619, 534.583375]"
      ]
     },
     "execution_count": 336,
     "metadata": {},
     "output_type": "execute_result"
    }
   ],
   "source": [
    "[α, β, (N .^ α)', M, describe(test_1[1:end,:,:])[1][3:end, :mean]]"
   ]
  },
  {
   "cell_type": "code",
   "execution_count": null,
   "id": "c5b2fbe2",
   "metadata": {},
   "outputs": [],
   "source": [
    "prog = Progress(nsims, \"Simulation progress ...\")\n",
    "res = Vector{Any}(missing, nsims)\n",
    "nsims = 500\n",
    "\n",
    "# hyper parameters\n",
    "a = [5.0, 13.5]\n",
    "b = [1 / 5, 1 / 10.5]\n",
    "θ = 2.0\n",
    "Q = 20\n",
    "C = ClaytonCopula(2, θ)\n",
    "d = SklarDist(C, (Gamma(a[1], b[1]), Gamma(a[2], b[2])))\n",
    "\n",
    "N_distr = Poisson.(rand(DiscreteUniform(70, 1000), Q))\n",
    "M_distr = (N, α) -> Poisson.(N .^ α)\n",
    "u_distr = (n, N) -> Beta(n, N - n)\n",
    "\n",
    "Threads.@threads for k in 1:nsims\n",
    "    α, β = rand(d)\n",
    "\n",
    "    N = reduce(vcat, rand.(N_distr, 1))\n",
    "    M = reduce(vcat, rand.(M_distr(N, α), 1))\n",
    "    n = reduce(vcat, rand.(Binomial.(N, .1), 1))\n",
    "\n",
    "    p = (N .^ α) .* ((n ./ N) .^ β)\n",
    "    p = 1 ./ (1 .+ 1 ./ p)\n",
    "\n",
    "    #u = reduce(vcat, rand.(u_distr.(n, N), 1))\n",
    "    u = 1.0\n",
    "    m = reduce(vcat, rand.(Binomial.(M, p * u), 1))\n",
    "\n",
    "    df1 = DataFrame(\n",
    "        y = m,\n",
    "        x1 = log.(N),\n",
    "        x2 = log.(n ./ N)\n",
    "    )\n",
    "\n",
    "    mm = glm(@formula(y ~ x1 + x2 + 0), df1, Poisson(), LogLink())\n",
    "    α̂₁, β̂₁ = coef(mm)\n",
    "\n",
    "    ols = lm(@formula(log(y) ~ x1 + x2 + 0), df1)\n",
    "    α̂₂, β̂₂ = coef(ols)\n",
    "\n",
    "    est = sample(binomial_model_gamma(m, n, N, θ, a, b), PG(50), 1000)\n",
    "    α̂₃, β̂₃ = describe(est)[1][1:2, :mean]\n",
    "    M̂ = describe(est)[1][3:end, :mean]\n",
    "\n",
    "    #μ̂_prior = [α̂₁, β̂₁]\n",
    "    Σ̂_prior = vcov(mm)\n",
    "    b_prior = [α̂₁ / Σ̂_prior[1, 1], β̂₁ / Σ̂_prior[2, 2]]\n",
    "    a_prior = [α̂₁, β̂₁] ./ b_prior\n",
    "    # correlation\n",
    "    θ_prior = Σ̂_prior[1, 2] / sqrt(Σ̂_prior[1, 1] * Σ̂_prior[2, 2])\n",
    "    θ_prior = 2 * θ_prior / (1 - θ_prior)\n",
    "\n",
    "    est_2 = sample(binomial_model_gamma(m, n, N, θ, a_prior, b_prior), PG(50), 1000)\n",
    "    α̂₄, β̂₄ = describe(est_2)[1][1:2, :mean]\n",
    "    M̂_2 = describe(est_2)[1][3:end, :mean]\n",
    "\n",
    "    res[k] = [\n",
    "        sum(M); sum(N .^ α); sum(N .^ α̂₁); sum(N .^ α̂₂); sum(N .^ α̂₃);\n",
    "        sum([mean(N[x] .^ est[:, 1, :]) for x in 1:Q]); sum(M̂); \n",
    "        sum(N .^ α̂₄); sum([mean(N[x] .^ est_2[:, 1, :]) for x in 1:Q]);\n",
    "        sum(M̂_2)\n",
    "    ]\n",
    "    #push!(res, [sum(M) sum(N .^ α) sum(N .^ α̂₁) sum(N .^ α̂₂)])\n",
    "    next!(prog)\n",
    "end # end for\n",
    "\n",
    "df_res = DataFrame(mapreduce(permutedims, vcat, res), \n",
    "    [\"actual\", \"expected\", \"glm_est\", \"ols_est\", \"expected_est\" , \"expected_est_better\", \n",
    "        \"actual_est\", \"expected_est_bad_prior\" , \"expected_est_better_bad_prior\", \"actual_est_bad_prior\"])\n",
    "\n",
    "describe(df_res)"
   ]
  }
 ],
 "metadata": {
  "kernelspec": {
   "display_name": "Julia 1.10.2",
   "language": "julia",
   "name": "julia-1.10"
  },
  "language_info": {
   "file_extension": ".jl",
   "mimetype": "application/julia",
   "name": "julia",
   "version": "1.10.2"
  }
 },
 "nbformat": 4,
 "nbformat_minor": 5
}

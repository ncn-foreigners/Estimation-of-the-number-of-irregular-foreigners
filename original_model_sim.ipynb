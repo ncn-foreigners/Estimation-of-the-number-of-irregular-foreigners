{
 "cells": [
  {
   "cell_type": "markdown",
   "id": "0eb17a0f-d12c-4aa2-bd02-19e29b9e13a3",
   "metadata": {
    "editable": true,
    "slideshow": {
     "slide_type": ""
    },
    "tags": []
   },
   "source": [
    "Installing necessary packages:\n",
    "```Julia\n",
    "using Pkg\n",
    "\n",
    "Pkg.add([\"Random\", \"Distributions\", \"DataFrames\", \"GLM\", \"Statistics\", \"ProgressMeter\", \"Plots\"])\n",
    "Pkg.add(url = \"https://github.com/ncn-foreigners/UnobservedCountEstimation.jl\")\n",
    "```"
   ]
  },
  {
   "cell_type": "code",
   "execution_count": 1,
   "id": "93207f9e-9cab-4fb8-a8e7-a1656a1113ed",
   "metadata": {},
   "outputs": [],
   "source": [
    "using Random, Distributions, DataFrames, GLM, Statistics, ProgressMeter, CSV, UnobservedCountEstimation"
   ]
  },
  {
   "cell_type": "code",
   "execution_count": 2,
   "id": "957313b3-524d-4d09-8fc1-e10abeeb88a3",
   "metadata": {},
   "outputs": [
    {
     "name": "stderr",
     "output_type": "stream",
     "text": [
      "\u001b[32mSimulation progress ... 100%|████████████████████████████| Time: 0:00:00\u001b[39m\n"
     ]
    }
   ],
   "source": [
    "α = 1.18\n",
    "β = .4\n",
    "Q = 20 # Liczba państw\n",
    "nsims = 10000\n",
    "\n",
    "N_distr = Poisson(2000)\n",
    "M_distr = (N, α) -> Poisson.(N .^ α)\n",
    "p_distr = Uniform(.1,.75)\n",
    "\n",
    "res = Vector{Any}(missing, nsims)\n",
    "\n",
    "prog = Progress(10*Threads.nthreads(), \"Simulation progress ...\")\n",
    "\n",
    "Threads.@threads for i in 1:(10*Threads.nthreads())\n",
    "    Threads.threadid()\n",
    "    next!(prog)\n",
    "end # end for"
   ]
  },
  {
   "cell_type": "code",
   "execution_count": 3,
   "id": "963fc2e6-2e15-422b-a5ae-be3858f7cb5f",
   "metadata": {},
   "outputs": [
    {
     "name": "stderr",
     "output_type": "stream",
     "text": [
      "\u001b[32mSimulation progress ... 100%|████████████████████████████| Time: 0:00:10\u001b[39m\n"
     ]
    }
   ],
   "source": [
    "prog = Progress(nsims, \"Simulation progress ...\")\n",
    "\n",
    "Threads.@threads for k in 1:nsims\n",
    "    N = reduce(vcat, rand.(Binomial.(rand(N_distr, Q), .1), 1))\n",
    "    M = reduce(vcat, rand.(M_distr(N, α), 1))\n",
    "    p = rand(p_distr, Q)\n",
    "    \n",
    "    m = reduce(vcat, rand.(Poisson.(M .* p), 1))\n",
    "    n = reduce(vcat, rand.(Binomial.(N, p), 1))\n",
    "\n",
    "    df1 = DataFrame(\n",
    "        y = m,\n",
    "        x1 = log.(N),\n",
    "        x2 = log.(n ./ N)\n",
    "    )\n",
    "\n",
    "    mm = glm(@formula(y ~ x1 + x2 + 0), df1, Poisson(), LogLink())\n",
    "    α̂₁, β̂₁ = coef(mm)\n",
    "\n",
    "    ols = lm(@formula(log(y) ~ x1 + x2 + 0), df1)\n",
    "    α̂₂, β̂₂ = coef(ols)\n",
    "\n",
    "    mle_1 = zhang_model(m, N, n; start = \"glm\")[1][4]\n",
    "    mle_2 = zhang_model(m, N, n; start = \"lm\")[1][4]\n",
    "\n",
    "    res[k] = [sum(M) sum(N .^ α) sum(N .^ α̂₁) sum(N .^ α̂₂) mle_1 mle_2]\n",
    "    #push!(res, [sum(M) sum(N .^ α) sum(N .^ α̂₁) sum(N .^ α̂₂)])\n",
    "    next!(prog)\n",
    "end # end for"
   ]
  },
  {
   "cell_type": "code",
   "execution_count": 4,
   "id": "8a3e11af-eb10-46bb-b881-bd742d8973c5",
   "metadata": {
    "scrolled": true
   },
   "outputs": [
    {
     "data": {
      "text/html": [
       "<div><div style = \"float: left;\"><span>6×7 DataFrame</span></div><div style = \"clear: both;\"></div></div><div class = \"data-frame\" style = \"overflow-x: scroll;\"><table class = \"data-frame\" style = \"margin-bottom: 6px;\"><thead><tr class = \"header\"><th class = \"rowNumber\" style = \"font-weight: bold; text-align: right;\">Row</th><th style = \"text-align: left;\">variable</th><th style = \"text-align: left;\">mean</th><th style = \"text-align: left;\">min</th><th style = \"text-align: left;\">median</th><th style = \"text-align: left;\">max</th><th style = \"text-align: left;\">nmissing</th><th style = \"text-align: left;\">eltype</th></tr><tr class = \"subheader headerLastRow\"><th class = \"rowNumber\" style = \"font-weight: bold; text-align: right;\"></th><th title = \"Symbol\" style = \"text-align: left;\">Symbol</th><th title = \"Float64\" style = \"text-align: left;\">Float64</th><th title = \"Float64\" style = \"text-align: left;\">Float64</th><th title = \"Float64\" style = \"text-align: left;\">Float64</th><th title = \"Float64\" style = \"text-align: left;\">Float64</th><th title = \"Int64\" style = \"text-align: left;\">Int64</th><th title = \"DataType\" style = \"text-align: left;\">DataType</th></tr></thead><tbody><tr><td class = \"rowNumber\" style = \"font-weight: bold; text-align: right;\">1</td><td style = \"text-align: left;\">actual</td><td style = \"text-align: right;\">10385.6</td><td style = \"text-align: right;\">9539.0</td><td style = \"text-align: right;\">10383.0</td><td style = \"text-align: right;\">11291.0</td><td style = \"text-align: right;\">0</td><td style = \"text-align: left;\">Float64</td></tr><tr><td class = \"rowNumber\" style = \"font-weight: bold; text-align: right;\">2</td><td style = \"text-align: left;\">expected</td><td style = \"text-align: right;\">10386.4</td><td style = \"text-align: right;\">9644.23</td><td style = \"text-align: right;\">10384.1</td><td style = \"text-align: right;\">11138.6</td><td style = \"text-align: right;\">0</td><td style = \"text-align: left;\">Float64</td></tr><tr><td class = \"rowNumber\" style = \"font-weight: bold; text-align: right;\">3</td><td style = \"text-align: left;\">glm_est</td><td style = \"text-align: right;\">10109.7</td><td style = \"text-align: right;\">7737.6</td><td style = \"text-align: right;\">10096.3</td><td style = \"text-align: right;\">12628.6</td><td style = \"text-align: right;\">0</td><td style = \"text-align: left;\">Float64</td></tr><tr><td class = \"rowNumber\" style = \"font-weight: bold; text-align: right;\">4</td><td style = \"text-align: left;\">ols_est</td><td style = \"text-align: right;\">10026.6</td><td style = \"text-align: right;\">7491.12</td><td style = \"text-align: right;\">10012.3</td><td style = \"text-align: right;\">13909.2</td><td style = \"text-align: right;\">0</td><td style = \"text-align: left;\">Float64</td></tr><tr><td class = \"rowNumber\" style = \"font-weight: bold; text-align: right;\">5</td><td style = \"text-align: left;\">mle_glm_start</td><td style = \"text-align: right;\">10075.4</td><td style = \"text-align: right;\">7635.48</td><td style = \"text-align: right;\">10064.9</td><td style = \"text-align: right;\">12928.9</td><td style = \"text-align: right;\">0</td><td style = \"text-align: left;\">Float64</td></tr><tr><td class = \"rowNumber\" style = \"font-weight: bold; text-align: right;\">6</td><td style = \"text-align: left;\">mle_lm_start</td><td style = \"text-align: right;\">10075.4</td><td style = \"text-align: right;\">7635.48</td><td style = \"text-align: right;\">10064.9</td><td style = \"text-align: right;\">12928.9</td><td style = \"text-align: right;\">0</td><td style = \"text-align: left;\">Float64</td></tr></tbody></table></div>"
      ],
      "text/latex": [
       "\\begin{tabular}{r|ccccccc}\n",
       "\t& variable & mean & min & median & max & nmissing & eltype\\\\\n",
       "\t\\hline\n",
       "\t& Symbol & Float64 & Float64 & Float64 & Float64 & Int64 & DataType\\\\\n",
       "\t\\hline\n",
       "\t1 & actual & 10385.6 & 9539.0 & 10383.0 & 11291.0 & 0 & Float64 \\\\\n",
       "\t2 & expected & 10386.4 & 9644.23 & 10384.1 & 11138.6 & 0 & Float64 \\\\\n",
       "\t3 & glm\\_est & 10109.7 & 7737.6 & 10096.3 & 12628.6 & 0 & Float64 \\\\\n",
       "\t4 & ols\\_est & 10026.6 & 7491.12 & 10012.3 & 13909.2 & 0 & Float64 \\\\\n",
       "\t5 & mle\\_glm\\_start & 10075.4 & 7635.48 & 10064.9 & 12928.9 & 0 & Float64 \\\\\n",
       "\t6 & mle\\_lm\\_start & 10075.4 & 7635.48 & 10064.9 & 12928.9 & 0 & Float64 \\\\\n",
       "\\end{tabular}\n"
      ],
      "text/plain": [
       "\u001b[1m6×7 DataFrame\u001b[0m\n",
       "\u001b[1m Row \u001b[0m│\u001b[1m variable      \u001b[0m\u001b[1m mean    \u001b[0m\u001b[1m min     \u001b[0m\u001b[1m median  \u001b[0m\u001b[1m max     \u001b[0m\u001b[1m nmissing \u001b[0m\u001b[1m eltype   \u001b[0m\n",
       "     │\u001b[90m Symbol        \u001b[0m\u001b[90m Float64 \u001b[0m\u001b[90m Float64 \u001b[0m\u001b[90m Float64 \u001b[0m\u001b[90m Float64 \u001b[0m\u001b[90m Int64    \u001b[0m\u001b[90m DataType \u001b[0m\n",
       "─────┼───────────────────────────────────────────────────────────────────────\n",
       "   1 │ actual         10385.6  9539.0   10383.0  11291.0         0  Float64\n",
       "   2 │ expected       10386.4  9644.23  10384.1  11138.6         0  Float64\n",
       "   3 │ glm_est        10109.7  7737.6   10096.3  12628.6         0  Float64\n",
       "   4 │ ols_est        10026.6  7491.12  10012.3  13909.2         0  Float64\n",
       "   5 │ mle_glm_start  10075.4  7635.48  10064.9  12928.9         0  Float64\n",
       "   6 │ mle_lm_start   10075.4  7635.48  10064.9  12928.9         0  Float64"
      ]
     },
     "execution_count": 4,
     "metadata": {},
     "output_type": "execute_result"
    }
   ],
   "source": [
    "df_res = DataFrame(reduce(vcat, [res[i] for i in 1:length(res) if isassigned(res, i)]), [\"actual\", \"expected\", \"glm_est\", \"ols_est\", \"mle_glm_start\", \"mle_lm_start\"])\n",
    "\n",
    "describe(df_res)"
   ]
  },
  {
   "cell_type": "code",
   "execution_count": 5,
   "id": "29c32fd2-6ebb-46f6-b3c9-abd6fcaf1a86",
   "metadata": {},
   "outputs": [
    {
     "data": {
      "text/html": [
       "<div><div style = \"float: left;\"><span>5×4 DataFrame</span></div><div style = \"clear: both;\"></div></div><div class = \"data-frame\" style = \"overflow-x: scroll;\"><table class = \"data-frame\" style = \"margin-bottom: 6px;\"><thead><tr class = \"header\"><th class = \"rowNumber\" style = \"font-weight: bold; text-align: right;\">Row</th><th style = \"text-align: left;\">rel_bias</th><th style = \"text-align: left;\">rel_mse</th><th style = \"text-align: left;\">rel_mae</th><th style = \"text-align: left;\">est</th></tr><tr class = \"subheader headerLastRow\"><th class = \"rowNumber\" style = \"font-weight: bold; text-align: right;\"></th><th title = \"Float64\" style = \"text-align: left;\">Float64</th><th title = \"Float64\" style = \"text-align: left;\">Float64</th><th title = \"Float64\" style = \"text-align: left;\">Float64</th><th title = \"String\" style = \"text-align: left;\">String</th></tr></thead><tbody><tr><td class = \"rowNumber\" style = \"font-weight: bold; text-align: right;\">1</td><td style = \"text-align: right;\">-0.000169505</td><td style = \"text-align: right;\">1.01479</td><td style = \"text-align: right;\">0.00791518</td><td style = \"text-align: left;\">Expected value</td></tr><tr><td class = \"rowNumber\" style = \"font-weight: bold; text-align: right;\">2</td><td style = \"text-align: right;\">0.0265683</td><td style = \"text-align: right;\">33.5616</td><td style = \"text-align: right;\">0.0457753</td><td style = \"text-align: left;\">glm</td></tr><tr><td class = \"rowNumber\" style = \"font-weight: bold; text-align: right;\">3</td><td style = \"text-align: right;\">0.0345757</td><td style = \"text-align: right;\">49.7021</td><td style = \"text-align: right;\">0.055824</td><td style = \"text-align: left;\">ols</td></tr><tr><td class = \"rowNumber\" style = \"font-weight: bold; text-align: right;\">4</td><td style = \"text-align: right;\">0.0298726</td><td style = \"text-align: right;\">39.6858</td><td style = \"text-align: right;\">0.0496614</td><td style = \"text-align: left;\">mle_glm_start</td></tr><tr><td class = \"rowNumber\" style = \"font-weight: bold; text-align: right;\">5</td><td style = \"text-align: right;\">0.0298726</td><td style = \"text-align: right;\">39.6858</td><td style = \"text-align: right;\">0.0496614</td><td style = \"text-align: left;\">mle_lm_start</td></tr></tbody></table></div>"
      ],
      "text/latex": [
       "\\begin{tabular}{r|cccc}\n",
       "\t& rel\\_bias & rel\\_mse & rel\\_mae & est\\\\\n",
       "\t\\hline\n",
       "\t& Float64 & Float64 & Float64 & String\\\\\n",
       "\t\\hline\n",
       "\t1 & -0.000169505 & 1.01479 & 0.00791518 & Expected value \\\\\n",
       "\t2 & 0.0265683 & 33.5616 & 0.0457753 & glm \\\\\n",
       "\t3 & 0.0345757 & 49.7021 & 0.055824 & ols \\\\\n",
       "\t4 & 0.0298726 & 39.6858 & 0.0496614 & mle\\_glm\\_start \\\\\n",
       "\t5 & 0.0298726 & 39.6858 & 0.0496614 & mle\\_lm\\_start \\\\\n",
       "\\end{tabular}\n"
      ],
      "text/plain": [
       "\u001b[1m5×4 DataFrame\u001b[0m\n",
       "\u001b[1m Row \u001b[0m│\u001b[1m rel_bias     \u001b[0m\u001b[1m rel_mse  \u001b[0m\u001b[1m rel_mae    \u001b[0m\u001b[1m est            \u001b[0m\n",
       "     │\u001b[90m Float64      \u001b[0m\u001b[90m Float64  \u001b[0m\u001b[90m Float64    \u001b[0m\u001b[90m String         \u001b[0m\n",
       "─────┼────────────────────────────────────────────────────\n",
       "   1 │ -0.000169505   1.01479  0.00791518  Expected value\n",
       "   2 │  0.0265683    33.5616   0.0457753   glm\n",
       "   3 │  0.0345757    49.7021   0.055824    ols\n",
       "   4 │  0.0298726    39.6858   0.0496614   mle_glm_start\n",
       "   5 │  0.0298726    39.6858   0.0496614   mle_lm_start"
      ]
     },
     "execution_count": 5,
     "metadata": {},
     "output_type": "execute_result"
    }
   ],
   "source": [
    "DataFrame(\n",
    "    rel_bias = [mean((df_res[:, 1] .- df_res[:, k]) ./ df_res[:, 1])        for k in 2:6],\n",
    "    rel_mse  = [mean(((df_res[:, 1] .- df_res[:, k]) .^ 2) ./ df_res[:, 1]) for k in 2:6],\n",
    "    rel_mae  = [mean(abs.(df_res[:, 1] .- df_res[:, k]) ./ df_res[:, 1])    for k in 2:6],\n",
    "    est      = [\"Expected value\", \"glm\", \"ols\", \"mle_glm_start\", \"mle_lm_start\"]\n",
    ")"
   ]
  },
  {
   "cell_type": "code",
   "execution_count": 7,
   "id": "53f7d738",
   "metadata": {},
   "outputs": [
    {
     "data": {
      "text/html": [
       "<div><div style = \"float: left;\"><span>5×7 DataFrame</span></div><div style = \"clear: both;\"></div></div><div class = \"data-frame\" style = \"overflow-x: scroll;\"><table class = \"data-frame\" style = \"margin-bottom: 6px;\"><thead><tr class = \"header\"><th class = \"rowNumber\" style = \"font-weight: bold; text-align: right;\">Row</th><th style = \"text-align: left;\">bias</th><th style = \"text-align: left;\">mse</th><th style = \"text-align: left;\">rmse</th><th style = \"text-align: left;\">var</th><th style = \"text-align: left;\">sd</th><th style = \"text-align: left;\">mae</th><th style = \"text-align: left;\">est</th></tr><tr class = \"subheader headerLastRow\"><th class = \"rowNumber\" style = \"font-weight: bold; text-align: right;\"></th><th title = \"Float64\" style = \"text-align: left;\">Float64</th><th title = \"Float64\" style = \"text-align: left;\">Float64</th><th title = \"Float64\" style = \"text-align: left;\">Float64</th><th title = \"Float64\" style = \"text-align: left;\">Float64</th><th title = \"Float64\" style = \"text-align: left;\">Float64</th><th title = \"Float64\" style = \"text-align: left;\">Float64</th><th title = \"String\" style = \"text-align: left;\">String</th></tr></thead><tbody><tr><td class = \"rowNumber\" style = \"font-weight: bold; text-align: right;\">1</td><td style = \"text-align: right;\">-0.00076667</td><td style = \"text-align: right;\">10.5339</td><td style = \"text-align: right;\">3.24559</td><td style = \"text-align: right;\">0.0372891</td><td style = \"text-align: right;\">0.193104</td><td style = \"text-align: right;\">0.0821635</td><td style = \"text-align: left;\">Expected value</td></tr><tr><td class = \"rowNumber\" style = \"font-weight: bold; text-align: right;\">2</td><td style = \"text-align: right;\">0.275946</td><td style = \"text-align: right;\">348.589</td><td style = \"text-align: right;\">18.6705</td><td style = \"text-align: right;\">0.316884</td><td style = \"text-align: right;\">0.562924</td><td style = \"text-align: right;\">0.47536</td><td style = \"text-align: left;\">glm</td></tr><tr><td class = \"rowNumber\" style = \"font-weight: bold; text-align: right;\">3</td><td style = \"text-align: right;\">0.359076</td><td style = \"text-align: right;\">516.281</td><td style = \"text-align: right;\">22.7218</td><td style = \"text-align: right;\">0.431709</td><td style = \"text-align: right;\">0.657045</td><td style = \"text-align: right;\">0.579754</td><td style = \"text-align: left;\">ols</td></tr><tr><td class = \"rowNumber\" style = \"font-weight: bold; text-align: right;\">4</td><td style = \"text-align: right;\">0.310269</td><td style = \"text-align: right;\">412.235</td><td style = \"text-align: right;\">20.3036</td><td style = \"text-align: right;\">0.359972</td><td style = \"text-align: right;\">0.599977</td><td style = \"text-align: right;\">0.515746</td><td style = \"text-align: left;\">mle_glm_start</td></tr><tr><td class = \"rowNumber\" style = \"font-weight: bold; text-align: right;\">5</td><td style = \"text-align: right;\">0.310269</td><td style = \"text-align: right;\">412.235</td><td style = \"text-align: right;\">20.3036</td><td style = \"text-align: right;\">0.359972</td><td style = \"text-align: right;\">0.599977</td><td style = \"text-align: right;\">0.515746</td><td style = \"text-align: left;\">mle_lm_start</td></tr></tbody></table></div>"
      ],
      "text/latex": [
       "\\begin{tabular}{r|ccccccc}\n",
       "\t& bias & mse & rmse & var & sd & mae & est\\\\\n",
       "\t\\hline\n",
       "\t& Float64 & Float64 & Float64 & Float64 & Float64 & Float64 & String\\\\\n",
       "\t\\hline\n",
       "\t1 & -0.00076667 & 10.5339 & 3.24559 & 0.0372891 & 0.193104 & 0.0821635 & Expected value \\\\\n",
       "\t2 & 0.275946 & 348.589 & 18.6705 & 0.316884 & 0.562924 & 0.47536 & glm \\\\\n",
       "\t3 & 0.359076 & 516.281 & 22.7218 & 0.431709 & 0.657045 & 0.579754 & ols \\\\\n",
       "\t4 & 0.310269 & 412.235 & 20.3036 & 0.359972 & 0.599977 & 0.515746 & mle\\_glm\\_start \\\\\n",
       "\t5 & 0.310269 & 412.235 & 20.3036 & 0.359972 & 0.599977 & 0.515746 & mle\\_lm\\_start \\\\\n",
       "\\end{tabular}\n"
      ],
      "text/plain": [
       "\u001b[1m5×7 DataFrame\u001b[0m\n",
       "\u001b[1m Row \u001b[0m│\u001b[1m bias        \u001b[0m\u001b[1m mse      \u001b[0m\u001b[1m rmse     \u001b[0m\u001b[1m var       \u001b[0m\u001b[1m sd       \u001b[0m\u001b[1m mae       \u001b[0m\u001b[1m est   \u001b[0m ⋯\n",
       "     │\u001b[90m Float64     \u001b[0m\u001b[90m Float64  \u001b[0m\u001b[90m Float64  \u001b[0m\u001b[90m Float64   \u001b[0m\u001b[90m Float64  \u001b[0m\u001b[90m Float64   \u001b[0m\u001b[90m String\u001b[0m ⋯\n",
       "─────┼──────────────────────────────────────────────────────────────────────────\n",
       "   1 │ -0.00076667   10.5339   3.24559  0.0372891  0.193104  0.0821635  Expect ⋯\n",
       "   2 │  0.275946    348.589   18.6705   0.316884   0.562924  0.47536    glm\n",
       "   3 │  0.359076    516.281   22.7218   0.431709   0.657045  0.579754   ols\n",
       "   4 │  0.310269    412.235   20.3036   0.359972   0.599977  0.515746   mle_gl\n",
       "   5 │  0.310269    412.235   20.3036   0.359972   0.599977  0.515746   mle_lm ⋯\n",
       "\u001b[36m                                                                1 column omitted\u001b[0m"
      ]
     },
     "execution_count": 7,
     "metadata": {},
     "output_type": "execute_result"
    }
   ],
   "source": [
    "DataFrame(\n",
    "    bias  = [mean((df_res[:, 1] .- df_res[:, k]) ./ 1000)        for k in 2:6],\n",
    "    mse   = [mean(((df_res[:, 1] .- df_res[:, k]) .^ 2) ./ 1000) for k in 2:6],\n",
    "    rmse  = [sqrt(mean(((df_res[:, 1] .- df_res[:, k]) .^ 2) ./ 1000)) for k in 2:6],\n",
    "    var   = [var(df_res[:, k] / 1000) for k in 2:6],\n",
    "    sd    = [std(df_res[:, k] / 1000) for k in 2:6],\n",
    "    mae   = [mean(abs.(df_res[:, 1] .- df_res[:, k]) ./ 1000)    for k in 2:6],\n",
    "    est   = [\"Expected value\", \"glm\", \"ols\", \"mle_glm_start\", \"mle_lm_start\"]\n",
    ")"
   ]
  },
  {
   "cell_type": "code",
   "execution_count": 8,
   "id": "635091b2-efc6-48b9-ba3d-83a0220c0eb6",
   "metadata": {},
   "outputs": [],
   "source": [
    "CSV.write(pwd() * \"/data_raw/init_res.csv\", df_res);"
   ]
  },
  {
   "cell_type": "markdown",
   "id": "57614283-ff59-42e0-9cfa-f202038c40ff",
   "metadata": {},
   "source": [
    "### Higher population"
   ]
  },
  {
   "cell_type": "code",
   "execution_count": 9,
   "id": "1d7bbd83-df7c-44a9-b08b-aace1353d77f",
   "metadata": {
    "scrolled": true
   },
   "outputs": [
    {
     "name": "stderr",
     "output_type": "stream",
     "text": [
      "\u001b[32mSimulation progress ... 100%|████████████████████████████| Time: 0:00:03\u001b[39m\n"
     ]
    },
    {
     "data": {
      "text/html": [
       "<div><div style = \"float: left;\"><span>6×7 DataFrame</span></div><div style = \"clear: both;\"></div></div><div class = \"data-frame\" style = \"overflow-x: scroll;\"><table class = \"data-frame\" style = \"margin-bottom: 6px;\"><thead><tr class = \"header\"><th class = \"rowNumber\" style = \"font-weight: bold; text-align: right;\">Row</th><th style = \"text-align: left;\">variable</th><th style = \"text-align: left;\">mean</th><th style = \"text-align: left;\">min</th><th style = \"text-align: left;\">median</th><th style = \"text-align: left;\">max</th><th style = \"text-align: left;\">nmissing</th><th style = \"text-align: left;\">eltype</th></tr><tr class = \"subheader headerLastRow\"><th class = \"rowNumber\" style = \"font-weight: bold; text-align: right;\"></th><th title = \"Symbol\" style = \"text-align: left;\">Symbol</th><th title = \"Float64\" style = \"text-align: left;\">Float64</th><th title = \"Float64\" style = \"text-align: left;\">Float64</th><th title = \"Float64\" style = \"text-align: left;\">Float64</th><th title = \"Float64\" style = \"text-align: left;\">Float64</th><th title = \"Int64\" style = \"text-align: left;\">Int64</th><th title = \"DataType\" style = \"text-align: left;\">DataType</th></tr></thead><tbody><tr><td class = \"rowNumber\" style = \"font-weight: bold; text-align: right;\">1</td><td style = \"text-align: left;\">actual</td><td style = \"text-align: right;\">6.03295e5</td><td style = \"text-align: right;\">552533.0</td><td style = \"text-align: right;\">603318.0</td><td style = \"text-align: right;\">666878.0</td><td style = \"text-align: right;\">0</td><td style = \"text-align: left;\">Float64</td></tr><tr><td class = \"rowNumber\" style = \"font-weight: bold; text-align: right;\">2</td><td style = \"text-align: left;\">expected</td><td style = \"text-align: right;\">6.03301e5</td><td style = \"text-align: right;\">5.52508e5</td><td style = \"text-align: right;\">6.0332e5</td><td style = \"text-align: right;\">6.66694e5</td><td style = \"text-align: right;\">0</td><td style = \"text-align: left;\">Float64</td></tr><tr><td class = \"rowNumber\" style = \"font-weight: bold; text-align: right;\">3</td><td style = \"text-align: left;\">glm_est</td><td style = \"text-align: right;\">5.40564e5</td><td style = \"text-align: right;\">76104.5</td><td style = \"text-align: right;\">5.21386e5</td><td style = \"text-align: right;\">2.21917e6</td><td style = \"text-align: right;\">0</td><td style = \"text-align: left;\">Float64</td></tr><tr><td class = \"rowNumber\" style = \"font-weight: bold; text-align: right;\">4</td><td style = \"text-align: left;\">ols_est</td><td style = \"text-align: right;\">5.41198e5</td><td style = \"text-align: right;\">76830.3</td><td style = \"text-align: right;\">5.21469e5</td><td style = \"text-align: right;\">2.37782e6</td><td style = \"text-align: right;\">0</td><td style = \"text-align: left;\">Float64</td></tr><tr><td class = \"rowNumber\" style = \"font-weight: bold; text-align: right;\">5</td><td style = \"text-align: left;\">mle_glm_start</td><td style = \"text-align: right;\">5.4115e5</td><td style = \"text-align: right;\">75757.0</td><td style = \"text-align: right;\">5.21319e5</td><td style = \"text-align: right;\">2.38386e6</td><td style = \"text-align: right;\">0</td><td style = \"text-align: left;\">Float64</td></tr><tr><td class = \"rowNumber\" style = \"font-weight: bold; text-align: right;\">6</td><td style = \"text-align: left;\">mle_lm_start</td><td style = \"text-align: right;\">5.4115e5</td><td style = \"text-align: right;\">75757.0</td><td style = \"text-align: right;\">5.21319e5</td><td style = \"text-align: right;\">2.38386e6</td><td style = \"text-align: right;\">0</td><td style = \"text-align: left;\">Float64</td></tr></tbody></table></div>"
      ],
      "text/latex": [
       "\\begin{tabular}{r|ccccccc}\n",
       "\t& variable & mean & min & median & max & nmissing & eltype\\\\\n",
       "\t\\hline\n",
       "\t& Symbol & Float64 & Float64 & Float64 & Float64 & Int64 & DataType\\\\\n",
       "\t\\hline\n",
       "\t1 & actual & 6.03295e5 & 552533.0 & 603318.0 & 666878.0 & 0 & Float64 \\\\\n",
       "\t2 & expected & 6.03301e5 & 5.52508e5 & 6.0332e5 & 6.66694e5 & 0 & Float64 \\\\\n",
       "\t3 & glm\\_est & 5.40564e5 & 76104.5 & 5.21386e5 & 2.21917e6 & 0 & Float64 \\\\\n",
       "\t4 & ols\\_est & 5.41198e5 & 76830.3 & 5.21469e5 & 2.37782e6 & 0 & Float64 \\\\\n",
       "\t5 & mle\\_glm\\_start & 5.4115e5 & 75757.0 & 5.21319e5 & 2.38386e6 & 0 & Float64 \\\\\n",
       "\t6 & mle\\_lm\\_start & 5.4115e5 & 75757.0 & 5.21319e5 & 2.38386e6 & 0 & Float64 \\\\\n",
       "\\end{tabular}\n"
      ],
      "text/plain": [
       "\u001b[1m6×7 DataFrame\u001b[0m\n",
       "\u001b[1m Row \u001b[0m│\u001b[1m variable      \u001b[0m\u001b[1m mean      \u001b[0m\u001b[1m min            \u001b[0m\u001b[1m median         \u001b[0m\u001b[1m max          \u001b[0m ⋯\n",
       "     │\u001b[90m Symbol        \u001b[0m\u001b[90m Float64   \u001b[0m\u001b[90m Float64        \u001b[0m\u001b[90m Float64        \u001b[0m\u001b[90m Float64      \u001b[0m ⋯\n",
       "─────┼──────────────────────────────────────────────────────────────────────────\n",
       "   1 │ actual         6.03295e5  552533.0        603318.0        666878.0      ⋯\n",
       "   2 │ expected       6.03301e5       5.52508e5       6.0332e5        6.66694e\n",
       "   3 │ glm_est        5.40564e5   76104.5             5.21386e5       2.21917e\n",
       "   4 │ ols_est        5.41198e5   76830.3             5.21469e5       2.37782e\n",
       "   5 │ mle_glm_start  5.4115e5    75757.0             5.21319e5       2.38386e ⋯\n",
       "   6 │ mle_lm_start   5.4115e5    75757.0             5.21319e5       2.38386e\n",
       "\u001b[36m                                                               3 columns omitted\u001b[0m"
      ]
     },
     "execution_count": 9,
     "metadata": {},
     "output_type": "execute_result"
    }
   ],
   "source": [
    "α = 1.7\n",
    "β = 1.5\n",
    "Q = 7 # Liczba państw\n",
    "nsims = 10000\n",
    "\n",
    "N_distr = Poisson(8000)\n",
    "M_distr = (N, α) -> Poisson.(N .^ α)\n",
    "p_distr = Uniform(.1,.25)\n",
    "\n",
    "res = Vector{Any}(missing, nsims)\n",
    "\n",
    "prog = Progress(nsims, \"Simulation progress ...\")\n",
    "\n",
    "Threads.@threads for k in 1:nsims\n",
    "    N = reduce(vcat, rand.(Binomial.(rand(N_distr, Q), .1), 1))\n",
    "    M = reduce(vcat, rand.(M_distr(N, α), 1))\n",
    "    p = rand(p_distr, Q)\n",
    "    \n",
    "    m = reduce(vcat, rand.(Poisson.(M .* p), 1))\n",
    "    n = reduce(vcat, rand.(Binomial.(N, p), 1))\n",
    "\n",
    "    df1 = DataFrame(\n",
    "        y = m,\n",
    "        x1 = log.(N),\n",
    "        x2 = log.(n ./ N)\n",
    "    )\n",
    "\n",
    "    mm = glm(@formula(y ~ x1 + x2 + 0), df1, Poisson(), LogLink())\n",
    "    α̂₁, β̂₁ = coef(mm)\n",
    "\n",
    "    ols = lm(@formula(log(y) ~ x1 + x2 + 0), df1)\n",
    "    α̂₂, β̂₂ = coef(ols)\n",
    "    \n",
    "    mle_1 = zhang_model(m, N, n; start = \"glm\")[1][4]\n",
    "    mle_2 = zhang_model(m, N, n; start = \"lm\")[1][4]\n",
    "\n",
    "    res[k] = [sum(M) sum(N .^ α) sum(N .^ α̂₁) sum(N .^ α̂₂) mle_1 mle_2]\n",
    "    #push!(res, [sum(M) sum(N .^ α) sum(N .^ α̂₁) sum(N .^ α̂₂)])\n",
    "    next!(prog)\n",
    "end # end for\n",
    "\n",
    "df_res = DataFrame(reduce(vcat, [res[i] for i in 1:length(res) if isassigned(res, i)]), [\"actual\", \"expected\", \"glm_est\", \"ols_est\", \"mle_glm_start\", \"mle_lm_start\"])\n",
    "\n",
    "describe(df_res)"
   ]
  },
  {
   "cell_type": "code",
   "execution_count": 10,
   "id": "148c0319-5821-47b5-be04-dd055d0f2575",
   "metadata": {},
   "outputs": [
    {
     "data": {
      "text/html": [
       "<div><div style = \"float: left;\"><span>5×4 DataFrame</span></div><div style = \"clear: both;\"></div></div><div class = \"data-frame\" style = \"overflow-x: scroll;\"><table class = \"data-frame\" style = \"margin-bottom: 6px;\"><thead><tr class = \"header\"><th class = \"rowNumber\" style = \"font-weight: bold; text-align: right;\">Row</th><th style = \"text-align: left;\">rel_bias</th><th style = \"text-align: left;\">rel_mse</th><th style = \"text-align: left;\">rel_mae</th><th style = \"text-align: left;\">est</th></tr><tr class = \"subheader headerLastRow\"><th class = \"rowNumber\" style = \"font-weight: bold; text-align: right;\"></th><th title = \"Float64\" style = \"text-align: left;\">Float64</th><th title = \"Float64\" style = \"text-align: left;\">Float64</th><th title = \"Float64\" style = \"text-align: left;\">Float64</th><th title = \"String\" style = \"text-align: left;\">String</th></tr></thead><tbody><tr><td class = \"rowNumber\" style = \"font-weight: bold; text-align: right;\">1</td><td style = \"text-align: right;\">-1.22167e-5</td><td style = \"text-align: right;\">1.01319</td><td style = \"text-align: right;\">0.00103183</td><td style = \"text-align: left;\">Expected value</td></tr><tr><td class = \"rowNumber\" style = \"font-weight: bold; text-align: right;\">2</td><td style = \"text-align: right;\">0.104025</td><td style = \"text-align: right;\">34708.4</td><td style = \"text-align: right;\">0.192399</td><td style = \"text-align: left;\">glm</td></tr><tr><td class = \"rowNumber\" style = \"font-weight: bold; text-align: right;\">3</td><td style = \"text-align: right;\">0.102981</td><td style = \"text-align: right;\">36050.7</td><td style = \"text-align: right;\">0.19624</td><td style = \"text-align: left;\">ols</td></tr><tr><td class = \"rowNumber\" style = \"font-weight: bold; text-align: right;\">4</td><td style = \"text-align: right;\">0.103062</td><td style = \"text-align: right;\">36019.4</td><td style = \"text-align: right;\">0.196201</td><td style = \"text-align: left;\">mle_glm_start</td></tr><tr><td class = \"rowNumber\" style = \"font-weight: bold; text-align: right;\">5</td><td style = \"text-align: right;\">0.103062</td><td style = \"text-align: right;\">36019.4</td><td style = \"text-align: right;\">0.196201</td><td style = \"text-align: left;\">mle_lm_start</td></tr></tbody></table></div>"
      ],
      "text/latex": [
       "\\begin{tabular}{r|cccc}\n",
       "\t& rel\\_bias & rel\\_mse & rel\\_mae & est\\\\\n",
       "\t\\hline\n",
       "\t& Float64 & Float64 & Float64 & String\\\\\n",
       "\t\\hline\n",
       "\t1 & -1.22167e-5 & 1.01319 & 0.00103183 & Expected value \\\\\n",
       "\t2 & 0.104025 & 34708.4 & 0.192399 & glm \\\\\n",
       "\t3 & 0.102981 & 36050.7 & 0.19624 & ols \\\\\n",
       "\t4 & 0.103062 & 36019.4 & 0.196201 & mle\\_glm\\_start \\\\\n",
       "\t5 & 0.103062 & 36019.4 & 0.196201 & mle\\_lm\\_start \\\\\n",
       "\\end{tabular}\n"
      ],
      "text/plain": [
       "\u001b[1m5×4 DataFrame\u001b[0m\n",
       "\u001b[1m Row \u001b[0m│\u001b[1m rel_bias    \u001b[0m\u001b[1m rel_mse     \u001b[0m\u001b[1m rel_mae    \u001b[0m\u001b[1m est            \u001b[0m\n",
       "     │\u001b[90m Float64     \u001b[0m\u001b[90m Float64     \u001b[0m\u001b[90m Float64    \u001b[0m\u001b[90m String         \u001b[0m\n",
       "─────┼──────────────────────────────────────────────────────\n",
       "   1 │ -1.22167e-5      1.01319  0.00103183  Expected value\n",
       "   2 │  0.104025    34708.4      0.192399    glm\n",
       "   3 │  0.102981    36050.7      0.19624     ols\n",
       "   4 │  0.103062    36019.4      0.196201    mle_glm_start\n",
       "   5 │  0.103062    36019.4      0.196201    mle_lm_start"
      ]
     },
     "execution_count": 10,
     "metadata": {},
     "output_type": "execute_result"
    }
   ],
   "source": [
    "DataFrame(\n",
    "    rel_bias = [mean((df_res[:, 1] .- df_res[:, k]) ./ df_res[:, 1])        for k in 2:6],\n",
    "    rel_mse  = [mean(((df_res[:, 1] .- df_res[:, k]) .^ 2) ./ df_res[:, 1]) for k in 2:6],\n",
    "    rel_mae  = [mean(abs.(df_res[:, 1] .- df_res[:, k]) ./ df_res[:, 1])    for k in 2:6],\n",
    "    est      = [\"Expected value\", \"glm\", \"ols\", \"mle_glm_start\", \"mle_lm_start\"]\n",
    ")"
   ]
  },
  {
   "cell_type": "code",
   "execution_count": 11,
   "id": "411f49b8-599e-42b0-b06c-e9ce703fa695",
   "metadata": {},
   "outputs": [
    {
     "data": {
      "text/html": [
       "<div><div style = \"float: left;\"><span>5×7 DataFrame</span></div><div style = \"clear: both;\"></div></div><div class = \"data-frame\" style = \"overflow-x: scroll;\"><table class = \"data-frame\" style = \"margin-bottom: 6px;\"><thead><tr class = \"header\"><th class = \"rowNumber\" style = \"font-weight: bold; text-align: right;\">Row</th><th style = \"text-align: left;\">bias</th><th style = \"text-align: left;\">mse</th><th style = \"text-align: left;\">rmse</th><th style = \"text-align: left;\">var</th><th style = \"text-align: left;\">sd</th><th style = \"text-align: left;\">mae</th><th style = \"text-align: left;\">est</th></tr><tr class = \"subheader headerLastRow\"><th class = \"rowNumber\" style = \"font-weight: bold; text-align: right;\"></th><th title = \"Float64\" style = \"text-align: left;\">Float64</th><th title = \"Float64\" style = \"text-align: left;\">Float64</th><th title = \"Float64\" style = \"text-align: left;\">Float64</th><th title = \"Float64\" style = \"text-align: left;\">Float64</th><th title = \"Float64\" style = \"text-align: left;\">Float64</th><th title = \"Float64\" style = \"text-align: left;\">Float64</th><th title = \"String\" style = \"text-align: left;\">String</th></tr></thead><tbody><tr><td class = \"rowNumber\" style = \"font-weight: bold; text-align: right;\">1</td><td style = \"text-align: right;\">-0.00609831</td><td style = \"text-align: right;\">611.385</td><td style = \"text-align: right;\">24.7262</td><td style = \"text-align: right;\">188.862</td><td style = \"text-align: right;\">13.7427</td><td style = \"text-align: right;\">0.622393</td><td style = \"text-align: left;\">Expected value</td></tr><tr><td class = \"rowNumber\" style = \"font-weight: bold; text-align: right;\">2</td><td style = \"text-align: right;\">62.731</td><td style = \"text-align: right;\">2.09541e7</td><td style = \"text-align: right;\">4577.57</td><td style = \"text-align: right;\">17203.6</td><td style = \"text-align: right;\">131.162</td><td style = \"text-align: right;\">116.048</td><td style = \"text-align: left;\">glm</td></tr><tr><td class = \"rowNumber\" style = \"font-weight: bold; text-align: right;\">3</td><td style = \"text-align: right;\">62.0973</td><td style = \"text-align: right;\">2.17649e7</td><td style = \"text-align: right;\">4665.29</td><td style = \"text-align: right;\">18097.9</td><td style = \"text-align: right;\">134.529</td><td style = \"text-align: right;\">118.368</td><td style = \"text-align: left;\">ols</td></tr><tr><td class = \"rowNumber\" style = \"font-weight: bold; text-align: right;\">4</td><td style = \"text-align: right;\">62.1453</td><td style = \"text-align: right;\">2.17452e7</td><td style = \"text-align: right;\">4663.18</td><td style = \"text-align: right;\">18073.2</td><td style = \"text-align: right;\">134.437</td><td style = \"text-align: right;\">118.343</td><td style = \"text-align: left;\">mle_glm_start</td></tr><tr><td class = \"rowNumber\" style = \"font-weight: bold; text-align: right;\">5</td><td style = \"text-align: right;\">62.1453</td><td style = \"text-align: right;\">2.17452e7</td><td style = \"text-align: right;\">4663.18</td><td style = \"text-align: right;\">18073.2</td><td style = \"text-align: right;\">134.437</td><td style = \"text-align: right;\">118.343</td><td style = \"text-align: left;\">mle_lm_start</td></tr></tbody></table></div>"
      ],
      "text/latex": [
       "\\begin{tabular}{r|ccccccc}\n",
       "\t& bias & mse & rmse & var & sd & mae & est\\\\\n",
       "\t\\hline\n",
       "\t& Float64 & Float64 & Float64 & Float64 & Float64 & Float64 & String\\\\\n",
       "\t\\hline\n",
       "\t1 & -0.00609831 & 611.385 & 24.7262 & 188.862 & 13.7427 & 0.622393 & Expected value \\\\\n",
       "\t2 & 62.731 & 2.09541e7 & 4577.57 & 17203.6 & 131.162 & 116.048 & glm \\\\\n",
       "\t3 & 62.0973 & 2.17649e7 & 4665.29 & 18097.9 & 134.529 & 118.368 & ols \\\\\n",
       "\t4 & 62.1453 & 2.17452e7 & 4663.18 & 18073.2 & 134.437 & 118.343 & mle\\_glm\\_start \\\\\n",
       "\t5 & 62.1453 & 2.17452e7 & 4663.18 & 18073.2 & 134.437 & 118.343 & mle\\_lm\\_start \\\\\n",
       "\\end{tabular}\n"
      ],
      "text/plain": [
       "\u001b[1m5×7 DataFrame\u001b[0m\n",
       "\u001b[1m Row \u001b[0m│\u001b[1m bias        \u001b[0m\u001b[1m mse         \u001b[0m\u001b[1m rmse      \u001b[0m\u001b[1m var       \u001b[0m\u001b[1m sd       \u001b[0m\u001b[1m mae        \u001b[0m\u001b[1m e\u001b[0m ⋯\n",
       "     │\u001b[90m Float64     \u001b[0m\u001b[90m Float64     \u001b[0m\u001b[90m Float64   \u001b[0m\u001b[90m Float64   \u001b[0m\u001b[90m Float64  \u001b[0m\u001b[90m Float64    \u001b[0m\u001b[90m S\u001b[0m ⋯\n",
       "─────┼──────────────────────────────────────────────────────────────────────────\n",
       "   1 │ -0.00609831  611.385        24.7262    188.862   13.7427    0.622393  E ⋯\n",
       "   2 │ 62.731         2.09541e7  4577.57    17203.6    131.162   116.048     g\n",
       "   3 │ 62.0973        2.17649e7  4665.29    18097.9    134.529   118.368     o\n",
       "   4 │ 62.1453        2.17452e7  4663.18    18073.2    134.437   118.343     m\n",
       "   5 │ 62.1453        2.17452e7  4663.18    18073.2    134.437   118.343     m ⋯\n",
       "\u001b[36m                                                                1 column omitted\u001b[0m"
      ]
     },
     "execution_count": 11,
     "metadata": {},
     "output_type": "execute_result"
    }
   ],
   "source": [
    "DataFrame(\n",
    "    bias  = [mean((df_res[:, 1] .- df_res[:, k]) ./ 1000)        for k in 2:6],\n",
    "    mse   = [mean(((df_res[:, 1] .- df_res[:, k]) .^ 2) ./ 1000) for k in 2:6],\n",
    "    rmse  = [sqrt(mean(((df_res[:, 1] .- df_res[:, k]) .^ 2) ./ 1000)) for k in 2:6],\n",
    "    var   = [var(df_res[:, k] / 1000) for k in 2:6],\n",
    "    sd    = [std(df_res[:, k] / 1000) for k in 2:6],\n",
    "    mae   = [mean(abs.(df_res[:, 1] .- df_res[:, k]) ./ 1000)    for k in 2:6],\n",
    "    est   = [\"Expected value\", \"glm\", \"ols\", \"mle_glm_start\", \"mle_lm_start\"]\n",
    ")"
   ]
  },
  {
   "cell_type": "code",
   "execution_count": 12,
   "id": "2112b305-5a55-4e03-98e9-ec3cf3e56518",
   "metadata": {},
   "outputs": [],
   "source": [
    "CSV.write(pwd() * \"/data_raw/init_res_1.csv\", df_res);"
   ]
  }
 ],
 "metadata": {
  "kernelspec": {
   "display_name": "Julia 1.10.2",
   "language": "julia",
   "name": "julia-1.10"
  },
  "language_info": {
   "file_extension": ".jl",
   "mimetype": "application/julia",
   "name": "julia",
   "version": "1.10.2"
  }
 },
 "nbformat": 4,
 "nbformat_minor": 5
}

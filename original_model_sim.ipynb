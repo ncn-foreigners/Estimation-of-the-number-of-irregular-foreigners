{
 "cells": [
  {
   "cell_type": "markdown",
   "id": "0eb17a0f-d12c-4aa2-bd02-19e29b9e13a3",
   "metadata": {
    "editable": true,
    "slideshow": {
     "slide_type": ""
    },
    "tags": []
   },
   "source": [
    "Installing necessary packages:\n",
    "```Julia\n",
    "using Pkg\n",
    "\n",
    "Pkg.add([\"Random\", \"Distributions\", \"DataFrames\", \"GLM\", \"Statistics\", \"ProgressMeter\", \"Plots\", \"Turing])\n",
    "Pkg.add(url = \"https://github.com/ncn-foreigners/UnobservedCountEstimation.jl\")\n",
    "```"
   ]
  },
  {
   "cell_type": "code",
   "execution_count": 1,
   "id": "eec5ba31",
   "metadata": {},
   "outputs": [],
   "source": [
    "using Turing"
   ]
  },
  {
   "cell_type": "code",
   "execution_count": 2,
   "id": "06270c0e",
   "metadata": {},
   "outputs": [],
   "source": [
    "using Random, Distributions, DataFrames, GLM, Statistics, ProgressMeter, CSV, StatsBase, StatsPlots"
   ]
  },
  {
   "cell_type": "code",
   "execution_count": 12,
   "id": "957313b3-524d-4d09-8fc1-e10abeeb88a3",
   "metadata": {},
   "outputs": [
    {
     "name": "stdout",
     "output_type": "stream",
     "text": [
      "1 4 3 2 2 3 4 2 4 3 4 1 2 3 2 4 2 3 4 4 "
     ]
    }
   ],
   "source": [
    "α, β = rand(MvNormal([1.6, 2.4], .3 * [1 .5; .5 1]))\n",
    "Q = 20\n",
    "nsims = 10000\n",
    "\n",
    "N_distr = Poisson(700)\n",
    "M_distr = (N, α) -> Poisson.(N .^ α)\n",
    "u_distr = (n, N) -> Beta(n, N - n)\n",
    "#u_distr = (M, μ) -> Gamma(ϕ, 1 / ϕ)\n",
    "\n",
    "res = Vector{Any}(missing, nsims)\n",
    "\n",
    "prog = Progress(10*Threads.nthreads(), \"Simulation progress ...\")\n",
    "\n",
    "Threads.@threads for i in 1:(5*Threads.nthreads())\n",
    "    print(string(Threads.threadid()) * \" \")\n",
    "    next!(prog)\n",
    "end # end for"
   ]
  },
  {
   "cell_type": "code",
   "execution_count": 13,
   "id": "ff18c0af-1813-4b95-94ae-1e128d3ed691",
   "metadata": {},
   "outputs": [
    {
     "data": {
      "text/plain": [
       "(0.9902382173890572, 1.7093018837754483)"
      ]
     },
     "execution_count": 13,
     "metadata": {},
     "output_type": "execute_result"
    }
   ],
   "source": [
    "α, β"
   ]
  },
  {
   "cell_type": "markdown",
   "id": "45eb98e3",
   "metadata": {},
   "source": [
    "Testing `Trung.jl`"
   ]
  },
  {
   "cell_type": "code",
   "execution_count": 14,
   "id": "8d7e3f61",
   "metadata": {},
   "outputs": [
    {
     "data": {
      "text/plain": [
       "20×5 Matrix{Float64}:\n",
       " 669.0  677.0  38.0  700.0  0.98916\n",
       " 596.0  626.0  30.0  665.0  0.957972\n",
       " 638.0  649.0  37.0  680.0  0.987911\n",
       " 662.0  663.0  46.0  706.0  0.998012\n",
       " 641.0  666.0  31.0  687.0  0.961957\n",
       " 638.0  668.0  32.0  689.0  0.967806\n",
       " 622.0  628.0  40.0  685.0  0.993337\n",
       " 673.0  679.0  37.0  721.0  0.985539\n",
       " 671.0  688.0  35.0  708.0  0.97996\n",
       " 667.0  683.0  33.0  698.0  0.972179\n",
       " 612.0  653.0  29.0  715.0  0.942709\n",
       " 621.0  640.0  32.0  688.0  0.967917\n",
       " 648.0  653.0  37.0  654.0  0.989318\n",
       " 636.0  642.0  40.0  684.0  0.993372\n",
       " 658.0  684.0  31.0  710.0  0.959092\n",
       " 619.0  652.0  30.0  700.0  0.95317\n",
       " 673.0  690.0  33.0  690.0  0.972968\n",
       " 685.0  732.0  29.0  709.0  0.943621\n",
       " 542.0  647.0  21.0  716.0  0.833608\n",
       " 647.0  654.0  40.0  726.0  0.991835"
      ]
     },
     "execution_count": 14,
     "metadata": {},
     "output_type": "execute_result"
    }
   ],
   "source": [
    "N = rand.(N_distr, Q)\n",
    "M = reduce(vcat, rand.(M_distr(N, α), 1))\n",
    "n = reduce(vcat, rand.(Binomial.(N, .05), 1))\n",
    "\n",
    "p = (N .^ α) .* ((n ./ N) .^ β)\n",
    "p = 1 ./ (1 .+ exp.(-p))\n",
    "\n",
    "u = 1.0\n",
    "m = reduce(vcat, rand.(Binomial.(M, p * u), 1))\n",
    "\n",
    "[m M n N p]"
   ]
  },
  {
   "cell_type": "code",
   "execution_count": 16,
   "id": "f672e4ab",
   "metadata": {},
   "outputs": [
    {
     "data": {
      "text/plain": [
       "Chains MCMC chain (500×24×4 Array{Float64, 3}):\n",
       "\n",
       "Iterations        = 1:1:500\n",
       "Number of chains  = 4\n",
       "Samples per chain = 500\n",
       "Wall duration     = 203.04 seconds\n",
       "Compute duration  = 557.78 seconds\n",
       "parameters        = γ[1], γ[2], M[1], M[2], M[3], M[4], M[5], M[6], M[7], M[8], M[9], M[10], M[11], M[12], M[13], M[14], M[15], M[16], M[17], M[18], M[19], M[20]\n",
       "internals         = lp, logevidence\n",
       "\n",
       "Summary Statistics\n",
       " \u001b[1m parameters \u001b[0m \u001b[1m      mean \u001b[0m \u001b[1m     std \u001b[0m \u001b[1m    mcse \u001b[0m \u001b[1m ess_bulk \u001b[0m \u001b[1m ess_tail \u001b[0m \u001b[1m    rhat \u001b[0m \u001b[1m\u001b[0m ⋯\n",
       " \u001b[90m     Symbol \u001b[0m \u001b[90m   Float64 \u001b[0m \u001b[90m Float64 \u001b[0m \u001b[90m Float64 \u001b[0m \u001b[90m  Float64 \u001b[0m \u001b[90m  Float64 \u001b[0m \u001b[90m Float64 \u001b[0m \u001b[90m\u001b[0m ⋯\n",
       "\n",
       "        γ[1]      1.0803    0.0098    0.0030     7.3911        NaN    1.9009   ⋯\n",
       "        γ[2]      3.0257    0.2438    0.0880     9.9830    31.2019    1.8498   ⋯\n",
       "        M[1]   1194.1720   75.5468   25.9927     6.8740        NaN    1.7161   ⋯\n",
       "        M[2]   1117.9295   72.5972   22.6175     7.5991        NaN    1.5091   ⋯\n",
       "        M[3]   1151.5975   70.0275   20.0260    11.5770    11.0687    1.3946   ⋯\n",
       "        M[4]   1198.6520   84.9984   30.2134     7.3559        NaN    1.5702   ⋯\n",
       "        M[5]   1166.8120   68.0019   25.3993     6.7610        NaN    1.7570   ⋯\n",
       "        M[6]   1160.5720   66.7964   15.2218    14.2259     5.7697    1.9543   ⋯\n",
       "        M[7]   1151.2730   74.4610   17.1653    16.0792    13.1491    1.5771   ⋯\n",
       "        M[8]   1225.5560   86.5802   30.6437     6.8397        NaN    1.9229   ⋯\n",
       "        M[9]   1233.0835   72.6807   20.1325     7.1531        NaN    1.5553   ⋯\n",
       "       M[10]   1198.9535   83.1883   28.1278    11.7808    13.5034    1.5134   ⋯\n",
       "       M[11]   1217.8530   77.5753   25.1672     8.8690        NaN    1.4021   ⋯\n",
       "       M[12]   1161.7300   69.7378   23.3423     7.2069        NaN    1.6821   ⋯\n",
       "       M[13]   1115.2235   64.5564   20.2944     9.0193     5.4036    1.4073   ⋯\n",
       "       M[14]   1147.2875   73.2806   24.0584     8.8971    13.5034    1.5098   ⋯\n",
       "       M[15]   1204.8765   62.8858   17.7137     9.5228     5.4413    1.6001   ⋯\n",
       "       M[16]   1184.2230   77.9269   17.2180    20.6278    14.7566    1.1933   ⋯\n",
       "       M[17]   1175.4345   60.4676   13.1589    12.0962        NaN    1.6951   ⋯\n",
       "       M[18]   1200.4165   60.5210   17.4685     8.9293     5.7697    1.8233   ⋯\n",
       "       M[19]   1158.6740   59.6716   15.2430    13.1776    13.5034    1.2447   ⋯\n",
       "       M[20]   1226.1430   90.1486   25.5643    13.5139    11.0687    1.4463   ⋯\n",
       "\u001b[36m                                                                1 column omitted\u001b[0m\n",
       "\n",
       "Quantiles\n",
       " \u001b[1m parameters \u001b[0m \u001b[1m      2.5% \u001b[0m \u001b[1m     25.0% \u001b[0m \u001b[1m     50.0% \u001b[0m \u001b[1m     75.0% \u001b[0m \u001b[1m     97.5% \u001b[0m\n",
       " \u001b[90m     Symbol \u001b[0m \u001b[90m   Float64 \u001b[0m \u001b[90m   Float64 \u001b[0m \u001b[90m   Float64 \u001b[0m \u001b[90m   Float64 \u001b[0m \u001b[90m   Float64 \u001b[0m\n",
       "\n",
       "        γ[1]      1.0554      1.0724      1.0803      1.0881      1.0909\n",
       "        γ[2]      2.6581      2.8222      2.9819      3.3256      3.4383\n",
       "        M[1]   1041.0000   1117.0000   1189.0000   1274.0000   1277.0000\n",
       "        M[2]    973.0000   1087.0000   1137.0000   1171.0000   1195.0000\n",
       "        M[3]    977.0000   1098.0000   1176.0000   1216.0000   1237.0000\n",
       "        M[4]    991.0000   1145.0000   1204.0000   1261.0000   1307.0000\n",
       "        M[5]   1001.0000   1113.0000   1157.0000   1196.0000   1255.0000\n",
       "        M[6]    987.0000   1105.0000   1196.0000   1197.0000   1264.0000\n",
       "        M[7]   1020.0000   1103.0000   1175.0000   1208.0000   1250.0000\n",
       "        M[8]   1035.0000   1134.0000   1223.0000   1311.0000   1329.0000\n",
       "        M[9]    965.0000   1200.0000   1252.0000   1277.0000   1300.0000\n",
       "       M[10]    984.0000   1142.0000   1191.0000   1296.0000   1298.0000\n",
       "       M[11]   1060.0000   1165.0000   1231.0000   1298.0000   1302.0000\n",
       "       M[12]    995.0000   1112.0000   1160.0000   1220.0000   1245.0000\n",
       "       M[13]    945.0000   1077.0000   1134.0000   1165.0000   1182.0000\n",
       "       M[14]    985.0000   1114.0000   1146.0000   1230.0000   1232.0000\n",
       "       M[15]   1010.0000   1174.0000   1200.0000   1257.0000   1269.0000\n",
       "       M[16]   1029.0000   1116.0000   1194.0000   1241.0000   1295.0000\n",
       "       M[17]    996.0000   1157.0000   1179.0000   1209.0000   1261.0000\n",
       "       M[18]   1033.0000   1161.0000   1215.0000   1244.0000   1306.0000\n",
       "       M[19]   1041.0000   1101.0000   1178.0000   1191.0000   1265.0000\n",
       "       M[20]   1082.0000   1157.0000   1254.0000   1316.0000   1367.0000\n"
      ]
     },
     "execution_count": 16,
     "metadata": {},
     "output_type": "execute_result"
    }
   ],
   "source": [
    "@model function binomial_model(m, n, N)\n",
    "    γ ~ MvNormal([1.6, 2.4], .3 * [1 .5; .5 1])\n",
    "    ξ = N .^ γ[1]\n",
    "    μ = ξ .* ((n ./ N) .^ γ[2])\n",
    "    μ = 1 ./ (1 .+ exp.(-μ))\n",
    "    M = Vector(undef, length(m))\n",
    "    \n",
    "    for i in eachindex(M)\n",
    "        M[i] ~ Poisson(ξ[i])\n",
    "    end\n",
    "\n",
    "    for i in eachindex(m)\n",
    "        m[i] ~ Binomial(M[i], μ[i])\n",
    "    end\n",
    "    return m\n",
    "end\n",
    "\n",
    "chains_1 = sample(binomial_model(m, n, N), PG(100), MCMCThreads(), 500, 4)"
   ]
  },
  {
   "cell_type": "code",
   "execution_count": 17,
   "id": "b789dd87",
   "metadata": {},
   "outputs": [
    {
     "data": {
      "text/plain": [
       "5-element Vector{Any}:\n",
       " 0.9902382173890572\n",
       " 1.7093018837754483\n",
       "  [656.6361848299803 624.1168013773231 … 671.4968535286756 680.783120714251]\n",
       "  [677, 626, 649, 663, 666, 668, 628, 679, 688, 683, 653, 640, 653, 642, 684, 652, 690, 732, 647, 654]\n",
       "  [1194.172, 1117.9295, 1151.5975, 1198.652, 1166.812, 1160.572, 1151.273, 1225.556, 1233.0835, 1198.9535, 1217.853, 1161.73, 1115.2235, 1147.2875, 1204.8765, 1184.223, 1175.4345, 1200.4165, 1158.674, 1226.143]"
      ]
     },
     "execution_count": 17,
     "metadata": {},
     "output_type": "execute_result"
    }
   ],
   "source": [
    "[α, β, (N .^ α)', M, describe(chains_1[1:end,:,:])[1][3:end, :mean]]"
   ]
  },
  {
   "cell_type": "code",
   "execution_count": 18,
   "id": "158c3592",
   "metadata": {},
   "outputs": [
    {
     "name": "stderr",
     "output_type": "stream",
     "text": [
      "\u001b[36m\u001b[1m[ \u001b[22m\u001b[39m\u001b[36m\u001b[1mInfo: \u001b[22m\u001b[39m[Turing]: progress logging is disabled globally\n",
      "\u001b[36m\u001b[1m[ \u001b[22m\u001b[39m\u001b[36m\u001b[1mInfo: \u001b[22m\u001b[39m[AdvancedVI]: global PROGRESS is set as false\n"
     ]
    },
    {
     "data": {
      "text/plain": [
       "false"
      ]
     },
     "execution_count": 18,
     "metadata": {},
     "output_type": "execute_result"
    }
   ],
   "source": [
    "@model function binomial_model(m, n, N, μ, Σ)\n",
    "    γ ~ MvNormal(μ, Σ)\n",
    "    ξ = N .^ γ[1]\n",
    "    μ = ξ .* ((n ./ N) .^ γ[2])\n",
    "    μ = 1 ./ (1 .+ exp.(-μ))\n",
    "    M = Vector(undef, length(m))\n",
    "    \n",
    "    for i in eachindex(M)\n",
    "        M[i] ~ Poisson(ξ[i])\n",
    "    end\n",
    "\n",
    "    for i in eachindex(m)\n",
    "        m[i] ~ Binomial(M[i], μ[i])\n",
    "    end\n",
    "    return m\n",
    "end\n",
    "setprogress!(false)"
   ]
  },
  {
   "cell_type": "code",
   "execution_count": 36,
   "id": "963fc2e6-2e15-422b-a5ae-be3858f7cb5f",
   "metadata": {},
   "outputs": [
    {
     "name": "stderr",
     "output_type": "stream",
     "text": [
      "\u001b[32mSimulation progress ... 100%|████████████████████████████| Time: 5:42:53\u001b[39m\n"
     ]
    },
    {
     "ename": "LoadError",
     "evalue": "ArgumentError: 'Vector{Float64}' iterates 'Float64' values, which doesn't satisfy the Tables.jl `AbstractRow` interface",
     "output_type": "error",
     "traceback": [
      "ArgumentError: 'Vector{Float64}' iterates 'Float64' values, which doesn't satisfy the Tables.jl `AbstractRow` interface",
      "",
      "Stacktrace:",
      "  [1] invalidtable(::Vector{Float64}, ::Float64)",
      "    @ Tables ~/.julia/packages/Tables/NSGZI/src/tofromdatavalues.jl:41",
      "  [2] iterate",
      "    @ ~/.julia/packages/Tables/NSGZI/src/tofromdatavalues.jl:47 [inlined]",
      "  [3] buildcolumns",
      "    @ ~/.julia/packages/Tables/NSGZI/src/fallbacks.jl:209 [inlined]",
      "  [4] _columns",
      "    @ ~/.julia/packages/Tables/NSGZI/src/fallbacks.jl:274 [inlined]",
      "  [5] columns",
      "    @ ~/.julia/packages/Tables/NSGZI/src/fallbacks.jl:258 [inlined]",
      "  [6] DataFrame(x::Vector{Float64}; copycols::Bool)",
      "    @ DataFrames ~/.julia/packages/DataFrames/58MUJ/src/other/tables.jl:57",
      "  [7] DataFrame",
      "    @ ~/.julia/packages/DataFrames/58MUJ/src/other/tables.jl:48 [inlined]",
      "  [8] DataFrame(columns::Vector{Float64}, cnames::Vector{Symbol}; makeunique::Bool, copycols::Bool)",
      "    @ DataFrames ~/.julia/packages/DataFrames/58MUJ/src/dataframe/dataframe.jl:339",
      "  [9] DataFrame",
      "    @ ~/.julia/packages/DataFrames/58MUJ/src/dataframe/dataframe.jl:336 [inlined]",
      " [10] DataFrame(columns::Vector{Float64}, cnames::Vector{String})",
      "    @ DataFrames ~/.julia/packages/DataFrames/58MUJ/src/dataframe/dataframe.jl:353",
      " [11] top-level scope",
      "    @ In[36]:54"
     ]
    }
   ],
   "source": [
    "prog = Progress(nsims, \"Simulation progress ...\")\n",
    "res = Vector{Any}(missing, nsims)\n",
    "μ = [1.5, 3.4]\n",
    "Σ = .2 * [1 -.6; -.6 1]\n",
    "nsims = 100\n",
    "\n",
    "Threads.@threads for k in 1:nsims\n",
    "    α, β = rand(MvNormal(μ, Σ))\n",
    "\n",
    "    N = rand.(N_distr, Q)\n",
    "    M = reduce(vcat, rand.(M_distr(N, α), 1))\n",
    "    n = reduce(vcat, rand.(Binomial.(N, .2), 1))\n",
    "\n",
    "    p = (N .^ α) .* ((n ./ N) .^ β)\n",
    "    p = 1 ./ (1 .+ exp.(-p))\n",
    "\n",
    "    #u = reduce(vcat, rand.(u_distr.(n, N), 1))\n",
    "    u = 1.0\n",
    "    m = reduce(vcat, rand.(Binomial.(M, p * u), 1))\n",
    "\n",
    "    df1 = DataFrame(\n",
    "        y = m,\n",
    "        x1 = log.(N),\n",
    "        x2 = log.(n ./ N)\n",
    "    )\n",
    "\n",
    "    mm = glm(@formula(y ~ x1 + x2 + 0), df1, Poisson(), LogLink())\n",
    "    α̂₁, β̂₁ = coef(mm)\n",
    "\n",
    "    ols = lm(@formula(log(y) ~ x1 + x2 + 0), df1)\n",
    "    α̂₂, β̂₂ = coef(ols)\n",
    "\n",
    "    est = sample(binomial_model(m, n, N, μ, Σ), PG(100), 500)\n",
    "    α̂₃, β̂₃ = describe(est)[1][1:2, :mean]\n",
    "    M̂ = describe(est)[1][3:end, :mean]\n",
    "\n",
    "    μ̂_prior = [α̂₁, β̂₁]\n",
    "    Σ̂_prior = vcov(mm)\n",
    "\n",
    "    est_2 = sample(binomial_model(m, n, N, μ̂_prior, Σ̂_prior), PG(100), 500)\n",
    "    α̂₄, β̂₄ = describe(est_2)[1][1:2, :mean]\n",
    "    M̂_2 = describe(est_2)[1][3:end, :mean]\n",
    "\n",
    "    res[k] = [\n",
    "        sum(M); sum(N .^ α); sum(N .^ α̂₁); sum(N .^ α̂₂); sum(N .^ α̂₃);\n",
    "        sum([mean(N[x] .^ est[:, 1, :]) for x in 1:Q]); sum(M̂); \n",
    "        sum(N .^ α̂₄); sum([mean(N[x] .^ est_2[:, 1, :]) for x in 1:Q]);\n",
    "        sum(M̂_2)\n",
    "    ]\n",
    "    #push!(res, [sum(M) sum(N .^ α) sum(N .^ α̂₁) sum(N .^ α̂₂)])\n",
    "    next!(prog)\n",
    "end # end for\n",
    "\n",
    "df_res = DataFrame(mapreduce(permutedims, vcat, res), \n",
    "    [\"actual\", \"expected\", \"glm_est\", \"ols_est\", \"expected_est\" , \"expected_est_better\", \n",
    "        \"actual_est\", \"expected_est_bad_prior\" , \"expected_est_better_bad_prior\", \"actual_est_bad_prior\"])\n",
    "\n",
    "describe(df_res)"
   ]
  },
  {
   "cell_type": "code",
   "execution_count": 47,
   "id": "258c6e0d-b603-40fa-bdee-e023f95e26eb",
   "metadata": {},
   "outputs": [
    {
     "data": {
      "text/html": [
       "<div><div style = \"float: left;\"><span>10×7 DataFrame</span></div><div style = \"clear: both;\"></div></div><div class = \"data-frame\" style = \"overflow-x: scroll;\"><table class = \"data-frame\" style = \"margin-bottom: 6px;\"><thead><tr class = \"header\"><th class = \"rowNumber\" style = \"font-weight: bold; text-align: right;\">Row</th><th style = \"text-align: left;\">variable</th><th style = \"text-align: left;\">mean</th><th style = \"text-align: left;\">min</th><th style = \"text-align: left;\">median</th><th style = \"text-align: left;\">max</th><th style = \"text-align: left;\">nmissing</th><th style = \"text-align: left;\">eltype</th></tr><tr class = \"subheader headerLastRow\"><th class = \"rowNumber\" style = \"font-weight: bold; text-align: right;\"></th><th title = \"Symbol\" style = \"text-align: left;\">Symbol</th><th title = \"Float64\" style = \"text-align: left;\">Float64</th><th title = \"Float64\" style = \"text-align: left;\">Float64</th><th title = \"Float64\" style = \"text-align: left;\">Float64</th><th title = \"Float64\" style = \"text-align: left;\">Float64</th><th title = \"Int64\" style = \"text-align: left;\">Int64</th><th title = \"DataType\" style = \"text-align: left;\">DataType</th></tr></thead><tbody><tr><td class = \"rowNumber\" style = \"font-weight: bold; text-align: right;\">1</td><td style = \"text-align: left;\">actual</td><td style = \"text-align: right;\">1.57611e7</td><td style = \"text-align: right;\">618.0</td><td style = \"text-align: right;\">354958.0</td><td style = \"text-align: right;\">9.37526e8</td><td style = \"text-align: right;\">0</td><td style = \"text-align: left;\">Float64</td></tr><tr><td class = \"rowNumber\" style = \"font-weight: bold; text-align: right;\">2</td><td style = \"text-align: left;\">expected</td><td style = \"text-align: right;\">1.57604e7</td><td style = \"text-align: right;\">582.652</td><td style = \"text-align: right;\">3.55792e5</td><td style = \"text-align: right;\">9.37469e8</td><td style = \"text-align: right;\">0</td><td style = \"text-align: left;\">Float64</td></tr><tr><td class = \"rowNumber\" style = \"font-weight: bold; text-align: right;\">3</td><td style = \"text-align: left;\">glm_est</td><td style = \"text-align: right;\">1.57724e7</td><td style = \"text-align: right;\">640.196</td><td style = \"text-align: right;\">3.52512e5</td><td style = \"text-align: right;\">9.37852e8</td><td style = \"text-align: right;\">0</td><td style = \"text-align: left;\">Float64</td></tr><tr><td class = \"rowNumber\" style = \"font-weight: bold; text-align: right;\">4</td><td style = \"text-align: left;\">ols_est</td><td style = \"text-align: right;\">1.57718e7</td><td style = \"text-align: right;\">601.937</td><td style = \"text-align: right;\">3.5178e5</td><td style = \"text-align: right;\">9.37896e8</td><td style = \"text-align: right;\">0</td><td style = \"text-align: left;\">Float64</td></tr><tr><td class = \"rowNumber\" style = \"font-weight: bold; text-align: right;\">5</td><td style = \"text-align: left;\">expected_est</td><td style = \"text-align: right;\">2.72258e5</td><td style = \"text-align: right;\">646.569</td><td style = \"text-align: right;\">2.89695e5</td><td style = \"text-align: right;\">9.24024e5</td><td style = \"text-align: right;\">0</td><td style = \"text-align: left;\">Float64</td></tr><tr><td class = \"rowNumber\" style = \"font-weight: bold; text-align: right;\">6</td><td style = \"text-align: left;\">expected_est_better</td><td style = \"text-align: right;\">1.19835e7</td><td style = \"text-align: right;\">647.684</td><td style = \"text-align: right;\">4.08845e5</td><td style = \"text-align: right;\">1.61499e8</td><td style = \"text-align: right;\">0</td><td style = \"text-align: left;\">Float64</td></tr><tr><td class = \"rowNumber\" style = \"font-weight: bold; text-align: right;\">7</td><td style = \"text-align: left;\">actual_est</td><td style = \"text-align: right;\">1.19835e7</td><td style = \"text-align: right;\">645.354</td><td style = \"text-align: right;\">4.08984e5</td><td style = \"text-align: right;\">1.615e8</td><td style = \"text-align: right;\">0</td><td style = \"text-align: left;\">Float64</td></tr><tr><td class = \"rowNumber\" style = \"font-weight: bold; text-align: right;\">8</td><td style = \"text-align: left;\">expected_est_bad_prior</td><td style = \"text-align: right;\">1.57714e7</td><td style = \"text-align: right;\">500.085</td><td style = \"text-align: right;\">3.54172e5</td><td style = \"text-align: right;\">9.37835e8</td><td style = \"text-align: right;\">0</td><td style = \"text-align: left;\">Float64</td></tr><tr><td class = \"rowNumber\" style = \"font-weight: bold; text-align: right;\">9</td><td style = \"text-align: left;\">expected_est_better_bad_prior</td><td style = \"text-align: right;\">1.57716e7</td><td style = \"text-align: right;\">500.913</td><td style = \"text-align: right;\">3.54184e5</td><td style = \"text-align: right;\">9.37835e8</td><td style = \"text-align: right;\">0</td><td style = \"text-align: left;\">Float64</td></tr><tr><td class = \"rowNumber\" style = \"font-weight: bold; text-align: right;\">10</td><td style = \"text-align: left;\">actual_est_bad_prior</td><td style = \"text-align: right;\">1.57717e7</td><td style = \"text-align: right;\">507.43</td><td style = \"text-align: right;\">3.54153e5</td><td style = \"text-align: right;\">9.37833e8</td><td style = \"text-align: right;\">0</td><td style = \"text-align: left;\">Float64</td></tr></tbody></table></div>"
      ],
      "text/latex": [
       "\\begin{tabular}{r|ccccccc}\n",
       "\t& variable & mean & min & median & max & nmissing & \\\\\n",
       "\t\\hline\n",
       "\t& Symbol & Float64 & Float64 & Float64 & Float64 & Int64 & \\\\\n",
       "\t\\hline\n",
       "\t1 & actual & 1.57611e7 & 618.0 & 354958.0 & 9.37526e8 & 0 & $\\dots$ \\\\\n",
       "\t2 & expected & 1.57604e7 & 582.652 & 3.55792e5 & 9.37469e8 & 0 & $\\dots$ \\\\\n",
       "\t3 & glm\\_est & 1.57724e7 & 640.196 & 3.52512e5 & 9.37852e8 & 0 & $\\dots$ \\\\\n",
       "\t4 & ols\\_est & 1.57718e7 & 601.937 & 3.5178e5 & 9.37896e8 & 0 & $\\dots$ \\\\\n",
       "\t5 & expected\\_est & 2.72258e5 & 646.569 & 2.89695e5 & 9.24024e5 & 0 & $\\dots$ \\\\\n",
       "\t6 & expected\\_est\\_better & 1.19835e7 & 647.684 & 4.08845e5 & 1.61499e8 & 0 & $\\dots$ \\\\\n",
       "\t7 & actual\\_est & 1.19835e7 & 645.354 & 4.08984e5 & 1.615e8 & 0 & $\\dots$ \\\\\n",
       "\t8 & expected\\_est\\_bad\\_prior & 1.57714e7 & 500.085 & 3.54172e5 & 9.37835e8 & 0 & $\\dots$ \\\\\n",
       "\t9 & expected\\_est\\_better\\_bad\\_prior & 1.57716e7 & 500.913 & 3.54184e5 & 9.37835e8 & 0 & $\\dots$ \\\\\n",
       "\t10 & actual\\_est\\_bad\\_prior & 1.57717e7 & 507.43 & 3.54153e5 & 9.37833e8 & 0 & $\\dots$ \\\\\n",
       "\\end{tabular}\n"
      ],
      "text/plain": [
       "\u001b[1m10×7 DataFrame\u001b[0m\n",
       "\u001b[1m Row \u001b[0m│\u001b[1m variable                      \u001b[0m\u001b[1m mean      \u001b[0m\u001b[1m min     \u001b[0m\u001b[1m median         \u001b[0m\u001b[1m max \u001b[0m ⋯\n",
       "     │\u001b[90m Symbol                        \u001b[0m\u001b[90m Float64   \u001b[0m\u001b[90m Float64 \u001b[0m\u001b[90m Float64        \u001b[0m\u001b[90m Floa\u001b[0m ⋯\n",
       "─────┼──────────────────────────────────────────────────────────────────────────\n",
       "   1 │ actual                         1.57611e7  618.0    354958.0        9.37 ⋯\n",
       "   2 │ expected                       1.57604e7  582.652       3.55792e5  9.37\n",
       "   3 │ glm_est                        1.57724e7  640.196       3.52512e5  9.37\n",
       "   4 │ ols_est                        1.57718e7  601.937       3.5178e5   9.37\n",
       "   5 │ expected_est                   2.72258e5  646.569       2.89695e5  9.24 ⋯\n",
       "   6 │ expected_est_better            1.19835e7  647.684       4.08845e5  1.61\n",
       "   7 │ actual_est                     1.19835e7  645.354       4.08984e5  1.61\n",
       "   8 │ expected_est_bad_prior         1.57714e7  500.085       3.54172e5  9.37\n",
       "   9 │ expected_est_better_bad_prior  1.57716e7  500.913       3.54184e5  9.37 ⋯\n",
       "  10 │ actual_est_bad_prior           1.57717e7  507.43        3.54153e5  9.37\n",
       "\u001b[36m                                                               3 columns omitted\u001b[0m"
      ]
     },
     "execution_count": 47,
     "metadata": {},
     "output_type": "execute_result"
    }
   ],
   "source": [
    "df_res = DataFrame(mapreduce(permutedims, vcat, res), \n",
    "    [\"actual\", \"expected\", \"glm_est\", \"ols_est\", \"expected_est\" , \"expected_est_better\", \n",
    "        \"actual_est\", \"expected_est_bad_prior\" , \"expected_est_better_bad_prior\", \"actual_est_bad_prior\"])\n",
    "\n",
    "describe(df_res)"
   ]
  },
  {
   "cell_type": "code",
   "execution_count": 51,
   "id": "29c32fd2-6ebb-46f6-b3c9-abd6fcaf1a86",
   "metadata": {},
   "outputs": [
    {
     "data": {
      "text/html": [
       "<div><div style = \"float: left;\"><span>9×4 DataFrame</span></div><div style = \"clear: both;\"></div></div><div class = \"data-frame\" style = \"overflow-x: scroll;\"><table class = \"data-frame\" style = \"margin-bottom: 6px;\"><thead><tr class = \"header\"><th class = \"rowNumber\" style = \"font-weight: bold; text-align: right;\">Row</th><th style = \"text-align: left;\">rel_bias</th><th style = \"text-align: left;\">rel_mse</th><th style = \"text-align: left;\">rel_mae</th><th style = \"text-align: left;\">est</th></tr><tr class = \"subheader headerLastRow\"><th class = \"rowNumber\" style = \"font-weight: bold; text-align: right;\"></th><th title = \"Float64\" style = \"text-align: left;\">Float64</th><th title = \"Float64\" style = \"text-align: left;\">Float64</th><th title = \"Float64\" style = \"text-align: left;\">Float64</th><th title = \"String\" style = \"text-align: left;\">String</th></tr></thead><tbody><tr><td class = \"rowNumber\" style = \"font-weight: bold; text-align: right;\">1</td><td style = \"text-align: right;\">0.000116574</td><td style = \"text-align: right;\">1.20939</td><td style = \"text-align: right;\">0.00437977</td><td style = \"text-align: left;\">Expected value</td></tr><tr><td class = \"rowNumber\" style = \"font-weight: bold; text-align: right;\">2</td><td style = \"text-align: right;\">-0.21841</td><td style = \"text-align: right;\">9256.35</td><td style = \"text-align: right;\">0.257574</td><td style = \"text-align: left;\">glm</td></tr><tr><td class = \"rowNumber\" style = \"font-weight: bold; text-align: right;\">3</td><td style = \"text-align: right;\">-0.215511</td><td style = \"text-align: right;\">9065.91</td><td style = \"text-align: right;\">0.26007</td><td style = \"text-align: left;\">ols</td></tr><tr><td class = \"rowNumber\" style = \"font-weight: bold; text-align: right;\">4</td><td style = \"text-align: right;\">0.281669</td><td style = \"text-align: right;\">1.53741e7</td><td style = \"text-align: right;\">0.377951</td><td style = \"text-align: left;\">expected_est</td></tr><tr><td class = \"rowNumber\" style = \"font-weight: bold; text-align: right;\">5</td><td style = \"text-align: right;\">-3.6523</td><td style = \"text-align: right;\">1.50211e8</td><td style = \"text-align: right;\">3.75249</td><td style = \"text-align: left;\">expected_est_better</td></tr><tr><td class = \"rowNumber\" style = \"font-weight: bold; text-align: right;\">6</td><td style = \"text-align: right;\">-3.65256</td><td style = \"text-align: right;\">1.50211e8</td><td style = \"text-align: right;\">3.75227</td><td style = \"text-align: left;\">actual_est</td></tr><tr><td class = \"rowNumber\" style = \"font-weight: bold; text-align: right;\">7</td><td style = \"text-align: right;\">-0.168579</td><td style = \"text-align: right;\">8950.56</td><td style = \"text-align: right;\">0.226103</td><td style = \"text-align: left;\">expected_est_bad_prior</td></tr><tr><td class = \"rowNumber\" style = \"font-weight: bold; text-align: right;\">8</td><td style = \"text-align: right;\">-0.175592</td><td style = \"text-align: right;\">9447.54</td><td style = \"text-align: right;\">0.232423</td><td style = \"text-align: left;\">expected_est_better_bad_prior</td></tr><tr><td class = \"rowNumber\" style = \"font-weight: bold; text-align: right;\">9</td><td style = \"text-align: right;\">-0.175543</td><td style = \"text-align: right;\">9449.05</td><td style = \"text-align: right;\">0.232135</td><td style = \"text-align: left;\">actual_est_bad_prior</td></tr></tbody></table></div>"
      ],
      "text/latex": [
       "\\begin{tabular}{r|cccc}\n",
       "\t& rel\\_bias & rel\\_mse & rel\\_mae & est\\\\\n",
       "\t\\hline\n",
       "\t& Float64 & Float64 & Float64 & String\\\\\n",
       "\t\\hline\n",
       "\t1 & 0.000116574 & 1.20939 & 0.00437977 & Expected value \\\\\n",
       "\t2 & -0.21841 & 9256.35 & 0.257574 & glm \\\\\n",
       "\t3 & -0.215511 & 9065.91 & 0.26007 & ols \\\\\n",
       "\t4 & 0.281669 & 1.53741e7 & 0.377951 & expected\\_est \\\\\n",
       "\t5 & -3.6523 & 1.50211e8 & 3.75249 & expected\\_est\\_better \\\\\n",
       "\t6 & -3.65256 & 1.50211e8 & 3.75227 & actual\\_est \\\\\n",
       "\t7 & -0.168579 & 8950.56 & 0.226103 & expected\\_est\\_bad\\_prior \\\\\n",
       "\t8 & -0.175592 & 9447.54 & 0.232423 & expected\\_est\\_better\\_bad\\_prior \\\\\n",
       "\t9 & -0.175543 & 9449.05 & 0.232135 & actual\\_est\\_bad\\_prior \\\\\n",
       "\\end{tabular}\n"
      ],
      "text/plain": [
       "\u001b[1m9×4 DataFrame\u001b[0m\n",
       "\u001b[1m Row \u001b[0m│\u001b[1m rel_bias     \u001b[0m\u001b[1m rel_mse      \u001b[0m\u001b[1m rel_mae    \u001b[0m\u001b[1m est                           \u001b[0m\n",
       "     │\u001b[90m Float64      \u001b[0m\u001b[90m Float64      \u001b[0m\u001b[90m Float64    \u001b[0m\u001b[90m String                        \u001b[0m\n",
       "─────┼───────────────────────────────────────────────────────────────────────\n",
       "   1 │  0.000116574     1.20939    0.00437977  Expected value\n",
       "   2 │ -0.21841      9256.35       0.257574    glm\n",
       "   3 │ -0.215511     9065.91       0.26007     ols\n",
       "   4 │  0.281669        1.53741e7  0.377951    expected_est\n",
       "   5 │ -3.6523          1.50211e8  3.75249     expected_est_better\n",
       "   6 │ -3.65256         1.50211e8  3.75227     actual_est\n",
       "   7 │ -0.168579     8950.56       0.226103    expected_est_bad_prior\n",
       "   8 │ -0.175592     9447.54       0.232423    expected_est_better_bad_prior\n",
       "   9 │ -0.175543     9449.05       0.232135    actual_est_bad_prior"
      ]
     },
     "execution_count": 51,
     "metadata": {},
     "output_type": "execute_result"
    }
   ],
   "source": [
    "DataFrame(\n",
    "    rel_bias = [mean((df_res[:, 1] .- df_res[:, k]) ./ df_res[:, 1])        for k in 2:10],\n",
    "    rel_mse  = [mean(((df_res[:, 1] .- df_res[:, k]) .^ 2) ./ df_res[:, 1]) for k in 2:10],\n",
    "    rel_mae  = [mean(abs.(df_res[:, 1] .- df_res[:, k]) ./ df_res[:, 1])    for k in 2:10],\n",
    "    est      = [\"Expected value\", \"glm\", \"ols\", \"expected_est\", \"expected_est_better\", \"actual_est\", \n",
    "        \"expected_est_bad_prior\", \"expected_est_better_bad_prior\", \"actual_est_bad_prior\"]\n",
    ")"
   ]
  },
  {
   "cell_type": "code",
   "execution_count": 52,
   "id": "53f7d738",
   "metadata": {},
   "outputs": [
    {
     "data": {
      "text/html": [
       "<div><div style = \"float: left;\"><span>9×7 DataFrame</span></div><div style = \"clear: both;\"></div></div><div class = \"data-frame\" style = \"overflow-x: scroll;\"><table class = \"data-frame\" style = \"margin-bottom: 6px;\"><thead><tr class = \"header\"><th class = \"rowNumber\" style = \"font-weight: bold; text-align: right;\">Row</th><th style = \"text-align: left;\">bias</th><th style = \"text-align: left;\">mse</th><th style = \"text-align: left;\">rmse</th><th style = \"text-align: left;\">var</th><th style = \"text-align: left;\">sd</th><th style = \"text-align: left;\">mae</th><th style = \"text-align: left;\">est</th></tr><tr class = \"subheader headerLastRow\"><th class = \"rowNumber\" style = \"font-weight: bold; text-align: right;\"></th><th title = \"Float64\" style = \"text-align: left;\">Float64</th><th title = \"Float64\" style = \"text-align: left;\">Float64</th><th title = \"Float64\" style = \"text-align: left;\">Float64</th><th title = \"Float64\" style = \"text-align: left;\">Float64</th><th title = \"Float64\" style = \"text-align: left;\">Float64</th><th title = \"Float64\" style = \"text-align: left;\">Float64</th><th title = \"String\" style = \"text-align: left;\">String</th></tr></thead><tbody><tr><td class = \"rowNumber\" style = \"font-weight: bold; text-align: right;\">1</td><td style = \"text-align: right;\">0.689031</td><td style = \"text-align: right;\">37519.9</td><td style = \"text-align: right;\">193.701</td><td style = \"text-align: right;\">9.05793e9</td><td style = \"text-align: right;\">95173.1</td><td style = \"text-align: right;\">1.63098</td><td style = \"text-align: left;\">Expected value</td></tr><tr><td class = \"rowNumber\" style = \"font-weight: bold; text-align: right;\">2</td><td style = \"text-align: right;\">-11.3189</td><td style = \"text-align: right;\">5.55979e6</td><td style = \"text-align: right;\">2357.92</td><td style = \"text-align: right;\">9.06598e9</td><td style = \"text-align: right;\">95215.4</td><td style = \"text-align: right;\">32.4284</td><td style = \"text-align: left;\">glm</td></tr><tr><td class = \"rowNumber\" style = \"font-weight: bold; text-align: right;\">3</td><td style = \"text-align: right;\">-10.6342</td><td style = \"text-align: right;\">5.68851e6</td><td style = \"text-align: right;\">2385.06</td><td style = \"text-align: right;\">9.06663e9</td><td style = \"text-align: right;\">95218.9</td><td style = \"text-align: right;\">32.8607</td><td style = \"text-align: left;\">ols</td></tr><tr><td class = \"rowNumber\" style = \"font-weight: bold; text-align: right;\">4</td><td style = \"text-align: right;\">15488.9</td><td style = \"text-align: right;\">9.20643e12</td><td style = \"text-align: right;\">3.03421e6</td><td style = \"text-align: right;\">44438.0</td><td style = \"text-align: right;\">210.803</td><td style = \"text-align: right;\">15502.9</td><td style = \"text-align: left;\">expected_est</td></tr><tr><td class = \"rowNumber\" style = \"font-weight: bold; text-align: right;\">5</td><td style = \"text-align: right;\">3777.58</td><td style = \"text-align: right;\">9.01605e12</td><td style = \"text-align: right;\">3.00267e6</td><td style = \"text-align: right;\">5.25868e8</td><td style = \"text-align: right;\">22931.8</td><td style = \"text-align: right;\">20322.4</td><td style = \"text-align: left;\">expected_est_better</td></tr><tr><td class = \"rowNumber\" style = \"font-weight: bold; text-align: right;\">6</td><td style = \"text-align: right;\">3777.57</td><td style = \"text-align: right;\">9.01606e12</td><td style = \"text-align: right;\">3.00267e6</td><td style = \"text-align: right;\">5.25871e8</td><td style = \"text-align: right;\">22931.9</td><td style = \"text-align: right;\">20322.5</td><td style = \"text-align: left;\">actual_est</td></tr><tr><td class = \"rowNumber\" style = \"font-weight: bold; text-align: right;\">7</td><td style = \"text-align: right;\">-10.2836</td><td style = \"text-align: right;\">4.19614e6</td><td style = \"text-align: right;\">2048.45</td><td style = \"text-align: right;\">9.06521e9</td><td style = \"text-align: right;\">95211.4</td><td style = \"text-align: right;\">22.2577</td><td style = \"text-align: left;\">expected_est_bad_prior</td></tr><tr><td class = \"rowNumber\" style = \"font-weight: bold; text-align: right;\">8</td><td style = \"text-align: right;\">-10.4429</td><td style = \"text-align: right;\">4.20785e6</td><td style = \"text-align: right;\">2051.3</td><td style = \"text-align: right;\">9.06521e9</td><td style = \"text-align: right;\">95211.4</td><td style = \"text-align: right;\">22.3761</td><td style = \"text-align: left;\">expected_est_better_bad_prior</td></tr><tr><td class = \"rowNumber\" style = \"font-weight: bold; text-align: right;\">9</td><td style = \"text-align: right;\">-10.5914</td><td style = \"text-align: right;\">4.20476e6</td><td style = \"text-align: right;\">2050.55</td><td style = \"text-align: right;\">9.06516e9</td><td style = \"text-align: right;\">95211.2</td><td style = \"text-align: right;\">22.2999</td><td style = \"text-align: left;\">actual_est_bad_prior</td></tr></tbody></table></div>"
      ],
      "text/latex": [
       "\\begin{tabular}{r|ccccccc}\n",
       "\t& bias & mse & rmse & var & sd & mae & est\\\\\n",
       "\t\\hline\n",
       "\t& Float64 & Float64 & Float64 & Float64 & Float64 & Float64 & String\\\\\n",
       "\t\\hline\n",
       "\t1 & 0.689031 & 37519.9 & 193.701 & 9.05793e9 & 95173.1 & 1.63098 & Expected value \\\\\n",
       "\t2 & -11.3189 & 5.55979e6 & 2357.92 & 9.06598e9 & 95215.4 & 32.4284 & glm \\\\\n",
       "\t3 & -10.6342 & 5.68851e6 & 2385.06 & 9.06663e9 & 95218.9 & 32.8607 & ols \\\\\n",
       "\t4 & 15488.9 & 9.20643e12 & 3.03421e6 & 44438.0 & 210.803 & 15502.9 & expected\\_est \\\\\n",
       "\t5 & 3777.58 & 9.01605e12 & 3.00267e6 & 5.25868e8 & 22931.8 & 20322.4 & expected\\_est\\_better \\\\\n",
       "\t6 & 3777.57 & 9.01606e12 & 3.00267e6 & 5.25871e8 & 22931.9 & 20322.5 & actual\\_est \\\\\n",
       "\t7 & -10.2836 & 4.19614e6 & 2048.45 & 9.06521e9 & 95211.4 & 22.2577 & expected\\_est\\_bad\\_prior \\\\\n",
       "\t8 & -10.4429 & 4.20785e6 & 2051.3 & 9.06521e9 & 95211.4 & 22.3761 & expected\\_est\\_better\\_bad\\_prior \\\\\n",
       "\t9 & -10.5914 & 4.20476e6 & 2050.55 & 9.06516e9 & 95211.2 & 22.2999 & actual\\_est\\_bad\\_prior \\\\\n",
       "\\end{tabular}\n"
      ],
      "text/plain": [
       "\u001b[1m9×7 DataFrame\u001b[0m\n",
       "\u001b[1m Row \u001b[0m│\u001b[1m bias         \u001b[0m\u001b[1m mse            \u001b[0m\u001b[1m rmse         \u001b[0m\u001b[1m var           \u001b[0m\u001b[1m sd        \u001b[0m\u001b[1m m\u001b[0m ⋯\n",
       "     │\u001b[90m Float64      \u001b[0m\u001b[90m Float64        \u001b[0m\u001b[90m Float64      \u001b[0m\u001b[90m Float64       \u001b[0m\u001b[90m Float64   \u001b[0m\u001b[90m F\u001b[0m ⋯\n",
       "─────┼──────────────────────────────────────────────────────────────────────────\n",
       "   1 │     0.689031  37519.9          193.701          9.05793e9  95173.1      ⋯\n",
       "   2 │   -11.3189        5.55979e6   2357.92           9.06598e9  95215.4\n",
       "   3 │   -10.6342        5.68851e6   2385.06           9.06663e9  95218.9\n",
       "   4 │ 15488.9           9.20643e12     3.03421e6  44438.0          210.803  1\n",
       "   5 │  3777.58          9.01605e12     3.00267e6      5.25868e8  22931.8    2 ⋯\n",
       "   6 │  3777.57          9.01606e12     3.00267e6      5.25871e8  22931.9    2\n",
       "   7 │   -10.2836        4.19614e6   2048.45           9.06521e9  95211.4\n",
       "   8 │   -10.4429        4.20785e6   2051.3            9.06521e9  95211.4\n",
       "   9 │   -10.5914        4.20476e6   2050.55           9.06516e9  95211.2      ⋯\n",
       "\u001b[36m                                                               2 columns omitted\u001b[0m"
      ]
     },
     "execution_count": 52,
     "metadata": {},
     "output_type": "execute_result"
    }
   ],
   "source": [
    "DataFrame(\n",
    "    bias  = [mean((df_res[:, 1] .- df_res[:, k]) ./ 1000)        for k in 2:10],\n",
    "    mse   = [mean(((df_res[:, 1] .- df_res[:, k]) .^ 2) ./ 1000) for k in 2:10],\n",
    "    rmse  = [sqrt(mean(((df_res[:, 1] .- df_res[:, k]) .^ 2) ./ 1000)) for k in 2:10],\n",
    "    var   = [var(df_res[:, k] / 1000) for k in 2:10],\n",
    "    sd    = [std(df_res[:, k] / 1000) for k in 2:10],\n",
    "    mae   = [mean(abs.(df_res[:, 1] .- df_res[:, k]) ./ 1000)    for k in 2:10],\n",
    "    est   = [\"Expected value\", \"glm\", \"ols\", \"expected_est\", \"expected_est_better\", \"actual_est\", \n",
    "        \"expected_est_bad_prior\", \"expected_est_better_bad_prior\", \"actual_est_bad_prior\"]\n",
    ")"
   ]
  },
  {
   "cell_type": "code",
   "execution_count": 50,
   "id": "635091b2-efc6-48b9-ba3d-83a0220c0eb6",
   "metadata": {},
   "outputs": [],
   "source": [
    "CSV.write(pwd() * \"/data_raw/init_res.csv\", df_res);"
   ]
  },
  {
   "cell_type": "markdown",
   "id": "57614283-ff59-42e0-9cfa-f202038c40ff",
   "metadata": {},
   "source": [
    "### Uknown prior"
   ]
  },
  {
   "cell_type": "code",
   "execution_count": 53,
   "id": "1d7bbd83-df7c-44a9-b08b-aace1353d77f",
   "metadata": {
    "scrolled": true
   },
   "outputs": [
    {
     "name": "stderr",
     "output_type": "stream",
     "text": [
      "\u001b[32mSimulation progress ... 100%|████████████████████████████| Time: 4:51:54\u001b[39m\n"
     ]
    },
    {
     "data": {
      "text/html": [
       "<div><div style = \"float: left;\"><span>10×7 DataFrame</span></div><div style = \"clear: both;\"></div></div><div class = \"data-frame\" style = \"overflow-x: scroll;\"><table class = \"data-frame\" style = \"margin-bottom: 6px;\"><thead><tr class = \"header\"><th class = \"rowNumber\" style = \"font-weight: bold; text-align: right;\">Row</th><th style = \"text-align: left;\">variable</th><th style = \"text-align: left;\">mean</th><th style = \"text-align: left;\">min</th><th style = \"text-align: left;\">median</th><th style = \"text-align: left;\">max</th><th style = \"text-align: left;\">nmissing</th><th style = \"text-align: left;\">eltype</th></tr><tr class = \"subheader headerLastRow\"><th class = \"rowNumber\" style = \"font-weight: bold; text-align: right;\"></th><th title = \"Symbol\" style = \"text-align: left;\">Symbol</th><th title = \"Float64\" style = \"text-align: left;\">Float64</th><th title = \"Float64\" style = \"text-align: left;\">Float64</th><th title = \"Float64\" style = \"text-align: left;\">Float64</th><th title = \"Float64\" style = \"text-align: left;\">Float64</th><th title = \"Int64\" style = \"text-align: left;\">Int64</th><th title = \"DataType\" style = \"text-align: left;\">DataType</th></tr></thead><tbody><tr><td class = \"rowNumber\" style = \"font-weight: bold; text-align: right;\">1</td><td style = \"text-align: left;\">actual</td><td style = \"text-align: right;\">2.15606e7</td><td style = \"text-align: right;\">371.0</td><td style = \"text-align: right;\">528770.0</td><td style = \"text-align: right;\">1.06463e9</td><td style = \"text-align: right;\">0</td><td style = \"text-align: left;\">Float64</td></tr><tr><td class = \"rowNumber\" style = \"font-weight: bold; text-align: right;\">2</td><td style = \"text-align: left;\">expected</td><td style = \"text-align: right;\">2.15609e7</td><td style = \"text-align: right;\">355.536</td><td style = \"text-align: right;\">5.27528e5</td><td style = \"text-align: right;\">1.06465e9</td><td style = \"text-align: right;\">0</td><td style = \"text-align: left;\">Float64</td></tr><tr><td class = \"rowNumber\" style = \"font-weight: bold; text-align: right;\">3</td><td style = \"text-align: left;\">glm_est</td><td style = \"text-align: right;\">2.15765e7</td><td style = \"text-align: right;\">97.6248</td><td style = \"text-align: right;\">5.09981e5</td><td style = \"text-align: right;\">1.06657e9</td><td style = \"text-align: right;\">0</td><td style = \"text-align: left;\">Float64</td></tr><tr><td class = \"rowNumber\" style = \"font-weight: bold; text-align: right;\">4</td><td style = \"text-align: left;\">ols_est</td><td style = \"text-align: right;\">2.15759e7</td><td style = \"text-align: right;\">94.0068</td><td style = \"text-align: right;\">5.09053e5</td><td style = \"text-align: right;\">1.06654e9</td><td style = \"text-align: right;\">0</td><td style = \"text-align: left;\">Float64</td></tr><tr><td class = \"rowNumber\" style = \"font-weight: bold; text-align: right;\">5</td><td style = \"text-align: left;\">expected_est</td><td style = \"text-align: right;\">2.54975e5</td><td style = \"text-align: right;\">374.828</td><td style = \"text-align: right;\">3.26216e5</td><td style = \"text-align: right;\">512301.0</td><td style = \"text-align: right;\">0</td><td style = \"text-align: left;\">Float64</td></tr><tr><td class = \"rowNumber\" style = \"font-weight: bold; text-align: right;\">6</td><td style = \"text-align: left;\">expected_est_better</td><td style = \"text-align: right;\">3.93233e7</td><td style = \"text-align: right;\">375.473</td><td style = \"text-align: right;\">2.45891e7</td><td style = \"text-align: right;\">3.45985e8</td><td style = \"text-align: right;\">0</td><td style = \"text-align: left;\">Float64</td></tr><tr><td class = \"rowNumber\" style = \"font-weight: bold; text-align: right;\">7</td><td style = \"text-align: left;\">actual_est</td><td style = \"text-align: right;\">3.93233e7</td><td style = \"text-align: right;\">383.914</td><td style = \"text-align: right;\">2.4589e7</td><td style = \"text-align: right;\">3.45986e8</td><td style = \"text-align: right;\">0</td><td style = \"text-align: left;\">Float64</td></tr><tr><td class = \"rowNumber\" style = \"font-weight: bold; text-align: right;\">8</td><td style = \"text-align: left;\">expected_est_bad_prior</td><td style = \"text-align: right;\">2.15778e7</td><td style = \"text-align: right;\">202.92</td><td style = \"text-align: right;\">5.21789e5</td><td style = \"text-align: right;\">1.06665e9</td><td style = \"text-align: right;\">0</td><td style = \"text-align: left;\">Float64</td></tr><tr><td class = \"rowNumber\" style = \"font-weight: bold; text-align: right;\">9</td><td style = \"text-align: left;\">expected_est_better_bad_prior</td><td style = \"text-align: right;\">2.15786e7</td><td style = \"text-align: right;\">216.602</td><td style = \"text-align: right;\">5.222e5</td><td style = \"text-align: right;\">1.06665e9</td><td style = \"text-align: right;\">0</td><td style = \"text-align: left;\">Float64</td></tr><tr><td class = \"rowNumber\" style = \"font-weight: bold; text-align: right;\">10</td><td style = \"text-align: left;\">actual_est_bad_prior</td><td style = \"text-align: right;\">2.15787e7</td><td style = \"text-align: right;\">208.096</td><td style = \"text-align: right;\">5.22187e5</td><td style = \"text-align: right;\">1.06665e9</td><td style = \"text-align: right;\">0</td><td style = \"text-align: left;\">Float64</td></tr></tbody></table></div>"
      ],
      "text/latex": [
       "\\begin{tabular}{r|ccccccc}\n",
       "\t& variable & mean & min & median & max & nmissing & \\\\\n",
       "\t\\hline\n",
       "\t& Symbol & Float64 & Float64 & Float64 & Float64 & Int64 & \\\\\n",
       "\t\\hline\n",
       "\t1 & actual & 2.15606e7 & 371.0 & 528770.0 & 1.06463e9 & 0 & $\\dots$ \\\\\n",
       "\t2 & expected & 2.15609e7 & 355.536 & 5.27528e5 & 1.06465e9 & 0 & $\\dots$ \\\\\n",
       "\t3 & glm\\_est & 2.15765e7 & 97.6248 & 5.09981e5 & 1.06657e9 & 0 & $\\dots$ \\\\\n",
       "\t4 & ols\\_est & 2.15759e7 & 94.0068 & 5.09053e5 & 1.06654e9 & 0 & $\\dots$ \\\\\n",
       "\t5 & expected\\_est & 2.54975e5 & 374.828 & 3.26216e5 & 512301.0 & 0 & $\\dots$ \\\\\n",
       "\t6 & expected\\_est\\_better & 3.93233e7 & 375.473 & 2.45891e7 & 3.45985e8 & 0 & $\\dots$ \\\\\n",
       "\t7 & actual\\_est & 3.93233e7 & 383.914 & 2.4589e7 & 3.45986e8 & 0 & $\\dots$ \\\\\n",
       "\t8 & expected\\_est\\_bad\\_prior & 2.15778e7 & 202.92 & 5.21789e5 & 1.06665e9 & 0 & $\\dots$ \\\\\n",
       "\t9 & expected\\_est\\_better\\_bad\\_prior & 2.15786e7 & 216.602 & 5.222e5 & 1.06665e9 & 0 & $\\dots$ \\\\\n",
       "\t10 & actual\\_est\\_bad\\_prior & 2.15787e7 & 208.096 & 5.22187e5 & 1.06665e9 & 0 & $\\dots$ \\\\\n",
       "\\end{tabular}\n"
      ],
      "text/plain": [
       "\u001b[1m10×7 DataFrame\u001b[0m\n",
       "\u001b[1m Row \u001b[0m│\u001b[1m variable                      \u001b[0m\u001b[1m mean      \u001b[0m\u001b[1m min      \u001b[0m\u001b[1m median         \u001b[0m\u001b[1m max\u001b[0m ⋯\n",
       "     │\u001b[90m Symbol                        \u001b[0m\u001b[90m Float64   \u001b[0m\u001b[90m Float64  \u001b[0m\u001b[90m Float64        \u001b[0m\u001b[90m Flo\u001b[0m ⋯\n",
       "─────┼──────────────────────────────────────────────────────────────────────────\n",
       "   1 │ actual                         2.15606e7  371.0     528770.0            ⋯\n",
       "   2 │ expected                       2.15609e7  355.536        5.27528e5\n",
       "   3 │ glm_est                        2.15765e7   97.6248       5.09981e5\n",
       "   4 │ ols_est                        2.15759e7   94.0068       5.09053e5\n",
       "   5 │ expected_est                   2.54975e5  374.828        3.26216e5  512 ⋯\n",
       "   6 │ expected_est_better            3.93233e7  375.473        2.45891e7\n",
       "   7 │ actual_est                     3.93233e7  383.914        2.4589e7\n",
       "   8 │ expected_est_bad_prior         2.15778e7  202.92         5.21789e5\n",
       "   9 │ expected_est_better_bad_prior  2.15786e7  216.602        5.222e5        ⋯\n",
       "  10 │ actual_est_bad_prior           2.15787e7  208.096        5.22187e5\n",
       "\u001b[36m                                                               3 columns omitted\u001b[0m"
      ]
     },
     "execution_count": 53,
     "metadata": {},
     "output_type": "execute_result"
    }
   ],
   "source": [
    "Q = 7 # Liczba państw\n",
    "\n",
    "N_distr = Poisson(1500)\n",
    "\n",
    "res = Vector{Any}(missing, nsims)\n",
    "μ = [1.5, 3.4]\n",
    "Σ = .2 * [1 -.6; -.6 1]\n",
    "nsims = 100\n",
    "\n",
    "prog = Progress(nsims, \"Simulation progress ...\")\n",
    "\n",
    "Threads.@threads for k in 1:nsims\n",
    "    α, β = rand(MvNormal(μ, Σ))\n",
    "\n",
    "    N = rand.(N_distr, Q)\n",
    "    M = reduce(vcat, rand.(M_distr(N, α), 1))\n",
    "    n = reduce(vcat, rand.(Binomial.(N, .2), 1))\n",
    "\n",
    "    p = (N .^ α) .* ((n ./ N) .^ β)\n",
    "    p = 1 ./ (1 .+ exp.(-p))\n",
    "    #u = reduce(vcat, rand.(u_distr.(n, N), 1))\n",
    "    u = 1.0\n",
    "    m = reduce(vcat, rand.(Binomial.(M, p * u), 1))\n",
    "    \n",
    "    df1 = DataFrame(\n",
    "        y = m,\n",
    "        x1 = log.(N),\n",
    "        x2 = log.(n ./ N)\n",
    "    )\n",
    "    \n",
    "    # TODO:: estimate Σ via one of those\n",
    "    mm = glm(@formula(y ~ x1 + x2 + 0), df1, Poisson(), LogLink())\n",
    "    α̂₁, β̂₁ = coef(mm)\n",
    "\n",
    "    ols = lm(@formula(log(y) ~ x1 + x2 + 0), df1)\n",
    "    α̂₂, β̂₂ = coef(ols)\n",
    "\n",
    "    est = sample(binomial_model(m, n, N, μ, Σ), PG(100), 500)\n",
    "    α̂₃, β̂₃ = describe(est)[1][1:2, :mean]\n",
    "    M̂ = describe(est)[1][3:end, :mean]\n",
    "\n",
    "    μ̂_prior = [α̂₁, β̂₁]\n",
    "    Σ̂_prior = vcov(mm)\n",
    "\n",
    "    est_2 = sample(binomial_model(m, n, N, μ̂_prior, Σ̂_prior), PG(100), 500)\n",
    "    α̂₄, β̂₄ = describe(est_2)[1][1:2, :mean]\n",
    "    M̂_2 = describe(est_2)[1][3:end, :mean]\n",
    "\n",
    "    res[k] = [\n",
    "        sum(M); sum(N .^ α); sum(N .^ α̂₁); sum(N .^ α̂₂); sum(N .^ α̂₃);\n",
    "        sum([mean(N[x] .^ est[:, 1, :]) for x in 1:Q]); sum(M̂); \n",
    "        sum(N .^ α̂₄); sum([mean(N[x] .^ est_2[:, 1, :]) for x in 1:Q]);\n",
    "        sum(M̂_2)\n",
    "    ]\n",
    "\n",
    "    #push!(res, [sum(M) sum(N .^ α) sum(N .^ α̂₁) sum(N .^ α̂₂)])\n",
    "    next!(prog)\n",
    "end # end for\n",
    "\n",
    "df_res = DataFrame(mapreduce(permutedims, vcat, res), \n",
    "    [\"actual\", \"expected\", \"glm_est\", \"ols_est\", \"expected_est\" , \"expected_est_better\", \n",
    "        \"actual_est\", \"expected_est_bad_prior\" , \"expected_est_better_bad_prior\", \"actual_est_bad_prior\"])\n",
    "\n",
    "describe(df_res)"
   ]
  },
  {
   "cell_type": "code",
   "execution_count": 54,
   "id": "148c0319-5821-47b5-be04-dd055d0f2575",
   "metadata": {},
   "outputs": [
    {
     "data": {
      "text/html": [
       "<div><div style = \"float: left;\"><span>9×4 DataFrame</span></div><div style = \"clear: both;\"></div></div><div class = \"data-frame\" style = \"overflow-x: scroll;\"><table class = \"data-frame\" style = \"margin-bottom: 6px;\"><thead><tr class = \"header\"><th class = \"rowNumber\" style = \"font-weight: bold; text-align: right;\">Row</th><th style = \"text-align: left;\">rel_bias</th><th style = \"text-align: left;\">rel_mse</th><th style = \"text-align: left;\">rel_mae</th><th style = \"text-align: left;\">est</th></tr><tr class = \"subheader headerLastRow\"><th class = \"rowNumber\" style = \"font-weight: bold; text-align: right;\"></th><th title = \"Float64\" style = \"text-align: left;\">Float64</th><th title = \"Float64\" style = \"text-align: left;\">Float64</th><th title = \"Float64\" style = \"text-align: left;\">Float64</th><th title = \"String\" style = \"text-align: left;\">String</th></tr></thead><tbody><tr><td class = \"rowNumber\" style = \"font-weight: bold; text-align: right;\">1</td><td style = \"text-align: right;\">0.00162797</td><td style = \"text-align: right;\">1.06888</td><td style = \"text-align: right;\">0.00396007</td><td style = \"text-align: left;\">Expected value</td></tr><tr><td class = \"rowNumber\" style = \"font-weight: bold; text-align: right;\">2</td><td style = \"text-align: right;\">-0.268251</td><td style = \"text-align: right;\">6638.04</td><td style = \"text-align: right;\">0.337673</td><td style = \"text-align: left;\">glm</td></tr><tr><td class = \"rowNumber\" style = \"font-weight: bold; text-align: right;\">3</td><td style = \"text-align: right;\">-0.257848</td><td style = \"text-align: right;\">6271.36</td><td style = \"text-align: right;\">0.327008</td><td style = \"text-align: left;\">ols</td></tr><tr><td class = \"rowNumber\" style = \"font-weight: bold; text-align: right;\">4</td><td style = \"text-align: right;\">0.376868</td><td style = \"text-align: right;\">2.11475e7</td><td style = \"text-align: right;\">0.4379</td><td style = \"text-align: left;\">expected_est</td></tr><tr><td class = \"rowNumber\" style = \"font-weight: bold; text-align: right;\">5</td><td style = \"text-align: right;\">-18.6108</td><td style = \"text-align: right;\">1.30055e9</td><td style = \"text-align: right;\">18.6637</td><td style = \"text-align: left;\">expected_est_better</td></tr><tr><td class = \"rowNumber\" style = \"font-weight: bold; text-align: right;\">6</td><td style = \"text-align: right;\">-18.6118</td><td style = \"text-align: right;\">1.30056e9</td><td style = \"text-align: right;\">18.6642</td><td style = \"text-align: left;\">actual_est</td></tr><tr><td class = \"rowNumber\" style = \"font-weight: bold; text-align: right;\">7</td><td style = \"text-align: right;\">-0.0393317</td><td style = \"text-align: right;\">2399.75</td><td style = \"text-align: right;\">0.131305</td><td style = \"text-align: left;\">expected_est_bad_prior</td></tr><tr><td class = \"rowNumber\" style = \"font-weight: bold; text-align: right;\">8</td><td style = \"text-align: right;\">-0.095784</td><td style = \"text-align: right;\">4538.62</td><td style = \"text-align: right;\">0.1828</td><td style = \"text-align: left;\">expected_est_better_bad_prior</td></tr><tr><td class = \"rowNumber\" style = \"font-weight: bold; text-align: right;\">9</td><td style = \"text-align: right;\">-0.0953988</td><td style = \"text-align: right;\">4533.34</td><td style = \"text-align: right;\">0.183023</td><td style = \"text-align: left;\">actual_est_bad_prior</td></tr></tbody></table></div>"
      ],
      "text/latex": [
       "\\begin{tabular}{r|cccc}\n",
       "\t& rel\\_bias & rel\\_mse & rel\\_mae & est\\\\\n",
       "\t\\hline\n",
       "\t& Float64 & Float64 & Float64 & String\\\\\n",
       "\t\\hline\n",
       "\t1 & 0.00162797 & 1.06888 & 0.00396007 & Expected value \\\\\n",
       "\t2 & -0.268251 & 6638.04 & 0.337673 & glm \\\\\n",
       "\t3 & -0.257848 & 6271.36 & 0.327008 & ols \\\\\n",
       "\t4 & 0.376868 & 2.11475e7 & 0.4379 & expected\\_est \\\\\n",
       "\t5 & -18.6108 & 1.30055e9 & 18.6637 & expected\\_est\\_better \\\\\n",
       "\t6 & -18.6118 & 1.30056e9 & 18.6642 & actual\\_est \\\\\n",
       "\t7 & -0.0393317 & 2399.75 & 0.131305 & expected\\_est\\_bad\\_prior \\\\\n",
       "\t8 & -0.095784 & 4538.62 & 0.1828 & expected\\_est\\_better\\_bad\\_prior \\\\\n",
       "\t9 & -0.0953988 & 4533.34 & 0.183023 & actual\\_est\\_bad\\_prior \\\\\n",
       "\\end{tabular}\n"
      ],
      "text/plain": [
       "\u001b[1m9×4 DataFrame\u001b[0m\n",
       "\u001b[1m Row \u001b[0m│\u001b[1m rel_bias     \u001b[0m\u001b[1m rel_mse      \u001b[0m\u001b[1m rel_mae     \u001b[0m\u001b[1m est                           \u001b[0m\n",
       "     │\u001b[90m Float64      \u001b[0m\u001b[90m Float64      \u001b[0m\u001b[90m Float64     \u001b[0m\u001b[90m String                        \u001b[0m\n",
       "─────┼────────────────────────────────────────────────────────────────────────\n",
       "   1 │   0.00162797     1.06888     0.00396007  Expected value\n",
       "   2 │  -0.268251    6638.04        0.337673    glm\n",
       "   3 │  -0.257848    6271.36        0.327008    ols\n",
       "   4 │   0.376868       2.11475e7   0.4379      expected_est\n",
       "   5 │ -18.6108         1.30055e9  18.6637      expected_est_better\n",
       "   6 │ -18.6118         1.30056e9  18.6642      actual_est\n",
       "   7 │  -0.0393317   2399.75        0.131305    expected_est_bad_prior\n",
       "   8 │  -0.095784    4538.62        0.1828      expected_est_better_bad_prior\n",
       "   9 │  -0.0953988   4533.34        0.183023    actual_est_bad_prior"
      ]
     },
     "execution_count": 54,
     "metadata": {},
     "output_type": "execute_result"
    }
   ],
   "source": [
    "DataFrame(\n",
    "    rel_bias = [mean((df_res[:, 1] .- df_res[:, k]) ./ df_res[:, 1])        for k in 2:10],\n",
    "    rel_mse  = [mean(((df_res[:, 1] .- df_res[:, k]) .^ 2) ./ df_res[:, 1]) for k in 2:10],\n",
    "    rel_mae  = [mean(abs.(df_res[:, 1] .- df_res[:, k]) ./ df_res[:, 1])    for k in 2:10],\n",
    "    est      = [\"Expected value\", \"glm\", \"ols\", \"expected_est\", \"expected_est_better\", \"actual_est\", \n",
    "        \"expected_est_bad_prior\", \"expected_est_better_bad_prior\", \"actual_est_bad_prior\"]\n",
    ")"
   ]
  },
  {
   "cell_type": "code",
   "execution_count": 55,
   "id": "411f49b8-599e-42b0-b06c-e9ce703fa695",
   "metadata": {},
   "outputs": [
    {
     "data": {
      "text/html": [
       "<div><div style = \"float: left;\"><span>9×7 DataFrame</span></div><div style = \"clear: both;\"></div></div><div class = \"data-frame\" style = \"overflow-x: scroll;\"><table class = \"data-frame\" style = \"margin-bottom: 6px;\"><thead><tr class = \"header\"><th class = \"rowNumber\" style = \"font-weight: bold; text-align: right;\">Row</th><th style = \"text-align: left;\">bias</th><th style = \"text-align: left;\">mse</th><th style = \"text-align: left;\">rmse</th><th style = \"text-align: left;\">var</th><th style = \"text-align: left;\">sd</th><th style = \"text-align: left;\">mae</th><th style = \"text-align: left;\">est</th></tr><tr class = \"subheader headerLastRow\"><th class = \"rowNumber\" style = \"font-weight: bold; text-align: right;\"></th><th title = \"Float64\" style = \"text-align: left;\">Float64</th><th title = \"Float64\" style = \"text-align: left;\">Float64</th><th title = \"Float64\" style = \"text-align: left;\">Float64</th><th title = \"Float64\" style = \"text-align: left;\">Float64</th><th title = \"Float64\" style = \"text-align: left;\">Float64</th><th title = \"Float64\" style = \"text-align: left;\">Float64</th><th title = \"String\" style = \"text-align: left;\">String</th></tr></thead><tbody><tr><td class = \"rowNumber\" style = \"font-weight: bold; text-align: right;\">1</td><td style = \"text-align: right;\">-0.269928</td><td style = \"text-align: right;\">19961.3</td><td style = \"text-align: right;\">141.285</td><td style = \"text-align: right;\">1.26127e10</td><td style = \"text-align: right;\">1.12306e5</td><td style = \"text-align: right;\">1.69467</td><td style = \"text-align: left;\">Expected value</td></tr><tr><td class = \"rowNumber\" style = \"font-weight: bold; text-align: right;\">2</td><td style = \"text-align: right;\">-15.8847</td><td style = \"text-align: right;\">5.35358e7</td><td style = \"text-align: right;\">7316.82</td><td style = \"text-align: right;\">1.26532e10</td><td style = \"text-align: right;\">1.12486e5</td><td style = \"text-align: right;\">71.8523</td><td style = \"text-align: left;\">glm</td></tr><tr><td class = \"rowNumber\" style = \"font-weight: bold; text-align: right;\">3</td><td style = \"text-align: right;\">-15.2771</td><td style = \"text-align: right;\">5.20521e7</td><td style = \"text-align: right;\">7214.71</td><td style = \"text-align: right;\">1.26525e10</td><td style = \"text-align: right;\">1.12483e5</td><td style = \"text-align: right;\">71.4522</td><td style = \"text-align: left;\">ols</td></tr><tr><td class = \"rowNumber\" style = \"font-weight: bold; text-align: right;\">4</td><td style = \"text-align: right;\">21305.7</td><td style = \"text-align: right;\">1.29334e13</td><td style = \"text-align: right;\">3.5963e6</td><td style = \"text-align: right;\">31108.9</td><td style = \"text-align: right;\">176.377</td><td style = \"text-align: right;\">21313.9</td><td style = \"text-align: left;\">expected_est</td></tr><tr><td class = \"rowNumber\" style = \"font-weight: bold; text-align: right;\">5</td><td style = \"text-align: right;\">-17762.7</td><td style = \"text-align: right;\">1.05269e13</td><td style = \"text-align: right;\">3.24452e6</td><td style = \"text-align: right;\">3.65892e9</td><td style = \"text-align: right;\">60489.0</td><td style = \"text-align: right;\">40440.0</td><td style = \"text-align: left;\">expected_est_better</td></tr><tr><td class = \"rowNumber\" style = \"font-weight: bold; text-align: right;\">6</td><td style = \"text-align: right;\">-17762.7</td><td style = \"text-align: right;\">1.05269e13</td><td style = \"text-align: right;\">3.24452e6</td><td style = \"text-align: right;\">3.65892e9</td><td style = \"text-align: right;\">60489.0</td><td style = \"text-align: right;\">40440.0</td><td style = \"text-align: left;\">actual_est</td></tr><tr><td class = \"rowNumber\" style = \"font-weight: bold; text-align: right;\">7</td><td style = \"text-align: right;\">-17.202</td><td style = \"text-align: right;\">5.65178e7</td><td style = \"text-align: right;\">7517.84</td><td style = \"text-align: right;\">1.26551e10</td><td style = \"text-align: right;\">1.12495e5</td><td style = \"text-align: right;\">63.4928</td><td style = \"text-align: left;\">expected_est_bad_prior</td></tr><tr><td class = \"rowNumber\" style = \"font-weight: bold; text-align: right;\">8</td><td style = \"text-align: right;\">-17.9886</td><td style = \"text-align: right;\">5.65988e7</td><td style = \"text-align: right;\">7523.22</td><td style = \"text-align: right;\">1.26551e10</td><td style = \"text-align: right;\">1.12495e5</td><td style = \"text-align: right;\">63.8227</td><td style = \"text-align: left;\">expected_est_better_bad_prior</td></tr><tr><td class = \"rowNumber\" style = \"font-weight: bold; text-align: right;\">9</td><td style = \"text-align: right;\">-18.0934</td><td style = \"text-align: right;\">5.65669e7</td><td style = \"text-align: right;\">7521.1</td><td style = \"text-align: right;\">1.26551e10</td><td style = \"text-align: right;\">1.12495e5</td><td style = \"text-align: right;\">63.8077</td><td style = \"text-align: left;\">actual_est_bad_prior</td></tr></tbody></table></div>"
      ],
      "text/latex": [
       "\\begin{tabular}{r|ccccccc}\n",
       "\t& bias & mse & rmse & var & sd & mae & est\\\\\n",
       "\t\\hline\n",
       "\t& Float64 & Float64 & Float64 & Float64 & Float64 & Float64 & String\\\\\n",
       "\t\\hline\n",
       "\t1 & -0.269928 & 19961.3 & 141.285 & 1.26127e10 & 1.12306e5 & 1.69467 & Expected value \\\\\n",
       "\t2 & -15.8847 & 5.35358e7 & 7316.82 & 1.26532e10 & 1.12486e5 & 71.8523 & glm \\\\\n",
       "\t3 & -15.2771 & 5.20521e7 & 7214.71 & 1.26525e10 & 1.12483e5 & 71.4522 & ols \\\\\n",
       "\t4 & 21305.7 & 1.29334e13 & 3.5963e6 & 31108.9 & 176.377 & 21313.9 & expected\\_est \\\\\n",
       "\t5 & -17762.7 & 1.05269e13 & 3.24452e6 & 3.65892e9 & 60489.0 & 40440.0 & expected\\_est\\_better \\\\\n",
       "\t6 & -17762.7 & 1.05269e13 & 3.24452e6 & 3.65892e9 & 60489.0 & 40440.0 & actual\\_est \\\\\n",
       "\t7 & -17.202 & 5.65178e7 & 7517.84 & 1.26551e10 & 1.12495e5 & 63.4928 & expected\\_est\\_bad\\_prior \\\\\n",
       "\t8 & -17.9886 & 5.65988e7 & 7523.22 & 1.26551e10 & 1.12495e5 & 63.8227 & expected\\_est\\_better\\_bad\\_prior \\\\\n",
       "\t9 & -18.0934 & 5.65669e7 & 7521.1 & 1.26551e10 & 1.12495e5 & 63.8077 & actual\\_est\\_bad\\_prior \\\\\n",
       "\\end{tabular}\n"
      ],
      "text/plain": [
       "\u001b[1m9×7 DataFrame\u001b[0m\n",
       "\u001b[1m Row \u001b[0m│\u001b[1m bias          \u001b[0m\u001b[1m mse            \u001b[0m\u001b[1m rmse         \u001b[0m\u001b[1m var            \u001b[0m\u001b[1m sd        \u001b[0m ⋯\n",
       "     │\u001b[90m Float64       \u001b[0m\u001b[90m Float64        \u001b[0m\u001b[90m Float64      \u001b[0m\u001b[90m Float64        \u001b[0m\u001b[90m Float64   \u001b[0m ⋯\n",
       "─────┼──────────────────────────────────────────────────────────────────────────\n",
       "   1 │     -0.269928  19961.3          141.285          1.26127e10      1.1230 ⋯\n",
       "   2 │    -15.8847        5.35358e7   7316.82           1.26532e10      1.1248\n",
       "   3 │    -15.2771        5.20521e7   7214.71           1.26525e10      1.1248\n",
       "   4 │  21305.7           1.29334e13     3.5963e6   31108.9           176.377\n",
       "   5 │ -17762.7           1.05269e13     3.24452e6      3.65892e9   60489.0    ⋯\n",
       "   6 │ -17762.7           1.05269e13     3.24452e6      3.65892e9   60489.0\n",
       "   7 │    -17.202         5.65178e7   7517.84           1.26551e10      1.1249\n",
       "   8 │    -17.9886        5.65988e7   7523.22           1.26551e10      1.1249\n",
       "   9 │    -18.0934        5.65669e7   7521.1            1.26551e10      1.1249 ⋯\n",
       "\u001b[36m                                                               3 columns omitted\u001b[0m"
      ]
     },
     "execution_count": 55,
     "metadata": {},
     "output_type": "execute_result"
    }
   ],
   "source": [
    "DataFrame(\n",
    "    bias  = [mean((df_res[:, 1] .- df_res[:, k]) ./ 1000)        for k in 2:10],\n",
    "    mse   = [mean(((df_res[:, 1] .- df_res[:, k]) .^ 2) ./ 1000) for k in 2:10],\n",
    "    rmse  = [sqrt(mean(((df_res[:, 1] .- df_res[:, k]) .^ 2) ./ 1000)) for k in 2:10],\n",
    "    var   = [var(df_res[:, k] / 1000) for k in 2:10],\n",
    "    sd    = [std(df_res[:, k] / 1000) for k in 2:10],\n",
    "    mae   = [mean(abs.(df_res[:, 1] .- df_res[:, k]) ./ 1000)    for k in 2:10],\n",
    "    est   = [\"Expected value\", \"glm\", \"ols\", \"expected_est\", \"expected_est_better\", \"actual_est\", \n",
    "        \"expected_est_bad_prior\", \"expected_est_better_bad_prior\", \"actual_est_bad_prior\"]\n",
    ")"
   ]
  },
  {
   "cell_type": "code",
   "execution_count": 56,
   "id": "2112b305-5a55-4e03-98e9-ec3cf3e56518",
   "metadata": {},
   "outputs": [],
   "source": [
    "CSV.write(pwd() * \"/data_raw/init_res_1.csv\", df_res);"
   ]
  }
 ],
 "metadata": {
  "kernelspec": {
   "display_name": "Julia 1.10.2",
   "language": "julia",
   "name": "julia-1.10"
  },
  "language_info": {
   "file_extension": ".jl",
   "mimetype": "application/julia",
   "name": "julia",
   "version": "1.10.2"
  }
 },
 "nbformat": 4,
 "nbformat_minor": 5
}

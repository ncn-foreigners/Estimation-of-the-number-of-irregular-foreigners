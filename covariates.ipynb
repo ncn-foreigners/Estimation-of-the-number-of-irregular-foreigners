{
 "cells": [
  {
   "cell_type": "code",
   "execution_count": null,
   "id": "2d0a2fbd-574d-4449-bb67-00d9bf6e944b",
   "metadata": {},
   "outputs": [],
   "source": []
  }
 ],
 "metadata": {
  "kernelspec": {
   "display_name": "",
   "name": ""
  },
  "language_info": {
   "name": ""
  }
 },
 "nbformat": 4,
 "nbformat_minor": 5
}
